{
 "cells": [
  {
   "cell_type": "markdown",
   "metadata": {},
   "source": [
    "# Probability"
   ]
  },
  {
   "cell_type": "markdown",
   "metadata": {},
   "source": [
    "- Foundation of Data Science\n",
    "- Allows to produce data from models\n",
    "- Study regularities in randon phenomena\n",
    "    + The rule of large numbers\n",
    "    + Repeating an experiment many times the outcomes\n",
    "    show patterns approaching to the mean."
   ]
  },
  {
   "cell_type": "markdown",
   "metadata": {},
   "source": [
    "### Let´s flip a coin**\n",
    "\n"
   ]
  },
  {
   "cell_type": "markdown",
   "metadata": {},
   "source": [
    "Only two outcomes\n",
    "- This random experiment is called a Bernoulli trial, after Jacob Bernoulli."
   ]
  },
  {
   "cell_type": "markdown",
   "metadata": {},
   "source": [
    "Possible outcomes are binary (two possible outcomes): the can be modeled as success or failure, yes or no, or on or off. \n",
    "\n",
    "Each outcom is called an **event**\n",
    "\n",
    "- We assining probabilities to the event"
   ]
  },
  {
   "cell_type": "code",
   "execution_count": 2,
   "metadata": {},
   "outputs": [
    {
     "data": {
      "text/plain": [
       "array([0, 0, 1, 0, 1, 0, 0, 0, 0, 1])"
      ]
     },
     "execution_count": 2,
     "metadata": {},
     "output_type": "execute_result"
    }
   ],
   "source": [
    "from scipy.stats import bernoulli\n",
    "bernoulli.rvs(p=0.5, size=10) \n",
    "\n",
    "# .rvs creates random samples from the Bernoulli distribution.\n",
    "# p=0.5 The probability of success (1) is 50%, and the probability of failure (0) is also 50%\n",
    "# size=1 Generates one random sample. In this case number of coin flips = 1"
   ]
  },
  {
   "cell_type": "code",
   "execution_count": 3,
   "metadata": {},
   "outputs": [
    {
     "data": {
      "text/plain": [
       "np.int64(5)"
      ]
     },
     "execution_count": 3,
     "metadata": {},
     "output_type": "execute_result"
    }
   ],
   "source": [
    "# How many heads?\n",
    "\n",
    "sum(bernoulli.rvs(p=0.5, size=10))"
   ]
  },
  {
   "cell_type": "markdown",
   "metadata": {},
   "source": [
    "**Fliiping multiple coins**"
   ]
  },
  {
   "cell_type": "markdown",
   "metadata": {},
   "source": [
    "Generating a **Binomial Random Variable** in Python: \n",
    "\n",
    "Understanding\n",
    "- n (trials)\n",
    "- p (succes probability)\n",
    "- size (number of draws)"
   ]
  },
  {
   "cell_type": "markdown",
   "metadata": {},
   "source": [
    "#### Fair Coin"
   ]
  },
  {
   "cell_type": "markdown",
   "metadata": {},
   "source": [
    "A **fair coin** is a coin where the probabilities of landing on heads or tails are **equal**, meaning each outcome has a probability of **0.5**. This ensures that over many flips, heads and tails occur approximately **equally often**."
   ]
  },
  {
   "cell_type": "code",
   "execution_count": 4,
   "metadata": {},
   "outputs": [
    {
     "data": {
      "text/plain": [
       "array([7, 6, 3, 7, 5, 7, 4, 6, 3, 6])"
      ]
     },
     "execution_count": 4,
     "metadata": {},
     "output_type": "execute_result"
    }
   ],
   "source": [
    "from scipy.stats import binom\n",
    "binom.rvs(n=10, p=0.5, size=10) "
   ]
  },
  {
   "cell_type": "markdown",
   "metadata": {},
   "source": [
    "#### Biased coin draws"
   ]
  },
  {
   "cell_type": "markdown",
   "metadata": {},
   "source": [
    "\n",
    "In a biased coin , one outcome is more likely than the other.\n",
    "\n",
    "For example:"
   ]
  },
  {
   "cell_type": "code",
   "execution_count": 5,
   "metadata": {},
   "outputs": [
    {
     "data": {
      "text/plain": [
       "array([2, 3, 1, 4, 4, 6, 6, 0, 3, 3])"
      ]
     },
     "execution_count": 5,
     "metadata": {},
     "output_type": "execute_result"
    }
   ],
   "source": [
    "binom.rvs(n=10, p=0.3, size=10) # Probability p=0.3"
   ]
  },
  {
   "cell_type": "markdown",
   "metadata": {},
   "source": [
    "#### Biased Coin Explanation"
   ]
  },
  {
   "cell_type": "markdown",
   "metadata": {},
   "source": [
    "This concept is often used probabilility theory, statistics, and machine learning to model non uniform random events, such as:\n",
    "- Weighted random sampling\n",
    "- Bayesian probability models\n",
    "- Simulating real world probabilities (e..g., unfair dice, genetics, or market trends)\n",
    "\n",
    "    - Slight bias:\n",
    "        + P(H) = 0.55, P(T) = 0.45\n",
    "        + Coin is slightly biased toward heads.\n",
    "\n",
    "    - Extreme bias:\n",
    "        + P(H) = 0.9, P(T) = 0.1\n",
    "        + Coin lands on heads most of the time.\n",
    "\n",
    "    - Different bias:\n",
    "        + P(H) = 0.4, P(T) = 0.6\n",
    "        + Coin is biased toward tails.\n",
    "\n",
    "The probabilities can be anything as long as they add up to 1."
   ]
  },
  {
   "cell_type": "markdown",
   "metadata": {},
   "source": [
    "##### Key Points:"
   ]
  },
  {
   "cell_type": "markdown",
   "metadata": {},
   "source": [
    "- **Unequal Probabilities:** Unlike a fair coin, the outcomes are not equally likely. A coin with p = 0.7 for heads is more likely to land heads than tails.\n",
    "\n",
    "- **Bernoulli Trial:** Each coin toss is a Bernoulli trial, which means it has two possible outcomes (success or failure) with a fixed probability of success (here, success might be defined as landing heads).\n",
    "\n",
    "- **Binomial Distribution:** When you perform several independent coin tosses, the number of heads observed follows a binomial distribution. In Python, you can simulate this using functions like numpy.random.binomial."
   ]
  },
  {
   "cell_type": "markdown",
   "metadata": {},
   "source": [
    "#### Random generator seed"
   ]
  },
  {
   "cell_type": "code",
   "execution_count": 6,
   "metadata": {},
   "outputs": [
    {
     "data": {
      "text/plain": [
       "4"
      ]
     },
     "execution_count": 6,
     "metadata": {},
     "output_type": "execute_result"
    }
   ],
   "source": [
    "# Use the random_state parameter of the rvs() function\n",
    "from scipy.stats import binom\n",
    "binom.rvs(n=10,p=0.5,random_state=42)"
   ]
  },
  {
   "cell_type": "code",
   "execution_count": 7,
   "metadata": {},
   "outputs": [
    {
     "data": {
      "text/plain": [
       "array([4])"
      ]
     },
     "execution_count": 7,
     "metadata": {},
     "output_type": "execute_result"
    }
   ],
   "source": [
    "# Uee numpy.random.seed()\n",
    "import numpy as np\n",
    "np.random.seed(42)\n",
    "binom.rvs(n=10, p=0.5, size=1)"
   ]
  },
  {
   "cell_type": "markdown",
   "metadata": {},
   "source": [
    "# Probability Distributions\n"
   ]
  },
  {
   "cell_type": "markdown",
   "metadata": {},
   "source": [
    "A **probability distribution** describes how the possible values of a random variable are distributed in terms of their likelihood. Depending on whether the random variable is **discrete** or **continuous**, we use different functions to represent this distribution.\n",
    "\n",
    "---\n",
    "\n",
    "## 1. Discrete Random Variables\n",
    "\n",
    "- **Probability Mass Function (PMF):**  \n",
    "  For a discrete random variable \\(X\\), the PMF \\(p(x)\\) gives the probability that \\(X\\) takes a specific value \\(x\\).  \n",
    "  $$\n",
    "  p(x) = P(X = x)\n",
    "  $$\n",
    "  Such that:\n",
    "  $$\n",
    "  p(x) \\ge 0 \n",
    "  \\quad \\text{and} \\quad \n",
    "  \\sum_x p(x) = 1.\n",
    "  $$\n",
    "\n",
    "### Example: Binomial Distribution\n",
    "$$\n",
    "\\mathrm{PMF}(k; n, p) \n",
    "= \\binom{n}{k} \\, p^k \\, (1 - p)^{n - k}, \n",
    "\\quad k = 0, 1, \\dots, n.\n",
    "$$\n",
    "\n",
    "---\n",
    "\n",
    "## 2. Continuous Random Variables\n",
    "\n",
    "- **Probability Density Function (PDF):**  \n",
    "  For a continuous random variable \\(X\\), the PDF \\(f(x)\\) describes the relative likelihood of \\(X\\) taking on any particular value. While \\(f(x)\\) itself is not a probability, the probability that \\(X\\) lies within an interval \\([a, b]\\) is given by:\n",
    "  $$\n",
    "  P(a \\le X \\le b) = \\int_a^b f(x)\\, dx.\n",
    "  $$\n",
    "  Such that:\n",
    "  $$\n",
    "  f(x) \\ge 0 \n",
    "  \\quad \\text{and} \\quad \n",
    "  \\int_{-\\infty}^{\\infty} f(x)\\, dx = 1.\n",
    "  $$\n",
    "\n",
    "### Example: Normal Distribution\n",
    "$$\n",
    "f(x) = \\frac{1}{\\sqrt{2\\pi}\\,\\sigma}\n",
    "\\exp\\!\\Bigl(-\\frac{(x - \\mu)^2}{2\\sigma^2}\\Bigr),\n",
    "\\quad -\\infty < x < \\infty.\n",
    "$$\n",
    "\n",
    "---\n",
    "\n",
    "## 3. Cumulative Distribution Function (CDF)\n",
    "\n",
    "For **both** discrete and continuous random variables, the **Cumulative Distribution Function (CDF)** \\(F(x)\\) gives the probability that the random variable \\(X\\) is less than or equal to \\(x\\):\n",
    "$$\n",
    "F(x) = P(X \\le x).\n",
    "$$\n",
    "\n",
    "- **Discrete:** \\(F(x)\\) is a step function increasing at the discrete values of \\(X\\).  \n",
    "- **Continuous:** \\(F(x)\\) is continuous and differentiable (except possibly at points where the PDF may be discontinuous).\n",
    "\n",
    "---\n",
    "\n",
    "## Key Points\n",
    "\n",
    "1. **Discrete vs. Continuous**  \n",
    "   - Use a **PMF** for discrete variables.  \n",
    "   - Use a **PDF** for continuous variables.\n",
    "\n",
    "2. **Normalization**  \n",
    "   - Sum (discrete) or integral (continuous) of the distribution function over the entire domain must be **1**.\n",
    "\n",
    "3. **Non-negativity**  \n",
    "   - All probabilities (or density values) must be **non-negative**.\n",
    "\n",
    "4. **CDF**  \n",
    "   - A unifying function that applies to **both** discrete and continuous cases.\n",
    "\n",
    "---\n",
    "\n",
    "### Why Are Probability Distributions Important?\n",
    "- They form the foundation for **statistical inference** and **data analysis**.  \n",
    "- They help us compute **expected values**, **variances**, and other moments, which are crucial for understanding the behavior of random variables.\n"
   ]
  },
  {
   "cell_type": "markdown",
   "metadata": {},
   "source": [
    "**Density:** Density explains how likely outcomes are within that event range."
   ]
  },
  {
   "cell_type": "markdown",
   "metadata": {},
   "source": [
    "# Probability mass functions (pmf)"
   ]
  },
  {
   "cell_type": "markdown",
   "metadata": {},
   "source": [
    "(Wahrscheinlichkeitsmassenfuntion)"
   ]
  },
  {
   "cell_type": "markdown",
   "metadata": {},
   "source": [
    "### Binomial PMF\n",
    "\n"
   ]
  },
  {
   "cell_type": "markdown",
   "metadata": {},
   "source": [
    "The probability mass function (PMF) of a Binomial distribution is given by:\n",
    "\n",
    "$$\n",
    "\\text{binomial.pmf}(k, n, p) = \\binom{n}{k} \\, p^k \\, (1-p)^{n-k}.\n",
    "$$\n",
    "\n",
    "- $ \\binom{n}{k} $ is the binomial coefficient, the number of ways to choose $ k $ successes out of $ n $ trials.\n",
    "\n",
    "- $ p^k $ is the probability of those $ k $ successes.\n",
    "\n",
    "- $ (1-p)^{n-k} $ is the probability of the remaining $ n-k $ failures.\n"
   ]
  },
  {
   "cell_type": "code",
   "execution_count": 8,
   "metadata": {},
   "outputs": [
    {
     "name": "stdout",
     "output_type": "stream",
     "text": [
      "0.04394531250000005\n"
     ]
    }
   ],
   "source": [
    "# Probability of 2 heads after 10 throws with a fair coin\n",
    "\n",
    "binomial_pmf = binom.pmf(k=2,n=10,p=0.5)\n",
    "print(binomial_pmf)"
   ]
  },
  {
   "cell_type": "code",
   "execution_count": 9,
   "metadata": {},
   "outputs": [
    {
     "name": "stdout",
     "output_type": "stream",
     "text": [
      "0.24609375\n"
     ]
    }
   ],
   "source": [
    "# Probability of 5 heads after 10 throws with a fair coin\n",
    "\n",
    "binomial_pmf = binom.pmf(k=5,n=10,p=0.5)\n",
    "print(binomial_pmf)"
   ]
  },
  {
   "cell_type": "code",
   "execution_count": 10,
   "metadata": {},
   "outputs": [
    {
     "name": "stdout",
     "output_type": "stream",
     "text": [
      "1.3026227131445274e-05\n"
     ]
    }
   ],
   "source": [
    "# Probability of 50 heads after 100 throws with p = 0.3\n",
    "\n",
    "binomial_pmf = binom.pmf(k=50,n=100,p=0.3)\n",
    "print(binomial_pmf)"
   ]
  },
  {
   "cell_type": "code",
   "execution_count": 11,
   "metadata": {},
   "outputs": [
    {
     "name": "stdout",
     "output_type": "stream",
     "text": [
      "0.046779682352730015\n"
     ]
    }
   ],
   "source": [
    "# Probability of 65 heads after 100 throws with p = 0.7\n",
    "\n",
    "binomial_pmf = binom.pmf(k=65,n=100,p=0.7)\n",
    "print(binomial_pmf)"
   ]
  },
  {
   "cell_type": "markdown",
   "metadata": {},
   "source": [
    "**As n gets larger, the probability of getting k becomes smaler for the same p.**"
   ]
  },
  {
   "cell_type": "markdown",
   "metadata": {},
   "source": [
    "# Probability distribution functions (cdf)"
   ]
  },
  {
   "cell_type": "markdown",
   "metadata": {},
   "source": []
  },
  {
   "cell_type": "markdown",
   "metadata": {},
   "source": [
    "To calculate the probability of getting k or fewer heads from n throws, we use the binomial probability distribution function (cdf), which adds the probabilities of. Getting 0 heads out of n flips, getting heads once out of n flips, and getting all the way up to k heads out of n flips."
   ]
  },
  {
   "cell_type": "markdown",
   "metadata": {},
   "source": [
    "The binomial probability distribution allows us to calculate the cumulative probability of getting k heads or fewer from n coin flips with p probability of getting heads.\n",
    "\n",
    "In python we use the binom.cdf(k,n,p) function with parameters k,n, and p.\n",
    "\n",
    "Adding the probabilities from the mass function, we get the cumulative distribution function (cdf).\n",
    "\n",
    "This is a way of getting a range of probabilities rather than the probability of a single event.\n"
   ]
  },
  {
   "cell_type": "code",
   "execution_count": 12,
   "metadata": {},
   "outputs": [
    {
     "data": {
      "text/plain": [
       "np.float64(0.623046875)"
      ]
     },
     "execution_count": 12,
     "metadata": {},
     "output_type": "execute_result"
    }
   ],
   "source": [
    "# Probability of 5 heads or less after 10 throws with a faier coin\n",
    "import numpy as np\n",
    "from scipy.stats import binom\n",
    "binom.cdf(k=5, n=10, p=0.5)"
   ]
  },
  {
   "cell_type": "code",
   "execution_count": 13,
   "metadata": {},
   "outputs": [
    {
     "data": {
      "text/plain": [
       "np.float64(0.9999909653138043)"
      ]
     },
     "execution_count": 13,
     "metadata": {},
     "output_type": "execute_result"
    }
   ],
   "source": [
    "# Probability of 50 heads or less after 100 throws with p = 0.3\n",
    "binom.cdf(k=50, n=100, p=0.3)"
   ]
  },
  {
   "cell_type": "markdown",
   "metadata": {},
   "source": [
    "**Recall that:**\n",
    "\n",
    "- binom.pmf() calculates the probability of having exactly k heads out of n coin flips.\n",
    "\n",
    "- binom.cdf() calculates the probability of having k heads or less out of n coin flips.\n",
    "\n",
    "- binom.sf() calculates the probability of having more than k heads out of n coin flips."
   ]
  },
  {
   "cell_type": "markdown",
   "metadata": {},
   "source": [
    "**Predicting the probability of defects**"
   ]
  },
  {
   "cell_type": "code",
   "execution_count": 14,
   "metadata": {},
   "outputs": [
    {
     "name": "stdout",
     "output_type": "stream",
     "text": [
      "0.921572251649031\n"
     ]
    }
   ],
   "source": [
    "# Probability of getting 2 or less defective components\n",
    "prob_two_or_less_defects = binom.cdf(k=2, n=50, p=0.02)\n",
    "print(prob_two_or_less_defects)"
   ]
  },
  {
   "cell_type": "code",
   "execution_count": 15,
   "metadata": {},
   "outputs": [
    {
     "name": "stdout",
     "output_type": "stream",
     "text": [
      "0.8939090951171875\n"
     ]
    }
   ],
   "source": [
    "# Calculate the probability of getting more than 3 yes responses\n",
    "prob_more_than_three_yes = binom.sf(k=3, n=8, p=0.65)\n",
    "print(prob_more_than_three_yes)"
   ]
  },
  {
   "cell_type": "code",
   "execution_count": 16,
   "metadata": {},
   "outputs": [
    {
     "name": "stdout",
     "output_type": "stream",
     "text": [
      "0.4362265599999995\n"
     ]
    }
   ],
   "source": [
    "# What is the probability of solving 1 or fewer or more than 7 burglaries?\n",
    "tail_probabilities = binom.cdf(k=1, n=9, p=0.2) + binom.sf(k=7, n=9, p=0.2)\n",
    "print(tail_probabilities)"
   ]
  },
  {
   "cell_type": "markdown",
   "metadata": {},
   "source": [
    "# Expected value, mean, and variance"
   ]
  },
  {
   "cell_type": "code",
   "execution_count": 17,
   "metadata": {},
   "outputs": [
    {
     "name": "stdout",
     "output_type": "stream",
     "text": [
      "0.47\n"
     ]
    }
   ],
   "source": [
    "import numpy as pd\n",
    "import pandas as pd\n",
    "from scipy.stats import binom\n",
    "from scipy.stats import describe\n",
    "# Sample mean from a generated sample of 100 fair coin flips\n",
    "sample_of_100_flips = binom.rvs(n=1, p=0.5, size=100)\n",
    "sample_mean_100_flips = describe(sample_of_100_flips).mean\n",
    "print(sample_mean_100_flips)"
   ]
  },
  {
   "cell_type": "code",
   "execution_count": 18,
   "metadata": {},
   "outputs": [
    {
     "name": "stdout",
     "output_type": "stream",
     "text": [
      "0.503\n"
     ]
    }
   ],
   "source": [
    "# Sample mean from a generated sample of 1,000 fair coin flips\n",
    "sample_mean_1000_flips = describe(binom.rvs(n=1, p=0.5, size=1000)).mean\n",
    "print(sample_mean_1000_flips)"
   ]
  },
  {
   "cell_type": "code",
   "execution_count": 19,
   "metadata": {},
   "outputs": [
    {
     "name": "stdout",
     "output_type": "stream",
     "text": [
      "0.506\n"
     ]
    }
   ],
   "source": [
    "# Sample mean from a generated sample of 2,000 fair coin flips\n",
    "sample_mean_2000_flips = describe(binom.rvs(n=1, p=0.5, size=2000)).mean\n",
    "print(sample_mean_2000_flips)"
   ]
  },
  {
   "cell_type": "code",
   "execution_count": 20,
   "metadata": {},
   "outputs": [
    {
     "name": "stdout",
     "output_type": "stream",
     "text": [
      "2.9615 2.00201875937969 3.0 2.0999999999999996 (np.float64(3.0), np.float64(2.1))\n"
     ]
    }
   ],
   "source": [
    "sample = binom.rvs(n=10, p=0.3, size=2000)\n",
    "\n",
    "# Calculate the sample mean and variance from the sample variable\n",
    "sample_describe = describe(sample)\n",
    "\n",
    "# Calculate the sample mean using the values of n and p\n",
    "mean = 10 * 0.3\n",
    "\n",
    "# Calculate the sample variance using the value of 1-p\n",
    "variance = mean * (1 - 0.3)\n",
    "\n",
    "# Calculate the sample mean and variance for 10 coin flips with p=0.3\n",
    "binom_stats = binom.stats(n=10, p=0.3)\n",
    "\n",
    "print(sample_describe.mean, sample_describe.variance, mean, variance, binom_stats)"
   ]
  },
  {
   "cell_type": "code",
   "execution_count": 21,
   "metadata": {},
   "outputs": [
    {
     "name": "stdout",
     "output_type": "stream",
     "text": [
      "[np.float64(2.7), np.float64(2.6), np.float64(2.8), np.float64(2.5), np.float64(2.6), np.float64(2.3), np.float64(1.9), np.float64(2.3), np.float64(3.2), np.float64(2.6), np.float64(3.5), np.float64(2.0), np.float64(2.2), np.float64(2.2), np.float64(2.8), np.float64(2.6), np.float64(2.5), np.float64(2.6), np.float64(2.4), np.float64(1.6), np.float64(2.6), np.float64(3.0), np.float64(2.2), np.float64(2.8), np.float64(2.5), np.float64(3.1), np.float64(2.6), np.float64(2.5), np.float64(2.4), np.float64(2.5), np.float64(3.3), np.float64(1.6), np.float64(3.0), np.float64(2.2), np.float64(2.0), np.float64(2.6), np.float64(2.5), np.float64(2.2), np.float64(2.8), np.float64(2.7), np.float64(1.5), np.float64(3.2), np.float64(2.2), np.float64(2.1), np.float64(2.1), np.float64(2.8), np.float64(3.6), np.float64(2.7), np.float64(2.5), np.float64(2.5), np.float64(2.2), np.float64(2.5), np.float64(2.6), np.float64(1.7), np.float64(2.5), np.float64(2.4), np.float64(2.9), np.float64(2.1), np.float64(2.2), np.float64(2.6), np.float64(2.6), np.float64(2.3), np.float64(2.3), np.float64(2.5), np.float64(3.5), np.float64(2.7), np.float64(3.0), np.float64(2.2), np.float64(2.6), np.float64(3.2), np.float64(2.4), np.float64(2.9), np.float64(2.6), np.float64(2.9), np.float64(1.6), np.float64(2.4), np.float64(2.1), np.float64(2.4), np.float64(3.1), np.float64(2.7), np.float64(2.0), np.float64(2.8), np.float64(2.9), np.float64(2.4), np.float64(2.2), np.float64(2.4), np.float64(3.4), np.float64(2.6), np.float64(2.1), np.float64(2.2), np.float64(2.6), np.float64(2.6), np.float64(2.4), np.float64(2.6), np.float64(2.4), np.float64(3.0), np.float64(2.3), np.float64(1.9), np.float64(2.1), np.float64(2.3), np.float64(2.5), np.float64(2.9), np.float64(2.5), np.float64(2.4), np.float64(2.7), np.float64(1.7), np.float64(1.9), np.float64(2.2), np.float64(2.2), np.float64(2.6), np.float64(2.3), np.float64(2.2), np.float64(2.6), np.float64(3.2), np.float64(2.4), np.float64(2.0), np.float64(3.0), np.float64(2.8), np.float64(2.7), np.float64(2.9), np.float64(2.5), np.float64(2.6), np.float64(1.8), np.float64(2.0), np.float64(2.6), np.float64(2.8), np.float64(2.2), np.float64(3.1), np.float64(2.2), np.float64(2.9), np.float64(2.5), np.float64(2.8), np.float64(2.4), np.float64(2.7), np.float64(2.4), np.float64(2.5), np.float64(2.9), np.float64(3.0), np.float64(2.3), np.float64(1.9), np.float64(2.2), np.float64(3.0), np.float64(2.7), np.float64(2.5), np.float64(2.4), np.float64(2.2), np.float64(2.2), np.float64(2.4), np.float64(2.3), np.float64(2.6), np.float64(2.7), np.float64(1.8), np.float64(2.7), np.float64(2.4), np.float64(3.0), np.float64(2.0), np.float64(2.3), np.float64(2.6), np.float64(2.2), np.float64(2.8), np.float64(2.9), np.float64(2.3), np.float64(2.5), np.float64(2.4), np.float64(3.0), np.float64(2.6), np.float64(2.5), np.float64(2.5), np.float64(3.3), np.float64(2.2), np.float64(2.2), np.float64(2.2), np.float64(2.9), np.float64(2.7), np.float64(1.7), np.float64(2.8), np.float64(2.8), np.float64(2.2), np.float64(2.3), np.float64(2.6), np.float64(1.9), np.float64(2.6), np.float64(2.0), np.float64(2.4), np.float64(2.2), np.float64(2.7), np.float64(2.5), np.float64(2.2), np.float64(2.8), np.float64(2.3), np.float64(1.9), np.float64(2.3), np.float64(3.0), np.float64(2.8), np.float64(2.3), np.float64(3.2), np.float64(1.9), np.float64(2.3), np.float64(2.0), np.float64(2.3), np.float64(2.3), np.float64(2.8), np.float64(2.4), np.float64(2.7), np.float64(2.6), np.float64(2.8), np.float64(2.2), np.float64(2.5), np.float64(2.8), np.float64(2.8), np.float64(2.2), np.float64(2.9), np.float64(2.6), np.float64(2.5), np.float64(2.6), np.float64(2.2), np.float64(1.8), np.float64(2.6), np.float64(2.4), np.float64(1.9), np.float64(2.7), np.float64(2.6), np.float64(1.9), np.float64(2.7), np.float64(2.5), np.float64(2.8), np.float64(2.6), np.float64(2.0), np.float64(2.8), np.float64(2.1), np.float64(2.5), np.float64(2.1), np.float64(2.2), np.float64(1.6), np.float64(2.2), np.float64(2.8), np.float64(2.8), np.float64(2.1), np.float64(2.5), np.float64(2.4), np.float64(3.0), np.float64(2.4), np.float64(2.5), np.float64(2.2), np.float64(2.9), np.float64(2.5), np.float64(2.3), np.float64(2.4), np.float64(1.8), np.float64(3.1), np.float64(2.2), np.float64(2.7), np.float64(2.7), np.float64(2.2), np.float64(1.9), np.float64(2.3), np.float64(2.8), np.float64(2.9), np.float64(2.4), np.float64(3.3), np.float64(2.1), np.float64(2.8), np.float64(2.7), np.float64(2.1), np.float64(2.1), np.float64(2.5), np.float64(2.2), np.float64(2.3), np.float64(2.4), np.float64(1.8), np.float64(2.1), np.float64(2.3), np.float64(2.5), np.float64(2.5), np.float64(2.1), np.float64(1.8), np.float64(2.0), np.float64(2.3), np.float64(2.2), np.float64(2.8), np.float64(2.6), np.float64(1.7), np.float64(2.8), np.float64(2.2), np.float64(2.9), np.float64(2.4), np.float64(2.2), np.float64(2.5), np.float64(2.8), np.float64(1.9), np.float64(2.6), np.float64(2.5), np.float64(2.6), np.float64(2.9), np.float64(1.7), np.float64(2.6), np.float64(2.4), np.float64(2.6), np.float64(2.5), np.float64(2.8), np.float64(2.6), np.float64(2.4), np.float64(2.4), np.float64(2.7), np.float64(2.6), np.float64(3.1), np.float64(1.9), np.float64(1.8), np.float64(2.5), np.float64(1.9), np.float64(2.0), np.float64(2.4), np.float64(2.0), np.float64(2.7), np.float64(2.6), np.float64(3.0), np.float64(2.1), np.float64(1.8), np.float64(2.8), np.float64(2.6), np.float64(1.6), np.float64(2.3), np.float64(2.5), np.float64(3.2), np.float64(2.7), np.float64(2.0), np.float64(2.0), np.float64(2.1), np.float64(2.6), np.float64(3.2), np.float64(2.1), np.float64(2.4), np.float64(1.7), np.float64(2.4), np.float64(2.5), np.float64(2.9), np.float64(2.5), np.float64(2.4), np.float64(2.7), np.float64(2.8), np.float64(2.3), np.float64(3.1), np.float64(2.4), np.float64(2.6), np.float64(2.7), np.float64(2.3), np.float64(3.0), np.float64(2.0), np.float64(2.8), np.float64(2.4), np.float64(2.6), np.float64(3.0), np.float64(2.4), np.float64(2.5), np.float64(1.9), np.float64(2.1), np.float64(2.5), np.float64(1.5), np.float64(2.0), np.float64(2.8), np.float64(2.4), np.float64(2.8), np.float64(2.1), np.float64(2.5), np.float64(1.5), np.float64(1.9), np.float64(2.4), np.float64(2.5), np.float64(2.7), np.float64(1.8), np.float64(2.4), np.float64(2.5), np.float64(2.5), np.float64(2.4), np.float64(2.6), np.float64(1.8), np.float64(2.8), np.float64(1.9), np.float64(2.2), np.float64(2.6), np.float64(3.5), np.float64(2.6), np.float64(2.3), np.float64(2.2), np.float64(3.3), np.float64(2.7), np.float64(2.1), np.float64(2.4), np.float64(2.8), np.float64(2.5), np.float64(2.4), np.float64(1.6), np.float64(2.7), np.float64(2.4), np.float64(2.7), np.float64(2.5), np.float64(2.2), np.float64(2.5), np.float64(2.3), np.float64(2.5), np.float64(2.6), np.float64(3.4), np.float64(3.1), np.float64(2.6), np.float64(2.5), np.float64(2.4), np.float64(2.8), np.float64(1.8), np.float64(2.8), np.float64(3.3), np.float64(2.9), np.float64(2.3), np.float64(3.0), np.float64(2.1), np.float64(2.2), np.float64(2.0), np.float64(2.1), np.float64(2.0), np.float64(2.8), np.float64(3.4), np.float64(2.2), np.float64(2.4), np.float64(2.8), np.float64(2.6), np.float64(3.3), np.float64(2.6), np.float64(2.9), np.float64(1.9), np.float64(3.0), np.float64(2.0), np.float64(1.8), np.float64(2.5), np.float64(3.3), np.float64(1.8), np.float64(2.0), np.float64(2.5), np.float64(2.9), np.float64(2.9), np.float64(2.2), np.float64(2.0), np.float64(2.5), np.float64(2.3), np.float64(3.1), np.float64(2.5), np.float64(1.8), np.float64(3.1), np.float64(2.6), np.float64(1.5), np.float64(2.5), np.float64(1.7), np.float64(2.3), np.float64(3.1), np.float64(2.0), np.float64(1.9), np.float64(2.3), np.float64(2.5), np.float64(1.9), np.float64(2.3), np.float64(2.6), np.float64(2.8), np.float64(1.9), np.float64(2.1), np.float64(2.2), np.float64(2.3), np.float64(2.5), np.float64(2.5), np.float64(3.2), np.float64(2.7), np.float64(2.2), np.float64(2.8), np.float64(2.8), np.float64(3.0), np.float64(2.6), np.float64(2.9), np.float64(2.8), np.float64(2.5), np.float64(2.4), np.float64(2.0), np.float64(2.7), np.float64(2.2), np.float64(1.9), np.float64(2.1), np.float64(3.5), np.float64(2.2), np.float64(1.7), np.float64(2.3), np.float64(2.2), np.float64(3.0), np.float64(2.6), np.float64(2.7), np.float64(2.5), np.float64(1.7), np.float64(2.2), np.float64(3.4), np.float64(2.5), np.float64(2.4), np.float64(2.5), np.float64(2.9), np.float64(2.1), np.float64(2.6), np.float64(2.4), np.float64(1.5), np.float64(3.2), np.float64(1.6), np.float64(3.2), np.float64(2.2), np.float64(2.2), np.float64(2.0), np.float64(2.4), np.float64(2.2), np.float64(2.0), np.float64(2.6), np.float64(2.5), np.float64(2.9), np.float64(2.6), np.float64(2.2), np.float64(2.5), np.float64(2.8), np.float64(2.2), np.float64(2.6), np.float64(3.3), np.float64(2.3), np.float64(2.1), np.float64(2.3), np.float64(2.7), np.float64(2.5), np.float64(2.9), np.float64(3.2), np.float64(3.2), np.float64(2.2), np.float64(2.3), np.float64(2.6), np.float64(2.7), np.float64(2.3), np.float64(3.3), np.float64(2.7), np.float64(2.7), np.float64(2.2), np.float64(2.4), np.float64(1.4), np.float64(2.1), np.float64(2.7), np.float64(2.5), np.float64(2.2), np.float64(2.9), np.float64(2.6), np.float64(2.7), np.float64(3.2), np.float64(3.0), np.float64(2.4), np.float64(2.8), np.float64(2.3), np.float64(2.9), np.float64(2.6), np.float64(3.5), np.float64(3.0), np.float64(2.0), np.float64(1.8), np.float64(2.5), np.float64(2.8), np.float64(2.6), np.float64(2.2), np.float64(2.2), np.float64(2.2), np.float64(2.5), np.float64(2.2), np.float64(2.5), np.float64(2.2), np.float64(2.3), np.float64(2.0), np.float64(3.1), np.float64(2.6), np.float64(2.3), np.float64(2.8), np.float64(2.7), np.float64(3.0), np.float64(1.9), np.float64(2.7), np.float64(2.2), np.float64(1.8), np.float64(2.4), np.float64(2.4), np.float64(2.6), np.float64(1.7), np.float64(2.8), np.float64(2.7), np.float64(2.1), np.float64(3.1), np.float64(2.2), np.float64(3.1), np.float64(2.5), np.float64(3.7), np.float64(2.0), np.float64(3.0), np.float64(2.1), np.float64(3.1), np.float64(1.9), np.float64(2.6), np.float64(2.9), np.float64(2.8), np.float64(2.8), np.float64(2.6), np.float64(2.4), np.float64(2.9), np.float64(2.4), np.float64(2.7), np.float64(2.3), np.float64(3.3), np.float64(3.2), np.float64(2.2), np.float64(2.4), np.float64(2.2), np.float64(2.9), np.float64(2.2), np.float64(2.4), np.float64(2.8), np.float64(2.6), np.float64(2.2), np.float64(2.7), np.float64(1.7), np.float64(1.6), np.float64(3.3), np.float64(2.2), np.float64(2.3), np.float64(2.7), np.float64(2.5), np.float64(3.1), np.float64(2.2), np.float64(2.5), np.float64(2.5), np.float64(2.4), np.float64(2.4), np.float64(2.3), np.float64(3.3), np.float64(2.3), np.float64(2.5), np.float64(1.9), np.float64(2.9), np.float64(2.5), np.float64(2.7), np.float64(2.5), np.float64(2.8), np.float64(2.4), np.float64(2.8), np.float64(2.7), np.float64(3.1), np.float64(2.2), np.float64(2.5), np.float64(2.6), np.float64(2.5), np.float64(2.8), np.float64(2.1), np.float64(1.9), np.float64(3.1), np.float64(2.2), np.float64(3.2), np.float64(3.2), np.float64(1.7), np.float64(2.3), np.float64(2.8), np.float64(3.0), np.float64(1.8), np.float64(2.3), np.float64(2.3), np.float64(2.1), np.float64(2.9), np.float64(1.3), np.float64(2.4), np.float64(3.2), np.float64(2.0), np.float64(2.6), np.float64(2.4), np.float64(2.5), np.float64(2.4), np.float64(3.4), np.float64(3.1), np.float64(2.7), np.float64(3.1), np.float64(1.7), np.float64(1.7), np.float64(2.9), np.float64(3.9), np.float64(1.9), np.float64(1.8), np.float64(3.1), np.float64(3.1), np.float64(2.3), np.float64(2.3), np.float64(2.1), np.float64(2.7), np.float64(3.1), np.float64(2.3), np.float64(2.7), np.float64(2.7), np.float64(2.7), np.float64(2.8), np.float64(3.2), np.float64(2.4), np.float64(2.1), np.float64(2.4), np.float64(2.6), np.float64(3.1), np.float64(3.3), np.float64(2.2), np.float64(1.9), np.float64(1.7), np.float64(2.6), np.float64(2.4), np.float64(2.6), np.float64(2.5), np.float64(2.2), np.float64(2.8), np.float64(2.1), np.float64(3.0), np.float64(2.1), np.float64(3.6), np.float64(2.3), np.float64(2.6), np.float64(2.2), np.float64(2.9), np.float64(2.8), np.float64(2.1), np.float64(2.7), np.float64(2.9), np.float64(2.3), np.float64(2.5), np.float64(2.1), np.float64(2.6), np.float64(2.5), np.float64(2.9), np.float64(2.9), np.float64(2.7), np.float64(2.8), np.float64(2.5), np.float64(2.7), np.float64(1.9), np.float64(2.8), np.float64(2.2), np.float64(2.2), np.float64(2.8), np.float64(2.7), np.float64(2.8), np.float64(1.7), np.float64(1.9), np.float64(2.6), np.float64(2.9), np.float64(2.8), np.float64(2.1), np.float64(3.0), np.float64(2.1), np.float64(2.9), np.float64(2.0), np.float64(2.7), np.float64(2.2), np.float64(2.7), np.float64(2.0), np.float64(2.4), np.float64(2.2), np.float64(2.4), np.float64(2.8), np.float64(2.3), np.float64(2.0), np.float64(3.1), np.float64(2.5), np.float64(1.9), np.float64(1.9), np.float64(2.9), np.float64(2.4), np.float64(2.6), np.float64(3.1), np.float64(2.2), np.float64(2.0), np.float64(2.1), np.float64(2.3), np.float64(2.3), np.float64(2.4), np.float64(2.7), np.float64(2.7), np.float64(2.7), np.float64(2.5), np.float64(3.1), np.float64(2.9), np.float64(2.5), np.float64(2.4), np.float64(2.1), np.float64(3.2), np.float64(1.8), np.float64(2.6), np.float64(2.4), np.float64(2.5), np.float64(2.6), np.float64(3.2), np.float64(2.1), np.float64(2.2), np.float64(3.4), np.float64(2.7), np.float64(2.8), np.float64(3.4), np.float64(2.0), np.float64(2.1), np.float64(2.5), np.float64(2.5), np.float64(1.6), np.float64(3.0), np.float64(2.5), np.float64(1.4), np.float64(2.1), np.float64(2.2), np.float64(2.8), np.float64(2.4), np.float64(3.0), np.float64(2.2), np.float64(2.5), np.float64(2.9), np.float64(2.2), np.float64(1.6), np.float64(2.9), np.float64(2.6), np.float64(2.5), np.float64(2.0), np.float64(3.1), np.float64(2.2), np.float64(2.2), np.float64(2.7), np.float64(2.2), np.float64(2.7), np.float64(2.6), np.float64(2.6), np.float64(1.9), np.float64(1.9), np.float64(2.4), np.float64(2.6), np.float64(2.6), np.float64(3.0), np.float64(2.9), np.float64(2.8), np.float64(2.3), np.float64(2.2), np.float64(2.7), np.float64(2.2), np.float64(2.4), np.float64(2.7), np.float64(2.7), np.float64(2.4), np.float64(2.5), np.float64(2.2), np.float64(2.5), np.float64(2.8), np.float64(1.5), np.float64(2.4), np.float64(1.7), np.float64(1.7), np.float64(2.7), np.float64(2.5), np.float64(2.7), np.float64(2.1), np.float64(2.7), np.float64(2.6), np.float64(3.2), np.float64(2.2), np.float64(2.7), np.float64(2.0), np.float64(2.9), np.float64(3.0), np.float64(2.4), np.float64(1.8), np.float64(2.4), np.float64(3.8), np.float64(1.9), np.float64(3.6), np.float64(2.3), np.float64(1.7), np.float64(2.0), np.float64(3.0), np.float64(1.8), np.float64(2.7), np.float64(2.9), np.float64(2.6), np.float64(2.2), np.float64(2.9), np.float64(2.8), np.float64(2.8), np.float64(1.6), np.float64(2.8), np.float64(2.6), np.float64(3.0), np.float64(3.0), np.float64(2.2), np.float64(2.0), np.float64(2.4), np.float64(3.1), np.float64(2.7), np.float64(1.7), np.float64(2.3), np.float64(1.7), np.float64(3.0), np.float64(3.1), np.float64(2.2), np.float64(2.6), np.float64(3.3), np.float64(2.7), np.float64(2.3), np.float64(2.2), np.float64(2.2), np.float64(2.3), np.float64(2.6), np.float64(2.1), np.float64(2.5), np.float64(2.7), np.float64(2.1), np.float64(2.9), np.float64(2.3), np.float64(1.9), np.float64(3.2), np.float64(2.6), np.float64(2.9), np.float64(2.8), np.float64(2.1), np.float64(2.8), np.float64(1.9), np.float64(1.5), np.float64(2.1), np.float64(2.4), np.float64(2.5), np.float64(2.0), np.float64(3.0), np.float64(3.6), np.float64(3.1), np.float64(2.5), np.float64(2.1), np.float64(2.2), np.float64(3.1), np.float64(2.5), np.float64(2.6), np.float64(2.9), np.float64(2.5), np.float64(2.6), np.float64(2.8), np.float64(1.9), np.float64(2.2), np.float64(2.7), np.float64(2.3), np.float64(2.6), np.float64(2.5), np.float64(2.3), np.float64(2.3), np.float64(2.6), np.float64(2.8), np.float64(2.4), np.float64(3.9), np.float64(2.6), np.float64(3.1), np.float64(2.4), np.float64(2.5), np.float64(3.0), np.float64(3.1), np.float64(2.4), np.float64(2.2), np.float64(2.5), np.float64(2.4), np.float64(2.1), np.float64(2.4), np.float64(3.3), np.float64(2.3), np.float64(2.6), np.float64(2.3), np.float64(2.7), np.float64(2.7), np.float64(3.1), np.float64(2.6), np.float64(3.0), np.float64(1.8), np.float64(2.1), np.float64(2.2), np.float64(3.1), np.float64(2.7), np.float64(1.9), np.float64(2.5), np.float64(2.7), np.float64(1.6), np.float64(1.7), np.float64(2.6), np.float64(2.6), np.float64(2.7), np.float64(2.1), np.float64(2.8), np.float64(3.1), np.float64(1.9), np.float64(3.4), np.float64(2.0), np.float64(1.8), np.float64(2.8), np.float64(2.5), np.float64(2.9), np.float64(2.1), np.float64(2.0), np.float64(2.1), np.float64(1.9), np.float64(1.9), np.float64(2.2), np.float64(2.3), np.float64(2.6), np.float64(2.1), np.float64(2.5), np.float64(3.6), np.float64(2.6), np.float64(1.9), np.float64(2.2), np.float64(2.2), np.float64(2.3), np.float64(2.2), np.float64(2.6), np.float64(2.8), np.float64(2.5), np.float64(2.4), np.float64(2.9), np.float64(2.0), np.float64(2.9), np.float64(3.5), np.float64(3.2), np.float64(2.8), np.float64(2.0), np.float64(2.3), np.float64(2.5), np.float64(2.0), np.float64(3.0), np.float64(1.5), np.float64(2.7), np.float64(2.4), np.float64(3.1), np.float64(2.5), np.float64(2.4), np.float64(2.8), np.float64(2.5), np.float64(2.1), np.float64(2.3), np.float64(2.9), np.float64(2.6), np.float64(2.6), np.float64(2.4), np.float64(2.7), np.float64(2.2), np.float64(2.9), np.float64(2.7), np.float64(2.1), np.float64(2.9), np.float64(2.0), np.float64(2.9), np.float64(1.6), np.float64(2.3), np.float64(3.1), np.float64(3.1), np.float64(2.9), np.float64(2.5), np.float64(2.5), np.float64(2.4), np.float64(2.1), np.float64(3.1), np.float64(2.2), np.float64(2.5), np.float64(1.5), np.float64(2.4), np.float64(2.1), np.float64(2.6), np.float64(2.3), np.float64(2.3), np.float64(2.1), np.float64(2.9), np.float64(2.7), np.float64(1.9), np.float64(2.1), np.float64(2.2), np.float64(2.5), np.float64(3.0), np.float64(2.2), np.float64(2.0), np.float64(3.2), np.float64(1.5), np.float64(2.1), np.float64(2.3), np.float64(2.0), np.float64(3.1), np.float64(2.1), np.float64(1.9), np.float64(2.5), np.float64(2.2), np.float64(2.8), np.float64(2.5), np.float64(3.1), np.float64(2.8), np.float64(1.5), np.float64(3.7), np.float64(2.6), np.float64(2.5), np.float64(2.8), np.float64(2.9), np.float64(1.3), np.float64(2.8), np.float64(3.3), np.float64(3.0), np.float64(1.8), np.float64(3.2), np.float64(2.6), np.float64(2.6), np.float64(3.1), np.float64(2.2), np.float64(2.7), np.float64(3.4), np.float64(2.7), np.float64(3.0), np.float64(3.3), np.float64(2.8), np.float64(2.2), np.float64(2.4), np.float64(2.1), np.float64(1.9), np.float64(3.2), np.float64(2.6), np.float64(2.5), np.float64(2.5), np.float64(2.3), np.float64(2.1), np.float64(2.7), np.float64(2.8), np.float64(2.0), np.float64(2.8), np.float64(2.1), np.float64(2.1), np.float64(2.0), np.float64(2.5), np.float64(2.6), np.float64(3.1), np.float64(2.4), np.float64(2.7), np.float64(3.0), np.float64(2.3), np.float64(1.9), np.float64(2.2), np.float64(2.6), np.float64(1.9), np.float64(2.2), np.float64(2.6), np.float64(3.1), np.float64(2.3), np.float64(2.3), np.float64(2.8), np.float64(3.2), np.float64(2.7), np.float64(2.3), np.float64(2.4), np.float64(3.0), np.float64(2.0), np.float64(2.6), np.float64(2.4), np.float64(2.5), np.float64(2.0), np.float64(2.5), np.float64(2.9), np.float64(2.4), np.float64(2.7), np.float64(2.5), np.float64(2.7), np.float64(2.5), np.float64(2.7), np.float64(2.9), np.float64(2.3), np.float64(2.8), np.float64(2.8), np.float64(2.7), np.float64(2.0), np.float64(3.4), np.float64(2.2), np.float64(1.8), np.float64(2.5), np.float64(3.2), np.float64(2.8), np.float64(2.4), np.float64(2.1), np.float64(2.9), np.float64(2.6), np.float64(2.5), np.float64(2.7), np.float64(2.5), np.float64(1.9), np.float64(2.3), np.float64(2.9), np.float64(2.7), np.float64(3.0), np.float64(2.7), np.float64(2.4), np.float64(3.4), np.float64(2.6), np.float64(2.5), np.float64(2.6), np.float64(2.4), np.float64(1.7), np.float64(3.1), np.float64(2.4), np.float64(3.0), np.float64(2.9), np.float64(3.0), np.float64(2.3), np.float64(2.5), np.float64(3.2), np.float64(2.7), np.float64(3.3), np.float64(3.5), np.float64(2.1), np.float64(1.9), np.float64(2.2), np.float64(2.4), np.float64(2.0), np.float64(3.0), np.float64(2.8), np.float64(2.5), np.float64(2.9), np.float64(2.3), np.float64(2.1), np.float64(2.4), np.float64(3.1), np.float64(2.0), np.float64(2.7), np.float64(2.3), np.float64(2.1), np.float64(2.7), np.float64(2.4), np.float64(2.9), np.float64(2.4), np.float64(2.4), np.float64(3.5), np.float64(2.1), np.float64(2.5), np.float64(2.4), np.float64(2.7), np.float64(2.3), np.float64(2.1), np.float64(2.4), np.float64(2.1), np.float64(3.3), np.float64(2.2), np.float64(2.4), np.float64(3.0), np.float64(2.9), np.float64(3.1), np.float64(3.3), np.float64(2.6), np.float64(3.3), np.float64(2.3), np.float64(2.3), np.float64(2.5), np.float64(1.5), np.float64(2.3), np.float64(3.4), np.float64(2.0), np.float64(2.8), np.float64(2.4), np.float64(2.7), np.float64(2.4), np.float64(2.8), np.float64(2.8), np.float64(2.2), np.float64(2.6), np.float64(2.5), np.float64(2.2), np.float64(2.3), np.float64(2.1), np.float64(2.4), np.float64(2.5), np.float64(1.9), np.float64(2.6), np.float64(2.7), np.float64(2.2), np.float64(1.8), np.float64(1.9), np.float64(2.8), np.float64(3.5), np.float64(1.6), np.float64(2.7), np.float64(2.7), np.float64(2.5), np.float64(2.3), np.float64(2.1), np.float64(2.7), np.float64(3.1), np.float64(2.4), np.float64(2.8), np.float64(2.0), np.float64(2.3), np.float64(2.1), np.float64(2.9), np.float64(2.7), np.float64(3.0), np.float64(3.1), np.float64(3.1), np.float64(2.5), np.float64(2.6), np.float64(3.6), np.float64(2.9), np.float64(2.6), np.float64(2.0), np.float64(1.7), np.float64(2.3), np.float64(3.0), np.float64(2.6), np.float64(2.3), np.float64(2.3), np.float64(3.1), np.float64(2.8), np.float64(1.6), np.float64(2.6), np.float64(3.0), np.float64(1.8), np.float64(2.6), np.float64(2.1), np.float64(1.5), np.float64(2.1), np.float64(2.5), np.float64(2.6), np.float64(2.6), np.float64(2.6), np.float64(2.2), np.float64(2.8), np.float64(2.4), np.float64(2.5), np.float64(3.1), np.float64(2.1), np.float64(2.5), np.float64(3.2), np.float64(2.3), np.float64(2.4), np.float64(2.7), np.float64(4.0), np.float64(2.3), np.float64(2.2), np.float64(1.9), np.float64(2.1), np.float64(2.3), np.float64(2.8), np.float64(3.0), np.float64(2.4), np.float64(2.5), np.float64(2.5), np.float64(2.2), np.float64(2.4), np.float64(2.7), np.float64(3.2), np.float64(2.3), np.float64(2.0), np.float64(2.3), np.float64(2.3), np.float64(3.0), np.float64(2.4), np.float64(2.9), np.float64(3.0), np.float64(2.4), np.float64(3.4), np.float64(3.6), np.float64(3.3), np.float64(2.0), np.float64(2.5), np.float64(2.8), np.float64(3.0), np.float64(2.4), np.float64(3.0), np.float64(2.1), np.float64(1.9), np.float64(2.8), np.float64(3.0), np.float64(2.9), np.float64(3.4), np.float64(2.9), np.float64(2.1), np.float64(3.2), np.float64(3.0), np.float64(4.0), np.float64(2.2), np.float64(1.7), np.float64(2.4), np.float64(2.7), np.float64(2.3), np.float64(2.4), np.float64(3.5), np.float64(1.8), np.float64(2.5), np.float64(3.0), np.float64(2.9), np.float64(1.6), np.float64(2.6), np.float64(2.3), np.float64(2.3), np.float64(1.9), np.float64(1.3), np.float64(2.7), np.float64(2.8), np.float64(1.6), np.float64(3.0), np.float64(1.7), np.float64(2.4), np.float64(2.8), np.float64(2.6), np.float64(2.3), np.float64(2.2), np.float64(3.0), np.float64(2.8), np.float64(2.5), np.float64(2.1), np.float64(2.4), np.float64(2.2), np.float64(3.5), np.float64(2.6), np.float64(2.9), np.float64(2.2), np.float64(2.7), np.float64(2.7), np.float64(3.5), np.float64(1.7), np.float64(2.8), np.float64(2.2), np.float64(3.1), np.float64(3.5), np.float64(3.2), np.float64(3.3), np.float64(2.0), np.float64(3.3), np.float64(2.9), np.float64(2.3), np.float64(2.5), np.float64(2.9), np.float64(2.7), np.float64(3.1), np.float64(2.4), np.float64(2.4), np.float64(2.4), np.float64(2.1), np.float64(2.0), np.float64(1.7), np.float64(2.6), np.float64(2.0), np.float64(2.8), np.float64(2.9), np.float64(2.8), np.float64(3.0), np.float64(3.0), np.float64(2.2), np.float64(2.8), np.float64(2.4), np.float64(2.0), np.float64(2.5), np.float64(2.8), np.float64(2.3), np.float64(2.8), np.float64(2.3), np.float64(2.3), np.float64(1.9), np.float64(2.8), np.float64(2.9), np.float64(2.1), np.float64(2.7), np.float64(2.4), np.float64(2.1), np.float64(2.4), np.float64(1.8), np.float64(2.0), np.float64(2.3), np.float64(3.4), np.float64(2.3), np.float64(2.7), np.float64(2.6), np.float64(2.2), np.float64(2.7), np.float64(2.0), np.float64(3.3), np.float64(3.0), np.float64(2.8), np.float64(1.9), np.float64(2.6), np.float64(3.2), np.float64(1.9), np.float64(3.0), np.float64(2.0), np.float64(2.2), np.float64(2.4), np.float64(3.0), np.float64(2.4), np.float64(2.6), np.float64(3.1), np.float64(2.3), np.float64(2.6), np.float64(2.9), np.float64(2.2), np.float64(2.3), np.float64(2.3), np.float64(1.9), np.float64(2.0), np.float64(2.2), np.float64(2.7), np.float64(2.7), np.float64(2.4), np.float64(1.9), np.float64(2.9)]\n",
      "[np.float64(2.011111111111111), np.float64(0.488888888888889), np.float64(1.9555555555555555), np.float64(2.7222222222222223), np.float64(1.1555555555555557), np.float64(1.1222222222222222), np.float64(2.766666666666667), np.float64(2.4555555555555557), np.float64(2.177777777777778), np.float64(1.6), np.float64(2.5), np.float64(0.6666666666666666), np.float64(1.0666666666666669), np.float64(2.177777777777778), np.float64(0.8444444444444444), np.float64(2.0444444444444447), np.float64(2.2777777777777777), np.float64(3.155555555555556), np.float64(2.933333333333333), np.float64(2.0444444444444447), np.float64(1.6), np.float64(2.2222222222222223), np.float64(3.5111111111111115), np.float64(2.8444444444444446), np.float64(2.7222222222222223), np.float64(2.322222222222223), np.float64(2.0444444444444443), np.float64(1.3888888888888888), np.float64(2.0444444444444447), np.float64(1.1666666666666667), np.float64(1.788888888888889), np.float64(0.9333333333333332), np.float64(2.2222222222222223), np.float64(1.9555555555555555), np.float64(1.777777777777778), np.float64(2.4888888888888894), np.float64(1.3888888888888888), np.float64(1.2888888888888892), np.float64(2.1777777777777776), np.float64(0.45555555555555555), np.float64(0.5), np.float64(1.7333333333333334), np.float64(1.0666666666666669), np.float64(1.6555555555555557), np.float64(1.877777777777778), np.float64(1.2888888888888892), np.float64(4.044444444444445), np.float64(3.1222222222222222), np.float64(1.8333333333333333), np.float64(1.1666666666666667), np.float64(1.7333333333333334), np.float64(1.6111111111111112), np.float64(1.8222222222222224), np.float64(2.011111111111111), np.float64(1.1666666666666667), np.float64(2.0444444444444443), np.float64(1.877777777777778), np.float64(2.1), np.float64(1.5111111111111113), np.float64(1.8222222222222222), np.float64(1.3777777777777778), np.float64(2.4555555555555553), np.float64(2.4555555555555557), np.float64(1.1666666666666667), np.float64(3.166666666666667), np.float64(1.1222222222222222), np.float64(2.2222222222222223), np.float64(1.5111111111111113), np.float64(4.044444444444445), np.float64(2.6222222222222227), np.float64(2.4888888888888894), np.float64(3.2111111111111112), np.float64(2.0444444444444443), np.float64(0.7666666666666666), np.float64(1.3777777777777778), np.float64(2.9333333333333336), np.float64(1.4333333333333338), np.float64(1.1555555555555557), np.float64(1.655555555555556), np.float64(1.3444444444444446), np.float64(1.1111111111111112), np.float64(2.6222222222222222), np.float64(1.6555555555555557), np.float64(2.0444444444444447), np.float64(3.066666666666667), np.float64(1.6), np.float64(1.8222222222222224), np.float64(2.488888888888889), np.float64(4.544444444444445), np.float64(0.6222222222222222), np.float64(2.0444444444444447), np.float64(1.6), np.float64(1.8222222222222224), np.float64(1.6), np.float64(1.8222222222222224), np.float64(1.3333333333333333), np.float64(1.788888888888889), np.float64(0.7666666666666667), np.float64(1.877777777777778), np.float64(1.7888888888888888), np.float64(2.7222222222222223), np.float64(2.766666666666667), np.float64(4.055555555555555), np.float64(2.2666666666666666), np.float64(1.7888888888888888), np.float64(2.011111111111111), np.float64(2.766666666666666), np.float64(1.5111111111111113), np.float64(2.8444444444444446), np.float64(2.2666666666666666), np.float64(2.011111111111111), np.float64(1.2888888888888885), np.float64(2.488888888888889), np.float64(1.0666666666666669), np.float64(1.1555555555555557), np.float64(1.5555555555555556), np.float64(2.8888888888888893), np.float64(1.7333333333333334), np.float64(1.5666666666666667), np.float64(1.655555555555556), np.float64(0.7222222222222223), np.float64(1.6000000000000003), np.float64(2.177777777777778), np.float64(0.6666666666666666), np.float64(2.0444444444444447), np.float64(2.6222222222222222), np.float64(0.8444444444444444), np.float64(2.7666666666666666), np.float64(1.0666666666666669), np.float64(1.6555555555555557), np.float64(2.7222222222222223), np.float64(2.177777777777778), np.float64(1.3777777777777775), np.float64(1.5666666666666667), np.float64(2.7111111111111112), np.float64(3.611111111111111), np.float64(2.5444444444444447), np.float64(2.0), np.float64(1.788888888888889), np.float64(2.322222222222223), np.float64(2.6222222222222222), np.float64(2.8888888888888893), np.float64(4.455555555555556), np.float64(2.5), np.float64(1.6), np.float64(2.4000000000000004), np.float64(0.6222222222222222), np.float64(2.0444444444444443), np.float64(2.2333333333333334), np.float64(0.9333333333333335), np.float64(1.788888888888889), np.float64(1.0666666666666669), np.float64(0.9), np.float64(0.9333333333333335), np.float64(1.3333333333333333), np.float64(0.888888888888889), np.float64(0.9), np.float64(1.155555555555556), np.float64(1.7333333333333332), np.float64(0.8444444444444444), np.float64(1.4333333333333333), np.float64(1.3444444444444446), np.float64(2.055555555555556), np.float64(3.8222222222222224), np.float64(3.3333333333333335), np.float64(3.600000000000001), np.float64(2.5), np.float64(2.7222222222222223), np.float64(1.1222222222222222), np.float64(1.2888888888888892), np.float64(0.8444444444444444), np.float64(3.066666666666667), np.float64(2.988888888888889), np.float64(2.233333333333334), np.float64(1.1222222222222222), np.float64(2.4), np.float64(2.177777777777778), np.float64(1.0666666666666669), np.float64(2.233333333333334), np.float64(2.488888888888889), np.float64(2.1000000000000005), np.float64(2.488888888888889), np.float64(1.5555555555555556), np.float64(1.6), np.float64(2.4), np.float64(1.7888888888888888), np.float64(1.6111111111111112), np.float64(1.5111111111111113), np.float64(2.844444444444444), np.float64(2.4555555555555557), np.float64(1.4333333333333333), np.float64(1.3444444444444446), np.float64(3.3333333333333335), np.float64(0.6222222222222222), np.float64(2.2333333333333334), np.float64(1.9555555555555555), np.float64(1.4333333333333333), np.float64(0.6777777777777778), np.float64(1.1111111111111112), np.float64(3.1222222222222222), np.float64(2.233333333333334), np.float64(1.5111111111111113), np.float64(1.6000000000000003), np.float64(1.5666666666666667), np.float64(1.3777777777777778), np.float64(1.5111111111111113), np.float64(1.2888888888888888), np.float64(2.5), np.float64(1.2888888888888892), np.float64(2.177777777777778), np.float64(1.7333333333333334), np.float64(2.1), np.float64(3.155555555555556), np.float64(1.3888888888888888), np.float64(2.2666666666666675), np.float64(1.9555555555555555), np.float64(1.2888888888888892), np.float64(2.0444444444444447), np.float64(2.2666666666666666), np.float64(1.655555555555556), np.float64(3.1222222222222222), np.float64(3.1555555555555554), np.float64(0.9888888888888889), np.float64(2.6777777777777776), np.float64(0.9444444444444444), np.float64(3.5111111111111115), np.float64(0.9333333333333335), np.float64(0.888888888888889), np.float64(2.6222222222222227), np.float64(1.8777777777777778), np.float64(1.3888888888888888), np.float64(0.9888888888888889), np.float64(0.4), np.float64(1.3777777777777778), np.float64(0.8444444444444444), np.float64(2.8444444444444446), np.float64(0.8444444444444444), np.float64(1.877777777777778), np.float64(1.6111111111111112), np.float64(1.3777777777777775), np.float64(2.2222222222222223), np.float64(3.3777777777777778), np.float64(0.5), np.float64(1.2888888888888892), np.float64(3.6555555555555563), np.float64(0.7222222222222223), np.float64(2.4555555555555557), np.float64(1.6), np.float64(1.0666666666666669), np.float64(4.988888888888889), np.float64(1.0666666666666667), np.float64(1.5666666666666667), np.float64(0.9), np.float64(3.0666666666666664), np.float64(0.5444444444444444), np.float64(1.5666666666666667), np.float64(0.6222222222222222), np.float64(2.5444444444444447), np.float64(0.9333333333333335), np.float64(2.677777777777778), np.float64(2.322222222222222), np.float64(3.5111111111111115), np.float64(2.9000000000000004), np.float64(2.1), np.float64(0.7666666666666666), np.float64(1.1666666666666667), np.float64(0.6222222222222222), np.float64(1.3444444444444446), np.float64(3.8222222222222224), np.float64(2.4000000000000004), np.float64(3.211111111111111), np.float64(1.788888888888889), np.float64(1.6111111111111112), np.float64(1.1666666666666667), np.float64(1.6555555555555557), np.float64(1.2888888888888892), np.float64(2.6666666666666665), np.float64(3.1222222222222222), np.float64(1.2888888888888892), np.float64(0.8444444444444444), np.float64(3.3777777777777778), np.float64(1.3444444444444446), np.float64(2.177777777777778), np.float64(0.4), np.float64(2.1), np.float64(2.2666666666666666), np.float64(3.288888888888889), np.float64(1.3888888888888888), np.float64(1.511111111111111), np.float64(0.9888888888888889), np.float64(2.0444444444444447), np.float64(0.7222222222222223), np.float64(1.6), np.float64(2.322222222222223), np.float64(1.7888888888888888), np.float64(1.6), np.float64(2.4888888888888894), np.float64(0.488888888888889), np.float64(2.7222222222222223), np.float64(1.7333333333333334), np.float64(2.7111111111111117), np.float64(1.3777777777777778), np.float64(2.7111111111111112), np.float64(2.011111111111111), np.float64(1.8222222222222224), np.float64(2.322222222222222), np.float64(1.211111111111111), np.float64(1.7333333333333334), np.float64(3.388888888888889), np.float64(0.5444444444444444), np.float64(1.5555555555555556), np.float64(1.155555555555556), np.float64(1.1111111111111112), np.float64(1.1222222222222222), np.float64(1.8222222222222222), np.float64(3.3333333333333335), np.float64(1.8777777777777778), np.float64(0.8444444444444444), np.float64(2.844444444444444), np.float64(2.0444444444444447), np.float64(0.7111111111111112), np.float64(1.5666666666666667), np.float64(1.6111111111111112), np.float64(1.2888888888888892), np.float64(2.233333333333334), np.float64(2.2222222222222223), np.float64(1.1111111111111112), np.float64(0.5444444444444444), np.float64(1.6000000000000003), np.float64(1.7333333333333334), np.float64(1.8777777777777784), np.float64(2.7111111111111112), np.float64(2.677777777777777), np.float64(2.0444444444444443), np.float64(1.3888888888888888), np.float64(2.5444444444444447), np.float64(2.9444444444444446), np.float64(2.2666666666666666), np.float64(2.4555555555555557), np.float64(3.5111111111111115), np.float64(2.233333333333334), np.float64(1.4333333333333338), np.float64(1.6), np.float64(1.8222222222222224), np.float64(1.1222222222222222), np.float64(1.1222222222222222), np.float64(0.888888888888889), np.float64(0.888888888888889), np.float64(1.0666666666666669), np.float64(1.1555555555555554), np.float64(0.9333333333333335), np.float64(5.777777777777779), np.float64(1.6), np.float64(1.8333333333333333), np.float64(0.5444444444444444), np.float64(0.9888888888888889), np.float64(2.055555555555556), np.float64(0.9444444444444444), np.float64(1.1111111111111112), np.float64(2.177777777777778), np.float64(1.1555555555555557), np.float64(0.8444444444444444), np.float64(0.9888888888888889), np.float64(2.055555555555556), np.float64(0.7222222222222223), np.float64(2.322222222222223), np.float64(1.6), np.float64(2.2777777777777777), np.float64(0.9), np.float64(0.6222222222222225), np.float64(2.9333333333333336), np.float64(0.7222222222222223), np.float64(2.2777777777777777), np.float64(2.488888888888889), np.float64(3.155555555555556), np.float64(1.0666666666666667), np.float64(1.5111111111111113), np.float64(2.1), np.float64(1.2888888888888888), np.float64(3.6), np.float64(0.9444444444444444), np.float64(1.377777777777778), np.float64(2.4555555555555557), np.float64(1.0666666666666669), np.float64(1.5666666666666667), np.float64(1.5666666666666667), np.float64(1.2111111111111115), np.float64(0.488888888888889), np.float64(1.7333333333333334), np.float64(2.5), np.float64(0.2666666666666667), np.float64(1.6), np.float64(2.9000000000000004), np.float64(1.3777777777777775), np.float64(2.4555555555555557), np.float64(3.166666666666667), np.float64(1.511111111111111), np.float64(0.7222222222222223), np.float64(1.3444444444444446), np.float64(1.6111111111111112), np.float64(2.0444444444444447), np.float64(1.8222222222222222), np.float64(1.4333333333333338), np.float64(0.488888888888889), np.float64(1.1666666666666667), np.float64(1.8222222222222222), np.float64(1.5111111111111113), np.float64(2.177777777777778), np.float64(2.177777777777778), np.float64(2.9), np.float64(1.4333333333333333), np.float64(2.677777777777777), np.float64(1.1111111111111112), np.float64(1.877777777777778), np.float64(1.2888888888888888), np.float64(0.6666666666666666), np.float64(1.2111111111111112), np.float64(0.888888888888889), np.float64(1.7333333333333334), np.float64(1.6), np.float64(0.8444444444444444), np.float64(0.9333333333333335), np.float64(1.7333333333333334), np.float64(1.1555555555555554), np.float64(2.9000000000000004), np.float64(1.8222222222222222), np.float64(1.2111111111111112), np.float64(2.1), np.float64(1.1111111111111112), np.float64(4.444444444444445), np.float64(0.6222222222222222), np.float64(1.3888888888888888), np.float64(1.1222222222222222), np.float64(1.0666666666666669), np.float64(1.777777777777778), np.float64(1.1666666666666667), np.float64(2.5444444444444447), np.float64(2.322222222222223), np.float64(1.7333333333333334), np.float64(1.777777777777778), np.float64(1.3888888888888888), np.float64(0.6777777777777778), np.float64(3.433333333333333), np.float64(2.055555555555556), np.float64(1.7333333333333336), np.float64(1.2111111111111112), np.float64(0.9333333333333332), np.float64(1.1666666666666667), np.float64(2.055555555555556), np.float64(0.6777777777777778), np.float64(1.5666666666666667), np.float64(2.766666666666667), np.float64(1.3333333333333333), np.float64(2.322222222222223), np.float64(0.9), np.float64(1.8333333333333333), np.float64(1.6555555555555557), np.float64(1.3444444444444446), np.float64(2.0444444444444443), np.float64(1.0666666666666669), np.float64(1.4333333333333333), np.float64(0.9888888888888889), np.float64(2.177777777777778), np.float64(1.788888888888889), np.float64(2.7222222222222223), np.float64(3.166666666666667), np.float64(3.288888888888889), np.float64(2.011111111111111), np.float64(1.9555555555555555), np.float64(2.4000000000000004), np.float64(2.4), np.float64(1.1111111111111112), np.float64(0.7111111111111112), np.float64(3.433333333333334), np.float64(1.955555555555556), np.float64(2.5), np.float64(2.4888888888888894), np.float64(0.6666666666666666), np.float64(2.233333333333334), np.float64(2.4), np.float64(2.1), np.float64(2.3222222222222233), np.float64(2.5), np.float64(2.4000000000000004), np.float64(0.9), np.float64(0.6777777777777778), np.float64(0.8444444444444444), np.float64(2.6666666666666665), np.float64(1.6), np.float64(2.011111111111111), np.float64(1.6111111111111112), np.float64(2.2333333333333325), np.float64(3.0666666666666664), np.float64(2.2666666666666666), np.float64(3.166666666666667), np.float64(0.488888888888889), np.float64(2.2777777777777777), np.float64(2.7666666666666675), np.float64(1.2111111111111112), np.float64(2.0444444444444443), np.float64(2.0444444444444447), np.float64(1.3888888888888888), np.float64(1.955555555555556), np.float64(1.8222222222222222), np.float64(1.2888888888888892), np.float64(2.177777777777778), np.float64(0.6222222222222222), np.float64(0.888888888888889), np.float64(1.1555555555555557), np.float64(2.4), np.float64(2.4444444444444446), np.float64(1.155555555555556), np.float64(2.055555555555556), np.float64(0.7666666666666666), np.float64(3.599999999999999), np.float64(2.6222222222222227), np.float64(1.8333333333333333), np.float64(1.955555555555556), np.float64(1.9555555555555555), np.float64(2.9333333333333336), np.float64(3.566666666666667), np.float64(2.011111111111111), np.float64(2.322222222222222), np.float64(1.3444444444444446), np.float64(1.3444444444444446), np.float64(1.6111111111111112), np.float64(2.1), np.float64(3.066666666666667), np.float64(1.955555555555556), np.float64(1.0666666666666669), np.float64(2.011111111111111), np.float64(2.0444444444444447), np.float64(1.5666666666666667), np.float64(0.6777777777777778), np.float64(1.7888888888888888), np.float64(2.233333333333334), np.float64(1.5666666666666667), np.float64(1.5111111111111113), np.float64(2.4888888888888894), np.float64(1.6), np.float64(1.2111111111111112), np.float64(0.23333333333333336), np.float64(1.6111111111111112), np.float64(1.9555555555555555), np.float64(1.4333333333333333), np.float64(1.6), np.float64(2.9), np.float64(1.7333333333333334), np.float64(2.4444444444444446), np.float64(0.9333333333333335), np.float64(1.2888888888888888), np.float64(1.7888888888888888), np.float64(1.4333333333333333), np.float64(1.1555555555555557), np.float64(2.9444444444444446), np.float64(1.1111111111111112), np.float64(2.2222222222222223), np.float64(1.511111111111111), np.float64(1.6111111111111112), np.float64(2.6222222222222222), np.float64(2.2666666666666666), np.float64(3.2888888888888896), np.float64(0.8444444444444444), np.float64(1.5111111111111113), np.float64(1.8333333333333333), np.float64(1.2888888888888888), np.float64(0.7222222222222223), np.float64(2.4000000000000004), np.float64(1.788888888888889), np.float64(0.888888888888889), np.float64(2.766666666666667), np.float64(1.1555555555555554), np.float64(3.566666666666667), np.float64(1.5111111111111113), np.float64(2.4555555555555557), np.float64(1.3333333333333333), np.float64(1.877777777777778), np.float64(1.3444444444444446), np.float64(1.7333333333333332), np.float64(1.0666666666666667), np.float64(1.6), np.float64(1.3777777777777778), np.float64(1.8222222222222224), np.float64(1.788888888888889), np.float64(4.844444444444445), np.float64(1.3444444444444446), np.float64(0.9888888888888889), np.float64(1.2111111111111115), np.float64(2.177777777777778), np.float64(0.9888888888888889), np.float64(2.055555555555556), np.float64(1.5666666666666667), np.float64(2.0), np.float64(2.2222222222222223), np.float64(2.322222222222223), np.float64(2.544444444444445), np.float64(2.1), np.float64(2.933333333333333), np.float64(0.9888888888888888), np.float64(2.6222222222222227), np.float64(0.8444444444444444), np.float64(2.0444444444444443), np.float64(1.6), np.float64(1.877777777777778), np.float64(2.933333333333333), np.float64(1.3444444444444446), np.float64(1.3444444444444446), np.float64(2.2333333333333334), np.float64(1.7333333333333334), np.float64(1.955555555555556), np.float64(2.0444444444444447), np.float64(1.2888888888888892), np.float64(1.2111111111111112), np.float64(1.0666666666666669), np.float64(1.1555555555555557), np.float64(2.177777777777778), np.float64(1.6), np.float64(1.0666666666666667), np.float64(2.677777777777778), np.float64(1.3444444444444446), np.float64(2.488888888888889), np.float64(1.7888888888888888), np.float64(3.0666666666666664), np.float64(1.3444444444444446), np.float64(2.677777777777778), np.float64(2.2777777777777777), np.float64(2.1), np.float64(1.2888888888888888), np.float64(3.166666666666667), np.float64(0.9444444444444444), np.float64(1.1555555555555557), np.float64(1.3777777777777775), np.float64(2.233333333333334), np.float64(1.5666666666666667), np.float64(2.011111111111111), np.float64(3.166666666666667), np.float64(1.6555555555555557), np.float64(2.9888888888888894), np.float64(1.1666666666666667), np.float64(3.344444444444445), np.float64(1.8333333333333333), np.float64(0.8444444444444444), np.float64(2.488888888888889), np.float64(1.5111111111111113), np.float64(2.233333333333334), np.float64(0.9888888888888888), np.float64(1.511111111111111), np.float64(1.6111111111111112), np.float64(1.3777777777777775), np.float64(1.3888888888888888), np.float64(2.6222222222222227), np.float64(3.2111111111111112), np.float64(1.877777777777778), np.float64(1.6555555555555557), np.float64(1.511111111111111), np.float64(3.511111111111111), np.float64(3.2888888888888896), np.float64(1.5666666666666669), np.float64(1.3444444444444446), np.float64(2.1777777777777776), np.float64(3.555555555555556), np.float64(0.6222222222222222), np.float64(1.1222222222222222), np.float64(0.45555555555555555), np.float64(3.433333333333333), np.float64(1.2111111111111115), np.float64(1.5666666666666664), np.float64(2.7111111111111117), np.float64(0.4), np.float64(3.111111111111111), np.float64(5.377777777777778), np.float64(2.4888888888888894), np.float64(2.2777777777777777), np.float64(2.2666666666666666), np.float64(2.2666666666666666), np.float64(0.9888888888888888), np.float64(4.455555555555556), np.float64(1.2111111111111115), np.float64(1.1222222222222222), np.float64(1.3444444444444446), np.float64(2.322222222222223), np.float64(2.9888888888888894), np.float64(2.766666666666667), np.float64(1.0666666666666667), np.float64(2.766666666666667), np.float64(2.766666666666667), np.float64(1.3444444444444446), np.float64(1.1222222222222222), np.float64(2.1), np.float64(4.011111111111112), np.float64(2.5444444444444447), np.float64(1.7888888888888888), np.float64(1.3444444444444446), np.float64(1.1222222222222222), np.float64(2.4555555555555557), np.float64(1.2888888888888888), np.float64(1.5111111111111113), np.float64(2.2666666666666666), np.float64(1.2111111111111112), np.float64(1.3777777777777778), np.float64(1.8222222222222222), np.float64(2.1), np.float64(2.2333333333333334), np.float64(1.0666666666666669), np.float64(2.3222222222222233), np.float64(0.9), np.float64(0.7111111111111111), np.float64(3.3777777777777778), np.float64(0.7111111111111112), np.float64(1.6111111111111112), np.float64(1.955555555555556), np.float64(3.288888888888889), np.float64(0.9888888888888892), np.float64(3.555555555555556), np.float64(3.8777777777777787), np.float64(1.1555555555555557), np.float64(2.233333333333334), np.float64(1.1555555555555554), np.float64(2.6222222222222222), np.float64(2.5444444444444447), np.float64(1.2888888888888892), np.float64(1.877777777777778), np.float64(2.4555555555555557), np.float64(3.2111111111111112), np.float64(1.3444444444444446), np.float64(1.1666666666666667), np.float64(2.1), np.float64(0.9333333333333332), np.float64(1.1666666666666667), np.float64(1.6555555555555554), np.float64(4.766666666666667), np.float64(2.9000000000000004), np.float64(1.955555555555556), np.float64(2.2777777777777777), np.float64(4.011111111111112), np.float64(1.6555555555555554), np.float64(2.177777777777778), np.float64(0.8444444444444444), np.float64(1.9555555555555555), np.float64(2.6222222222222227), np.float64(3.566666666666667), np.float64(3.9555555555555557), np.float64(2.2333333333333325), np.float64(1.2111111111111115), np.float64(1.6), np.float64(0.7666666666666667), np.float64(1.7333333333333332), np.float64(1.877777777777778), np.float64(1.777777777777778), np.float64(0.9888888888888888), np.float64(0.9888888888888889), np.float64(1.5555555555555556), np.float64(1.788888888888889), np.float64(1.511111111111111), np.float64(2.233333333333334), np.float64(1.3333333333333333), np.float64(0.9333333333333335), np.float64(1.0666666666666669), np.float64(0.9333333333333332), np.float64(1.7333333333333334), np.float64(1.3444444444444446), np.float64(1.1111111111111112), np.float64(1.8777777777777778), np.float64(1.3888888888888888), np.float64(1.4333333333333331), np.float64(1.8777777777777778), np.float64(0.7666666666666666), np.float64(1.3777777777777775), np.float64(2.933333333333333), np.float64(1.877777777777778), np.float64(1.7333333333333334), np.float64(2.6666666666666665), np.float64(2.1), np.float64(1.1222222222222222), np.float64(1.788888888888889), np.float64(1.1555555555555557), np.float64(1.3444444444444446), np.float64(1.5666666666666667), np.float64(1.7888888888888888), np.float64(2.7222222222222223), np.float64(1.655555555555556), np.float64(3.433333333333334), np.float64(1.3888888888888888), np.float64(0.9333333333333335), np.float64(1.4333333333333333), np.float64(3.733333333333334), np.float64(1.5111111111111115), np.float64(3.8222222222222224), np.float64(3.1555555555555554), np.float64(2.9444444444444446), np.float64(4.711111111111111), np.float64(1.511111111111111), np.float64(2.766666666666667), np.float64(1.2888888888888888), np.float64(2.48888888888889), np.float64(4.233333333333333), np.float64(1.2888888888888892), np.float64(1.6), np.float64(2.0), np.float64(4.1000000000000005), np.float64(1.8333333333333333), np.float64(1.3888888888888888), np.float64(1.6), np.float64(4.0), np.float64(1.3888888888888888), np.float64(1.6), np.float64(1.2111111111111112), np.float64(0.8444444444444444), np.float64(3.9555555555555557), np.float64(2.933333333333333), np.float64(1.1111111111111112), np.float64(2.1777777777777776), np.float64(3.166666666666667), np.float64(3.433333333333333), np.float64(0.8444444444444444), np.float64(0.7111111111111111), np.float64(2.5444444444444447), np.float64(0.7111111111111112), np.float64(1.8333333333333333), np.float64(2.0), np.float64(1.655555555555556), np.float64(1.0666666666666669), np.float64(1.7333333333333334), np.float64(0.9), np.float64(1.2888888888888892), np.float64(4.233333333333334), np.float64(1.1555555555555557), np.float64(2.0444444444444443), np.float64(0.7666666666666666), np.float64(3.8777777777777778), np.float64(1.1555555555555557), np.float64(3.3777777777777778), np.float64(1.3777777777777778), np.float64(1.777777777777778), np.float64(1.4333333333333333), np.float64(3.733333333333334), np.float64(1.1222222222222222), np.float64(1.2888888888888892), np.float64(3.1222222222222222), np.float64(1.5111111111111113), np.float64(2.2666666666666666), np.float64(2.233333333333334), np.float64(1.788888888888889), np.float64(0.7111111111111112), np.float64(2.055555555555556), np.float64(1.5111111111111113), np.float64(1.6111111111111112), np.float64(2.6222222222222222), np.float64(2.2777777777777777), np.float64(2.4888888888888894), np.float64(0.9), np.float64(1.5666666666666664), np.float64(3.788888888888889), np.float64(0.9444444444444444), np.float64(0.23333333333333336), np.float64(2.1), np.float64(1.1222222222222222), np.float64(2.7111111111111112), np.float64(2.177777777777778), np.float64(3.066666666666667), np.float64(1.3444444444444446), np.float64(1.5555555555555556), np.float64(3.8777777777777787), np.float64(2.0), np.float64(2.4888888888888894), np.float64(1.2888888888888888), np.float64(2.2666666666666666), np.float64(1.2888888888888888), np.float64(0.9888888888888889), np.float64(0.7111111111111111), np.float64(2.4555555555555557), np.float64(0.9000000000000002), np.float64(1.777777777777778), np.float64(2.6666666666666665), np.float64(0.6222222222222225), np.float64(2.4555555555555557), np.float64(0.7666666666666666), np.float64(1.3777777777777778), np.float64(1.5111111111111113), np.float64(2.1), np.float64(2.177777777777778), np.float64(1.7333333333333332), np.float64(2.0444444444444447), np.float64(2.6222222222222227), np.float64(3.822222222222223), np.float64(1.777777777777778), np.float64(2.8888888888888893), np.float64(1.955555555555556), np.float64(2.2222222222222223), np.float64(1.1555555555555557), np.float64(2.1), np.float64(3.122222222222222), np.float64(0.9), np.float64(1.5666666666666667), np.float64(1.5666666666666667), np.float64(2.0), np.float64(1.877777777777778), np.float64(1.7333333333333334), np.float64(2.933333333333333), np.float64(1.1222222222222222), np.float64(1.1222222222222222), np.float64(2.677777777777778), np.float64(1.0666666666666667), np.float64(0.4), np.float64(0.6777777777777778), np.float64(2.2666666666666666), np.float64(0.9888888888888892), np.float64(2.5), np.float64(1.1222222222222222), np.float64(1.2111111111111115), np.float64(2.9888888888888894), np.float64(1.788888888888889), np.float64(2.988888888888889), np.float64(2.6222222222222222), np.float64(3.1555555555555554), np.float64(2.1), np.float64(1.955555555555556), np.float64(1.4333333333333333), np.float64(0.8444444444444444), np.float64(2.322222222222223), np.float64(0.7222222222222223), np.float64(1.8777777777777778), np.float64(2.9333333333333336), np.float64(2.9444444444444446), np.float64(3.7777777777777777), np.float64(2.6666666666666665), np.float64(2.0444444444444447), np.float64(2.322222222222223), np.float64(1.8333333333333333), np.float64(3.2111111111111112), np.float64(2.177777777777778), np.float64(1.877777777777778), np.float64(2.7222222222222223), np.float64(1.6), np.float64(1.6555555555555557), np.float64(2.2777777777777777), np.float64(3.1555555555555554), np.float64(3.288888888888889), np.float64(2.1), np.float64(0.6222222222222222), np.float64(3.3444444444444446), np.float64(1.788888888888889), np.float64(1.6), np.float64(2.5), np.float64(0.45555555555555555), np.float64(1.3444444444444446), np.float64(2.7111111111111112), np.float64(2.8444444444444446), np.float64(2.9333333333333336), np.float64(3.433333333333333), np.float64(0.9333333333333335), np.float64(0.7666666666666666), np.float64(0.9333333333333335), np.float64(0.9444444444444444), np.float64(0.888888888888889), np.float64(1.8777777777777778), np.float64(0.9333333333333336), np.float64(2.1777777777777776), np.float64(2.5), np.float64(2.7111111111111112), np.float64(1.6555555555555557), np.float64(2.2666666666666666), np.float64(2.233333333333334), np.float64(2.2333333333333334), np.float64(2.2666666666666666), np.float64(1.1222222222222222), np.float64(3.7888888888888883), np.float64(1.788888888888889), np.float64(1.655555555555556), np.float64(1.6), np.float64(2.2222222222222223), np.float64(0.6222222222222223), np.float64(1.2111111111111112), np.float64(0.8444444444444444), np.float64(2.1), np.float64(0.9), np.float64(1.2111111111111115), np.float64(2.5), np.float64(1.7888888888888888), np.float64(1.3777777777777778), np.float64(1.3444444444444446), np.float64(0.7111111111111112), np.float64(1.8222222222222222), np.float64(1.3444444444444446), np.float64(3.6555555555555563), np.float64(1.0666666666666669), np.float64(3.8777777777777787), np.float64(1.2111111111111112), np.float64(1.8222222222222222), np.float64(1.1111111111111112), np.float64(0.8444444444444447), np.float64(2.4000000000000004), np.float64(1.1666666666666667), np.float64(2.1), np.float64(1.4333333333333333), np.float64(1.5555555555555556), np.float64(3.2111111111111112), np.float64(2.322222222222223), np.float64(0.9888888888888889), np.float64(0.8444444444444444), np.float64(1.5666666666666667), np.float64(2.0444444444444443), np.float64(1.211111111111111), np.float64(3.611111111111111), np.float64(3.3777777777777778), np.float64(1.3777777777777775), np.float64(1.4333333333333333), np.float64(1.5111111111111113), np.float64(1.955555555555556), np.float64(1.3444444444444446), np.float64(1.2888888888888885), np.float64(1.6), np.float64(5.066666666666667), np.float64(2.7222222222222223), np.float64(2.488888888888889), np.float64(1.655555555555556), np.float64(1.5555555555555556), np.float64(1.4333333333333331), np.float64(2.055555555555556), np.float64(1.955555555555556), np.float64(3.066666666666667), np.float64(2.4444444444444446), np.float64(2.4555555555555557), np.float64(2.055555555555556), np.float64(1.777777777777778), np.float64(1.1111111111111112), np.float64(2.2777777777777777), np.float64(1.788888888888889), np.float64(2.488888888888889), np.float64(0.7666666666666666), np.float64(1.6111111111111112), np.float64(0.7111111111111111), np.float64(1.511111111111111), np.float64(2.9444444444444446), np.float64(0.3222222222222223), np.float64(3.1222222222222222), np.float64(1.6555555555555557), np.float64(1.8222222222222224), np.float64(1.1555555555555557), np.float64(2.4888888888888894), np.float64(1.3444444444444446), np.float64(1.7333333333333332), np.float64(2.322222222222223), np.float64(0.9), np.float64(1.877777777777778), np.float64(1.6555555555555557), np.float64(1.3333333333333333), np.float64(1.6555555555555557), np.float64(0.9333333333333335), np.float64(1.1222222222222222), np.float64(1.2111111111111112), np.float64(3.4333333333333345), np.float64(1.2111111111111112), np.float64(2.055555555555556), np.float64(2.7222222222222223), np.float64(2.0444444444444447), np.float64(1.8777777777777778), np.float64(1.2111111111111112), np.float64(3.288888888888889), np.float64(0.7222222222222223), np.float64(1.1666666666666667), np.float64(2.933333333333333), np.float64(2.1), np.float64(1.1555555555555554), np.float64(1.7888888888888888), np.float64(2.011111111111111), np.float64(0.7666666666666666), np.float64(4.766666666666667), np.float64(1.1222222222222222), np.float64(1.4333333333333331), np.float64(1.4333333333333338), np.float64(2.177777777777778), np.float64(1.1666666666666667), np.float64(1.5555555555555556), np.float64(1.9555555555555555), np.float64(1.777777777777778), np.float64(2.4000000000000004), np.float64(2.055555555555556), np.float64(1.8777777777777778), np.float64(1.5666666666666667), np.float64(2.6666666666666665), np.float64(1.2111111111111112), np.float64(2.9888888888888894), np.float64(1.877777777777778), np.float64(1.3888888888888888), np.float64(1.0666666666666669), np.float64(0.6222222222222222), np.float64(2.5), np.float64(0.9888888888888889), np.float64(3.066666666666667), np.float64(2.2777777777777777), np.float64(3.7888888888888883), np.float64(0.9333333333333335), np.float64(1.1666666666666667), np.float64(2.1777777777777776), np.float64(3.211111111111111), np.float64(0.6777777777777778), np.float64(2.1777777777777776), np.float64(2.233333333333334), np.float64(1.1111111111111112), np.float64(2.4000000000000004), np.float64(3.733333333333334), np.float64(0.9333333333333335), np.float64(2.488888888888889), np.float64(2.3222222222222215), np.float64(0.6222222222222222), np.float64(2.4555555555555557), np.float64(2.933333333333333), np.float64(0.9), np.float64(3.555555555555556), np.float64(3.344444444444445), np.float64(2.4000000000000004), np.float64(2.6222222222222227), np.float64(1.8222222222222224), np.float64(0.9888888888888889), np.float64(3.2111111111111112), np.float64(1.7333333333333334), np.float64(1.8222222222222222), np.float64(3.611111111111111), np.float64(1.3888888888888888), np.float64(0.45555555555555555), np.float64(1.877777777777778), np.float64(3.344444444444445), np.float64(2.177777777777778), np.float64(1.1111111111111112), np.float64(3.288888888888889), np.float64(1.2111111111111112), np.float64(1.655555555555556), np.float64(1.777777777777778), np.float64(2.5), np.float64(1.6), np.float64(0.7666666666666667), np.float64(0.2666666666666667), np.float64(0.45555555555555555), np.float64(2.0), np.float64(3.566666666666667), np.float64(1.2111111111111112), np.float64(0.8444444444444444), np.float64(3.8222222222222224), np.float64(0.7666666666666666), np.float64(1.0666666666666667), np.float64(1.6), np.float64(1.2111111111111112), np.float64(1.3444444444444446), np.float64(2.677777777777778), np.float64(2.6222222222222227), np.float64(2.400000000000001), np.float64(3.122222222222223), np.float64(1.5666666666666667), np.float64(1.3777777777777778), np.float64(3.3333333333333335), np.float64(2.4444444444444446), np.float64(0.9333333333333335), np.float64(1.1555555555555554), np.float64(2.7222222222222223), np.float64(3.111111111111111), np.float64(1.3888888888888888), np.float64(3.655555555555556), np.float64(0.9333333333333335), np.float64(1.3444444444444446), np.float64(2.2777777777777777), np.float64(2.011111111111111), np.float64(2.055555555555556), np.float64(1.5666666666666667), np.float64(2.1), np.float64(0.9), np.float64(1.9555555555555555), np.float64(0.6222222222222222), np.float64(1.3444444444444446), np.float64(2.8888888888888893), np.float64(1.6), np.float64(1.7333333333333334), np.float64(1.2888888888888888), np.float64(2.5), np.float64(0.6222222222222222), np.float64(3.733333333333334), np.float64(0.7111111111111112), np.float64(1.6555555555555557), np.float64(1.211111111111111), np.float64(2.2666666666666666), np.float64(2.9444444444444446), np.float64(2.6777777777777776), np.float64(1.8333333333333333), np.float64(1.2111111111111112), np.float64(3.1222222222222222), np.float64(2.5444444444444447), np.float64(0.6777777777777778), np.float64(1.777777777777778), np.float64(2.9000000000000004), np.float64(0.9333333333333335), np.float64(1.3777777777777778), np.float64(1.6), np.float64(1.6111111111111112), np.float64(1.8222222222222222), np.float64(1.1555555555555554), np.float64(2.0111111111111106), np.float64(1.877777777777778), np.float64(0.9333333333333335), np.float64(1.777777777777778), np.float64(2.7666666666666666), np.float64(0.888888888888889), np.float64(0.9), np.float64(1.1666666666666667), np.float64(2.4000000000000004), np.float64(1.5666666666666667), np.float64(2.2333333333333334), np.float64(1.1666666666666667), np.float64(2.7666666666666666), np.float64(2.766666666666666), np.float64(1.0666666666666669), np.float64(0.7111111111111111), np.float64(1.5555555555555556), np.float64(2.0), np.float64(1.511111111111111), np.float64(2.5), np.float64(1.8777777777777784), np.float64(0.6777777777777778), np.float64(0.7666666666666666), np.float64(0.7111111111111112), np.float64(0.9888888888888888), np.float64(2.0), np.float64(0.6777777777777778), np.float64(2.011111111111111), np.float64(3.655555555555556), np.float64(0.9), np.float64(0.9333333333333332), np.float64(3.433333333333333), np.float64(2.0444444444444443), np.float64(0.9333333333333332), np.float64(2.7222222222222223), np.float64(0.7666666666666666), np.float64(1.8333333333333333), np.float64(4.71111111111111), np.float64(3.1222222222222222), np.float64(2.677777777777778), np.float64(1.655555555555556), np.float64(2.933333333333333), np.float64(1.2111111111111115), np.float64(1.788888888888889), np.float64(3.0666666666666678), np.float64(1.3777777777777778), np.float64(1.5555555555555556), np.float64(0.9888888888888892), np.float64(2.1), np.float64(1.5666666666666667), np.float64(1.6000000000000003), np.float64(1.1222222222222222), np.float64(3.1222222222222222), np.float64(0.45555555555555555), np.float64(2.055555555555556), np.float64(0.9444444444444444), np.float64(1.788888888888889), np.float64(1.6), np.float64(1.1111111111111112), np.float64(2.8444444444444446), np.float64(1.8222222222222224), np.float64(3.1222222222222222), np.float64(0.7111111111111111), np.float64(1.5111111111111113), np.float64(1.5111111111111113), np.float64(2.4000000000000004), np.float64(0.9333333333333335), np.float64(1.8333333333333333), np.float64(0.4), np.float64(3.3444444444444446), np.float64(0.7666666666666666), np.float64(1.6), np.float64(2.5), np.float64(1.4333333333333333), np.float64(1.8222222222222222), np.float64(2.233333333333334), np.float64(1.511111111111111), np.float64(0.8444444444444447), np.float64(2.1), np.float64(3.066666666666667), np.float64(3.611111111111111), np.float64(1.155555555555556), np.float64(1.788888888888889), np.float64(0.9), np.float64(1.8333333333333333), np.float64(2.011111111111111), np.float64(2.5444444444444447), np.float64(2.2333333333333334), np.float64(1.4333333333333333), np.float64(0.2666666666666667), np.float64(2.177777777777778), np.float64(2.0), np.float64(1.1222222222222222), np.float64(1.4333333333333333), np.float64(1.2111111111111115), np.float64(1.3444444444444446), np.float64(2.4444444444444446), np.float64(0.9888888888888889), np.float64(0.7666666666666667), np.float64(2.9444444444444446), np.float64(1.3777777777777778), np.float64(2.2666666666666666), np.float64(1.877777777777778), np.float64(1.8222222222222222), np.float64(2.4444444444444446), np.float64(0.9), np.float64(2.011111111111111), np.float64(2.2222222222222223), np.float64(1.1555555555555557), np.float64(0.9), np.float64(1.5666666666666667), np.float64(1.877777777777778), np.float64(1.955555555555556), np.float64(1.3777777777777778), np.float64(0.9333333333333335), np.float64(2.4444444444444446), np.float64(1.511111111111111), np.float64(1.6000000000000003), np.float64(0.7666666666666666), np.float64(0.9444444444444444), np.float64(0.9888888888888889), np.float64(1.8333333333333333), np.float64(2.0444444444444443), np.float64(2.7111111111111117), np.float64(1.6000000000000003), np.float64(0.8444444444444444), np.float64(4.844444444444446), np.float64(1.3777777777777778), np.float64(1.1666666666666667), np.float64(1.2111111111111115), np.float64(2.5444444444444447), np.float64(1.6111111111111112), np.float64(2.4), np.float64(2.011111111111111), np.float64(2.488888888888889), np.float64(3.344444444444445), np.float64(2.0), np.float64(1.5666666666666667), np.float64(1.7333333333333334), np.float64(1.655555555555556), np.float64(1.2111111111111112), np.float64(1.3444444444444446), np.float64(0.6222222222222222), np.float64(2.0), np.float64(2.7111111111111117), np.float64(0.5), np.float64(1.3888888888888888), np.float64(2.1777777777777776), np.float64(1.1555555555555557), np.float64(2.011111111111111), np.float64(2.4), np.float64(1.1222222222222222), np.float64(0.6666666666666666), np.float64(1.3444444444444446), np.float64(2.233333333333334), np.float64(2.0), np.float64(0.9333333333333332), np.float64(2.1), np.float64(0.6666666666666666), np.float64(0.9333333333333335), np.float64(1.6), np.float64(3.3777777777777778), np.float64(3.1222222222222222), np.float64(0.888888888888889), np.float64(0.5), np.float64(2.177777777777778), np.float64(2.6666666666666665), np.float64(4.044444444444445), np.float64(1.3333333333333333), np.float64(3.8777777777777778), np.float64(1.2111111111111112), np.float64(1.0666666666666667), np.float64(1.1111111111111112), np.float64(2.988888888888889), np.float64(1.6), np.float64(2.7666666666666675), np.float64(2.5444444444444447), np.float64(0.6222222222222222), np.float64(2.4444444444444446), np.float64(1.1111111111111112), np.float64(1.7333333333333334), np.float64(1.5666666666666664), np.float64(3.3777777777777778), np.float64(1.3444444444444446), np.float64(0.45555555555555555), np.float64(1.6000000000000003), np.float64(4.055555555555555), np.float64(1.2888888888888888), np.float64(1.6111111111111112), np.float64(3.111111111111111), np.float64(1.2111111111111112), np.float64(0.9333333333333335), np.float64(1.3777777777777778), np.float64(1.3444444444444446), np.float64(2.011111111111111), np.float64(0.9888888888888889), np.float64(0.9), np.float64(2.9000000000000004), np.float64(2.1777777777777776), np.float64(0.2666666666666667), np.float64(4.0), np.float64(1.7888888888888888), np.float64(1.6), np.float64(2.6222222222222227), np.float64(1.8222222222222224), np.float64(2.4555555555555557), np.float64(0.8444444444444444), np.float64(3.7777777777777777), np.float64(1.9555555555555555), np.float64(1.8333333333333333), np.float64(1.6555555555555557), np.float64(2.0444444444444443), np.float64(1.7333333333333332), np.float64(2.5), np.float64(3.3777777777777778), np.float64(4.322222222222223), np.float64(1.0666666666666669), np.float64(2.677777777777778), np.float64(1.5666666666666667), np.float64(3.8333333333333335), np.float64(1.122222222222222), np.float64(3.9555555555555557), np.float64(3.288888888888889), np.float64(0.9888888888888889), np.float64(2.9444444444444446), np.float64(2.6222222222222227), np.float64(5.122222222222222), np.float64(3.3333333333333335), np.float64(0.9), np.float64(3.8777777777777787), np.float64(1.788888888888889), np.float64(2.055555555555556), np.float64(0.3222222222222223), np.float64(1.788888888888889), np.float64(1.877777777777778), np.float64(0.7111111111111112), np.float64(2.0444444444444443), np.float64(2.0444444444444447), np.float64(1.211111111111111), np.float64(1.5555555555555556), np.float64(0.9), np.float64(0.9333333333333335), np.float64(2.2222222222222223), np.float64(4.622222222222223), np.float64(2.5444444444444447), np.float64(1.9555555555555555), np.float64(3.555555555555556), np.float64(0.888888888888889), np.float64(2.177777777777778), np.float64(3.2888888888888883), np.float64(2.0444444444444447), np.float64(1.1111111111111112), np.float64(1.8333333333333333), np.float64(0.8444444444444444), np.float64(3.344444444444445), np.float64(3.511111111111111), np.float64(1.788888888888889), np.float64(0.9), np.float64(0.9888888888888889), np.float64(1.7333333333333334), np.float64(1.4333333333333333), np.float64(1.8777777777777778), np.float64(2.011111111111111), np.float64(1.6), np.float64(1.2111111111111112), np.float64(1.1555555555555557), np.float64(2.1777777777777785), np.float64(0.888888888888889), np.float64(0.23333333333333336), np.float64(1.1555555555555557), np.float64(2.677777777777778), np.float64(1.5666666666666667), np.float64(3.1555555555555554), np.float64(1.5111111111111113), np.float64(1.788888888888889), np.float64(1.1111111111111112), np.float64(2.011111111111111), np.float64(1.5555555555555556), np.float64(2.8444444444444446), np.float64(1.8777777777777784), np.float64(2.4888888888888894), np.float64(1.9555555555555555), np.float64(1.4333333333333333), np.float64(2.0), np.float64(1.5555555555555556), np.float64(1.5111111111111113), np.float64(1.6), np.float64(1.777777777777778), np.float64(1.3777777777777775), np.float64(1.3777777777777778), np.float64(2.322222222222222), np.float64(1.1222222222222222), np.float64(2.2666666666666666), np.float64(1.6555555555555557), np.float64(1.7333333333333334), np.float64(1.5666666666666667), np.float64(2.2333333333333334), np.float64(1.4333333333333333), np.float64(2.0), np.float64(1.7333333333333332), np.float64(1.5666666666666667), np.float64(0.45555555555555555), np.float64(1.1555555555555557), np.float64(0.9888888888888888), np.float64(1.2111111111111112)]\n"
     ]
    }
   ],
   "source": [
    "from scipy.stats import binom, describe\n",
    "import numpy as np\n",
    "\n",
    "# Initialize lists to store the computed averages and variances\n",
    "averages = []\n",
    "variances = []\n",
    "\n",
    "for i in range(1500):\n",
    "    # 10 trials of 10 coin flips with 25% probability of heads\n",
    "    sample = binom.rvs(n=10, p=0.25, size=10)\n",
    "    # Compute descriptive statistics for the sample\n",
    "    stats = describe(sample)\n",
    "    averages.append(stats.mean)\n",
    "    variances.append(stats.variance)\n",
    "\n",
    "print(averages)\n",
    "print(variances)"
   ]
  },
  {
   "cell_type": "code",
   "execution_count": 22,
   "metadata": {},
   "outputs": [
    {
     "name": "stdout",
     "output_type": "stream",
     "text": [
      "Mean 2.5004666666666666\n",
      "Variance 1.8629851851851853\n"
     ]
    }
   ],
   "source": [
    "for i in range(0, 1500):\n",
    "\t# 10 draws of 10 coin flips with 25% probability of heads\n",
    "    sample = binom.rvs(n=10, p=0.25, size=10)\n",
    "\t# Mean and variance of the values in the sample variable\n",
    "    averages.append(describe(sample).mean)\n",
    "    variances.append(describe(sample).variance)\n",
    "  \n",
    "# Calculate the mean of the averages variable\n",
    "print(\"Mean {}\".format(describe(averages).mean))\n",
    "\n",
    "# Calculate the mean of the variances variable\n",
    "print(\"Variance {}\".format(describe(variances).mean))"
   ]
  },
  {
   "cell_type": "code",
   "execution_count": 23,
   "metadata": {},
   "outputs": [
    {
     "name": "stdout",
     "output_type": "stream",
     "text": [
      "Mean 2.4884000000000004\n",
      "Variance 1.8725777777777781\n",
      "(np.float64(2.5), np.float64(1.875))\n"
     ]
    }
   ],
   "source": [
    "from scipy.stats import binom, describe\n",
    "import numpy as np\n",
    "\n",
    "averages = []\n",
    "variances = []\n",
    "\n",
    "for i in range(1500):\n",
    "    # 10 draws of 10 coin flips with 25% probability of heads\n",
    "    sample = binom.rvs(n=10, p=0.25, size=10)\n",
    "    # Mean and variance of the values in the sample variable\n",
    "    averages.append(describe(sample).mean)\n",
    "    variances.append(describe(sample).variance)\n",
    "  \n",
    "# Calculate the mean of the averages variable\n",
    "print(\"Mean {}\".format(describe(averages).mean))\n",
    "\n",
    "# Calculate the mean of the variances variable\n",
    "print(\"Variance {}\".format(describe(variances).mean))\n",
    "\n",
    "# Calculate the theoretical mean and variance\n",
    "print(binom.stats(n=10, p=0.25))\n"
   ]
  },
  {
   "cell_type": "markdown",
   "metadata": {},
   "source": [
    "# Calculating probabilities of two events"
   ]
  },
  {
   "cell_type": "markdown",
   "metadata": {},
   "source": [
    "## Independence"
   ]
  },
  {
   "cell_type": "markdown",
   "metadata": {},
   "source": [
    "Given that A and B are events in an random experiment, the conditions for \n",
    "independence of A and B are:\n",
    "\n",
    "- The order in which A and B occur does not effect their probabilities."
   ]
  },
  {
   "cell_type": "markdown",
   "metadata": {},
   "source": [
    "For independent events we use the multiplication rule.\n",
    "\n",
    "The probability from A and B is the probability of A times the probability of B.\n",
    "\n",
    "- P( A and B) = P(A)P(B) -> P(0.5)*P(0.5)= 0,25 "
   ]
  },
  {
   "cell_type": "markdown",
   "metadata": {},
   "source": [
    "**Meassuring a sample**"
   ]
  },
  {
   "cell_type": "code",
   "execution_count": 24,
   "metadata": {},
   "outputs": [
    {
     "name": "stdout",
     "output_type": "stream",
     "text": [
      "[3 4 3 1 3 1 4 1 6 2]\n"
     ]
    }
   ],
   "source": [
    "import numpy as np\n",
    "from scipy.stats import binom\n",
    "# Will be removed_ from scipy.stats import binom\n",
    "repeat_values = binom.rvs(n = 2, p=0.5, size = 1000, random_state = 1)\n",
    "print(sample)"
   ]
  },
  {
   "cell_type": "code",
   "execution_count": 25,
   "metadata": {},
   "outputs": [
    {
     "data": {
      "text/plain": [
       "UniqueCountsResult(values=array([0, 1, 2]), counts=array([249, 497, 254]))"
      ]
     },
     "execution_count": 25,
     "metadata": {},
     "output_type": "execute_result"
    }
   ],
   "source": [
    "# Will be removed: from scipy.stats import find_repeats\n",
    "import numpy as np\n",
    "np.unique_counts(repeat_values)"
   ]
  },
  {
   "cell_type": "markdown",
   "metadata": {},
   "source": [
    "For a binomial distribution with 𝑛 = 2 and 𝑝 = 0.5, the theoretical probabilities are:\n",
    "- P(0) = 0.25 -> 249\n",
    "- P(1) = 0.50 -> 497\n",
    "- P(2) = 0.25 -> 254"
   ]
  },
  {
   "cell_type": "code",
   "execution_count": 26,
   "metadata": {},
   "outputs": [
    {
     "data": {
      "text/plain": [
       "UniqueCountsResult(values=array([0, 1, 2]), counts=array([644, 317,  39]))"
      ]
     },
     "execution_count": 26,
     "metadata": {},
     "output_type": "execute_result"
    }
   ],
   "source": [
    "repeat_values_nonfair = binom.rvs(n=2, p=0.2, size=1000, random_state=1)\n",
    "np.unique_counts(repeat_values_nonfair)\n",
    "\n"
   ]
  },
  {
   "cell_type": "markdown",
   "metadata": {},
   "source": [
    "## Measuring a biased sample"
   ]
  },
  {
   "cell_type": "markdown",
   "metadata": {},
   "source": [
    "The relative frequency is the number of favorable trials divided by the total trials."
   ]
  },
  {
   "cell_type": "code",
   "execution_count": 27,
   "metadata": {},
   "outputs": [
    {
     "data": {
      "text/plain": [
       "array([0.249, 0.497, 0.254])"
      ]
     },
     "execution_count": 27,
     "metadata": {},
     "output_type": "execute_result"
    }
   ],
   "source": [
    "# Using biased_sample data generated, calculate the relativ frequency of each outcome.\n",
    "from scipy.stats import relfreq\n",
    "relfreq(repeat_values, numbins=3).frequency"
   ]
  },
  {
   "cell_type": "markdown",
   "metadata": {},
   "source": [
    "numbins = 3 -> stands for the three outcomes of two tails, one heads and one tails, or two heads."
   ]
  },
  {
   "cell_type": "markdown",
   "metadata": {},
   "source": [
    "**New Example**"
   ]
  },
  {
   "cell_type": "markdown",
   "metadata": {},
   "source": [
    "Probability of failure for an engine and a gear box."
   ]
  },
  {
   "cell_type": "code",
   "execution_count": 28,
   "metadata": {},
   "outputs": [],
   "source": [
    "p_engine_fails = 0.01\n",
    "p_gearbox_fails = 0.005\n",
    "p_engine_works = 0.99\n",
    "p_gearbox_works = 0.995 "
   ]
  },
  {
   "cell_type": "code",
   "execution_count": 29,
   "metadata": {},
   "outputs": [
    {
     "name": "stdout",
     "output_type": "stream",
     "text": [
      "5e-05\n"
     ]
    }
   ],
   "source": [
    "p_both_fail = p_engine_fails * p_gearbox_fails\n",
    "print(p_both_fail)"
   ]
  },
  {
   "cell_type": "code",
   "execution_count": 30,
   "metadata": {},
   "outputs": [
    {
     "name": "stdout",
     "output_type": "stream",
     "text": [
      "0.0149\n"
     ]
    }
   ],
   "source": [
    "# Individual probabilities\n",
    "P_Eng_fails = 0.01\n",
    "P_Eng_works = 0.99\n",
    "P_GearB_fails = 0.005\n",
    "P_GearB_works = 0.995\n",
    "\n",
    "# Joint probability calculation\n",
    "P_only_GearB_fails = P_GearB_fails*P_Eng_works\n",
    "P_only_Eng_fails = P_Eng_fails*P_GearB_works\n",
    "\n",
    "# Calculate result\n",
    "P_one_fails = P_only_Eng_fails+P_only_GearB_fails\n",
    "\n",
    "print(P_one_fails)"
   ]
  },
  {
   "cell_type": "code",
   "execution_count": 31,
   "metadata": {},
   "outputs": [
    {
     "name": "stdout",
     "output_type": "stream",
     "text": [
      "0.9851\n"
     ]
    }
   ],
   "source": [
    "# Individual probabilities\n",
    "P_Eng_fails = 0.01\n",
    "P_Eng_works = 0.99\n",
    "P_GearB_fails = 0.005\n",
    "P_GearB_works = 0.995\n",
    "\n",
    "# Joint probability calculation\n",
    "P_EngW_GearBW = P_Eng_works * P_GearB_works\n",
    "P_EngF_GearBF = P_Eng_fails * P_GearB_fails\n",
    "\n",
    "# Calculate result\n",
    "P_fails_or_works = P_EngW_GearBW + P_EngF_GearBF\n",
    "\n",
    "print(P_fails_or_works)"
   ]
  },
  {
   "cell_type": "markdown",
   "metadata": {},
   "source": [
    "**P(A or B) with cards** (Continiues)\n",
    "\n",
    "- without overlap"
   ]
  },
  {
   "cell_type": "markdown",
   "metadata": {},
   "source": [
    "P(Jack or King) = ?"
   ]
  },
  {
   "cell_type": "code",
   "execution_count": 32,
   "metadata": {},
   "outputs": [
    {
     "name": "stdout",
     "output_type": "stream",
     "text": [
      "0.15384615384615385\n"
     ]
    }
   ],
   "source": [
    "set_cards = 52\n",
    "p_kings = 4 / set_cards\n",
    "p_jacks = 4 / set_cards\n",
    "\n",
    "p_eather = p_kings + p_jacks\n",
    "print(p_eather)"
   ]
  },
  {
   "cell_type": "markdown",
   "metadata": {},
   "source": [
    "P(Jack or Heart) = ?"
   ]
  },
  {
   "cell_type": "code",
   "execution_count": 33,
   "metadata": {},
   "outputs": [
    {
     "name": "stdout",
     "output_type": "stream",
     "text": [
      "0.3076923076923077\n"
     ]
    }
   ],
   "source": [
    "set_card = 52\n",
    "p_jack = 4 / set_card\n",
    "p_jack_and_heart = 1 / set_card\n",
    "p_heart = 13 / set_card\n",
    "\n",
    "p_jack_or_heart = (p_jack + p_heart) - p_jack_and_heart\n",
    "\n",
    "print(p_jack_or_heart)"
   ]
  },
  {
   "cell_type": "code",
   "execution_count": 34,
   "metadata": {},
   "outputs": [
    {
     "name": "stdout",
     "output_type": "stream",
     "text": [
      "0.9230769230769231\n"
     ]
    }
   ],
   "source": [
    "# Ace probability\n",
    "P_Ace = 4/52\n",
    "\n",
    "# Not Ace probability\n",
    "P_not_Ace = 1 - P_Ace\n",
    "\n",
    "print(P_not_Ace)"
   ]
  },
  {
   "cell_type": "code",
   "execution_count": 35,
   "metadata": {},
   "outputs": [
    {
     "name": "stdout",
     "output_type": "stream",
     "text": [
      "0.5\n"
     ]
    }
   ],
   "source": [
    "# Figure probabilities\n",
    "P_Hearts = 13/52\n",
    "P_Diamonds = 13/52\n",
    "\n",
    "# Probability of red calculation\n",
    "P_Red = P_Hearts + P_Diamonds\n",
    "\n",
    "print(P_Red)"
   ]
  },
  {
   "cell_type": "code",
   "execution_count": 36,
   "metadata": {},
   "outputs": [
    {
     "name": "stdout",
     "output_type": "stream",
     "text": [
      "0.3076923076923077\n"
     ]
    }
   ],
   "source": [
    "# Figure probabilities\n",
    "P_Jack = 4/52\n",
    "P_Spade = 13/52\n",
    "\n",
    "# Joint probability\n",
    "P_Jack_n_Spade = 1/52\n",
    "\n",
    "# Probability of Jack or spade\n",
    "P_Jack_or_Spade = P_Jack + P_Spade - P_Jack_n_Spade\n",
    "\n",
    "print(P_Jack_or_Spade)"
   ]
  },
  {
   "cell_type": "code",
   "execution_count": 37,
   "metadata": {},
   "outputs": [
    {
     "name": "stdout",
     "output_type": "stream",
     "text": [
      "0.15384615384615385\n"
     ]
    }
   ],
   "source": [
    "# Figure probabilities\n",
    "P_King = 4/52\n",
    "P_Queen = 4/52\n",
    "\n",
    "# Joint probability\n",
    "P_King_n_Queen = 0\n",
    "\n",
    "# Probability of King or Queen\n",
    "P_King_or_Queen = P_King + P_Queen - P_King_n_Queen\n",
    "\n",
    "print(P_King_or_Queen)"
   ]
  },
  {
   "cell_type": "markdown",
   "metadata": {},
   "source": [
    "**What the Code doese:**"
   ]
  },
  {
   "cell_type": "code",
   "execution_count": 38,
   "metadata": {},
   "outputs": [
    {
     "name": "stdout",
     "output_type": "stream",
     "text": [
      "[0.25 0.5  0.25]\n"
     ]
    }
   ],
   "source": [
    "# Probability of getting 0, 1, or 2 from the distribution\n",
    "probabilities = binom.pmf([0,1,2], n=2, p=0.5)\n",
    "print(probabilities)"
   ]
  },
  {
   "cell_type": "markdown",
   "metadata": {},
   "source": [
    "The function uses the formula:\n",
    "\n",
    "$$\n",
    "P(X = k) = \\binom{n}{k} \\, p^k \\, (1-p)^{n-k}\n",
    "$$\n",
    "\n",
    "With \\( n = 2 \\) and \\( p = 0.5 \\), it computes:\n",
    "\n",
    "- The chance for 0 successes,\n",
    "- The chance for 1 success,\n",
    "- And the chance for 2 successes.\n",
    "\n",
    "**The Outcome**\n",
    "\n",
    "The printed result, `[0.25 0.5 0.25]`, tells you:\n",
    "\n",
    "- There’s a 25% probability of 0 successes,\n",
    "- A 50% probability of 1 success,\n",
    "- And a 25% probability of 2 successes.\n",
    "\n",
    "This themed explanation shows how the \"Probability Parade\" performs its act—revealing the inherent chances in our simple binomial experiment.\n",
    "\n"
   ]
  },
  {
   "cell_type": "markdown",
   "metadata": {},
   "source": [
    "# Conditional probabilities"
   ]
  },
  {
   "cell_type": "markdown",
   "metadata": {},
   "source": [
    "Work with dependent events and defibe conditional probability."
   ]
  },
  {
   "cell_type": "markdown",
   "metadata": {},
   "source": [
    "**Dependent events (cont.)**"
   ]
  },
  {
   "cell_type": "markdown",
   "metadata": {},
   "source": [
    "The probability of P(A) depends on P(B) and the order effects the outcome, \n",
    "so the events are dependent."
   ]
  },
  {
   "cell_type": "markdown",
   "metadata": {},
   "source": [
    "Recap independent probabilities\n",
    "$$\n",
    "\n",
    "P(A \\text{ and } B) = P(A) \\cdot P(B)\n",
    "$$\n",
    "\n",
    "When we work with dependent events the calculation changes, and we have to introduce conditional probability. With dependent events, P(A) and P(B) is the  P(A) times P(B), **given** that **A** occured.\n",
    "\n",
    "$$\n",
    "P(A \\text{ and } B) = P(A) \\cdot P(B \\mid A)\n",
    "$$\n",
    "\n",
    "Rearranging the formula, we get that P(B) give P(A) occured is the joint probability of A and B divided by the probability of A. \n",
    "- This is to calculate probabilities in a restricted sample space.\n",
    "$$\n",
    "P(B \\mid A) = \\frac{P(A \\text{ and } B)}{P(A)}\n",
    "$$\n"
   ]
  },
  {
   "cell_type": "markdown",
   "metadata": {},
   "source": [
    "P(Red|Jack) = ?"
   ]
  },
  {
   "cell_type": "code",
   "execution_count": 39,
   "metadata": {},
   "outputs": [
    {
     "name": "stdout",
     "output_type": "stream",
     "text": [
      "0.5\n"
     ]
    }
   ],
   "source": [
    "card_set = 52\n",
    "p_jack = 4 / card_set\n",
    "P_jack_n_red = 2 / card_set\n",
    "\n",
    "p_red_given_jack = P_jack_n_red / P_Jack \n",
    "print(p_red_given_jack)"
   ]
  },
  {
   "cell_type": "markdown",
   "metadata": {},
   "source": [
    "P(Jack|Red) = ?"
   ]
  },
  {
   "cell_type": "code",
   "execution_count": 40,
   "metadata": {},
   "outputs": [
    {
     "name": "stdout",
     "output_type": "stream",
     "text": [
      "0.07692307692307693\n"
     ]
    }
   ],
   "source": [
    "card_set = 52\n",
    "p_red = 26 / card_set\n",
    "p_jack_and_red = 2 / card_set\n",
    "\n",
    "p_jack_given_red = p_jack_and_red / p_red\n",
    "print(p_jack_given_red)"
   ]
  },
  {
   "cell_type": "markdown",
   "metadata": {},
   "source": [
    "#### Contingency table - Test"
   ]
  },
  {
   "cell_type": "code",
   "execution_count": 41,
   "metadata": {},
   "outputs": [
    {
     "name": "stdout",
     "output_type": "stream",
     "text": [
      "0.07692307692307693\n"
     ]
    }
   ],
   "source": [
    "# Individual probabilities\n",
    "P_Red = 26 / 52\n",
    "P_Red_n_Ace = 2 / 52\n",
    "\n",
    "# Conditional probability calculation\n",
    "P_Ace_given_Red = P_Red_n_Ace / P_Red\n",
    "\n",
    "print(P_Ace_given_Red)"
   ]
  },
  {
   "cell_type": "code",
   "execution_count": 42,
   "metadata": {},
   "outputs": [
    {
     "name": "stdout",
     "output_type": "stream",
     "text": [
      "0.5\n"
     ]
    }
   ],
   "source": [
    "# Individual probabilities\n",
    "P_Ace = 4 / 52\n",
    "P_Black = 26 / 52\n",
    "P_Ace_n_Black = P_Ace * P_Black\n",
    "\n",
    "\n",
    "# Conditional probability calculation\n",
    "\n",
    "P_Black_given_Ace = (P_Ace_n_Black) / P_Ace \n",
    "\n",
    "print(P_Black_given_Ace)"
   ]
  },
  {
   "cell_type": "code",
   "execution_count": 43,
   "metadata": {},
   "outputs": [
    {
     "name": "stdout",
     "output_type": "stream",
     "text": [
      "0.9230769230769231\n"
     ]
    }
   ],
   "source": [
    "# Individual probabilities\n",
    "P_Black = 26 / 52\n",
    "P_Non_Ace = 48 / 52\n",
    "P_Black_n_Non_ace = P_Black * P_Non_Ace\n",
    "\n",
    "# Conditional probability calculation\n",
    "P_Non_ace_given_Black = P_Black_n_Non_ace / P_Black\n",
    "\n",
    "print(P_Non_ace_given_Black)"
   ]
  },
  {
   "cell_type": "code",
   "execution_count": 44,
   "metadata": {},
   "outputs": [
    {
     "name": "stdout",
     "output_type": "stream",
     "text": [
      "0.5\n"
     ]
    }
   ],
   "source": [
    "# Individual probabilities\n",
    "P_Non_ace = 48 / 52\n",
    "P_Red = 26 / 52\n",
    "P_Non_ace_n_Red = P_Non_ace * P_Red\n",
    "\n",
    "# Conditional probability calculation\n",
    "P_Red_given_Non_ace = P_Non_ace_n_Red / P_Non_ace\n",
    "\n",
    "print(P_Red_given_Non_ace)"
   ]
  },
  {
   "cell_type": "markdown",
   "metadata": {},
   "source": [
    "#### More Cards - Test"
   ]
  },
  {
   "cell_type": "code",
   "execution_count": 45,
   "metadata": {},
   "outputs": [
    {
     "name": "stdout",
     "output_type": "stream",
     "text": [
      "0.004524886877828055\n"
     ]
    }
   ],
   "source": [
    "# Needed probabilities\n",
    "P_first_Jack = 4/52\n",
    "P_Jack_given_Jack = 3/51\n",
    "\n",
    "# Joint probability calculation\n",
    "P_two_Jacks = P_first_Jack * P_Jack_given_Jack\n",
    "\n",
    "print(P_two_Jacks)"
   ]
  },
  {
   "cell_type": "code",
   "execution_count": 46,
   "metadata": {},
   "outputs": [
    {
     "name": "stdout",
     "output_type": "stream",
     "text": [
      "0.07692307692307693\n"
     ]
    }
   ],
   "source": [
    "# Needed probabilities\n",
    "P_Spade = 13/52\n",
    "P_Spade_n_Ace = 1/52\n",
    "\n",
    "# Conditional probability calculation\n",
    "P_Ace_given_Spade = P_Spade_n_Ace / P_Spade\n",
    "\n",
    "print(P_Ace_given_Spade)"
   ]
  },
  {
   "cell_type": "code",
   "execution_count": 47,
   "metadata": {},
   "outputs": [
    {
     "name": "stdout",
     "output_type": "stream",
     "text": [
      "0.07692307692307693\n",
      "0.3333333333333333\n"
     ]
    }
   ],
   "source": [
    "# Needed probabilities\n",
    "P_Face_card = 12/52\n",
    "P_Face_card_n_Queen = 4 / 52 \n",
    "print(P_Face_card_n_Queen)\n",
    "\n",
    "# Conditional probability calculation\n",
    "P_Queen_given_Face_card = P_Face_card_n_Queen / P_Face_card\n",
    "\n",
    "print(P_Queen_given_Face_card)"
   ]
  },
  {
   "cell_type": "markdown",
   "metadata": {},
   "source": [
    "# Total probability law"
   ]
  },
  {
   "cell_type": "markdown",
   "metadata": {},
   "source": [
    "The Law of Total Probability is a fundamental concept in probability theory that helps you compute the probability of an event by breaking it down into several different scenarios. It’s particularly useful when an event can occur in multiple, mutually exclusive ways."
   ]
  },
  {
   "cell_type": "markdown",
   "metadata": {},
   "source": [
    "\n",
    "## What Is the Law of Total Probability?\n",
    "\n",
    "Imagine you want to calculate the probability of an event $A$. Often, $A$ might depend on several different scenarios or conditions. Suppose these scenarios can be represented by events $B_1, B_2, \\dots, B_n$ that are:\n",
    "\n",
    "- **Mutually Exclusive:** No two $B_i$ occur at the same time.\n",
    "- **Exhaustive:** One of the $B_i$ must occur (they cover the entire sample space).\n",
    "\n",
    "The Law of Total Probability tells us that the probability of $A$ can be computed as:\n",
    "\n",
    "$$\n",
    "P(A) = \\sum_{i=1}^{n} P(A \\mid B_i) \\, P(B_i)\n",
    "$$\n",
    "\n",
    "Here:\n",
    "- $P(A \\mid B_i)$ is the probability of $A$ happening given that scenario $B_i$ occurs.\n",
    "- $P(B_i)$ is the probability of the scenario $B_i$.\n",
    "\n",
    "## Breaking It Down Intuitively\n",
    "\n",
    "Think of $B_1, B_2, \\dots, B_n$ as different \"paths\" that could lead to the event $A$. To find the overall probability of $A$:\n",
    "\n",
    "1. **Step 1:** Consider each scenario $B_i$ individually.\n",
    "2. **Step 2:** Calculate the probability that $A$ happens if that particular scenario occurs, which is $P(A \\mid B_i)$.\n",
    "3. **Step 3:** Weight this probability by the chance that the scenario $B_i$ actually happens, $P(B_i)$.\n",
    "4. **Step 4:** Sum up these contributions for all possible scenarios.\n",
    "\n",
    "This way, you’re effectively covering every route that could lead to $A$."
   ]
  },
  {
   "cell_type": "markdown",
   "metadata": {},
   "source": [
    "## Deck of cards exmple (Cont.)"
   ]
  },
  {
   "cell_type": "code",
   "execution_count": 48,
   "metadata": {},
   "outputs": [
    {
     "name": "stdout",
     "output_type": "stream",
     "text": [
      "0.23076923076923078\n"
     ]
    }
   ],
   "source": [
    "# P(face card) = ?\n",
    "p_club_and_face_card = 3 / 52\n",
    "p_spade_and_face_card = 3 / 52\n",
    "p_heart_and_face_card = 3 / 52\n",
    "p_diamond_and_face_card = 3 / 52\n",
    "\n",
    "p_face_card = p_club_and_face_card +p_spade_and_face_card + p_heart_and_face_card + p_diamond_and_face_card\n",
    "print(p_face_card)\n",
    "\n",
    "# We´ve just added each non overlapping part. "
   ]
  },
  {
   "cell_type": "markdown",
   "metadata": {},
   "source": [
    "## Damaged parts example in python"
   ]
  },
  {
   "cell_type": "markdown",
   "metadata": {},
   "source": [
    "P(damaged) = P(Vendor1 and damaged) + P(Vendor2 and damaged) + (P(Vendor3 and damaged))  "
   ]
  },
  {
   "cell_type": "markdown",
   "metadata": {},
   "source": [
    "Recap:\n",
    "\n",
    "+ The total probability law states that the probability of an event in a non overlapping partitioned space is the sum of the probabilities of such an event in each partition."
   ]
  },
  {
   "cell_type": "markdown",
   "metadata": {},
   "source": [
    "Using the formula for conditional probability, we can get the probability of a part being damaged by calculating the sum of the products of the probability of a part from V1, V2, V3 and the probability of a part being damaged given that the part is from V1, V2, V3. "
   ]
  },
  {
   "cell_type": "markdown",
   "metadata": {},
   "source": [
    "P(D) = P(V1)P(D|V1) + P(V2)P(D|V2) + P(V3)P(D|V3)"
   ]
  },
  {
   "cell_type": "markdown",
   "metadata": {},
   "source": [
    "A certain electronic part is manufactured by three different vendors, V1, V2, V3.\n",
    "\n",
    "Half of the parts are produced bei V1, and V2, and V3 eache produce 25%. The probability of part beeing damaged givven that it was produced bei V1 is 0.01, while it´s 0.02 for V2, and 0.03 for V3."
   ]
  },
  {
   "cell_type": "markdown",
   "metadata": {},
   "source": [
    "**What is the probability of a part being damaged?**"
   ]
  },
  {
   "cell_type": "code",
   "execution_count": 49,
   "metadata": {},
   "outputs": [
    {
     "name": "stdout",
     "output_type": "stream",
     "text": [
      "0.0175\n"
     ]
    }
   ],
   "source": [
    "p_v1 = 0.5\n",
    "p_v2 = 0.25\n",
    "p_v3 = 0.25\n",
    "\n",
    "p_v1d1 = 0.01 * p_v1\n",
    "p_v2d2 = 0.02 * p_v2\n",
    "p_v3d3 = 0.03 * p_v3\n",
    "\n",
    "p_v_d = p_v1d1 + p_v2d2 + p_v3d3\n",
    "\n",
    "print(p_v_d) # Probability of getting part beeing damaged\n"
   ]
  },
  {
   "cell_type": "markdown",
   "metadata": {},
   "source": [
    "$$\n",
    "P(A) = \\sum_{i=1}^{n} P(A \\mid B_i) \\, P(B_i)\n",
    "$$"
   ]
  },
  {
   "cell_type": "markdown",
   "metadata": {},
   "source": [
    "A is the event that the part is damaged. \n",
    "\n",
    "\\( B_i \\) represents the different versions (\\( v_1, v_2, v_3 \\)) of the part.  \n",
    "\\( P(B_i) \\) is the probability of selecting version \\( v_i \\).  \n",
    "\\( P(A \\mid B_i) \\) is the probability that the part is damaged given that version \\( v_i \\) was chosen.  \n",
    "\n",
    "**Now, aligning this with your values:**\n",
    "\n",
    "$$\n",
    "P(B_1) = P{v1} = 0.5, \\quad P(A \\mid B_1) = 0.01\n",
    "$$\n",
    "\n",
    "$$\n",
    "P(B_2) = P{v2} = 0.25, \\quad P(A \\mid B_2) = 0.02\n",
    "$$\n",
    "\n",
    "$$\n",
    "P(B_3) = P{v3} = 0.25, \\quad P(A \\mid B_3) = 0.03\n",
    "$$\n",
    "\n",
    "**Thus, applying the formula:**\n",
    "\n",
    "$$\n",
    "P(A) = P(A \\mid B_1) P(B_1) + P(A \\mid B_2) P(B_2) + P(A \\mid B_3) P(B_3)\n",
    "$$\n",
    "\n",
    "$$\n",
    "P(A) = (0.01 \\times 0.5) + (0.02 \\times 0.25) + (0.03 \\times 0.25)\n",
    "$$\n",
    "\n",
    "$$\n",
    "P(A) = 0.005 + 0.005 + 0.0075 = 0.0175\n",
    "$$\n"
   ]
  },
  {
   "cell_type": "markdown",
   "metadata": {},
   "source": [
    "### Why Is It Useful?\n",
    "\n",
    "- **Simplifies Complex Problems:** When an event can occur in various ways, breaking it down makes calculations easier.\n",
    "- **Foundation for Bayes’ Theorem:** The Law of Total Probability is essential when you want to reverse conditional probabilities, a key step in applying Bayes’ Theorem.\n",
    "- **Real-World Applications:** It’s used in risk assessment, decision-making, and many fields such as finance, engineering, and medicine.\n",
    "\n",
    "### Bringing It All Together\n",
    "\n",
    "The Law of Total Probability allows you to systematically approach problems where an event's occurrence depends on various independent scenarios. By breaking the problem into smaller, more manageable parts and then summing the results, you can tackle complex probability questions with clarity.\n",
    "\n",
    "Whether you’re analyzing manufacturing defects, medical diagnoses, or any situation with multiple influencing factors, this law is a powerful tool to add to your probability toolkit."
   ]
  },
  {
   "cell_type": "markdown",
   "metadata": {},
   "source": [
    "## Practicing"
   ]
  },
  {
   "cell_type": "markdown",
   "metadata": {},
   "source": [
    "**Formula 1 engines**\n",
    "Suppose that two manufacturers, A and B, supply the engines for Formula 1 racing cars, with the following characteristics:\n",
    "\n",
    "99% of the engines from factory A last more than 5,000 km.\n",
    "Factory B manufactures engines that last more than 5,000 km with 95% probability.\n",
    "70% of the engines are from manufacturer A, and the rest are produced by manufacturer B.\n",
    "What is the chance that an engine will last more than 5,000 km?"
   ]
  },
  {
   "cell_type": "code",
   "execution_count": 50,
   "metadata": {},
   "outputs": [
    {
     "name": "stdout",
     "output_type": "stream",
     "text": [
      "0.978\n"
     ]
    }
   ],
   "source": [
    "# Needed probabilities\n",
    "P_A = 0.7\n",
    "P_last5000_g_A = 0.99\n",
    "P_B = 0.3\n",
    "P_last5000_g_B = 0.95\n",
    "\n",
    "# Total probability calculation\n",
    "P_last_5000 = (P_last5000_g_A * P_A) + (P_last5000_g_B * P_B)\n",
    "\n",
    "print(P_last_5000)"
   ]
  },
  {
   "cell_type": "markdown",
   "metadata": {},
   "source": [
    "**What is the probability that the voter lives in state X and supports John Doe?**"
   ]
  },
  {
   "cell_type": "code",
   "execution_count": 51,
   "metadata": {},
   "outputs": [
    {
     "name": "stdout",
     "output_type": "stream",
     "text": [
      "0.22790000000000002\n"
     ]
    }
   ],
   "source": [
    "# Individual probabilities\n",
    "P_X = 0.43\n",
    "P_Y = 0.25\n",
    "P_Z = 0.32\n",
    "\n",
    "P_X_DJ = 0.53\n",
    "P_Y_DJ = 0.67\n",
    "P_Z_DJ = 0.32\n",
    "\n",
    "\n",
    "# Conditional probabilities\n",
    "P_Support_g_X = (P_X * P_X_DJ) / P_X\n",
    "P_Support_g_Y = (P_Y * P_Y_DJ) / P_Y\n",
    "P_Support_g_Z = (P_Z * P_Z_DJ) / P_Z\n",
    "\n",
    "# Total probability calculation\n",
    "P_X_n_Support = (P_X * P_Support_g_X) # already divided by /P_X\n",
    "print(P_X_n_Support)"
   ]
  },
  {
   "cell_type": "markdown",
   "metadata": {},
   "source": [
    "**What is the probability that the voter lives in state Z and does not support John Doe?**"
   ]
  },
  {
   "cell_type": "code",
   "execution_count": 52,
   "metadata": {},
   "outputs": [
    {
     "name": "stdout",
     "output_type": "stream",
     "text": [
      "0.2176\n"
     ]
    }
   ],
   "source": [
    "# Individual probabilities\n",
    "P_Z = 0.32\n",
    "\n",
    "# Conditional probabilities\n",
    "P_Support_g_Z = 0.32\n",
    "P_NoSupport_g_Z = 1 - P_Support_g_Z\n",
    "\n",
    "# Total probability calculation\n",
    "P_Z_n_NoSupport = P_NoSupport_g_Z * P_Z\n",
    "print(P_Z_n_NoSupport)"
   ]
  },
  {
   "cell_type": "markdown",
   "metadata": {},
   "source": [
    "***What is the total percentage of voters that support John Doe?***"
   ]
  },
  {
   "cell_type": "code",
   "execution_count": 53,
   "metadata": {},
   "outputs": [
    {
     "name": "stdout",
     "output_type": "stream",
     "text": [
      "0.4978\n"
     ]
    }
   ],
   "source": [
    "# Individual probabilities\n",
    "P_X = 0.43\n",
    "P_Y = 0.25\n",
    "P_Z = 0.32\n",
    "\n",
    "# Conditional probabilities\n",
    "P_Support_g_X = 0.53\n",
    "P_Support_g_Y = 0.67\n",
    "P_Support_g_Z = 0.32\n",
    "\n",
    "# Total probability calculation\n",
    "P_Support = P_X * P_Support_g_X + P_Y * P_Support_g_Y + P_Z * P_Support_g_Z\n",
    "print(P_Support)"
   ]
  },
  {
   "cell_type": "markdown",
   "metadata": {},
   "source": [
    "# Bayes´rule"
   ]
  },
  {
   "cell_type": "markdown",
   "metadata": {},
   "source": [
    "Bayes´rule allows to calculate **conditional** probabilities."
   ]
  },
  {
   "cell_type": "markdown",
   "metadata": {},
   "source": [
    "Recap\n",
    "\n",
    "**Independent probability**\n",
    "\n",
    "P(A and B) for independent events\n",
    "\n",
    "- P(A und B) = P(A)⋅P(B)\n",
    "\n",
    "**Dependent probability**\n",
    "\n",
    "P(A and B) for dependent events (Cont.)\n",
    "\n",
    "- P(A and B) = P(A)⋅P(B∣A)\n",
    "- P(B and A) = P(B)⋅P(A∣B)\n",
    "\n",
    "<span style=\"color: lightblue;\">The probability of **(A and B)** is the same as the probability of **(B and A)**,<br> so their right hand sides **must be equal** to each other.</span>\n",
    "\n",
    "<span style=\"color: yellow;\">Arranging them into the same line, we get Bayes´ relation</span>\n",
    "\n",
    "+ P(A)P(B|A) = P(A and B) = P(B and A) = P(B)P(A|B)\n",
    "\n",
    "+ P(A)P(B|A) = P(B)P(A|B)\n",
    "\n",
    "Solving P(A|B) we arrive at Bayes´formula, which is:\n",
    "\n",
    "$\n",
    "P(A|B) = \\frac{P(A) P(B|A)}{P(B)}\n",
    "$\n",
    "\n",
    "\n",
    "\n",
    "**Total probability (Cont.)**\n",
    "\n",
    "$\n",
    "P(D) = P(V_1) P(D|V_1) + P(V_2) P(D|V_2) + P(V_3) P(D|V_3)\n",
    "$\n"
   ]
  },
  {
   "cell_type": "markdown",
   "metadata": {},
   "source": [
    "### Bayes´formula (Cont.)"
   ]
  },
  {
   "cell_type": "markdown",
   "metadata": {},
   "source": [
    "$$\n",
    "P(A \\mid B) = \\frac{P(A)\\,P(B \\mid A)}{P(B)}\n",
    "$$\n",
    "\n",
    "The probability of a part being from vendor 1, given that it is damaged, is the probability of it being a part from vendor 1 times the probability of it being damaged given that it is from vendor i, all divided by the probability of the part being damaged.\n",
    "\n",
    "\n",
    "$$\n",
    "P(V_1 \\mid D) = \\frac{P(V_1)\\,P(D \\mid V_1)}{P(D)}\n",
    "$$\n"
   ]
  },
  {
   "cell_type": "markdown",
   "metadata": {},
   "source": [
    "$$\n",
    "P(V_1 | D) = \\frac{P(V_1) P(D | V_1)}\n",
    "{P(V_1) P(D | V_1) + P(V_2) P(D | V_2) + P(V_3) P(D | V_3)}\n",
    "$$\n"
   ]
  },
  {
   "cell_type": "markdown",
   "metadata": {},
   "source": [
    "**Parts example**"
   ]
  },
  {
   "cell_type": "markdown",
   "metadata": {},
   "source": [
    "A certain electronic part is manufactured by three different vendors, V1, V2 and V3.\n",
    "\n",
    "Half of the parts are produced by V1. V2 and V3 each produce 25%. The probability of a part beeing damaged given that it was produced by V1 is 1%, while 2% for V2 an 3% for V3.\n",
    "\n",
    "- Given that the part is damaged, what is the probability that it was manufactured by V1?"
   ]
  },
  {
   "cell_type": "code",
   "execution_count": 54,
   "metadata": {},
   "outputs": [
    {
     "data": {
      "image/png": "[encoded data removed]",
      "text/plain": [
       "<IPython.core.display.Image object>"
      ]
     },
     "metadata": {},
     "output_type": "display_data"
    }
   ],
   "source": [
    "from IPython.display import display, Image\n",
    "display(Image(\"D:/Repositories/Git_GitHub/data-science-track/data-science-track/01-mathematical-foundations/resources/images/bayes__rule_parts_example.png\"))"
   ]
  },
  {
   "cell_type": "code",
   "execution_count": 65,
   "metadata": {},
   "outputs": [
    {
     "name": "stdout",
     "output_type": "stream",
     "text": [
      "0.005\n",
      "0.005\n",
      "0.0075\n",
      "0.0175\n",
      "The probability that it was manufactured by V1: 0.2857142857\n"
     ]
    }
   ],
   "source": [
    "from fractions import Fraction\n",
    "\n",
    "V1 = 0.5\n",
    "V2 = 0.25\n",
    "V3 = 0.25\n",
    "\n",
    "P_D_g_V1 = 0.01\n",
    "P_D_g_V2 = 0.02\n",
    "P_D_g_V3 = 0.03    \n",
    "\n",
    "P_Damaged = (V1 * P_D_g_V1) + (V2 * P_D_g_V2) + (V3 * P_D_g_V3)\n",
    "print(V1 * P_D_g_V1)\n",
    "print(V2 * P_D_g_V2)\n",
    "print(V3 * P_D_g_V3)\n",
    "print(P_Damaged)\n",
    "\n",
    "P_V1_g_D = (V1 * P_D_g_V1) / P_Damaged\n",
    "\n",
    "print(f\"The probability that it was manufactured by V1: {float(P_V1_g_D):.10f}\")"
   ]
  },
  {
   "cell_type": "markdown",
   "metadata": {},
   "source": [
    "# Normal Distribution"
   ]
  },
  {
   "cell_type": "code",
   "execution_count": 1,
   "metadata": {},
   "outputs": [
    {
     "data": {
      "image/png": "[encoded data removed]",
      "text/plain": [
       "<Figure size 500x500 with 1 Axes>"
      ]
     },
     "metadata": {},
     "output_type": "display_data"
    }
   ],
   "source": [
    "from scipy.stats import norm\n",
    "import matplotlib.pyplot as plt\n",
    "import seaborn as sns\n",
    "\n",
    "sample = norm.rvs(loc=0, scale=1, size=10000, random_state=13)\n",
    "sns.displot(sample)\n",
    "plt.show()"
   ]
  },
  {
   "cell_type": "code",
   "execution_count": 16,
   "metadata": {},
   "outputs": [
    {
     "name": "stdout",
     "output_type": "stream",
     "text": [
      "Wahrscheinlichkeit für genau 6 Erfolge: 0.15001485605869083\n",
      "Wahrscheinlichkeit das bis zu 6 Erfolge: 0.7660139840148317\n"
     ]
    }
   ],
   "source": [
    "from scipy.stats import binom\n",
    "from scipy.stats import norm\n",
    "\n",
    "\n",
    "# Parameter\n",
    "n = 100      # Anzahl der Versuche\n",
    "p = 0.05     # Erfolgswahrscheinlichkeit\n",
    "k = 6        # genaue Anzahl der Erfolge\n",
    "\n",
    "# Berechne die Wahrscheinlichkeit für genau k Erfolge\n",
    "sample_2 = binom.pmf(k,n,p)\n",
    "sample_3 = binom.cdf(k,n,p)\n",
    "\n",
    "print(\"Wahrscheinlichkeit für genau 6 Erfolge:\", sample_2)\n",
    "print(\"Wahrscheinlichkeit das bis zu 6 Erfolge:\", sample_3)\n"
   ]
  },
  {
   "cell_type": "code",
   "execution_count": null,
   "metadata": {},
   "outputs": [
    {
     "name": "stdout",
     "output_type": "stream",
     "text": [
      "0.15001485605869036\n",
      "0.15001485605869036\n",
      "0.15001485605869083\n"
     ]
    }
   ],
   "source": [
    "# Binomial Distribution (discrete)\n",
    "import math\n",
    "from scipy.stats import binom\n",
    "from math import factorial\n",
    "\n",
    "P = 0.05\n",
    "k = 6\n",
    "n = 100\n",
    "\n",
    "binom_coeff = factorial(n) / (factorial(k) * factorial(n-k))\n",
    "\n",
    "P_von_X_ist_k = binom_coeff * (P**k)*(1-P)**(n-k)\n",
    "\n",
    "print(P_von_X_ist_k)\n",
    "\n",
    "# or\n",
    "\n",
    "P_k = math.comb(n,k) * (P**k)*(1-P)**(n-k)\n",
    "print(P_k)\n",
    "\n",
    "# or\n",
    "\n",
    "Probability_k = binom.pmf(k,n,P)\n",
    "print(Probability_k)\n",
    "\n",
    "\n"
   ]
  },
  {
   "cell_type": "code",
   "execution_count": null,
   "metadata": {},
   "outputs": [
    {
     "name": "stdout",
     "output_type": "stream",
     "text": [
      "0.7660139840148317\n"
     ]
    }
   ],
   "source": [
    "# The cumulative distribution function (CDF) of a random variable (discrete)\n",
    "\n",
    "P = 0.05\n",
    "k = (1,2,3,4,5,6)\n",
    "n = 100\n",
    "\n",
    "P_k_cdf = []\n",
    "\n",
    "\n",
    "for number in k:\n",
    "    P_k_cdf.append(binom.cdf(number,n,P))\n",
    "print(P_k_cdf[-1])"
   ]
  },
  {
   "cell_type": "code",
   "execution_count": null,
   "metadata": {},
   "outputs": [
    {
     "name": "stdout",
     "output_type": "stream",
     "text": [
      "0.7660139840148317\n"
     ]
    }
   ],
   "source": [
    "# or\n",
    "P_k_cdf_direct = binom.cdf(6,n,P)\n",
    "print(P_k_cdf_direct)"
   ]
  },
  {
   "cell_type": "code",
   "execution_count": 101,
   "metadata": {},
   "outputs": [
    {
     "data": {
      "image/png": "[encoded data removed]",
      "text/plain": [
       "<Figure size 800x400 with 1 Axes>"
      ]
     },
     "metadata": {},
     "output_type": "display_data"
    }
   ],
   "source": [
    "import numpy as np\n",
    "import matplotlib.pyplot as plt\n",
    "from scipy.stats import norm\n",
    "\n",
    "# Parameter der Normalverteilung\n",
    "mu = 0.0      # Mittelwert\n",
    "sigma = 1.0   # Standardabweichung\n",
    "\n",
    "# Obergrenze, bis zu der wir integrieren (hier x=1)\n",
    "x_value = 1\n",
    "\n",
    "# Bereich für den Plot (von -4 bis 4 Standardabweichungen)\n",
    "x = np.linspace(mu - 4*sigma, mu + 4*sigma, 1000)\n",
    "pdf = norm.pdf(x, loc=mu, scale=sigma)  # Wahrscheinlichkeitsdichte\n",
    "\n",
    "# Plotten der Dichtefunktion\n",
    "plt.figure(figsize=(8, 4))\n",
    "plt.plot(x, pdf, 'b', label='Normalverteilung (PDF)')\n",
    "\n",
    "# Fläche unter der Kurve von -∞ bis x_value füllen\n",
    "# Praktisch von -4*sigma bis x_value\n",
    "plt.fill_between(x, pdf, where=(x <= x_value), color='blue', alpha=0.3,\n",
    "                 label=r'$\\int_{-\\infty}^{x} f(t)\\, dt$')\n",
    "\n",
    "# Vertikale Linie bei x_value zur Verdeutlichung\n",
    "plt.axvline(x_value, color='r', linestyle='--', label=f'x = {x_value}')\n",
    "\n",
    "# Anzeige des CDF-Werts\n",
    "cdf_value = norm.cdf(x_value, loc=mu, scale=sigma)\n",
    "plt.text(x_value+0.1, 0.2, f'CDF = {cdf_value:.3f}', color='red')\n",
    "\n",
    "plt.title('Normalverteilung und kumulative Fläche bis x')\n",
    "plt.xlabel('x')\n",
    "plt.ylabel('Dichte f(x)')\n",
    "plt.legend()\n",
    "plt.show()\n"
   ]
  },
  {
   "cell_type": "code",
   "execution_count": null,
   "metadata": {},
   "outputs": [
    {
     "name": "stdout",
     "output_type": "stream",
     "text": [
      "0.17045190796406512\n"
     ]
    }
   ],
   "source": [
    "# CDF für X <= 1.0 in einer Normalverteilung mit mu=0, sigma=1\n",
    "example = norm.cdf(20,22,2.1)\n",
    "print(example)\n",
    "\n"
   ]
  }
 ],
 "metadata": {
  "kernelspec": {
   "display_name": "venv",
   "language": "python",
   "name": "python3"
  },
  "language_info": {
   "codemirror_mode": {
    "name": "ipython",
    "version": 3
   },
   "file_extension": ".py",
   "mimetype": "text/x-python",
   "name": "python",
   "nbconvert_exporter": "python",
   "pygments_lexer": "ipython3",
   "version": "3.12.6"
  }
 },
 "nbformat": 4,
 "nbformat_minor": 2
}
