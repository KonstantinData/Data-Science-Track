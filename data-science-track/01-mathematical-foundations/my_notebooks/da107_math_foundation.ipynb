{
 "cells": [
  {
   "cell_type": "markdown",
   "metadata": {},
   "source": [
    "# Permutations\n",
    "**(Arrangements)**\n"
   ]
  },
  {
   "cell_type": "markdown",
   "metadata": {},
   "source": [
    "$\n",
    "P(n, r) = \\frac{n!}{(n - r)!}\n",
    "$\n"
   ]
  },
  {
   "cell_type": "code",
   "execution_count": 34,
   "metadata": {},
   "outputs": [
    {
     "name": "stdout",
     "output_type": "stream",
     "text": [
      "P(10, 4) = 5040\n"
     ]
    }
   ],
   "source": [
    "import math\n",
    "import itertools\n",
    "\n",
    "# Calculate P(n, r)\n",
    "n = 10\n",
    "r = 4\n",
    "permutations = math.perm(n, r)  # Direct permutation calculation\n",
    "print(f\"P({n}, {r}) =\", permutations)\n",
    "\n"
   ]
  },
  {
   "cell_type": "code",
   "execution_count": 5,
   "metadata": {},
   "outputs": [
    {
     "name": "stdout",
     "output_type": "stream",
     "text": [
      "All permutations:\n",
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n"
     ]
    }
   ],
   "source": [
    "# Generate all permutations of a given list\n",
    "elements = ['K', 'O', 'S', 'T', 'A']\n",
    "all_permutations = list(itertools.permutations(elements))\n",
    "print(\"All permutations:\\n\", all_permutations)"
   ]
  },
  {
   "cell_type": "code",
   "execution_count": 29,
   "metadata": {},
   "outputs": [
    {
     "name": "stdout",
     "output_type": "stream",
     "text": [
      "[('Kosta', 'melanie', 'Sieglinde', 'Hannes'), ('Kosta', 'melanie', 'Hannes', 'Sieglinde'), ('Kosta', 'Sieglinde', 'melanie', 'Hannes'), ('Kosta', 'Sieglinde', 'Hannes', 'melanie'), ('Kosta', 'Hannes', 'melanie', 'Sieglinde'), ('Kosta', 'Hannes', 'Sieglinde', 'melanie'), ('melanie', 'Kosta', 'Sieglinde', 'Hannes'), ('melanie', 'Kosta', 'Hannes', 'Sieglinde'), ('melanie', 'Sieglinde', 'Kosta', 'Hannes'), ('melanie', 'Sieglinde', 'Hannes', 'Kosta'), ('melanie', 'Hannes', 'Kosta', 'Sieglinde'), ('melanie', 'Hannes', 'Sieglinde', 'Kosta'), ('Sieglinde', 'Kosta', 'melanie', 'Hannes'), ('Sieglinde', 'Kosta', 'Hannes', 'melanie'), ('Sieglinde', 'melanie', 'Kosta', 'Hannes'), ('Sieglinde', 'melanie', 'Hannes', 'Kosta'), ('Sieglinde', 'Hannes', 'Kosta', 'melanie'), ('Sieglinde', 'Hannes', 'melanie', 'Kosta'), ('Hannes', 'Kosta', 'melanie', 'Sieglinde'), ('Hannes', 'Kosta', 'Sieglinde', 'melanie'), ('Hannes', 'melanie', 'Kosta', 'Sieglinde'), ('Hannes', 'melanie', 'Sieglinde', 'Kosta'), ('Hannes', 'Sieglinde', 'Kosta', 'melanie'), ('Hannes', 'Sieglinde', 'melanie', 'Kosta')]\n",
      "24\n"
     ]
    }
   ],
   "source": [
    "import math\n",
    "import itertools\n",
    "\n",
    "source = ['Kosta', 'melanie','Sieglinde','Hannes']\n",
    "\n",
    "moegliche_kombinationen = list(itertools.permutations(source))\n",
    "\n",
    "print(moegliche_kombinationen)\n",
    "print(len(moegliche_kombinationen))"
   ]
  },
  {
   "cell_type": "code",
   "execution_count": 22,
   "metadata": {},
   "outputs": [
    {
     "name": "stdout",
     "output_type": "stream",
     "text": [
      "Hello, Kosta! you are good looking\n"
     ]
    }
   ],
   "source": [
    "def greet(name):\n",
    "    return f\"Hello, {name}!\"\n",
    "\n",
    "x = greet(\"Kosta\")\n",
    "\n",
    "print(x, 'you are good looking')\n",
    "\n"
   ]
  },
  {
   "cell_type": "markdown",
   "metadata": {},
   "source": [
    "# Combinations"
   ]
  },
  {
   "cell_type": "code",
   "execution_count": 45,
   "metadata": {},
   "outputs": [
    {
     "name": "stdout",
     "output_type": "stream",
     "text": [
      "Number of combinations: 120\n"
     ]
    }
   ],
   "source": [
    "from math import comb\n",
    "\n",
    "n = 10\n",
    "r = 3\n",
    "result = comb(n, r)\n",
    "print(f\"Number of combinations: {result}\")"
   ]
  },
  {
   "cell_type": "code",
   "execution_count": 46,
   "metadata": {},
   "outputs": [
    {
     "name": "stdout",
     "output_type": "stream",
     "text": [
      "720\n"
     ]
    }
   ],
   "source": [
    "n = 10\n",
    "k = 3\n",
    "position = math.perm(n,k)\n",
    "print(position)"
   ]
  },
  {
   "cell_type": "markdown",
   "metadata": {},
   "source": [
    "# Conditional Probability"
   ]
  },
  {
   "cell_type": "code",
   "execution_count": 61,
   "metadata": {},
   "outputs": [
    {
     "data": {
      "text/plain": [
       "0.0909"
      ]
     },
     "execution_count": 61,
     "metadata": {},
     "output_type": "execute_result"
    }
   ],
   "source": [
    "def probability_defective_then_not(defective, total):\n",
    "\n",
    "    probability_defective_first_pick = defective / total\n",
    "    probability_not_defective_second = (total - defective) / (total - 1)\n",
    "\n",
    "    return round(probability_defective_first_pick * probability_not_defective_second,4)\n",
    "\n",
    "probability_defective_then_not(10,100) "
   ]
  },
  {
   "cell_type": "code",
   "execution_count": 70,
   "metadata": {},
   "outputs": [
    {
     "data": {
      "text/plain": [
       "0.0909"
      ]
     },
     "execution_count": 70,
     "metadata": {},
     "output_type": "execute_result"
    }
   ],
   "source": [
    "from fractions import Fraction\n",
    "\n",
    "def probability_defective_then_not(defective, total):\n",
    "\n",
    "    probability_defective_first_pick = Fraction(defective, total)\n",
    "    probability_not_defective_second = Fraction(total - defective, total - 1)\n",
    "\n",
    "    return round(float(probability_defective_first_pick * probability_not_defective_second),4)\n",
    "\n",
    "probability_defective_then_not(10,100) "
   ]
  },
  {
   "cell_type": "code",
   "execution_count": 6,
   "metadata": {},
   "outputs": [
    {
     "name": "stdout",
     "output_type": "stream",
     "text": [
      "120\n"
     ]
    }
   ],
   "source": [
    "import math\n",
    "# Permutations (Arrangements) The Order matters\n",
    "\n",
    "n = 6\n",
    "r = 3\n",
    "\n",
    "possible_arrangements = math.perm(n, r)\n",
    "\n",
    "print(possible_arrangements)\n",
    "\n"
   ]
  },
  {
   "cell_type": "code",
   "execution_count": 10,
   "metadata": {},
   "outputs": [
    {
     "name": "stdout",
     "output_type": "stream",
     "text": [
      "20\n"
     ]
    }
   ],
   "source": [
    "from math import comb\n",
    "# Combinations, The order does not matter\n",
    "\n",
    "n = 6\n",
    "r = 3\n",
    "\n",
    "possible_combinations = math.comb(n,r)\n",
    "print(possible_combinations)"
   ]
  },
  {
   "cell_type": "code",
   "execution_count": null,
   "metadata": {},
   "outputs": [
    {
     "name": "stdout",
     "output_type": "stream",
     "text": [
      "0.04\n"
     ]
    }
   ],
   "source": [
    "def by_byke_and_significant_other(by_byke, other):\n",
    "\n",
    "    #P(A and B) = P(A) * P(B) = P(by_bike|other) \n",
    "\n",
    "    commute_bike_and_other = by_byke * other\n",
    "\n",
    "    return commute_bike_and_other\n",
    "\n",
    "result = by_byke_and_significant_other(0.1,0.4)\n",
    "\n",
    "print(f\"{result:.2f} of students commute by bike and have an significant other\")"
   ]
  },
  {
   "cell_type": "code",
   "execution_count": null,
   "metadata": {},
   "outputs": [
    {
     "name": "stdout",
     "output_type": "stream",
     "text": [
      "Not mutually exclusive\n"
     ]
    }
   ],
   "source": [
    "# Example: Rolling a die\n",
    "A = {0.3}\n",
    "B = {4}\n",
    "\n",
    "# Check intersection\n",
    "if A & B:  # \"&\" is the intersection operator\n",
    "    print(\"Not mutually exclusive\")\n",
    "else:\n",
    "    print(\"Mutually exclusive\")  # Output: Mutually exclusive\n"
   ]
  },
  {
   "cell_type": "code",
   "execution_count": null,
   "metadata": {},
   "outputs": [
    {
     "ename": "SyntaxError",
     "evalue": "expected ':' (87966633.py, line 3)",
     "output_type": "error",
     "traceback": [
      "\u001b[1;36m  Cell \u001b[1;32mIn[36], line 3\u001b[1;36m\u001b[0m\n\u001b[1;33m    def probabilty_picking_a_red_bal (red, total)\u001b[0m\n\u001b[1;37m                                                 ^\u001b[0m\n\u001b[1;31mSyntaxError\u001b[0m\u001b[1;31m:\u001b[0m expected ':'\n"
     ]
    }
   ],
   "source": [
    "# marginal probability\n",
    "\n",
    "def probabilty_picking_a_red_bal(red_ball, y_box):\n",
    "    # P(Y|B) = P(B|Y) * P(Y) / P(B)\n",
    "\n",
    "\n",
    "return Fraction(red_ball, yellow_box)\n",
    "\n",
    "print(P_Y_R_P_Y_B)"
   ]
  },
  {
   "cell_type": "code",
   "execution_count": 38,
   "metadata": {},
   "outputs": [
    {
     "name": "stdout",
     "output_type": "stream",
     "text": [
      "P(Y | Red): 0.6667\n",
      "P(G | Red): 0.3333\n"
     ]
    }
   ],
   "source": [
    "def bayes_box_probability(p_red_given_box, p_box, p_red):\n",
    "    \"\"\"\n",
    "    Computes the probability of selecting a specific box given that a red ball was drawn.\n",
    "\n",
    "    Parameters:\n",
    "    - p_red_given_box (float): Probability of drawing a red ball from the box (likelihood).\n",
    "    - p_box (float): Prior probability of selecting the box.\n",
    "    - p_red (float): Marginal probability of drawing a red ball.\n",
    "\n",
    "    Returns:\n",
    "    - float: Probability of having chosen the box given that a red ball was drawn.\n",
    "    \"\"\"\n",
    "    return (p_red_given_box * p_box) / p_red\n",
    "\n",
    "# Given probabilities from the image\n",
    "p_red_given_y = 0.5  # P(R | Y)\n",
    "p_red_given_g = 0.25  # P(R | G)\n",
    "p_y = 0.5  # P(Y)\n",
    "p_g = 0.5  # P(G)\n",
    "\n",
    "# Compute total probability of drawing a red ball (Marginal Probability)\n",
    "p_red = (p_red_given_y * p_y) + (p_red_given_g * p_g)\n",
    "\n",
    "# Compute posterior probabilities using Bayes' Theorem\n",
    "p_y_given_red = bayes_box_probability(p_red_given_y, p_y, p_red)\n",
    "p_g_given_red = bayes_box_probability(p_red_given_g, p_g, p_red)\n",
    "\n",
    "# Print results\n",
    "print(f\"P(Y | Red): {p_y_given_red:.4f}\")  # Probability that red ball came from Yellow box\n",
    "print(f\"P(G | Red): {p_g_given_red:.4f}\")  # Probability that red ball came from Green box\n"
   ]
  },
  {
   "cell_type": "code",
   "execution_count": 39,
   "metadata": {},
   "outputs": [
    {
     "data": {
      "image/png": "[encoded data removed]",
      "text/plain": [
       "<Figure size 640x480 with 1 Axes>"
      ]
     },
     "metadata": {},
     "output_type": "display_data"
    },
    {
     "name": "stdout",
     "output_type": "stream",
     "text": [
      "PMF values: {np.int32(4): 0.1672, np.int32(5): 0.1689, np.int32(3): 0.1625, np.int32(2): 0.1692, np.int32(6): 0.1657, np.int32(1): 0.1665}\n"
     ]
    }
   ],
   "source": [
    "import numpy as np\n",
    "import matplotlib.pyplot as plt\n",
    "from collections import Counter\n",
    "\n",
    "# Simulate rolling a six-sided die 10,000 times\n",
    "np.random.seed(42)\n",
    "rolls = np.random.randint(1, 7, size=10000)\n",
    "\n",
    "# Count occurrences of each outcome\n",
    "counts = Counter(rolls)\n",
    "\n",
    "# Compute PMF (probability of each outcome)\n",
    "pmf = {key: value / len(rolls) for key, value in counts.items()}\n",
    "\n",
    "# Plot the PMF\n",
    "plt.bar(pmf.keys(), pmf.values(), tick_label=list(pmf.keys()), alpha=0.7, color='b')\n",
    "plt.xlabel(\"Die Face\")\n",
    "plt.ylabel(\"Probability\")\n",
    "plt.title(\"Probability Mass Function (PMF) of a Six-Sided Die\")\n",
    "plt.show()\n",
    "\n",
    "# Print PMF values\n",
    "print(\"PMF values:\", pmf)"
   ]
  },
  {
   "cell_type": "code",
   "execution_count": 40,
   "metadata": {},
   "outputs": [
    {
     "data": {
      "image/png": "[encoded data removed]",
      "text/plain": [
       "<Figure size 1000x500 with 2 Axes>"
      ]
     },
     "metadata": {},
     "output_type": "display_data"
    }
   ],
   "source": [
    "import numpy as np\n",
    "import matplotlib.pyplot as plt\n",
    "import seaborn as sns\n",
    "\n",
    "# Define possible outcomes of a fair 6-sided die\n",
    "x_values = np.array([1, 2, 3, 4, 5, 6])\n",
    "pmf_values = np.full_like(x_values, 1/6, dtype=float)  # Each outcome has a probability of 1/6\n",
    "\n",
    "# Compute CDF\n",
    "cdf_values = np.cumsum(pmf_values)  # Cumulative sum to get CDF\n",
    "\n",
    "# Plot PMF\n",
    "plt.figure(figsize=(10, 5))\n",
    "plt.subplot(1, 2, 1)\n",
    "plt.bar(x_values, pmf_values, color='blue', alpha=0.6, edgecolor='black', label=\"PMF\")\n",
    "plt.xlabel('Die Roll Outcome (X)')\n",
    "plt.ylabel('Probability')\n",
    "plt.title('Probability Mass Function (PMF)')\n",
    "plt.xticks(x_values)\n",
    "plt.ylim(0, 0.3)\n",
    "plt.legend()\n",
    "\n",
    "# Plot CDF\n",
    "plt.subplot(1, 2, 2)\n",
    "plt.step(x_values, cdf_values, where=\"post\", color='red', label=\"CDF\")\n",
    "plt.scatter(x_values, cdf_values, color='red')\n",
    "plt.xlabel('Die Roll Outcome (X)')\n",
    "plt.ylabel('Cumulative Probability')\n",
    "plt.title('Cumulative Distribution Function (CDF)')\n",
    "plt.xticks(x_values)\n",
    "plt.ylim(0, 1.1)\n",
    "plt.legend()\n",
    "\n",
    "plt.tight_layout()\n",
    "plt.show()\n"
   ]
  }
 ],
 "metadata": {
  "kernelspec": {
   "display_name": "venv",
   "language": "python",
   "name": "python3"
  },
  "language_info": {
   "codemirror_mode": {
    "name": "ipython",
    "version": 3
   },
   "file_extension": ".py",
   "mimetype": "text/x-python",
   "name": "python",
   "nbconvert_exporter": "python",
   "pygments_lexer": "ipython3",
   "version": "3.12.6"
  }
 },
 "nbformat": 4,
 "nbformat_minor": 2
}
