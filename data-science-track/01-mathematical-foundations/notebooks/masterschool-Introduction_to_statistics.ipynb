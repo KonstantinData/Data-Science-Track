{
  "cells": [
    {
      "cell_type": "markdown",
      "metadata": {
        "colab_type": "text",
        "id": "view-in-github"
      },
      "source": [
        "<a href=\"https://colab.research.google.com/github/KonstantinData/data-science-track/blob/main/data-science-track/01-mathematical-foundations/notebooks/masterschool-Introduction_to_statistics.ipynb\" target=\"_parent\"><img src=\"https://colab.research.google.com/assets/colab-badge.svg\" alt=\"Open In Colab\"/></a>"
      ]
    },
    {
      "cell_type": "markdown",
      "metadata": {
        "id": "-f74rsfWI3Zg"
      },
      "source": [
        "------------------\n",
        "```markdown\n",
        "# Copyright © 2024 Meysam Goodarzi\n",
        "This notebook is licensed under CC BY-NC 4.0 with the following amandments:\n",
        "- Individuals may use, share, and adapt this material for non-commercial purposes with attribution.\n",
        "- Institutions/Companies must obtain written consent to use this material, except for nonprofits.\n",
        "- Commercial use is prohibited without permission.  \n",
        "Contact: analytica@meysam-goodarzi.com\n",
        "```\n",
        "------------------------------\n",
        "❗❗❗ **IMPORTANT**❗❗❗ **Create a copy of this notebook**\n",
        "\n",
        "In order to work with this Google Colab you need to create a copy of it. Please **DO NOT** provide your answers here. Instead, work on the copy version. To make a copy:\n",
        "\n",
        "**Click on: File -> save a copy in drive**\n",
        "\n",
        "Have you successfully created the copy? if yes, there must be a new tab opened in your browser. Now move to the copy and start from there!\n",
        "\n",
        "----------------------------------------------\n"
      ]
    },
    {
      "cell_type": "code",
      "execution_count": null,
      "metadata": {
        "id": "Y8adHXxV5h0x"
      },
      "outputs": [],
      "source": [
        "import pandas as pd\n",
        "import numpy as np\n",
        "import matplotlib.pyplot as plt"
      ]
    },
    {
      "cell_type": "markdown",
      "metadata": {
        "id": "soZiM1aHunvz"
      },
      "source": [
        "# Introduction to Statistics\n",
        "In this notebook, the basic concepts of statistics are covered. Those are:\n",
        "1. Random Variables (RVs)\n",
        "1. Probability Distribution Functions (PDFs)\n",
        "1. Cumulative Distribution Functions (CDFs)\n",
        "1. Expected Value\n",
        "1. Variance\n",
        "1. Gaussian (Normal) Distribution"
      ]
    },
    {
      "cell_type": "markdown",
      "metadata": {
        "id": "v37Em9DCCruL"
      },
      "source": [
        "## Random Variable\n",
        "When performing the experiment of flipping a coin (lets denote the experiment by $X$), there are two possible outcomes (events), i.e., *Head* or *Tail*. Let us denote the probability of the coin facing Head and Tail by $P(H)$ and $P(T)$, respectively. We know that $0\\leq P(H)\\leq 1$ and $0\\leq P(T)\\leq 1.$ In probability theory, it is said that the random variable $X$ (experiment) has two possible events (outcomes) each with probability $P(X=H)$ and $P(X=T).$"
      ]
    },
    {
      "cell_type": "code",
      "execution_count": null,
      "metadata": {
        "colab": {
          "base_uri": "https://localhost:8080/",
          "height": 106
        },
        "id": "i1XZ9AGQGqh0",
        "outputId": "ffa605d3-0e3e-4015-8926-b29eb70bdf15"
      },
      "outputs": [
        {
          "ename": "SyntaxError",
          "evalue": "invalid syntax (<ipython-input-2-adc5e44d2a72>, line 5)",
          "output_type": "error",
          "traceback": [
            "\u001b[0;36m  File \u001b[0;32m\"<ipython-input-2-adc5e44d2a72>\"\u001b[0;36m, line \u001b[0;32m5\u001b[0m\n\u001b[0;31m    P_T = # Your code\u001b[0m\n\u001b[0m          ^\u001b[0m\n\u001b[0;31mSyntaxError\u001b[0m\u001b[0;31m:\u001b[0m invalid syntax\n"
          ]
        }
      ],
      "source": [
        "# The following data is the outcome of an experiment where we flip an UNFAIR coin 20 times. Calculate the probability of each possible event.\n",
        "X = [\"H\", \"H\", \"T\", \"H\", \"H\", \"T\", \"T\", \"H\", \"H\", \"H\",\n",
        "     \"H\", \"H\", \"T\", \"H\", \"T\", \"T\", \"T\", \"H\", \"H\", \"H\"]\n",
        "P_H = sum([event==\"H\" for event in X])/len(X)\n",
        "P_T = # Your code\n",
        "print(P_H, P_T)\n"
      ]
    },
    {
      "cell_type": "markdown",
      "metadata": {
        "id": "korFFvW_Ihgt"
      },
      "source": [
        "We can extend the same concept for experiments with more events, e.g., rolling a die. Here, we can write $P(X=1), \\cdots, P(X=6).$ For the sake of simplicity we can denote each possible outcome by $x_i$ with $i=1, \\cdots, 6.$ Therefore, the probability of each event $i$ when performing the experiment $X$ is denoted by $P(X=x_i).$"
      ]
    },
    {
      "cell_type": "code",
      "execution_count": null,
      "metadata": {
        "id": "pzkyHnaVKDiT"
      },
      "outputs": [],
      "source": [
        "# The following data is the outcome of an experiment where we roll a die 30 times. Calculate the probability of each possible event.\n",
        "X = [1, 5, 4, 6, 4, 2, 4, 6, 5, 2,\n",
        "     3, 1, 4, 6, 3, 1, 2, 3, 1, 3,\n",
        "     6, 3, 2, 5, 4, 1, 5, 2, 4, 6]\n",
        "P_xi = []\n",
        "for i in range(1, 7):-\n",
        "  # For each event, i.e., X=1, ..., 6, count the number of occurance and divide by total number of occurances, i.e., len(X).\n",
        "  # Your code\n",
        "print(P_xi)"
      ]
    },
    {
      "cell_type": "markdown",
      "metadata": {
        "id": "WqpA8UkKNBIf"
      },
      "source": [
        "#### Exercise 1\n",
        "Plot the figure where you have the possible events on the x axis and their probability on the y axis."
      ]
    },
    {
      "cell_type": "code",
      "execution_count": null,
      "metadata": {
        "id": "CHAMW4N0NX-X"
      },
      "outputs": [],
      "source": [
        "fig, ax = plt.subplots()\n",
        "events = range(1, 7)\n",
        "# Your code\n",
        "ax.set(title=\"Probability Distribution\", xlabel=\"Events\", ylabel=\"Probability\")\n",
        "plt.show()"
      ]
    },
    {
      "cell_type": "markdown",
      "metadata": {
        "id": "A9wsqB0YSO5F"
      },
      "source": [
        "## Probability Distribution Function (PDF)\n",
        "Probability Distribution Function (PDF) of a random variable $X$ is a function $f_X(.)$ which maps each possible event $x_i$ to its corresponding probability $P(x_i)$. It is also oftentimes called Probability Mass Function (PMF) in the case of a descrete random variable. In the above cases:\n",
        "$$f_X(x) = \\begin{cases} 0.65 & if\\ x=H \\\\ 0.35 & if\\ x=T \\end{cases}$$\n",
        "and\n",
        "$$f_X(x) = \\begin{cases} 0.17 & if\\ x=1 \\\\\n",
        "                        0.17 & if\\ x=2 \\\\\n",
        "                        0.17 & if\\ x=3 \\\\\n",
        "                        0.2 & if\\ x=4 \\\\\n",
        "                        0.13 & if\\ x=5 \\\\\n",
        "                        0.16 & if\\ x=6 \\\\\n",
        "\\end{cases}$$\n",
        "\n",
        "\n"
      ]
    },
    {
      "cell_type": "markdown",
      "metadata": {
        "id": "Rd4Z0fwOJzoQ"
      },
      "source": [
        "**Coding Quiz**: Create a list/array of the same size as P_xi. Fill each elemet by sum of the corresponding element in P_xi and all the smaller elements. For example, if P_xi = [0.5, 0.3, 0.2], then new_array = [0.5, 0.5+0.3, 0.5+0.3+0.2]."
      ]
    },
    {
      "cell_type": "code",
      "execution_count": null,
      "metadata": {
        "id": "bYhPB1fuEwTh"
      },
      "outputs": [],
      "source": [
        "# Initilizing the CDF\n",
        "CP_xi = []\n",
        "for i in range(len(P_xi)):\n",
        "  # Update the CDF according to the explanations above\n",
        "  # Your code\n",
        "print(CP_xi)\n"
      ]
    },
    {
      "cell_type": "markdown",
      "metadata": {
        "id": "tHW4ecFzEwv4"
      },
      "source": [
        "## Cumulative Distribution Function (CDF)\n",
        "Cumulative Distribution Function (CDF) of a random variable $X$ is a function $F_X(.)$ which maps each possible event $x_i$ to its corresponding cumulative probability calculated as $P(X\\leq x_i),$ i.e., the probability that the outcome of RV (experiment) X is less than or equal to $x_i.$\n",
        "\n",
        "In the above case:\n",
        "$$F_X(x) = \\begin{cases} 0.17 & if\\ x=1 \\\\\n",
        "                        0.34 & if\\ x=2 \\\\\n",
        "                        0.51 & if\\ x=3 \\\\\n",
        "                        0.71 & if\\ x=4 \\\\\n",
        "                        0.84 & if\\ x=5 \\\\\n",
        "                        1.00 & if\\ x=6 \\\\\n",
        "\\end{cases}$$\n",
        "\n",
        "**IMPORTANT**: As you can see the following relationship holds between PDF/PMF and CDF:\n",
        "For PMF-CDF relationship, we have:\n",
        "$$F_X(x) = \\sum_{x=0}^x f_X(x)$$\n",
        "\n",
        "and for PDF-CDF relationship, we can write:\n",
        "$$F_X(x) = \\int_{-\\infty}^x f_X(x)dx$$ or alternatively\n",
        "$$f_X(x) = \\frac{d}{dx}F_X(x).$$\n",
        "\n",
        "**Quiz:** What does $F^{-1}(p)$ represent?\n",
        "\n",
        "**Hint:** think about numerical examples such as $F^{-1}(0.25)$ and $F^{-1}(0.5).$"
      ]
    },
    {
      "cell_type": "markdown",
      "metadata": {
        "id": "blghkhjXWnEb"
      },
      "source": [
        "#### Exercise 2\n",
        "Create a variable which indicates the quantile each student's average grade in period 1 belongs to, i.e. avg_t1_q (assume 4 quantiles)."
      ]
    },
    {
      "cell_type": "code",
      "execution_count": null,
      "metadata": {
        "id": "QZPgI9m9WoCo"
      },
      "outputs": [],
      "source": [
        "# Your code"
      ]
    },
    {
      "cell_type": "markdown",
      "metadata": {
        "id": "PVR8VttxipQL"
      },
      "source": [
        "## Expected Value\n",
        "The expected value of a random variable is the average value it would have if we took an infinite number of samples of it and then averaged those samples together. Equivalently we can say:\n",
        "$$\\mathbb{E}(X) = \\sum_{i=1}^N x_iP(x_i)$$\n",
        "where $p_i$ denotes the relative proportion of samples with value $x_i$."
      ]
    },
    {
      "cell_type": "code",
      "execution_count": null,
      "metadata": {
        "id": "mkDVI8-uj2gU"
      },
      "outputs": [],
      "source": [
        "# plot is the probibility distribution of the following data\n",
        "X = np.array([0, 0, 0, 0, 0, 0, 0, 0, 0, 0, 0, 0, 0, 0, 0, 0, 0,\n",
        "              -1, -1, -1, -1, -1, -1, -1, -1, -1, -1,\n",
        "              1, 1, 1, 1, 1, 1, 1, 1, 1, 1,\n",
        "              -2, -2, -2, -2, -2,\n",
        "              2, 2, 2, 2, 2,\n",
        "              -3, -3, -3,\n",
        "              3, 3, 3,\n",
        "              -4, 4])\n",
        "values, counts = np.unique(X, return_counts=True)\n",
        "\n",
        "# Plot the bar-plot.\n",
        "#Hint:\n",
        "# values = an array containing the unique values of X,\n",
        "# counts= an array containing the number of occurances of each value\n",
        "\n",
        "# Your code\n",
        "\n",
        "# Compute the expected value using the formula above and the mean using the python function np.mean()\n",
        "mean_python = np.mean(X)\n",
        "expected_value = 0\n",
        "for i, j in zip(values, counts):\n",
        "  p_xi = j/len(X)\n",
        "  # Your code\n",
        "\n",
        "print(\"Expected Value =\", expected_value, \"\\n ---- \\n\", \"Mean =\", mean_python)\n"
      ]
    },
    {
      "cell_type": "markdown",
      "metadata": {
        "id": "7w60UXt474de"
      },
      "source": [
        "## Variance\n",
        "The variance is the expected value for how much the\n",
        "sample space $X$ varies from the mean. Equivalently we can say:\n",
        "$$VAR(X) = \\mathbb{E}[(X-\\mu)^2]$$ with $\\mu$ being $\\mu = \\mathbb{E}(X)$. Typically $VAR(X)$ is denoted by $\\sigma^2$ and is calculated as $$\\sigma^2 = \\frac{1}{N}\\sum_{i=1}^N (x_i-\\mu)^2.$$ The parameter $\\sigma$ is called standard deviation."
      ]
    },
    {
      "cell_type": "code",
      "execution_count": null,
      "metadata": {
        "id": "KSJCr1qD-QoK"
      },
      "outputs": [],
      "source": [
        "# Calculate the variance of X\n",
        "sum_square = 0\n",
        "for i in X:++\n",
        "  sum_square += (i-expected_value)**2\n",
        "variance_formula = # Your code\n",
        "variance_python = np.var(X)\n",
        "print(\"Variance (mean of sum-squared) =\", variance_formula, \"\\n--------\\n\", \"Variance(python) =\", variance_python)"
      ]
    },
    {
      "cell_type": "markdown",
      "metadata": {
        "id": "wNwggQqI8GW1"
      },
      "source": [
        "## Gaussian (Normal) Distribution\n",
        "A Gaussian distribution is a continuous probability distribution that is fully\n",
        "described with two parameters, the mean ($\\mu$) and the variance ($\\sigma^2$). It is defined as\n",
        "$$f_X(x) = \\frac{1}{\\sqrt{2\\pi\\sigma^2}}e^{-\\frac{(x-\\mu)^2}{2\\sigma^2}}.$$\n",
        "There are alternative notations such as\n",
        "$X \\sim \\mathcal{N}(\\mu, \\sigma^2)$ or $X \\sim \\mathcal{N}(x|\\mu, \\sigma^2)$."
      ]
    },
    {
      "cell_type": "code",
      "execution_count": null,
      "metadata": {
        "colab": {
          "base_uri": "https://localhost:8080/"
        },
        "id": "Y2Yw2yBQHlZX",
        "outputId": "727eb175-3d8c-48eb-c0cd-f4580573cf28"
      },
      "outputs": [
        {
          "name": "stdout",
          "output_type": "stream",
          "text": [
            "Mean = 0.7531639480000001 \n",
            " Variance = 3.291392248043153 \n",
            "---------\n"
          ]
        }
      ],
      "source": [
        "# Plot the histogram of the following data\n",
        "X = np.array([-0.64803536,  1.66664278, -3.58164733,  0.89998545,  1.62406002, -2.57298333,\n",
        "  3.22436883,  1.95584301,  1.49037333, -2.41067398,  2.20394213,  3.88135545,\n",
        " -0.76729498,  0.07916849,  1.03565913,  2.88753066,  0.53484251,  2.00084301,\n",
        " -1.3125664,  3.76991427, -1.29491141,  0.1934997,  -1.21259305, -0.63283225,\n",
        "  4.03442483,  1.81498421, -0.22410048,  1.90919324,  0.63397913,  1.47055774,\n",
        " -0.88504916,  0.71517192,  0.19569567,  0.79177696,  0.20603178, -1.24203431,\n",
        "  0.34018339,  0.62462938,  4.59464763,  2.96896777, -2.50783614, -0.25056027,\n",
        "  2.63913303,  0.13910112,  1.1671937,  -0.79290013,  2.47623536,  3.03226744,\n",
        "  0.58648688,  0.20552603])\n",
        "print(\"Mean =\", X.mean(), \"\\n\", \"Variance =\", X.var(), \"\\n---------\")\n",
        "# Your code"
      ]
    },
    {
      "cell_type": "code",
      "execution_count": null,
      "metadata": {
        "colab": {
          "base_uri": "https://localhost:8080/",
          "height": 517
        },
        "id": "tCGKqINxCcGx",
        "outputId": "64b410ca-963d-4def-b4ac-8ed316c84bb2"
      },
      "outputs": [
        {
          "data": {
            "text/plain": [
              "(array([1., 3., 0., 5., 6., 7., 9., 5., 5., 5., 2., 2.]),\n",
              " array([-3.58164733, -2.90028942, -2.2189315 , -1.53757359, -0.85621568,\n",
              "        -0.17485776,  0.50650015,  1.18785806,  1.86921598,  2.55057389,\n",
              "         3.2319318 ,  3.91328972,  4.59464763]),\n",
              " <BarContainer object of 12 artists>)"
            ]
          },
          "execution_count": 7,
          "metadata": {},
          "output_type": "execute_result"
        },
        {
          "data": {
            "image/png": "[encoded data removed]",
            "text/plain": [
              "<Figure size 640x480 with 1 Axes>"
            ]
          },
          "metadata": {},
          "output_type": "display_data"
        }
      ],
      "source": [
        "plt.hist(X, bins=12)"
      ]
    },
    {
      "cell_type": "markdown",
      "metadata": {
        "id": "GQKjkbW_JGpe"
      },
      "source": [
        "#### Exercise 3\n",
        "Calculate the mean and varince of the random variable Z = 2*X - 3. What do you understand from it?\n",
        "\n",
        "<!--\n",
        "# Copyright © 2024 Meysam Goodarzi\n",
        "This notebook is licensed under CC BY-NC 4.0 with the following amandments:\n",
        "- Individual may use, share, and adapt this material for non-commercial purposes with attribution.\n",
        "- Institutions/Companies must obtain written consent to use this material, except for nonprofits.\n",
        "- Commercial use is prohibited without permission.  \n",
        "Contact: analytica@meysam-goodarzi.com.\n",
        "-->"
      ]
    },
    {
      "cell_type": "code",
      "execution_count": null,
      "metadata": {
        "colab": {
          "base_uri": "https://localhost:8080/",
          "height": 158
        },
        "id": "PrH6yrr7JTTt",
        "outputId": "c594caf2-30fd-4773-ef97-44968b2dfaed"
      },
      "outputs": [
        {
          "ename": "NameError",
          "evalue": "name 'mean_of_X' is not defined",
          "output_type": "error",
          "traceback": [
            "\u001b[0;31m---------------------------------------------------------------------------\u001b[0m",
            "\u001b[0;31mNameError\u001b[0m                                 Traceback (most recent call last)",
            "\u001b[0;32m<ipython-input-8-87564b4cab02>\u001b[0m in \u001b[0;36m<cell line: 0>\u001b[0;34m()\u001b[0m\n\u001b[0;32m----> 1\u001b[0;31m \u001b[0mmean_of_Z\u001b[0m \u001b[0;34m=\u001b[0m \u001b[0;36m2\u001b[0m\u001b[0;34m*\u001b[0m\u001b[0mmean_of_X\u001b[0m \u001b[0;34m-\u001b[0m \u001b[0;36m3\u001b[0m\u001b[0;34m\u001b[0m\u001b[0;34m\u001b[0m\u001b[0m\n\u001b[0m\u001b[1;32m      2\u001b[0m \u001b[0mvariance_of_Z\u001b[0m \u001b[0;34m=\u001b[0m \u001b[0mvariance_von_X\u001b[0m \u001b[0;34m*\u001b[0m \u001b[0;36m3\u001b[0m\u001b[0;34m**\u001b[0m\u001b[0;36m2\u001b[0m\u001b[0;34m\u001b[0m\u001b[0;34m\u001b[0m\u001b[0m\n",
            "\u001b[0;31mNameError\u001b[0m: name 'mean_of_X' is not defined"
          ]
        }
      ],
      "source": [
        "mean_of_Z = 2*mean_of_X - 3\n",
        "variance_of_Z = variance_von_X * 3**2"
      ]
    },
    {
      "cell_type": "markdown",
      "metadata": {
        "id": "gWae5YFI5awg"
      },
      "source": [
        "**Hint**: Run the following examples to understand the question above."
      ]
    },
    {
      "cell_type": "code",
      "execution_count": null,
      "metadata": {
        "id": "hO2Y0acqs938"
      },
      "outputs": [],
      "source": [
        "X = np.random.uniform(0, 5, 10000)\n",
        "Y = np.random.uniform(0, 3, 10000)\n",
        "fig, ax = plt.subplots(3, 1)\n",
        "ax[0].hist(X, bins=10, density=True)\n",
        "ax[1].hist(Y, bins=10, density=True)\n",
        "Z = X + Y\n",
        "ax[2].hist(Z, bins=20, density=True)"
      ]
    },
    {
      "cell_type": "code",
      "execution_count": null,
      "metadata": {
        "id": "XhwE8lz2xYsu"
      },
      "outputs": [],
      "source": [
        "X = np.random.normal(0, 1, 1000)\n",
        "Y = np.random.normal(1, 2, 1000)\n",
        "fig, ax = plt.subplots(3, 1)\n",
        "ax[0].hist(X, bins=10, density=True)\n",
        "ax[1].hist(Y, bins=10, density=True)\n",
        "Z = X + Y\n",
        "ax[2].hist(Z, bins=20, density=True)"
      ]
    },
    {
      "cell_type": "code",
      "execution_count": null,
      "metadata": {
        "id": "IQlAz3C2w8Gd"
      },
      "outputs": [],
      "source": [
        "X - Standard verteilung hat X ~ N(mu_1, sigma_1^2)\n",
        "Y standard veteilun Y ~ N(mu_2, sigma_2^2)\n",
        "\n",
        "Z = X + Y\n",
        "Z ~ N(mu_1+mu_2, sigma_1^2 + sigma_2^2)"
      ]
    },
    {
      "cell_type": "markdown",
      "metadata": {
        "id": "5FtpGb604POW"
      },
      "source": [
        "**Congratulations! You have finished the Notebook! Great Job!**\n",
        "🤗🙌👍👏💪\n",
        "<!--\n",
        "# Copyright © 2024 Meysam Goodarzi\n",
        "This notebook is licensed under CC BY-NC 4.0 with the following amandments:\n",
        "- Individuals may use, share, and adapt this material for non-commercial purposes with attribution.\n",
        "- Institutions/Companies must obtain written consent to use this material, except for nonprofits.\n",
        "- Commercial use is prohibited without permission.  \n",
        "Contact: analytica@meysam-goodarzi.com.\n",
        "-->"
      ]
    }
  ],
  "metadata": {
    "colab": {
      "collapsed_sections": [
        "tHW4ecFzEwv4"
      ],
      "include_colab_link": true,
      "provenance": []
    },
    "kernelspec": {
      "display_name": "venv",
      "language": "python",
      "name": "python3"
    },
    "language_info": {
      "name": "python",
      "version": "3.12.6"
    }
  },
  "nbformat": 4,
  "nbformat_minor": 0
}
