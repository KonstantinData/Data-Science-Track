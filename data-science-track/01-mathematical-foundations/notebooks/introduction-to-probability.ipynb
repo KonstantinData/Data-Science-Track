{
 "cells": [
  {
   "cell_type": "markdown",
   "id": "47f9bbce-7a0e-4cbc-b020-62556667c41f",
   "metadata": {},
   "source": [
    "# Introduction to Probability\n"
   ]
  },
  {
   "cell_type": "markdown",
   "id": "54c7a5e9",
   "metadata": {},
   "source": [
    "Probability is a branch of mathematics that deals with calculating the likelyhood of an event occuring. It helps us to understand an quantify uncertainty.\n",
    "\n",
    "It provides a mathimatical framework for modeling random phenomena and making predictions about outcomes."
   ]
  },
  {
   "cell_type": "markdown",
   "id": "1e261400-29b6-4a4a-bc94-0d5bc272a2a1",
   "metadata": {
    "jp-MarkdownHeadingCollapsed": true
   },
   "source": [
    "## Key Terms in Probability\n",
    "\n",
    "- **Experiment:** An action or process that leads to one of several possible outcomes.\n",
    "- **Sample Space (Outcome Space)(S or Ω):** The set of all possible outcomes of an experimant.\n",
    "- **Event:** The expectation of an specific outcome or set of outcomes of an experiment.\n",
    "- **Outcome:** A simple result from the *sample space*."
   ]
  },
  {
   "cell_type": "markdown",
   "id": "85be35c5-d889-48ad-8573-13ee8b017f65",
   "metadata": {},
   "source": [
    "## Events"
   ]
  },
  {
   "cell_type": "markdown",
   "id": "44ca74ee",
   "metadata": {},
   "source": [
    "\n",
    "- The (Sample Space) **S** is the collection of all possible outcomes of an random experiment.  \n"
   ]
  },
  {
   "cell_type": "markdown",
   "id": "23705595-41be-4ed9-842c-37c8d85ed244",
   "metadata": {},
   "source": [
    "### Example\n",
    "\n",
    "Suppose we randomly select a person and ask them, \"How many books do you own?\" In this case, our **sample space** is:\n",
    "\n",
    "S = {0,1,2,3,4,5,.....}\n",
    "\n",
    "We could set a practical upper limit, but some people might own hundreds or even thousands of books. So, we'll leave \n",
    "the sample space open to be as accurate as possible. Now, let's define some events:\n",
    "\n",
    "- Let **A** be the event that a randomly selected person owns no books:\n"
   ]
  },
  {
   "cell_type": "code",
   "execution_count": 24,
   "id": "b5157d64-1b80-42e9-b5e1-8f893af9b525",
   "metadata": {},
   "outputs": [],
   "source": [
    "A = {0}"
   ]
  },
  {
   "cell_type": "markdown",
   "id": "6f3a6faf",
   "metadata": {},
   "source": [
    "- Let **B** be the event that a person owns at least one book:"
   ]
  },
  {
   "cell_type": "code",
   "execution_count": 25,
   "id": "fc4a50e4-9136-48e3-991d-91e206e997c0",
   "metadata": {},
   "outputs": [],
   "source": [
    "B = {0,1,2,3,4,5,6,7,8,9}"
   ]
  },
  {
   "cell_type": "markdown",
   "id": "54223711-ef88-45e1-8a72-137cceb6bad9",
   "metadata": {},
   "source": [
    "- Let **C** be the event that a person owns no more than 10 books:"
   ]
  },
  {
   "cell_type": "code",
   "execution_count": 26,
   "id": "92ae4f15-9ae7-4f3b-a3d7-343c76bb25bf",
   "metadata": {},
   "outputs": [],
   "source": [
    "C = {0,1,2,3,4,5,6,7,8,9,10}"
   ]
  },
  {
   "cell_type": "markdown",
   "id": "742ec354-725b-4df7-a25a-ec5e1d2813bd",
   "metadata": {},
   "source": [
    "- Let **D** be the event that a person owns an even number of books:"
   ]
  },
  {
   "cell_type": "code",
   "execution_count": 27,
   "id": "8ede0a60-c4b0-489e-985a-603c349e90e5",
   "metadata": {},
   "outputs": [],
   "source": [
    "D = {0,2,4,6,8}"
   ]
  },
  {
   "cell_type": "markdown",
   "id": "892d03f6",
   "metadata": {},
   "source": [
    "### Basic Set Operations\n",
    "\n",
    "1. ∅ is the null set or empty set. This set does not contain any elements.\n",
    "\n",
    "2. $A \\cup B$ = union. Union contains all of the elements of set $A$ and all elements of set $B$.\n",
    "\n",
    "   <img src=\"https://raw.githubusercontent.com/KonstantinData/data-science-track/main/data-science-track/01-mathematical-foundations/resources/images/union-image.webp\" width=\"200\"/>\n",
    "\n"
   ]
  },
  {
   "cell_type": "code",
   "execution_count": 28,
   "id": "254b737c",
   "metadata": {},
   "outputs": [
    {
     "name": "stdout",
     "output_type": "stream",
     "text": [
      "{0, 1, 2, 3, 4, 5, 6, 7, 8, 9}\n"
     ]
    }
   ],
   "source": [
    "H = A | B # Union of A and B\n",
    "print(H)"
   ]
  },
  {
   "cell_type": "markdown",
   "id": "20bd4643",
   "metadata": {},
   "source": [
    "1. $A \\cap B$ = intersection. The intersection contains the elements that can be found in both $A$ and $B$, these elements are common for both sets.  \n",
    "   If $A \\cap B = \\emptyset$, then $A$ and $B$ are called **mutually exclusive events**.\n",
    "\n",
    "   <img src=\"https://raw.githubusercontent.com/KonstantinData/data-science-track/main/data-science-track/01-mathematical-foundations/resources/images/intersection-image.webp\" width=\"200\"/>\n",
    "\n"
   ]
  },
  {
   "cell_type": "code",
   "execution_count": 29,
   "id": "c6607a25",
   "metadata": {},
   "outputs": [
    {
     "name": "stdout",
     "output_type": "stream",
     "text": [
      "{0}\n"
     ]
    }
   ],
   "source": [
    "I = A & B # Intersection of A and B\n",
    "print(I)\n"
   ]
  },
  {
   "cell_type": "markdown",
   "id": "420fa712",
   "metadata": {},
   "source": [
    "1. $A' = A^C$ = complement. When we consider all of the possible elements, the complement to the set $A$ is all elements that do not belong to $A$.\n",
    "\n",
    "   <img src=\"https://raw.githubusercontent.com/KonstantinData/data-science-track/main/data-science-track/01-mathematical-foundations/resources/images/complement-image.webp\" width=\"200\"/>\n",
    "\n",
    "\n"
   ]
  },
  {
   "cell_type": "code",
   "execution_count": 30,
   "id": "286a0aaa",
   "metadata": {},
   "outputs": [
    {
     "name": "stdout",
     "output_type": "stream",
     "text": [
      "{1, 2, 3, 4, 5, 6, 7, 8, 9, 10, 11, 12, 13, 14, 15, 16, 17, 18, 19, 20}\n"
     ]
    }
   ],
   "source": [
    "Ω = set(range(0,21))\n",
    "\n",
    "A_complement = Ω - A \n",
    "print(A_complement)"
   ]
  },
  {
   "cell_type": "markdown",
   "id": "255bfb54",
   "metadata": {},
   "source": [
    "If $E \\cup F \\cup G \\dots = \\Omega$, then $E$, $F$, $G$, and so on are called **exhaustive events**.  \n",
    "So when the union of the sets makes the complete set of all the possible elements, they are called **exhaustive events**.\n",
    "\n",
    "---\n",
    "\n",
    "Now, let's define some composite events.\n",
    "\n",
    "- **The union of events $C$ and $D$** is the event that a randomly selected person either owns **no more than 10 books** or owns an **even number of books**. That is:\n",
    "\n",
    "  $$\n",
    "  C \\cup D = \\{0, 2, 4, 6, 8, 10, 12, 14, \\dots\\}\n",
    "  $$\n",
    "\n",
    "- **The intersection of events $A$ and $B$** is the event that a person owns **both no books and at least one book** at the same time. This is impossible, so:\n",
    "\n",
    "  $$\n",
    "  A \\cap B = \\emptyset\n",
    "  $$\n",
    "\n",
    "- **The complement of event $D$** is the event that a person owns an **odd number of books**. That is:\n",
    "\n",
    "  $$\n",
    "  D^c = \\{1, 3, 5, 7, \\dots\\}\n",
    "  $$\n",
    "\n",
    "- If we define events $E_0, E_1, E_2, \\dots$ such that:\n",
    "\n",
    "  $$\n",
    "  E_0 = \\{0\\}, \\quad E_1 = \\{1\\}, \\quad E_2 = \\{2\\}, \\dots\n",
    "  $$\n",
    "\n",
    "  then the events $E_0, E_1, E_2, \\dots$ are **exhaustive events**, meaning they cover all possible outcomes in the sample space."
   ]
  },
  {
   "cell_type": "markdown",
   "id": "5ae62bac",
   "metadata": {},
   "source": [
    "## Probabilities of the Events"
   ]
  },
  {
   "cell_type": "markdown",
   "id": "f0015f5c",
   "metadata": {},
   "source": [
    "**Probability**\n",
    "- a number between 0 and 1\n",
    "- a number closer to 0 means not likely\n",
    "- a number closer to 1 means quite likely\n",
    "- if probability of an event is exactly 0, then the event can’t occur\n",
    "- if the probability of an event is exactly 1, then the event will definitely occur"
   ]
  },
  {
   "cell_type": "markdown",
   "id": "b9791f10",
   "metadata": {},
   "source": [
    "### **Relative Frequency Approach to Probability**  \n",
    "\n",
    "The **relative frequency approach** estimates probability by **observing** how often an event \n",
    "occurs over repeated trials, rather than relying on assumptions.  \n",
    "\n",
    "---\n",
    "\n",
    "### **Steps to Calculate Probability Using Relative Frequency**\n",
    "\n",
    "1. **Perform the experiment multiple times** (n)  \n",
    "   - Repeat an experiment a large number of times.  \n",
    "   - Example: Rolling a die 100 times or flipping a coin 500 times.  \n",
    "\n",
    "2. **Count how often event (A) occurs** N(A)  \n",
    "   - Observe and record the number of times event (A) happens.  \n",
    "   - Example: If rolling a die, count how often a \"6\" appears.  \n",
    "\n",
    "3. **Calculate probability using the formula**  \n",
    "   \n",
    "   P(A) = N(A) / n\n",
    "\n",
    "   - **P(A)**  → Probability of event (A)  \n",
    "   - **N(A)**  → Number of times event (A) occurred  \n",
    "   - **n**     → Total number of trials  \n",
    "\n",
    "---\n",
    "\n",
    "### **Example Calculation**\n",
    "Suppose you flip a coin **1,000 times**, and it lands on **heads** **520 times**. The probability of heads is:  \n",
    "\n",
    "P(Heads) = N(520) / n(1000) = 0.52 (52%)\n",
    "\n",
    "---\n",
    "\n",
    "### **Key Takeaways**\n",
    "✔ **This method estimates probability using real data** instead of assumptions.  \n",
    "✔ **More trials (n) lead to a more accurate probability estimate.**  \n",
    "✔ **The formula P(A) = N(A) / n calculates probability from observed outcomes.**  \n",
    "\n",
    "Would you like a Python example to simulate this method? 🚀😊\n"
   ]
  },
  {
   "cell_type": "markdown",
   "id": "3582acfb",
   "metadata": {},
   "source": [
    "### **Relative Frequency Formula**  "
   ]
  },
  {
   "cell_type": "markdown",
   "id": "ec88c4d7",
   "metadata": {},
   "source": [
    "The probability of an event \\( A \\) occurring is estimated using the **relative frequency formula**:\n",
    "\n",
    "P(A) = N(A) / n\n",
    "\n",
    "where:\n",
    "- P(A) → Estimated probability of event \\( A \\)  \n",
    "- N(A) → Number of times event \\( A \\) occurs  \n",
    "- n → Total number of trials (experiments)\n"
   ]
  },
  {
   "cell_type": "code",
   "execution_count": 92,
   "id": "91588163",
   "metadata": {},
   "outputs": [
    {
     "name": "stdout",
     "output_type": "stream",
     "text": [
      "Total Trials (n): 10000 = Sample Space\n",
      "Occurrences of Heads (N_A): 4981 = Event\n",
      "Estimated Probability of Heads (P(A)): 0.4981 = Outcome\n"
     ]
    }
   ],
   "source": [
    "import random\n",
    "\n",
    "# Define experiment parameters\n",
    "n = 10000 # Sample Space\n",
    "N_A = 0 # Counts how often the Event occurs\n",
    "\n",
    "# Simulate coin flips\n",
    "for _ in range(n):\n",
    "    flip = random.choice([\"Kopf\",\"Zahl\"])\n",
    "    if flip == \"Kopf\":\n",
    "        N_A += 1\n",
    "\n",
    "# Calculate probability using relative frequency formula\n",
    "P_A = N_A / n # P_A (Probability A) = (Count EVENT A) / Sample Space\n",
    "\n",
    "print(f\"Total Trials (n): {n} = Sample Space\")\n",
    "print(f\"Occurrences of Heads (N_A): {N_A} = Event\")\n",
    "print(f\"Estimated Probability of Heads (P(A)): {P_A:.4f} = Outcome\")"
   ]
  },
  {
   "cell_type": "code",
   "execution_count": 91,
   "id": "f15e0140",
   "metadata": {},
   "outputs": [
    {
     "name": "stdout",
     "output_type": "stream",
     "text": [
      "Total Cards 52\n",
      "Number of Hearts occured = 0.23076923076923078\n",
      "Number of Kings occured = 0.11538461538461539\n",
      "Number of Red Cards occured = 0.40384615384615385\n",
      "Number of hearts Face Cards = 0.23076923076923078\n"
     ]
    }
   ],
   "source": [
    "import random\n",
    "\n",
    "n = 52\n",
    "N_A_H = 0\n",
    "N_A_K = 0\n",
    "N_A_RC = 0\n",
    "N_A_FC = 0\n",
    "\n",
    "hearts = {\"♥A\", \"♥2\", \"♥3\", \"♥4\", \"♥5\", \"♥6\", \"♥7\", \"♥8\", \"♥9\", \"♥10\", \"♥J\", \"♥Q\", \"♥K\"}\n",
    "diamonds = {\"♦A\", \"♦2\", \"♦3\", \"♦4\", \"♦5\", \"♦6\", \"♦7\", \"♦8\", \"♦9\", \"♦10\", \"♦J\", \"♦Q\", \"♦K\"}\n",
    "clubs = {\"♣A\", \"♣2\", \"♣3\", \"♣4\", \"♣5\", \"♣6\", \"♣7\", \"♣8\", \"♣9\", \"♣10\", \"♣J\", \"♣Q\", \"♣K\"}\n",
    "spades = {\"♠A\", \"♠2\", \"♠3\", \"♠4\", \"♠5\", \"♠6\", \"♠7\", \"♠8\", \"♠9\", \"♠10\", \"♠J\", \"♠Q\", \"♠K\"}\n",
    "\n",
    "red_cards = hearts | diamonds\n",
    "\n",
    "face_cards = {\"♥J\", \"♥Q\", \"♥K\", \"♦J\", \"♦Q\", \"♦K\", \"♣J\", \"♣Q\", \"♣K\", \"♠J\", \"♠Q\", \"♠K\"}\n",
    "\n",
    "for _ in range(n):\n",
    "    selected_set = random.choice([hearts, diamonds, clubs, spades])\n",
    "    \n",
    "    cards = random.choice(list(selected_set))\n",
    "    \n",
    "    if cards in hearts:\n",
    "        N_A_H += 1\n",
    "    if cards.endswith(\"K\"):\n",
    "        N_A_K += 1\n",
    "    if cards in red_cards:\n",
    "        N_A_RC += 1\n",
    "    if cards in face_cards:\n",
    "        N_A_FC += 1\n",
    "\n",
    "P_A_H = N_A_H / n\n",
    "P_A_K = N_A_K / n\n",
    "P_A_RC = N_A_RC / n\n",
    "P_A_FC = N_A_FC / n\n",
    "\n",
    "print(f\"Total Cards {n}\")\n",
    "print(f\"Number of Hearts occured = {P_A_H}\")\n",
    "print(f\"Number of Kings occured = {P_A_K}\")\n",
    "print(f\"Number of Red Cards occured = {P_A_RC}\")\n",
    "print(f\"Number of hearts Face Cards = {P_A_FC}\")\n",
    "\n"
   ]
  },
  {
   "cell_type": "markdown",
   "id": "fb682492",
   "metadata": {},
   "source": [
    "## **Classical Probability"
   ]
  },
  {
   "cell_type": "markdown",
   "id": "892578b9",
   "metadata": {},
   "source": [
    "Classical probability is used when all outcomes in the sample space are **equally likely**. It is based on theoretical assumptions rather than observations.  \n",
    "\n",
    "The probability of an event \\( A \\) is calculated as:  \n",
    "\n",
    "P(A) = N(A) / N(S) \n",
    "\n",
    "S: Sample Space (Outcome Space) ca be written as **Ω** \n",
    "\n",
    "where:  \n",
    "- N(A) is the number of ways event (A) can occur.  \n",
    "- N(S) is the total number of possible outcomes in the sample space.  \n",
    "\n",
    "This approach is commonly used in scenarios where each outcome has the same chance of occurring.  \n",
    "\n",
    "\n",
    "\n",
    "### **Key Difference**  \n",
    "| **Approach** | **Formula** | **Based On** | **Use Case** |\n",
    "|-------------|------------|-------------|-------------|\n",
    "| **Classical Probability** | P(A) = N(A) / N(S) | Theoretical assumptions | All outcomes equally likely |\n",
    "| **Relative Frequency** | P(A) = N(A) / n | Observed data | Real-world experiments |\n"
   ]
  },
  {
   "cell_type": "markdown",
   "id": "9bff1643",
   "metadata": {},
   "source": [
    "### **Understanding Probability with Axioms**\n",
    "\n",
    "Probability helps us measure **how likely** something is to happen. To make it formal, we follow three basic rules called **axioms of probability**:\n",
    "\n",
    "1. **Probability is always non-negative:**  \n",
    "   Every event \\( A \\) has a probability that is **never** less than zero:  \n",
    "   \\[\n",
    "   P(A) ≥ 0\n",
    "   \\]\n",
    "   This means we **can’t have negative probability**.\n",
    "\n",
    "2. **The probability of the entire sample space is 1:**  \n",
    "   The **sample space** \\( S \\) includes all possible outcomes. The total probability of all possible events must be 1:  \n",
    "   \\[\n",
    "   P(S) = 1\n",
    "   \\]\n",
    "   For example, if you roll a die, you **must** get a number between 1 and 6. The probability of getting *any* number (1, 2, 3, 4, 5, or 6) **adds up to 1**.\n",
    "\n",
    "3. **For mutually exclusive events, probabilities add up:**  \n",
    "   If two events \\( A_1 \\) and \\( A_2 \\) **cannot happen at the same time** (for example, rolling a 1 **or** rolling a 2 on a die), their combined probability is:  \n",
    "   \\[\n",
    "   P(A_1 ∪ A_2) = P(A_1) + P(A_2)\n",
    "   \\]\n",
    "   More generally, for **multiple** mutually exclusive events \\( A_1, A_2, A_3, \\dots \\), the probability of at least one of them happening is:  \n",
    "   \\[\n",
    "   P(A_1 ∪ A_2 ∪ A_3 ∪ ...) = P(A_1) + P(A_2) + P(A_3) + ...\n",
    "   \\]\n",
    "\n",
    "### **Example**\n",
    "- Suppose you **flip a coin**.  \n",
    "  - The probability of **getting heads** is \\( P(H) = 0.5 \\).\n",
    "  - The probability of **getting tails** is \\( P(T) = 0.5 \\).\n",
    "  - Since heads and tails **cannot happen at the same time**, the total probability is:  \n",
    "    \\[\n",
    "    P(H ∪ T) = P(H) + P(T) = 0.5 + 0.5 = 1\n",
    "    \\]\n",
    "  - This follows the **third axiom**.\n",
    "\n",
    "### **Summary**\n",
    "- **Probability is never negative** → \\( P(A) ≥ 0 \\)\n",
    "- **Total probability is 1** → \\( P(S) = 1 \\)\n",
    "- **If events can't happen together, their probabilities add up** → \\( P(A_1 ∪ A_2) = P(A_1) + P(A_2) \\)"
   ]
  },
  {
   "cell_type": "markdown",
   "id": "d55f2d76",
   "metadata": {},
   "source": [
    "## Continuous distributions"
   ]
  },
  {
   "cell_type": "markdown",
   "id": "bdb386d3",
   "metadata": {},
   "source": [
    "A continuous distribution characterizes a random variable whose possible outcomes form a continious set, typecally a bounded intervall or the entire real line.\n",
    "\n",
    "Continuous distributions use a probability density function ***PDF***.\n",
    "\n",
    "This function does not give probabilities directly; instead, the probability that the variable falls within a specific interval, is found by integrating the PDF over that interval.\n",
    "\n",
    "For a continuous random variable 𝑋 with PDF 𝑓(𝑥), the probability that 𝑋 lies between two values \n",
    "𝑎 and 𝑏 is given by:\n",
    "\n",
    "$$\n",
    "P(a \\leq X \\leq b) = \\int_a^b f(x) \\, dx\n",
    "$$\n"
   ]
  },
  {
   "cell_type": "markdown",
   "id": "d978d1be",
   "metadata": {},
   "source": [
    "The PDF is defined as:"
   ]
  },
  {
   "cell_type": "markdown",
   "id": "9f3352c5",
   "metadata": {},
   "source": [
    "$$\n",
    "f(x) =\n",
    "\\begin{cases}\n",
    "\\frac{1}{b - a}, & \\text{if } a \\le x \\le b \\\\\n",
    "0, & \\text{otherwise}\n",
    "\\end{cases}\n",
    "$$\n"
   ]
  },
  {
   "cell_type": "markdown",
   "id": "a2fb339b",
   "metadata": {},
   "source": [
    "For your specific interval where 𝑎 = 0.05432 and 𝑏 = 7.15758, the length of the interval is:"
   ]
  },
  {
   "cell_type": "markdown",
   "id": "57d553c9",
   "metadata": {},
   "source": [
    "$$\n",
    "b - a = 7.15758 - 0.05432 = 7.10326\n",
    "$$\n"
   ]
  },
  {
   "cell_type": "markdown",
   "id": "35f47f04",
   "metadata": {},
   "source": [
    "Therefore, the correct PDF is:"
   ]
  },
  {
   "cell_type": "markdown",
   "id": "9565131c",
   "metadata": {},
   "source": [
    "$$\n",
    "f(x) =\n",
    "\\begin{cases}\n",
    "\\frac{1}{7.10326}, & \\text{if } 0.05432 \\le x \\le 7.15758 \\\\\n",
    "0, & \\text{otherwise}\n",
    "\\end{cases}\n",
    "$$\n"
   ]
  },
  {
   "cell_type": "markdown",
   "id": "1ea3a4ac",
   "metadata": {},
   "source": [
    "This ensures that the total probability is:"
   ]
  },
  {
   "cell_type": "markdown",
   "id": "a9a8e341",
   "metadata": {},
   "source": [
    "$$\n",
    "\\int_{0.05432}^{7.15758} \\frac{1}{7.10326} \\, dx = \\frac{7.10326}{7.10326} = 1.\n",
    "$$\n"
   ]
  },
  {
   "cell_type": "markdown",
   "id": "f7d8616e",
   "metadata": {},
   "source": []
  }
 ],
 "metadata": {
  "kernelspec": {
   "display_name": "venv",
   "language": "python",
   "name": "python3"
  },
  "language_info": {
   "codemirror_mode": {
    "name": "ipython",
    "version": 3
   },
   "file_extension": ".py",
   "mimetype": "text/x-python",
   "name": "python",
   "nbconvert_exporter": "python",
   "pygments_lexer": "ipython3",
   "version": "3.12.6"
  }
 },
 "nbformat": 4,
 "nbformat_minor": 5
}
