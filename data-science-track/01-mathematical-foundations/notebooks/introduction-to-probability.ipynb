{
 "cells": [
  {
   "cell_type": "markdown",
   "id": "47f9bbce-7a0e-4cbc-b020-62556667c41f",
   "metadata": {},
   "source": [
    "# Introduction to Probability\n"
   ]
  },
  {
   "cell_type": "markdown",
   "id": "54c7a5e9",
   "metadata": {},
   "source": [
    "Probability is a branch of mathematics that deals with calculating the likelyhood of an event occuring. It helps us to understand an quantify uncertainty.\n",
    "\n",
    "It provides a mathimatical framework for modeling random phenomena and making predictions about outcomes."
   ]
  },
  {
   "cell_type": "markdown",
   "id": "1e261400-29b6-4a4a-bc94-0d5bc272a2a1",
   "metadata": {
    "jp-MarkdownHeadingCollapsed": true
   },
   "source": [
    "## Key Terms in Probability\n",
    "\n",
    "- **Experiment:** An action or process that leads to one of several possible outcomes.\n",
    "- **Sample Space (Outcome Space)(S or Ω):** The set of all possible outcomes of an experimant.\n",
    "- **Event:** The expectation of an specific outcome or set of outcomes of an experiment.\n",
    "- **Outcome:** A simple result from the *sample space*."
   ]
  },
  {
   "cell_type": "markdown",
   "id": "85be35c5-d889-48ad-8573-13ee8b017f65",
   "metadata": {},
   "source": [
    "## Events"
   ]
  },
  {
   "cell_type": "markdown",
   "id": "44ca74ee",
   "metadata": {},
   "source": [
    "\n",
    "- The (Sample Space) **S** is the collection of all possible outcomes of an random experiment.  \n"
   ]
  },
  {
   "cell_type": "markdown",
   "id": "23705595-41be-4ed9-842c-37c8d85ed244",
   "metadata": {},
   "source": [
    "### Example\n",
    "\n",
    "Suppose we randomly select a person and ask them, \"How many books do you own?\" In this case, our **sample space** is:\n",
    "\n",
    "S = {0,1,2,3,4,5,.....}\n",
    "\n",
    "We could set a practical upper limit, but some people might own hundreds or even thousands of books. So, we'll leave \n",
    "the sample space open to be as accurate as possible. Now, let's define some events:\n",
    "\n",
    "- Let **A** be the event that a randomly selected person owns no books:\n"
   ]
  },
  {
   "cell_type": "code",
   "execution_count": 1,
   "id": "b5157d64-1b80-42e9-b5e1-8f893af9b525",
   "metadata": {},
   "outputs": [],
   "source": [
    "A = {0}"
   ]
  },
  {
   "cell_type": "markdown",
   "id": "6f3a6faf",
   "metadata": {},
   "source": [
    "- Let **B** be the event that a person owns at least one book:"
   ]
  },
  {
   "cell_type": "code",
   "execution_count": 2,
   "id": "fc4a50e4-9136-48e3-991d-91e206e997c0",
   "metadata": {},
   "outputs": [],
   "source": [
    "B = {0,1,2,3,4,5,6,7,8,9}"
   ]
  },
  {
   "cell_type": "markdown",
   "id": "54223711-ef88-45e1-8a72-137cceb6bad9",
   "metadata": {},
   "source": [
    "- Let **C** be the event that a person owns no more than 10 books:"
   ]
  },
  {
   "cell_type": "code",
   "execution_count": 3,
   "id": "92ae4f15-9ae7-4f3b-a3d7-343c76bb25bf",
   "metadata": {},
   "outputs": [],
   "source": [
    "C = {0,1,2,3,4,5,6,7,8,9,10}"
   ]
  },
  {
   "cell_type": "markdown",
   "id": "742ec354-725b-4df7-a25a-ec5e1d2813bd",
   "metadata": {},
   "source": [
    "- Let **D** be the event that a person owns an even number of books:"
   ]
  },
  {
   "cell_type": "code",
   "execution_count": 4,
   "id": "8ede0a60-c4b0-489e-985a-603c349e90e5",
   "metadata": {},
   "outputs": [],
   "source": [
    "D = {0,2,4,6,8}"
   ]
  },
  {
   "cell_type": "markdown",
   "id": "892d03f6",
   "metadata": {},
   "source": [
    "### Basic Set Operations\n",
    "\n",
    "1. ∅ is the null set or empty set. This set does not contain any elements.\n",
    "\n",
    "2. $A \\cup B$ = union. Union contains all of the elements of set $A$ and all elements of set $B$.\n",
    "\n",
    "   <img src=\"https://raw.githubusercontent.com/KonstantinData/data-science-track/main/data-science-track/01-mathematical-foundations/resources/images/union-image.webp\" width=\"200\"/>\n",
    "\n"
   ]
  },
  {
   "cell_type": "code",
   "execution_count": 5,
   "id": "254b737c",
   "metadata": {},
   "outputs": [
    {
     "name": "stdout",
     "output_type": "stream",
     "text": [
      "{0, 1, 2, 3, 4, 5, 6, 7, 8, 9}\n"
     ]
    }
   ],
   "source": [
    "H = A | B # Union of A and B\n",
    "print(H)"
   ]
  },
  {
   "cell_type": "markdown",
   "id": "20bd4643",
   "metadata": {},
   "source": [
    "1. $A \\cap B$ = intersection. The intersection contains the elements that can be found in both $A$ and $B$, these elements are common for both sets.  \n",
    "   If $A \\cap B = \\emptyset$, then $A$ and $B$ are called **mutually exclusive events**.\n",
    "\n",
    "   <img src=\"https://raw.githubusercontent.com/KonstantinData/data-science-track/main/data-science-track/01-mathematical-foundations/resources/images/intersection-image.webp\" width=\"200\"/>\n",
    "\n"
   ]
  },
  {
   "cell_type": "code",
   "execution_count": 6,
   "id": "c6607a25",
   "metadata": {},
   "outputs": [
    {
     "name": "stdout",
     "output_type": "stream",
     "text": [
      "{0}\n"
     ]
    }
   ],
   "source": [
    "I = A & B # Intersection of A and B\n",
    "print(I)\n"
   ]
  },
  {
   "cell_type": "markdown",
   "id": "420fa712",
   "metadata": {},
   "source": [
    "1. $A' = A^C$ = complement. When we consider all of the possible elements, the complement to the set $A$ is all elements that do not belong to $A$.\n",
    "\n",
    "   <img src=\"https://raw.githubusercontent.com/KonstantinData/data-science-track/main/data-science-track/01-mathematical-foundations/resources/images/complement-image.webp\" width=\"200\"/>\n",
    "\n",
    "\n"
   ]
  },
  {
   "cell_type": "code",
   "execution_count": 7,
   "id": "286a0aaa",
   "metadata": {},
   "outputs": [
    {
     "name": "stdout",
     "output_type": "stream",
     "text": [
      "{1, 2, 3, 4, 5, 6, 7, 8, 9, 10, 11, 12, 13, 14, 15, 16, 17, 18, 19, 20}\n"
     ]
    }
   ],
   "source": [
    "Ω = set(range(0,21))\n",
    "\n",
    "A_complement = Ω - A \n",
    "print(A_complement)"
   ]
  },
  {
   "cell_type": "markdown",
   "id": "255bfb54",
   "metadata": {},
   "source": [
    "If $E \\cup F \\cup G \\dots = \\Omega$, then $E$, $F$, $G$, and so on are called **exhaustive events**.  \n",
    "So when the union of the sets makes the complete set of all the possible elements, they are called **exhaustive events**.\n",
    "\n",
    "---\n",
    "\n",
    "Now, let's define some composite events.\n",
    "\n",
    "- **The union of events $C$ and $D$** is the event that a randomly selected person either owns **no more than 10 books** or owns an **even number of books**. That is:\n",
    "\n",
    "  $$\n",
    "  C \\cup D = \\{0, 2, 4, 6, 8, 10, 12, 14, \\dots\\}\n",
    "  $$\n",
    "\n",
    "- **The intersection of events $A$ and $B$** is the event that a person owns **both no books and at least one book** at the same time. This is impossible, so:\n",
    "\n",
    "  $$\n",
    "  A \\cap B = \\emptyset\n",
    "  $$\n",
    "\n",
    "- **The complement of event $D$** is the event that a person owns an **odd number of books**. That is:\n",
    "\n",
    "  $$\n",
    "  D^c = \\{1, 3, 5, 7, \\dots\\}\n",
    "  $$\n",
    "\n",
    "- If we define events $E_0, E_1, E_2, \\dots$ such that:\n",
    "\n",
    "  $$\n",
    "  E_0 = \\{0\\}, \\quad E_1 = \\{1\\}, \\quad E_2 = \\{2\\}, \\dots\n",
    "  $$\n",
    "\n",
    "  then the events $E_0, E_1, E_2, \\dots$ are **exhaustive events**, meaning they cover all possible outcomes in the sample space."
   ]
  },
  {
   "cell_type": "markdown",
   "id": "5ae62bac",
   "metadata": {},
   "source": [
    "## Probabilities of the Events"
   ]
  },
  {
   "cell_type": "markdown",
   "id": "f0015f5c",
   "metadata": {},
   "source": [
    "**Probability**\n",
    "- a number between 0 and 1\n",
    "- a number closer to 0 means not likely\n",
    "- a number closer to 1 means quite likely\n",
    "- if probability of an event is exactly 0, then the event can’t occur\n",
    "- if the probability of an event is exactly 1, then the event will definitely occur"
   ]
  },
  {
   "cell_type": "markdown",
   "id": "b9791f10",
   "metadata": {},
   "source": [
    "### **Relative Frequency Approach to Probability**  \n",
    "\n",
    "The **relative frequency approach** estimates probability by **observing** how often an event \n",
    "occurs over repeated trials, rather than relying on assumptions.  \n",
    "\n",
    "---\n",
    "\n",
    "### **Steps to Calculate Probability Using Relative Frequency**\n",
    "\n",
    "1. **Perform the experiment multiple times** (n)  \n",
    "   - Repeat an experiment a large number of times.  \n",
    "   - Example: Rolling a die 100 times or flipping a coin 500 times.  \n",
    "\n",
    "2. **Count how often event (A) occurs** N(A)  \n",
    "   - Observe and record the number of times event (A) happens.  \n",
    "   - Example: If rolling a die, count how often a \"6\" appears.  \n",
    "\n",
    "3. **Calculate probability using the formula**  \n",
    "   \n",
    "   P(A) = N(A) / n\n",
    "\n",
    "   - **P(A)**  → Probability of event (A)  \n",
    "   - **N(A)**  → Number of times event (A) occurred  \n",
    "   - **n**     → Total number of trials  \n",
    "\n",
    "---\n",
    "\n",
    "### **Example Calculation**\n",
    "Suppose you flip a coin **1,000 times**, and it lands on **heads** **520 times**. The probability of heads is:  \n",
    "\n",
    "P(Heads) = N(520) / n(1000) = 0.52 (52%)\n",
    "\n",
    "---\n",
    "\n",
    "### **Key Takeaways**\n",
    "✔ **This method estimates probability using real data** instead of assumptions.  \n",
    "✔ **More trials (n) lead to a more accurate probability estimate.**  \n",
    "✔ **The formula P(A) = N(A) / n calculates probability from observed outcomes.**  \n",
    "\n",
    "Would you like a Python example to simulate this method? 🚀😊\n"
   ]
  },
  {
   "cell_type": "markdown",
   "id": "3582acfb",
   "metadata": {},
   "source": [
    "### **Relative Frequency Formula**  "
   ]
  },
  {
   "cell_type": "markdown",
   "id": "ec88c4d7",
   "metadata": {},
   "source": [
    "The probability of an event \\( A \\) occurring is estimated using the **relative frequency formula**:\n",
    "\n",
    "P(A) = N(A) / n\n",
    "\n",
    "where:\n",
    "- P(A) → Estimated probability of event \\( A \\)  \n",
    "- N(A) → Number of times event \\( A \\) occurs  \n",
    "- n → Total number of trials (experiments)\n"
   ]
  },
  {
   "cell_type": "code",
   "execution_count": 8,
   "id": "91588163",
   "metadata": {},
   "outputs": [
    {
     "name": "stdout",
     "output_type": "stream",
     "text": [
      "Total Trials (n): 10000 = Sample Space\n",
      "Occurrences of Heads (N_A): 5007 = Event\n",
      "Estimated Probability of Heads (P(A)): 0.5007 = Outcome\n"
     ]
    }
   ],
   "source": [
    "import random\n",
    "\n",
    "# Define experiment parameters\n",
    "n = 10000 # Sample Space\n",
    "N_A = 0 # Counts how often the Event occurs\n",
    "\n",
    "# Simulate coin flips\n",
    "for _ in range(n):\n",
    "    flip = random.choice([\"Kopf\",\"Zahl\"])\n",
    "    if flip == \"Kopf\":\n",
    "        N_A += 1\n",
    "\n",
    "# Calculate probability using relative frequency formula\n",
    "P_A = N_A / n # P_A (Probability A) = (Count EVENT A) / Sample Space\n",
    "\n",
    "print(f\"Total Trials (n): {n} = Sample Space\")\n",
    "print(f\"Occurrences of Heads (N_A): {N_A} = Event\")\n",
    "print(f\"Estimated Probability of Heads (P(A)): {P_A:.4f} = Outcome\")"
   ]
  },
  {
   "cell_type": "code",
   "execution_count": 9,
   "id": "f15e0140",
   "metadata": {},
   "outputs": [
    {
     "name": "stdout",
     "output_type": "stream",
     "text": [
      "Total Cards 52\n",
      "Number of Hearts occured = 0.21153846153846154\n",
      "Number of Kings occured = 0.07692307692307693\n",
      "Number of Red Cards occured = 0.4807692307692308\n",
      "Number of hearts Face Cards = 0.2692307692307692\n"
     ]
    }
   ],
   "source": [
    "import random\n",
    "\n",
    "n = 52\n",
    "N_A_H = 0\n",
    "N_A_K = 0\n",
    "N_A_RC = 0\n",
    "N_A_FC = 0\n",
    "\n",
    "hearts = {\"♥A\", \"♥2\", \"♥3\", \"♥4\", \"♥5\", \"♥6\", \"♥7\", \"♥8\", \"♥9\", \"♥10\", \"♥J\", \"♥Q\", \"♥K\"}\n",
    "diamonds = {\"♦A\", \"♦2\", \"♦3\", \"♦4\", \"♦5\", \"♦6\", \"♦7\", \"♦8\", \"♦9\", \"♦10\", \"♦J\", \"♦Q\", \"♦K\"}\n",
    "clubs = {\"♣A\", \"♣2\", \"♣3\", \"♣4\", \"♣5\", \"♣6\", \"♣7\", \"♣8\", \"♣9\", \"♣10\", \"♣J\", \"♣Q\", \"♣K\"}\n",
    "spades = {\"♠A\", \"♠2\", \"♠3\", \"♠4\", \"♠5\", \"♠6\", \"♠7\", \"♠8\", \"♠9\", \"♠10\", \"♠J\", \"♠Q\", \"♠K\"}\n",
    "\n",
    "red_cards = hearts | diamonds\n",
    "\n",
    "face_cards = {\"♥J\", \"♥Q\", \"♥K\", \"♦J\", \"♦Q\", \"♦K\", \"♣J\", \"♣Q\", \"♣K\", \"♠J\", \"♠Q\", \"♠K\"}\n",
    "\n",
    "for _ in range(n):\n",
    "    selected_set = random.choice([hearts, diamonds, clubs, spades])\n",
    "    \n",
    "    cards = random.choice(list(selected_set))\n",
    "    \n",
    "    if cards in hearts:\n",
    "        N_A_H += 1\n",
    "    if cards.endswith(\"K\"):\n",
    "        N_A_K += 1\n",
    "    if cards in red_cards:\n",
    "        N_A_RC += 1\n",
    "    if cards in face_cards:\n",
    "        N_A_FC += 1\n",
    "\n",
    "P_A_H = N_A_H / n\n",
    "P_A_K = N_A_K / n\n",
    "P_A_RC = N_A_RC / n\n",
    "P_A_FC = N_A_FC / n\n",
    "\n",
    "print(f\"Total Cards {n}\")\n",
    "print(f\"Number of Hearts occured = {P_A_H}\")\n",
    "print(f\"Number of Kings occured = {P_A_K}\")\n",
    "print(f\"Number of Red Cards occured = {P_A_RC}\")\n",
    "print(f\"Number of hearts Face Cards = {P_A_FC}\")\n",
    "\n"
   ]
  },
  {
   "cell_type": "markdown",
   "id": "fb682492",
   "metadata": {},
   "source": [
    "## **Classical Probability"
   ]
  },
  {
   "cell_type": "markdown",
   "id": "892578b9",
   "metadata": {},
   "source": [
    "Classical probability is used when all outcomes in the sample space are **equally likely**. It is based on theoretical assumptions rather than observations.  \n",
    "\n",
    "The probability of an event \\( A \\) is calculated as:  \n",
    "\n",
    "P(A) = N(A) / N(S) \n",
    "\n",
    "S: Sample Space (Outcome Space) ca be written as **S** or **Ω** \n",
    "\n",
    "where:  \n",
    "- N(A) is the number of ways event (A) can occur.  \n",
    "- N(S) is the total number of possible outcomes in the sample space.  \n",
    "\n",
    "This approach is commonly used in scenarios where each outcome has the same chance of occurring.  \n",
    "\n",
    "\n",
    "\n",
    "### **Key Difference**  \n",
    "| **Approach** | **Formula** | **Based On** | **Use Case** |\n",
    "|-------------|------------|-------------|-------------|\n",
    "| **Classical Probability** | P(A) = N(A) / N(S) | Theoretical assumptions | All outcomes equally likely |\n",
    "| **Relative Frequency** | P(A) = N(A) / n | Observed data | Real-world experiments |\n"
   ]
  },
  {
   "cell_type": "markdown",
   "id": "9bff1643",
   "metadata": {},
   "source": [
    "### **Understanding Probability with Axioms**\n",
    "\n",
    "Probability helps us measure **how likely** something is to happen. To make it formal, we follow three basic rules called **axioms of probability**:\n",
    "\n",
    "1. **Probability is always non-negative:**  \n",
    "   Every event \\( A \\) has a probability that is **never** less than zero:  \n",
    "   \\[\n",
    "   P(A) ≥ 0\n",
    "   \\]\n",
    "   This means we **can’t have negative probability**.\n",
    "\n",
    "2. **The probability of the entire sample space is 1:**  \n",
    "   The **sample space** \\( S \\) includes all possible outcomes. The total probability of all possible events must be 1:  \n",
    "   \\[\n",
    "   P(S) = 1\n",
    "   \\]\n",
    "   For example, if you roll a die, you **must** get a number between 1 and 6. The probability of getting *any* number (1, 2, 3, 4, 5, or 6) **adds up to 1**.\n",
    "\n",
    "3. **For mutually exclusive events, probabilities add up:**  \n",
    "   If two events \\( A_1 \\) and \\( A_2 \\) **cannot happen at the same time** (for example, rolling a 1 **or** rolling a 2 on a die), their combined probability is:  \n",
    "   \\[\n",
    "   P(A_1 ∪ A_2) = P(A_1) + P(A_2)\n",
    "   \\]\n",
    "   More generally, for **multiple** mutually exclusive events \\( A_1, A_2, A_3, \\dots \\), the probability of at least one of them happening is:  \n",
    "   \\[\n",
    "   P(A_1 ∪ A_2 ∪ A_3 ∪ ...) = P(A_1) + P(A_2) + P(A_3) + ...\n",
    "   \\]\n",
    "\n",
    "### **Example**\n",
    "- Suppose you **flip a coin**.  \n",
    "  - The probability of **getting heads** is \\( P(H) = 0.5 \\).\n",
    "  - The probability of **getting tails** is \\( P(T) = 0.5 \\).\n",
    "  - Since heads and tails **cannot happen at the same time**, the total probability is:  \n",
    "    \\[\n",
    "    P(H ∪ T) = P(H) + P(T) = 0.5 + 0.5 = 1\n",
    "    \\]\n",
    "  - This follows the **third axiom**.\n",
    "\n",
    "### **Summary**\n",
    "- **Probability is never negative** → \\( P(A) ≥ 0 \\)\n",
    "- **Total probability is 1** → \\( P(S) = 1 \\)\n",
    "- **If events can't happen together, their probabilities add up** → \\( P(A_1 ∪ A_2) = P(A_1) + P(A_2) \\)"
   ]
  },
  {
   "cell_type": "markdown",
   "id": "7f930629",
   "metadata": {},
   "source": [
    "# Additive and Multiplication Principles"
   ]
  },
  {
   "cell_type": "markdown",
   "id": "985834d6",
   "metadata": {},
   "source": [
    "## Additiv Principle"
   ]
  },
  {
   "cell_type": "markdown",
   "id": "fa80b258",
   "metadata": {},
   "source": [
    "The additive principle is used when selecting between to distinct options that cannot occur at the same time.\n",
    "\n",
    "Example:\n",
    "\n",
    "Selecting a snack: There are 3 types of fruit (apple, banana, orange) and 2 types of granola bars. Since one item can be choosen, the total number of ways to make a choice is:\n",
    "\n",
    "2 + 3 = 5\n",
    "\n",
    "So, there are 5 possible choices."
   ]
  },
  {
   "cell_type": "markdown",
   "id": "65956a42",
   "metadata": {},
   "source": [
    "## Multiplication Principle"
   ]
  },
  {
   "cell_type": "markdown",
   "id": "b6e73e67",
   "metadata": {},
   "source": [
    "The Multiplication Principle applies when making sequential or independent choises.\n",
    "\n",
    "Example:\n",
    "\n",
    "Picking an outfit. We have 4 shirts and 3 pairs of pants. To choose one shirt and one pair of pants, the total number of combinations is:\n",
    "\n",
    "3 x 4 = 12\n",
    "\n",
    "So, there are 12 possible outfit combinations.\n",
    "\n",
    "\n",
    "Combined Example:\n",
    "\n",
    "Cafeteria offering meal choices. We can choose either a sandwich (5 options) or a salad (3 options). If you decide to have a drink as well and there are 4 types of drinks, the total number of meal combinations depends on your choice:\n",
    "\n",
    "Choosing either a sandwich or salad:\n",
    "\n",
    "5 + 3 = 8\n",
    "\n",
    "Choosing a meal and a drink: \n",
    "\n",
    "(5 + 3) = 8 * 4 = 32 \n",
    "\n",
    "So, there are 32 possible meal and drink combinations."
   ]
  },
  {
   "cell_type": "markdown",
   "id": "3cd14a0e",
   "metadata": {},
   "source": [
    "## Permutations"
   ]
  },
  {
   "cell_type": "markdown",
   "id": "404776f8",
   "metadata": {},
   "source": [
    "**Introduction**\n",
    "\n",
    "Permutations refer to the number of ways to arrange a set of objects in an specific order.\n",
    "\n",
    "The order of arragenments ***matters*** in permutations.\n",
    "\n",
    "Example:\n",
    "\n",
    "Suppose we have 4 different books and you want to arrange them on a shelf.\n",
    " \n",
    "notion image:\n",
    "For the first position, we have 4 choices.\n",
    "For the second position, we have 3 remaining choices.\n",
    "For the third position, 2 choices.\n",
    "For the last position, 1 choice.\n",
    "\n",
    "By the Multiplication Principle, the total number of ways to arrange the books is:\n",
    "4 x 3 x 2 x 1 = 24\n",
    "\n",
    "So, there are 24 different ways to arrange 4 books."
   ]
  },
  {
   "cell_type": "markdown",
   "id": "6d5aae67",
   "metadata": {},
   "source": [
    "**A Generalisation of the Multiplication Principle**\n",
    "\n",
    "Suppose there are **$n$** positions to be filled with **$n$** different objects, in which there are:\n",
    "\n",
    "$n$ choises for the 1st position\n",
    "$n$ - 1 choises for the 2nd position\n",
    "$n$ - 2 choises for the 3rd position\n",
    "and\n",
    "1 choise for the last position.\n",
    "\n",
    "P($n$) = $n$ * ($n$-1) * ($n$-2) * 1 = 24\n",
    "\n"
   ]
  },
  {
   "cell_type": "code",
   "execution_count": 10,
   "id": "69042912",
   "metadata": {},
   "outputs": [
    {
     "name": "stdout",
     "output_type": "stream",
     "text": [
      "24\n"
     ]
    }
   ],
   "source": [
    "P_n = 4 * (4-1) * (4-2) * 1\n",
    "print(P_n) "
   ]
  },
  {
   "cell_type": "markdown",
   "id": "94e28bbd",
   "metadata": {},
   "source": [
    "## Arrangements"
   ]
  },
  {
   "cell_type": "markdown",
   "id": "283de76b",
   "metadata": {},
   "source": [
    "**Introduction**\n",
    "\n",
    "Arrangements, also known as placements or k-permutations, refer to the number of ways to arrange objects selected from a larger set of distinct objects, where the order of selection matters.\n",
    "\n",
    "Example:\n",
    "\n",
    "8 students are competing, and we need to select and arrange 3 of them for gold, silver, and bronze medals.\n"
   ]
  },
  {
   "cell_type": "code",
   "execution_count": 11,
   "id": "92cc94c6",
   "metadata": {},
   "outputs": [
    {
     "name": "stdout",
     "output_type": "stream",
     "text": [
      "336\n"
     ]
    }
   ],
   "source": [
    "P_n = 8 * 7 * 6\n",
    "print(P_n)"
   ]
  },
  {
   "cell_type": "code",
   "execution_count": 12,
   "id": "04b9fdfb",
   "metadata": {},
   "outputs": [
    {
     "name": "stdout",
     "output_type": "stream",
     "text": [
      "336\n"
     ]
    }
   ],
   "source": [
    "n = 8\n",
    "k = 3\n",
    "\n",
    "A_nk = n * (n-1) * (n-k+1)\n",
    "print(A_nk)"
   ]
  },
  {
   "cell_type": "markdown",
   "id": "7f4001ae",
   "metadata": {},
   "source": [
    "When $n$ = $k$, the permutation formula simplifies to:\n",
    "\n",
    "A($n$,$k$)=$n$!        $factorial$\n",
    "\n",
    "A(4,4) = 4 * 3 * 2 * 1 "
   ]
  },
  {
   "cell_type": "code",
   "execution_count": 13,
   "id": "c31704b1",
   "metadata": {},
   "outputs": [
    {
     "name": "stdout",
     "output_type": "stream",
     "text": [
      "336\n"
     ]
    }
   ],
   "source": [
    "# Excercise: 4-character password 0 - 9\n",
    "n = 10\n",
    "k = 4\n",
    "\n",
    "A_n = n * (n-1)*(n-2)*(n-k+1)\n",
    "print(P_n) "
   ]
  },
  {
   "cell_type": "markdown",
   "id": "02080a16",
   "metadata": {},
   "source": [
    "The choise of using A($n$,$k$) instead of P($n$,$k$) is mainly a matter of notation preference.\n",
    "By using A($n$,$k$), it becomes clear thet we are counting the number of orderd arrangements rather than calculating a probability."
   ]
  },
  {
   "cell_type": "markdown",
   "id": "202b06b0",
   "metadata": {},
   "source": [
    "## Combinations"
   ]
  },
  {
   "cell_type": "markdown",
   "id": "8341bc5c",
   "metadata": {},
   "source": [
    "**Introduction**\n",
    "\n",
    "In many situations, we are interested in selecting a group of items from a larger set without considering the order of selection. This type of selection is called a combination.\n",
    "\n",
    "Unlike arrangements or permutations, where the order matters, combinations focus only on which items are chosen, not the sequence in which they are selected."
   ]
  },
  {
   "cell_type": "markdown",
   "id": "6ec72a06",
   "metadata": {},
   "source": [
    "Example:\n",
    "\n",
    "We have a basket containing 5 different types of fruits. How many ways can we choose 3 types of fruit from the basket?\n"
   ]
  },
  {
   "cell_type": "code",
   "execution_count": 14,
   "id": "1486a1c8",
   "metadata": {},
   "outputs": [
    {
     "name": "stdout",
     "output_type": "stream",
     "text": [
      "60\n"
     ]
    }
   ],
   "source": [
    "P_n = 5 * 4 * 3\n",
    "print(P_n)"
   ]
  },
  {
   "cell_type": "markdown",
   "id": "b60aad26",
   "metadata": {},
   "source": [
    "So, there are 60 possible options. However, remember that in arrangements, the order of selection matters. For example, choosing banana, apple, and pear is considered different from choosing apple, banana, and pear—these are counted as two distinct outcomes."
   ]
  },
  {
   "cell_type": "markdown",
   "id": "6d97da81",
   "metadata": {},
   "source": [
    "In fact, there are 6 different ways to arrange the three fruits (banana, apple, and pear), calculated as 3! = 3×2×1 = 6.\n",
    "\n",
    "This means each unique group of fruits was counted six times instead of just once. To correct this, we need to divide the total number of arrangements by 6 to account for these repeated sequences."
   ]
  },
  {
   "cell_type": "code",
   "execution_count": 15,
   "id": "21e1aabb",
   "metadata": {},
   "outputs": [
    {
     "name": "stdout",
     "output_type": "stream",
     "text": [
      "Permutations (order matters): 60\n",
      "Combinations (order does not matter) - manual calculation: 10\n",
      "Combinations (using math.comb): 10\n"
     ]
    }
   ],
   "source": [
    "import math\n",
    "\n",
    "# --- Option A: Manual calculation using permutations, then dividing to remove ordering ---\n",
    "\n",
    "# 1. Permutations (if order matters)\n",
    "#    P(n, k) = n * (n-1) * ... * (n-k+1)\n",
    "#    This can be expressed as math.factorial(n) / math.factorial(n - k).\n",
    "n = 5\n",
    "k = 3\n",
    "\n",
    "permutations = math.factorial(n) / math.factorial(n - k)\n",
    "print(\"Permutations (order matters):\", int(permutations))  # results in 60\n",
    "\n",
    "# 2. Since order does not matter, we divide by k!:\n",
    "combinations_manual = permutations / math.factorial(k)\n",
    "print(\"Combinations (order does not matter) - manual calculation:\", int(combinations_manual))  # results in 10\n",
    "\n",
    "# --- Option B: Direct use of math.comb ---\n",
    "\n",
    "combinations_direct = math.comb(n, k)\n",
    "print(\"Combinations (using math.comb):\", combinations_direct)  # results in 10\n"
   ]
  },
  {
   "cell_type": "code",
   "execution_count": 16,
   "id": "525f7363",
   "metadata": {},
   "outputs": [
    {
     "name": "stdout",
     "output_type": "stream",
     "text": [
      "Permutations (order matters):  60\n",
      "Combinations (order does not matter) - manual calculation: 10\n",
      "Combinations (using math.comb): 10\n"
     ]
    }
   ],
   "source": [
    "n = 5\n",
    "k = 3\n",
    "\n",
    "permutations = math.factorial(n) / math.factorial(n-k)\n",
    "print(\"Permutations (order matters): \", int(permutations))\n",
    "\n",
    "combinations_manual = permutations / math.factorial(k)\n",
    "print(\"Combinations (order does not matter) - manual calculation:\", int(combinations_manual)) \n",
    "\n",
    "combinations_direct = math.comb(n,k)\n",
    "print(\"Combinations (using math.comb):\", combinations_direct)"
   ]
  },
  {
   "cell_type": "code",
   "execution_count": 17,
   "id": "616487b6",
   "metadata": {},
   "outputs": [
    {
     "name": "stdout",
     "output_type": "stream",
     "text": [
      "With three pieces per set, there are 120 to choose from.\n"
     ]
    }
   ],
   "source": [
    "# Exercise II\n",
    "\n",
    "t_shirt = 4\n",
    "shorts = 3\n",
    "socks = 3\n",
    "\n",
    "set = 3\n",
    "\n",
    "total_items = t_shirt+shorts+socks\n",
    "\n",
    "combinations = math.comb(total_items, set)\n",
    "print(f\"With three pieces per set, there are {int(combinations)} to choose from.\")\n",
    "\n"
   ]
  },
  {
   "cell_type": "code",
   "execution_count": 18,
   "id": "4289a7ab",
   "metadata": {},
   "outputs": [
    {
     "name": "stdout",
     "output_type": "stream",
     "text": [
      "720\n"
     ]
    }
   ],
   "source": [
    "# Exercice II - Dance Competition\n",
    "\n",
    "performers = 6\n",
    "sequences = 6\n",
    "\n",
    "performances = math.factorial(performers)\n",
    "print(int(performances))"
   ]
  },
  {
   "cell_type": "code",
   "execution_count": 19,
   "id": "15ba0942",
   "metadata": {},
   "outputs": [
    {
     "name": "stdout",
     "output_type": "stream",
     "text": [
      "210\n"
     ]
    }
   ],
   "source": [
    "# Exercice II - School Elections\n",
    "\n",
    "candidates = 7\n",
    "positions = 4\n",
    "\n",
    "result = math.factorial(candidates) / math.factorial(positions)\n",
    "print(int(result))\n"
   ]
  },
  {
   "cell_type": "code",
   "execution_count": 20,
   "id": "26c0a1a4",
   "metadata": {},
   "outputs": [
    {
     "name": "stdout",
     "output_type": "stream",
     "text": [
      "495\n"
     ]
    }
   ],
   "source": [
    "# Exercise 3: Forming a Committee\n",
    "\n",
    "candidates = 12\n",
    "members = 4\n",
    "\n",
    "\n",
    "combinations = math.comb(candidates, members)\n",
    "print(int(combinations))"
   ]
  },
  {
   "cell_type": "code",
   "execution_count": 21,
   "id": "99e22a79",
   "metadata": {},
   "outputs": [
    {
     "name": "stdout",
     "output_type": "stream",
     "text": [
      "The probability of the code generated to be 12345 is 1 to 30240\n"
     ]
    }
   ],
   "source": [
    "# Exercise 4: Passcode\n",
    "code_source = [0,1,2,3,4,5,6,7,8,9]\n",
    "n = len(code_source)\n",
    "k = 5\n",
    "\n",
    "result = math.factorial(n) / math.factorial(k) \n",
    "print(f\"The probability of the code generated to be 12345 is 1 to {int(result)}\")"
   ]
  },
  {
   "cell_type": "code",
   "execution_count": 22,
   "id": "8e3704df",
   "metadata": {},
   "outputs": [
    {
     "name": "stdout",
     "output_type": "stream",
     "text": [
      "3628800\n",
      "5040\n",
      "720\n"
     ]
    }
   ],
   "source": [
    "# Exercise 5:  Raffle Competition\n",
    "\n",
    "raffle_participants = 10\n",
    "k = 3\n",
    "ranks = raffle_participants - k\n",
    "\n",
    "''' ranking_result = math.factorial(raffle_participants) // math.factorial(ranks)\n",
    "    print(ranking_result)  # 720\n",
    "'''\n",
    "result_raffle = math.factorial(raffle_participants)\n",
    "print(result_raffle)\n",
    "result_ranks = math.factorial(ranks)\n",
    "print(result_ranks)\n",
    "result_combined = result_raffle // result_ranks\n",
    "print(result_combined)\n",
    "\n",
    "# Using integer division (//) is cleaner  \n",
    "# The result is always an integer\n",
    "\n"
   ]
  },
  {
   "cell_type": "code",
   "execution_count": 23,
   "id": "05a2c7ff",
   "metadata": {},
   "outputs": [
    {
     "name": "stdout",
     "output_type": "stream",
     "text": [
      "720\n"
     ]
    }
   ],
   "source": [
    "# Using math.perm()\n",
    "\n",
    "p_rank = math.perm(10,3)\n",
    "print(p_rank)"
   ]
  },
  {
   "cell_type": "markdown",
   "id": "f7429e6a",
   "metadata": {},
   "source": [
    "# Conditional Probability"
   ]
  },
  {
   "cell_type": "markdown",
   "id": "222dddc8",
   "metadata": {},
   "source": [
    "**Introduction**\n",
    "\n",
    "In many real world situations, the probability of an event depends on wether an other event has occured .This relationship is captured by conditional probability. "
   ]
  },
  {
   "cell_type": "markdown",
   "id": "2dff04a7",
   "metadata": {},
   "source": [
    "**Definition of conditional probabilty**\n",
    "\n",
    "The conditional probability of event A given that event B has occured is denoted as P(A|B)\n",
    "and is defined as:\n",
    "\n",
    "$\n",
    "P(A|B) = \\frac{P(A\\cap B)}{P(B)} \\quad \\text{where } P(B) > 0\n",
    "$"
   ]
  },
  {
   "cell_type": "markdown",
   "id": "61378e17",
   "metadata": {},
   "source": [
    "### Practicing Examples"
   ]
  },
  {
   "cell_type": "markdown",
   "id": "c5891921",
   "metadata": {},
   "source": [
    "#### Example - Drawing a Ball"
   ]
  },
  {
   "cell_type": "markdown",
   "id": "72c86b74",
   "metadata": {},
   "source": [
    "A box contains 6 white balls and 4 red balls. We randomly (and without replacement) draw two balls from the box. What is the probability that the second ball selected is red, given that the first ball selected is white?"
   ]
  },
  {
   "cell_type": "markdown",
   "id": "2a2cf2c9",
   "metadata": {},
   "source": [
    "The correct way to apply the conditional probability formula would be to work through the example as follows:  \n",
    "\n",
    "*Corrected Example 1: Drawing a Ball*  \n",
    "\n",
    "A box contains *6 white balls* and *4 red balls*. We randomly (and without replacement) draw two balls from the box. What is the probability that the second ball selected is *red*, given that the first ball selected is *white*?  \n",
    "\n",
    "*Solution*  \n",
    "Using the conditional probability formula:  \n",
    "P(A | B) = P(A ∩ B) / P(B)  \n",
    "\n",
    "where:  \n",
    "- *A* is the event that the *second ball is red*.  \n",
    "- *B* is the event that the *first ball is white*.  \n",
    "\n",
    "*Step 1: Calculate P(A ∩ B)*  \n",
    "The probability of both events occurring together (drawing a white ball first and a red ball second) is:  \n",
    "P(A ∩ B) = P(B) × P(A | B)  \n",
    "\n",
    "First, calculate *P(B)* (probability of drawing a white ball first):  \n",
    "P(B) = 6/10 = 0.6  \n",
    "\n",
    "Then, calculate *P(A | B)* (probability of drawing a red ball second, given that the first was white):  \n",
    "P(A | B) = 4/9  \n",
    "\n",
    "Now, multiply to find *P(A ∩ B)*:  \n",
    "P(A ∩ B) = (6/10) × (4/9) = 24/90 ≈ 0.267  \n",
    "\n",
    "*Step 2: Apply the Conditional Probability Formula*  \n",
    "P(A | B) = P(A ∩ B) / P(B) = (24/90) / (6/10) = 4/9 ≈ 0.44  \n",
    "\n",
    "Thus, the probability that the second ball drawn is red, given that the first was white, is *0.44 (or 4/9).*  \n"
   ]
  },
  {
   "cell_type": "code",
   "execution_count": 45,
   "id": "b34a61df",
   "metadata": {},
   "outputs": [
    {
     "name": "stdout",
     "output_type": "stream",
     "text": [
      "The probability of drawing a white ball first is 0.60\n",
      "The probability of drawing a red ball given a white ball has been drawn is 0.44\n",
      "The probability of drawing a red and white ball is 0.267\n",
      "The probability of second red given white occured is 0.444\n"
     ]
    }
   ],
   "source": [
    "from fractions import Fraction\n",
    "\n",
    "total = 10\n",
    "red = 4\n",
    "white = 6\n",
    "\n",
    "P_white = Fraction(white, total)\n",
    "print(f\"The probability of drawing a white ball first is {float(P_white):.2f}\")\n",
    "\n",
    "P_red = Fraction(red, total-1)\n",
    "print(f\"The probability of drawing a red ball given a white ball has been drawn is {float(P_red):.2f}\")\n",
    "\n",
    "P_red_and_white = P_white * P_red\n",
    "print(f\"The probability of drawing a red and white ball is {float(P_red_and_white):.3f}\")\n",
    "\n",
    "P_second_red_given_white = P_red_and_white / P_white\n",
    "print(f\"The probability of second red given white occured is {float(P_red):.3f}\")\n",
    "\n",
    "\n"
   ]
  },
  {
   "cell_type": "markdown",
   "id": "01ac8a68",
   "metadata": {},
   "source": [
    "#### Example 2: Deck of Cards"
   ]
  },
  {
   "cell_type": "markdown",
   "id": "8f84be34",
   "metadata": {},
   "source": [
    "What is the probability that two cards drawn from a 36-card deck belong to the same suit?"
   ]
  },
  {
   "cell_type": "code",
   "execution_count": 82,
   "id": "e311e77a",
   "metadata": {},
   "outputs": [
    {
     "name": "stdout",
     "output_type": "stream",
     "text": [
      "9.0 cards in a siut\n",
      "36 cards in this deck\n",
      "The probability of A is 0.25\n",
      "The probability of A given B is 0.23\n",
      "The probability of A and B is 0.06\n",
      "The 'final' probability of A given B is 0.23\n"
     ]
    }
   ],
   "source": [
    "# If we assume that there are 4 suits:\n",
    "\n",
    "\n",
    "card_deck = 36\n",
    "suits = 4\n",
    "\n",
    "n = int(card_deck / suits)\n",
    "print(f\"{(card_deck / suits)} cards in a siut\")\n",
    "\n",
    "k = int(card_deck)\n",
    "print(f\"{(card_deck)} cards in this deck\")\n",
    "\n",
    "P_a = Fraction(n,k)\n",
    "print(f\"The probability of A is {float(P_a):.2f}\")\n",
    "\n",
    "P_b_given_a = Fraction(n-1,k-1)\n",
    "print(f\"The probability of A given B is {float(P_b_given_a):.2f}\")\n",
    "\n",
    "P_a_and_b = P_a * P_b_given_a\n",
    "print(f\"The probability of A and B is {float(P_a_and_b):.2f}\")\n",
    "\n",
    "P_b_given_a_final = Fraction(P_a_and_b, P_a)\n",
    "print(f\"The 'final' probability of A given B is {float(P_b_given_a_final):.2f}\")"
   ]
  },
  {
   "cell_type": "markdown",
   "id": "fb8f46c2",
   "metadata": {},
   "source": [
    "#### Example: Drawer of Socks"
   ]
  },
  {
   "cell_type": "markdown",
   "id": "b93fcc2d",
   "metadata": {},
   "source": [
    "A drawer contains 6 black socks and 4 white socks. Two socks are drawn randomly, one after the other without replacement.\n",
    "- a) What is the probability that the first sock is black and the second sock is also black?\n",
    "- b) Use the multiplication rule to calculate the joint probability of both events."
   ]
  },
  {
   "cell_type": "code",
   "execution_count": null,
   "id": "27cd8b39",
   "metadata": {},
   "outputs": [
    {
     "name": "stdout",
     "output_type": "stream",
     "text": [
      "The probability the 1st sock to be black is 0.60\n",
      "The probability the 2nd sock to be black is 0.56\n",
      "The probability the 1st and 2md sock is black is 0.33\n"
     ]
    }
   ],
   "source": [
    "total_socks = 10\n",
    "black_socks = 6\n",
    "white_socks = 4\n",
    "\n",
    "# P(A|B) = P(A_and_B) / P(B)\n",
    "\n",
    "P_Ex_a1 = Fraction(black_socks,total_socks)\n",
    "print(f\"The probability the 1st sock to be black is {float(P_Ex_a1):.2f}\")\n",
    "\n",
    "P_Ex_a2 = Fraction(black_socks-1,total_socks-1)\n",
    "print(f\"The probability the 2nd sock to be black is {float(P_Ex_a2):.2f}\")\n",
    "\n",
    "P_Ex_b = P_Ex_a1 * P_Ex_a2\n",
    "print(f\"The probability the 1st and 2md sock is black is {float(P_Ex_b):.2f}\")\n"
   ]
  },
  {
   "cell_type": "markdown",
   "id": "e0fd3bf6",
   "metadata": {},
   "source": [
    "#### Exercise: 1"
   ]
  },
  {
   "cell_type": "markdown",
   "id": "ed06c735",
   "metadata": {},
   "source": [
    "A bag contains 5 red, 3 blue, and 2 green marbles. If a marble is drawn and is known to be not red, what is the probability that it is blue?"
   ]
  },
  {
   "cell_type": "code",
   "execution_count": 98,
   "id": "3d896135",
   "metadata": {},
   "outputs": [
    {
     "name": "stdout",
     "output_type": "stream",
     "text": [
      "total_marbels: 10\n",
      "The probability that the marbel can be blue is 0.60\n"
     ]
    }
   ],
   "source": [
    "#Marbel Colors\n",
    "red = 5\n",
    "blue = 3\n",
    "green = 2\n",
    "\n",
    "total_marbels = sum([red,blue,green])\n",
    "print(f\"total_marbels: {total_marbels}\")\n",
    "\n",
    "# P(A|B) = P(A_and_B) / P(B)\n",
    "\n",
    "P_blue = Fraction(blue, total_marbels - red)\n",
    "print(f\"The probability that the marbel can be blue is {float(P_blue):.2f}\")\n"
   ]
  },
  {
   "cell_type": "markdown",
   "id": "959dabc1",
   "metadata": {},
   "source": [
    "#### Excercise: 2"
   ]
  },
  {
   "cell_type": "markdown",
   "id": "fffe23d1",
   "metadata": {},
   "source": [
    "A company has 60 employees, 20 of whom are in management. If a randomly selected employee is in a meeting and 15 managers are currently in meetings while 25 non-managers are also in meeting, what is the probability that the employee is a manager?"
   ]
  },
  {
   "cell_type": "code",
   "execution_count": null,
   "id": "d4d2a0c4",
   "metadata": {},
   "outputs": [
    {
     "name": "stdout",
     "output_type": "stream",
     "text": [
      "This is the probability that a randomly selected meeting attendee is a manager: 0.375\n"
     ]
    }
   ],
   "source": [
    "total_employees = 60\n",
    "management_positions = 20\n",
    "\n",
    "meeting_attend = 40\n",
    "mng_attend = 15\n",
    "non_mng_attend = 25\n",
    "\n",
    "# Since we are selecting an employee randomly from all 60 employees, the probability \n",
    "# that the chosen employee is a manager in the meeting is:\n",
    "\n",
    "P_mng_and_meeting = Fraction(mng_attend,total_employees)\n",
    "\n",
    "# Since we are selecting an employee randomly from all 60 employees, the probability \n",
    "# that the chosen employee is in the meeting is:\n",
    "\n",
    "P_meeting = Fraction(meeting_attend,total_employees)\n",
    "\n",
    "# Now, using the conditional probability formula:\n",
    "\n",
    "P_mng_given_meeting = Fraction(P_mng_and_meeting,P_meeting)\n",
    "print(f\"This is the probability that a randomly selected meeting attendee is a manager: {float(P_mng_given_meeting):.3f}\")"
   ]
  },
  {
   "cell_type": "markdown",
   "id": "ea2e6d64",
   "metadata": {},
   "source": [
    "#### Excercise 3"
   ]
  },
  {
   "cell_type": "markdown",
   "id": "080f2f6e",
   "metadata": {},
   "source": [
    "A factory produces 100 lightbulbs, of which 10 are defective. Two lightbulbs are selected randomly, one after the other without replacement.\n",
    "- a) What is the probability that the first lightbulb selected is defective and the second lightbulb is not defective?\n",
    "- b) Use the multiplication rule to calculate the joint probability of these two events."
   ]
  },
  {
   "cell_type": "code",
   "execution_count": 143,
   "id": "b6b91369",
   "metadata": {},
   "outputs": [
    {
     "name": "stdout",
     "output_type": "stream",
     "text": [
      "Selecting not defective lightbulb after the first is 0.909\n",
      "Selecting defective lightbulb and non defective right after it is 0.091\n"
     ]
    }
   ],
   "source": [
    "total_bulbs = 100\n",
    "defectiv_bulbs = 10\n",
    "n = 1\n",
    "\n",
    "# P(B|A) = Probability B 2nd bulb = not defectiv given A 1st bulb is defective\n",
    "\n",
    "P_defefectiv = Fraction(defectiv_bulbs,total_bulbs)\n",
    "\n",
    "P_not_defective = Fraction(total_bulbs-defectiv_bulbs,total_bulbs-1)\n",
    "print(f\"Selecting not defective lightbulb after the first is {float(P_not_defective):.3f}\")\n",
    "\n",
    "P_defefectiv_and_not_defective = P_defefectiv * P_not_defective\n",
    "print(f\"Selecting defective lightbulb and non defective right after it is {float(P_defefectiv_and_not_defective):.3f}\")\n",
    "\n",
    "\n"
   ]
  },
  {
   "cell_type": "markdown",
   "id": "4686de80",
   "metadata": {},
   "source": [
    "# Independent and Dependent Events"
   ]
  }
 ],
 "metadata": {
  "kernelspec": {
   "display_name": "venv",
   "language": "python",
   "name": "python3"
  },
  "language_info": {
   "codemirror_mode": {
    "name": "ipython",
    "version": 3
   },
   "file_extension": ".py",
   "mimetype": "text/x-python",
   "name": "python",
   "nbconvert_exporter": "python",
   "pygments_lexer": "ipython3",
   "version": "3.12.6"
  }
 },
 "nbformat": 4,
 "nbformat_minor": 5
}
