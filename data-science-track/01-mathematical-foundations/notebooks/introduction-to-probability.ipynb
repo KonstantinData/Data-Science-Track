{
 "cells": [
  {
   "cell_type": "markdown",
   "id": "47f9bbce-7a0e-4cbc-b020-62556667c41f",
   "metadata": {},
   "source": [
    "# Introduction to Probability\n",
    "\n",
    "Probability is a branch of mathematics that deals with calculating the likelyhood of an event occuring. It helps us to understand an quantify uncertainty.\n",
    "\n",
    "It provides a mathimatical framework for modeling random phenomena and making predictions about outcomes.\n"
   ]
  },
  {
   "cell_type": "markdown",
   "id": "1e261400-29b6-4a4a-bc94-0d5bc272a2a1",
   "metadata": {
    "jp-MarkdownHeadingCollapsed": true
   },
   "source": [
    "## Key Terms in Probability\n",
    "\n",
    "- **Experiment:** An action or process that leads to one of several possible outcomes.\n",
    "- **Sample Space (Outcome Space):** The set of all possible outcomes of an experimant.\n",
    "- **Event:** The expectation of an specific outcome or set of outcomes of an experiment.\n",
    "- **Outcome:** A simple result from the *sample space*."
   ]
  },
  {
   "cell_type": "markdown",
   "id": "85be35c5-d889-48ad-8573-13ee8b017f65",
   "metadata": {},
   "source": [
    "## Events\n",
    "\n",
    "- The (Sample Space) **S** is the collection of all possible outcomes of an random experiment.  \n"
   ]
  },
  {
   "cell_type": "markdown",
   "id": "23705595-41be-4ed9-842c-37c8d85ed244",
   "metadata": {},
   "source": [
    "### Example\n",
    "\n",
    "Suppose we randomly select a person and ask them, \"How many books do you own?\" In this case, our **sample space** is:\n",
    "\n",
    "S = {o,1,2,3,4,5,.....}\n",
    "\n",
    "We could set a practical upper limit, but some people might own hundreds or even thousands of books. So, we'll leave \n",
    "the sample space open to be as accurate as possible. Now, let's define some events:\n",
    "\n",
    "- Let **A** be the event that a randomly selected person owns no books:\n"
   ]
  },
  {
   "cell_type": "code",
   "execution_count": null,
   "id": "b5157d64-1b80-42e9-b5e1-8f893af9b525",
   "metadata": {},
   "outputs": [],
   "source": [
    "A = {0}"
   ]
  },
  {
   "cell_type": "markdown",
   "id": "6f3a6faf",
   "metadata": {},
   "source": [
    "- Let **B** be the event that a person owns at least one book:"
   ]
  },
  {
   "cell_type": "code",
   "execution_count": null,
   "id": "fc4a50e4-9136-48e3-991d-91e206e997c0",
   "metadata": {},
   "outputs": [],
   "source": [
    "B = {1,2,3,4,5,6,7,8,9}"
   ]
  },
  {
   "cell_type": "markdown",
   "id": "54223711-ef88-45e1-8a72-137cceb6bad9",
   "metadata": {},
   "source": [
    "- Let **C** be the event that a person owns no more than 10 books:"
   ]
  },
  {
   "cell_type": "code",
   "execution_count": null,
   "id": "92ae4f15-9ae7-4f3b-a3d7-343c76bb25bf",
   "metadata": {},
   "outputs": [],
   "source": [
    "C = {0,1,2,3,4,5,6,7,8,9,10}"
   ]
  },
  {
   "cell_type": "markdown",
   "id": "742ec354-725b-4df7-a25a-ec5e1d2813bd",
   "metadata": {},
   "source": [
    "- Let **D** be the event that a person owns an even number of books:"
   ]
  },
  {
   "cell_type": "code",
   "execution_count": null,
   "id": "8ede0a60-c4b0-489e-985a-603c349e90e5",
   "metadata": {},
   "outputs": [],
   "source": [
    "D = {0,2,4,6,8}"
   ]
  },
  {
   "cell_type": "markdown",
   "id": "892d03f6",
   "metadata": {},
   "source": [
    "### Basic Set Operations\n",
    "\n",
    "1. ∅ is the null set or empty set. This set does not contain any elements.\n",
    "\n",
    "2. $A \\cup B$ = union. Union contains all of the elements of set $A$ and all elements of set $B$.\n",
    "\n",
    "   ![Union](https://github.com/KonstantinData/data-science-track/blob/main/data-science-track/01-mathematical-foundations/resources/images/union-image.webp)\n",
    "\n",
    "3. $A \\cap B$ = intersection. The intersection contains the elements that can be found in both $A$ and $B$, these elements are common for both sets.  \n",
    "   If $A \\cap B = \\emptyset$, then $A$ and $B$ are called **mutually exclusive events**.\n",
    "\n",
    "   ![Intersection](https://github.com/KonstantinData/data-science-track/blob/main/data-science-track/01-mathematical-foundations/resources/images/intersection-image.webp)\n",
    "\n",
    "4. $A' = A^C$ = complement. When we consider all of the possible elements, the complement to the set $A$ is all elements that do not belong to $A$.\n",
    "\n",
    "   ![Complement](https://github.com/KonstantinData/data-science-track/blob/main/data-science-track/01-mathematical-foundations/resources/images/complement-image.webp)\n",
    "\n",
    "5. If $E \\cup F \\cup G \\dots = \\Omega$, then $E$, $F$, $G$, and so on are called **exhaustive events**.  \n",
    "   So when the union of the sets makes the complete set of all the possible elements, they are called exhaustive events.\n"
   ]
  }
 ],
 "metadata": {
  "kernelspec": {
   "display_name": "venv",
   "language": "python",
   "name": "python3"
  },
  "language_info": {
   "codemirror_mode": {
    "name": "ipython",
    "version": 3
   },
   "file_extension": ".py",
   "mimetype": "text/x-python",
   "name": "python",
   "nbconvert_exporter": "python",
   "pygments_lexer": "ipython3",
   "version": "3.12.6"
  }
 },
 "nbformat": 4,
 "nbformat_minor": 5
}
