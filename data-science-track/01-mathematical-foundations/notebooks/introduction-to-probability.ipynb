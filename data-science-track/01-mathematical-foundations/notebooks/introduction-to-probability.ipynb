{
 "cells": [
  {
   "cell_type": "markdown",
   "id": "47f9bbce-7a0e-4cbc-b020-62556667c41f",
   "metadata": {},
   "source": [
    "# Introduction to Probability\n",
    "\n",
    "Probability is a branch of mathematics that deals with calculating the likelyhood of an event occuring. It helps us to understand an quantify uncertainty.\n",
    "\n",
    "It provides a mathimatical framework for modeling random phenomena and making predictions about outcomes.\n"
   ]
  },
  {
   "cell_type": "markdown",
   "id": "1e261400-29b6-4a4a-bc94-0d5bc272a2a1",
   "metadata": {},
   "source": [
    "## Key Terms in Probability\n",
    "\n",
    "- **Experiment:** An action or process that leads to one of several possible outcomes.\n",
    "- **Sample Space:** The set of all possible outcomes of an experimant.\n",
    "- **Event:** The expectation of an specific outcome or set of outcomes of an experiment.\n",
    "- **Outcome:** A simple result from the *sample space*."
   ]
  },
  {
   "cell_type": "code",
   "execution_count": null,
   "id": "af3278bf-1edb-487a-8880-cf4d6322796f",
   "metadata": {},
   "outputs": [],
   "source": []
  }
 ],
 "metadata": {
  "kernelspec": {
   "display_name": "Python 3 (ipykernel)",
   "language": "python",
   "name": "python3"
  },
  "language_info": {
   "codemirror_mode": {
    "name": "ipython",
    "version": 3
   },
   "file_extension": ".py",
   "mimetype": "text/x-python",
   "name": "python",
   "nbconvert_exporter": "python",
   "pygments_lexer": "ipython3",
   "version": "3.12.6"
  }
 },
 "nbformat": 4,
 "nbformat_minor": 5
}
