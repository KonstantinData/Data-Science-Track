{
 "cells": [
  {
   "cell_type": "markdown",
   "metadata": {},
   "source": [
    "# Probability"
   ]
  },
  {
   "cell_type": "markdown",
   "metadata": {},
   "source": [
    "- Foundation of Data Science\n",
    "- Allows to produce data from models\n",
    "- Study regularities in randon phenomena\n",
    "    + The rule of large numbers\n",
    "    + Repeating an experiment many times the outcomes\n",
    "    show patterns approaching to the mean."
   ]
  },
  {
   "cell_type": "markdown",
   "metadata": {},
   "source": [
    "### Let´s flip a coin**\n",
    "\n"
   ]
  },
  {
   "cell_type": "markdown",
   "metadata": {},
   "source": [
    "Only two outcomes\n",
    "- This random experiment is called a Bernoulli trial, after Jacob Bernoulli."
   ]
  },
  {
   "cell_type": "markdown",
   "metadata": {},
   "source": [
    "Possible outcomes are binary (two possible outcomes): the can be modeled as success or failure, yes or no, or on or off. \n",
    "\n",
    "Each outcom is called an **event**\n",
    "\n",
    "- We assining probabilities to the event"
   ]
  },
  {
   "cell_type": "code",
   "execution_count": 2,
   "metadata": {},
   "outputs": [
    {
     "data": {
      "text/plain": [
       "array([0, 0, 1, 0, 0, 1, 1, 1, 0, 0])"
      ]
     },
     "execution_count": 2,
     "metadata": {},
     "output_type": "execute_result"
    }
   ],
   "source": [
    "from scipy.stats import bernoulli\n",
    "bernoulli.rvs(p=0.5, size=10) \n",
    "\n",
    "# .rvs creates random samples from the Bernoulli distribution.\n",
    "# p=0.5 The probability of success (1) is 50%, and the probability of failure (0) is also 50%\n",
    "# size=1 Generates one random sample. In this case number of coin flips = 1"
   ]
  },
  {
   "cell_type": "code",
   "execution_count": null,
   "metadata": {},
   "outputs": [
    {
     "data": {
      "text/plain": [
       "np.int64(5)"
      ]
     },
     "execution_count": 11,
     "metadata": {},
     "output_type": "execute_result"
    }
   ],
   "source": [
    "# How many heads?\n",
    "\n",
    "sum(bernoulli.rvs(p=0.5, size=10))"
   ]
  },
  {
   "cell_type": "markdown",
   "metadata": {},
   "source": [
    "**Fliiping multiple coins**"
   ]
  },
  {
   "cell_type": "markdown",
   "metadata": {},
   "source": [
    "Generating a **Binomial Random Variable** in Python: \n",
    "\n",
    "Understanding\n",
    "- n (trials)\n",
    "- p (succes probability)\n",
    "- size (number of draws)"
   ]
  },
  {
   "cell_type": "markdown",
   "metadata": {},
   "source": [
    "#### Fair Coin"
   ]
  },
  {
   "cell_type": "markdown",
   "metadata": {},
   "source": [
    "A **fair coin** is a coin where the probabilities of landing on heads or tails are **equal**, meaning each outcome has a probability of **0.5**. This ensures that over many flips, heads and tails occur approximately **equally often**."
   ]
  },
  {
   "cell_type": "code",
   "execution_count": 3,
   "metadata": {},
   "outputs": [
    {
     "data": {
      "text/plain": [
       "array([4, 4, 5, 5, 8, 7, 7, 5, 5, 4])"
      ]
     },
     "execution_count": 3,
     "metadata": {},
     "output_type": "execute_result"
    }
   ],
   "source": [
    "from scipy.stats import binom\n",
    "binom.rvs(n=10, p=0.5, size=10) "
   ]
  },
  {
   "cell_type": "markdown",
   "metadata": {},
   "source": [
    "#### Biased coin draws"
   ]
  },
  {
   "cell_type": "markdown",
   "metadata": {},
   "source": [
    "\n",
    "In a biased coin , one outcome is more likely than the other.\n",
    "\n",
    "For example:"
   ]
  },
  {
   "cell_type": "code",
   "execution_count": 4,
   "metadata": {},
   "outputs": [
    {
     "data": {
      "text/plain": [
       "array([2, 4, 1, 2, 1, 5, 1, 2, 4, 3])"
      ]
     },
     "execution_count": 4,
     "metadata": {},
     "output_type": "execute_result"
    }
   ],
   "source": [
    "binom.rvs(n=10, p=0.3, size=10) # Probability p=0.3"
   ]
  },
  {
   "cell_type": "markdown",
   "metadata": {},
   "source": [
    "#### Biased Coin Explanation"
   ]
  },
  {
   "cell_type": "markdown",
   "metadata": {},
   "source": [
    "This concept is often used probabilility theory, statistics, and machine learning to model non uniform random events, such as:\n",
    "- Weighted random sampling\n",
    "- Bayesian probability models\n",
    "- Simulating real world probabilities (e..g., unfair dice, genetics, or market trends)\n",
    "\n",
    "    - Slight bias:\n",
    "        + P(H) = 0.55, P(T) = 0.45\n",
    "        + Coin is slightly biased toward heads.\n",
    "\n",
    "    - Extreme bias:\n",
    "        + P(H) = 0.9, P(T) = 0.1\n",
    "        + Coin lands on heads most of the time.\n",
    "\n",
    "    - Different bias:\n",
    "        + P(H) = 0.4, P(T) = 0.6\n",
    "        + Coin is biased toward tails.\n",
    "\n",
    "The probabilities can be anything as long as they add up to 1."
   ]
  },
  {
   "cell_type": "markdown",
   "metadata": {},
   "source": [
    "##### Key Points:"
   ]
  },
  {
   "cell_type": "markdown",
   "metadata": {},
   "source": [
    "- **Unequal Probabilities:** Unlike a fair coin, the outcomes are not equally likely. A coin with p = 0.7 for heads is more likely to land heads than tails.\n",
    "\n",
    "- **Bernoulli Trial:** Each coin toss is a Bernoulli trial, which means it has two possible outcomes (success or failure) with a fixed probability of success (here, success might be defined as landing heads).\n",
    "\n",
    "- **Binomial Distribution:** When you perform several independent coin tosses, the number of heads observed follows a binomial distribution. In Python, you can simulate this using functions like numpy.random.binomial."
   ]
  },
  {
   "cell_type": "markdown",
   "metadata": {},
   "source": [
    "#### Random generator seed"
   ]
  },
  {
   "cell_type": "code",
   "execution_count": null,
   "metadata": {},
   "outputs": [
    {
     "data": {
      "text/plain": [
       "4"
      ]
     },
     "execution_count": 23,
     "metadata": {},
     "output_type": "execute_result"
    }
   ],
   "source": [
    "# Use the random_state parameter of the rvs() function\n",
    "from scipy.stats import binom\n",
    "binom.rvs(n=10,p=0.5,random_state=42)"
   ]
  },
  {
   "cell_type": "code",
   "execution_count": null,
   "metadata": {},
   "outputs": [
    {
     "data": {
      "text/plain": [
       "array([4])"
      ]
     },
     "execution_count": 26,
     "metadata": {},
     "output_type": "execute_result"
    }
   ],
   "source": [
    "# Uee numpy.random.seed()\n",
    "import numpy as np\n",
    "np.random.seed(42)\n",
    "binom.rvs(n=10, p=0.5, size=1)"
   ]
  },
  {
   "cell_type": "markdown",
   "metadata": {},
   "source": [
    "# Probability Distributions\n"
   ]
  },
  {
   "cell_type": "markdown",
   "metadata": {},
   "source": [
    "A **probability distribution** describes how the possible values of a random variable are distributed in terms of their likelihood. Depending on whether the random variable is **discrete** or **continuous**, we use different functions to represent this distribution.\n",
    "\n",
    "---\n",
    "\n",
    "## 1. Discrete Random Variables\n",
    "\n",
    "- **Probability Mass Function (PMF):**  \n",
    "  For a discrete random variable \\(X\\), the PMF \\(p(x)\\) gives the probability that \\(X\\) takes a specific value \\(x\\).  \n",
    "  $$\n",
    "  p(x) = P(X = x)\n",
    "  $$\n",
    "  Such that:\n",
    "  $$\n",
    "  p(x) \\ge 0 \n",
    "  \\quad \\text{and} \\quad \n",
    "  \\sum_x p(x) = 1.\n",
    "  $$\n",
    "\n",
    "### Example: Binomial Distribution\n",
    "$$\n",
    "\\mathrm{PMF}(k; n, p) \n",
    "= \\binom{n}{k} \\, p^k \\, (1 - p)^{n - k}, \n",
    "\\quad k = 0, 1, \\dots, n.\n",
    "$$\n",
    "\n",
    "---\n",
    "\n",
    "## 2. Continuous Random Variables\n",
    "\n",
    "- **Probability Density Function (PDF):**  \n",
    "  For a continuous random variable \\(X\\), the PDF \\(f(x)\\) describes the relative likelihood of \\(X\\) taking on any particular value. While \\(f(x)\\) itself is not a probability, the probability that \\(X\\) lies within an interval \\([a, b]\\) is given by:\n",
    "  $$\n",
    "  P(a \\le X \\le b) = \\int_a^b f(x)\\, dx.\n",
    "  $$\n",
    "  Such that:\n",
    "  $$\n",
    "  f(x) \\ge 0 \n",
    "  \\quad \\text{and} \\quad \n",
    "  \\int_{-\\infty}^{\\infty} f(x)\\, dx = 1.\n",
    "  $$\n",
    "\n",
    "### Example: Normal Distribution\n",
    "$$\n",
    "f(x) = \\frac{1}{\\sqrt{2\\pi}\\,\\sigma}\n",
    "\\exp\\!\\Bigl(-\\frac{(x - \\mu)^2}{2\\sigma^2}\\Bigr),\n",
    "\\quad -\\infty < x < \\infty.\n",
    "$$\n",
    "\n",
    "---\n",
    "\n",
    "## 3. Cumulative Distribution Function (CDF)\n",
    "\n",
    "For **both** discrete and continuous random variables, the **Cumulative Distribution Function (CDF)** \\(F(x)\\) gives the probability that the random variable \\(X\\) is less than or equal to \\(x\\):\n",
    "$$\n",
    "F(x) = P(X \\le x).\n",
    "$$\n",
    "\n",
    "- **Discrete:** \\(F(x)\\) is a step function increasing at the discrete values of \\(X\\).  \n",
    "- **Continuous:** \\(F(x)\\) is continuous and differentiable (except possibly at points where the PDF may be discontinuous).\n",
    "\n",
    "---\n",
    "\n",
    "## Key Points\n",
    "\n",
    "1. **Discrete vs. Continuous**  \n",
    "   - Use a **PMF** for discrete variables.  \n",
    "   - Use a **PDF** for continuous variables.\n",
    "\n",
    "2. **Normalization**  \n",
    "   - Sum (discrete) or integral (continuous) of the distribution function over the entire domain must be **1**.\n",
    "\n",
    "3. **Non-negativity**  \n",
    "   - All probabilities (or density values) must be **non-negative**.\n",
    "\n",
    "4. **CDF**  \n",
    "   - A unifying function that applies to **both** discrete and continuous cases.\n",
    "\n",
    "---\n",
    "\n",
    "### Why Are Probability Distributions Important?\n",
    "- They form the foundation for **statistical inference** and **data analysis**.  \n",
    "- They help us compute **expected values**, **variances**, and other moments, which are crucial for understanding the behavior of random variables.\n"
   ]
  },
  {
   "cell_type": "markdown",
   "metadata": {},
   "source": [
    "**Density:** Density explains how likely outcomes are within that event range."
   ]
  },
  {
   "cell_type": "markdown",
   "metadata": {},
   "source": [
    "# Probability mass functions (pmf)"
   ]
  },
  {
   "cell_type": "markdown",
   "metadata": {},
   "source": [
    "(Wahrscheinlichkeitsmassenfuntion)"
   ]
  },
  {
   "cell_type": "markdown",
   "metadata": {},
   "source": [
    "### Binomial PMF\n",
    "\n"
   ]
  },
  {
   "cell_type": "markdown",
   "metadata": {},
   "source": [
    "The probability mass function (PMF) of a Binomial distribution is given by:\n",
    "\n",
    "$$\n",
    "\\text{binomial.pmf}(k, n, p) = \\binom{n}{k} \\, p^k \\, (1-p)^{n-k}.\n",
    "$$\n",
    "\n",
    "- $ \\binom{n}{k} $ is the binomial coefficient, the number of ways to choose $ k $ successes out of $ n $ trials.\n",
    "\n",
    "- $ p^k $ is the probability of those $ k $ successes.\n",
    "\n",
    "- $ (1-p)^{n-k} $ is the probability of the remaining $ n-k $ failures.\n"
   ]
  },
  {
   "cell_type": "code",
   "execution_count": 29,
   "metadata": {},
   "outputs": [
    {
     "name": "stdout",
     "output_type": "stream",
     "text": [
      "0.04394531250000005\n"
     ]
    }
   ],
   "source": [
    "# Probability of 2 heads after 10 throws with a fair coin\n",
    "\n",
    "binomial_pmf = binom.pmf(k=2,n=10,p=0.5)\n",
    "print(binomial_pmf)"
   ]
  },
  {
   "cell_type": "code",
   "execution_count": 30,
   "metadata": {},
   "outputs": [
    {
     "name": "stdout",
     "output_type": "stream",
     "text": [
      "0.24609375\n"
     ]
    }
   ],
   "source": [
    "# Probability of 5 heads after 10 throws with a fair coin\n",
    "\n",
    "binomial_pmf = binom.pmf(k=5,n=10,p=0.5)\n",
    "print(binomial_pmf)"
   ]
  },
  {
   "cell_type": "code",
   "execution_count": null,
   "metadata": {},
   "outputs": [
    {
     "name": "stdout",
     "output_type": "stream",
     "text": [
      "1.3026227131445274e-05\n"
     ]
    }
   ],
   "source": [
    "# Probability of 50 heads after 100 throws with p = 0.3\n",
    "\n",
    "binomial_pmf = binom.pmf(k=50,n=100,p=0.3)\n",
    "print(binomial_pmf)"
   ]
  },
  {
   "cell_type": "code",
   "execution_count": 32,
   "metadata": {},
   "outputs": [
    {
     "name": "stdout",
     "output_type": "stream",
     "text": [
      "0.046779682352730015\n"
     ]
    }
   ],
   "source": [
    "# Probability of 65 heads after 100 throws with p = 0.7\n",
    "\n",
    "binomial_pmf = binom.pmf(k=65,n=100,p=0.7)\n",
    "print(binomial_pmf)"
   ]
  },
  {
   "cell_type": "markdown",
   "metadata": {},
   "source": [
    "**As n gets larger, the probability of getting k becomes smaler for the same p.**"
   ]
  },
  {
   "cell_type": "markdown",
   "metadata": {},
   "source": [
    "# Probability distribution functions (cdf)"
   ]
  },
  {
   "cell_type": "markdown",
   "metadata": {},
   "source": []
  },
  {
   "cell_type": "markdown",
   "metadata": {},
   "source": [
    "To calculate the probability of getting k or fewer heads from n throws, we use the binomial probability distribution function (cdf), which adds the probabilities of. Getting 0 heads out of n flips, getting heads once out of n flips, and getting all the way up to k heads out of n flips."
   ]
  },
  {
   "cell_type": "markdown",
   "metadata": {},
   "source": [
    "The binomial probability distribution allows us to calculate the cumulative probability of getting k heads or fewer from n coin flips with p probability of getting heads.\n",
    "\n",
    "In python we use the binom.cdf(k,n,p) function with parameters k,n, and p.\n",
    "\n",
    "Adding the probabilities from the mass function, we get the cumulative distribution function (cdf).\n",
    "\n",
    "This is a way of getting a range of probabilities rather than the probability of a single event.\n"
   ]
  },
  {
   "cell_type": "code",
   "execution_count": 1,
   "metadata": {},
   "outputs": [
    {
     "data": {
      "text/plain": [
       "np.float64(0.623046875)"
      ]
     },
     "execution_count": 1,
     "metadata": {},
     "output_type": "execute_result"
    }
   ],
   "source": [
    "# Probability of 5 heads or less after 10 throws with a faier coin\n",
    "import numpy as np\n",
    "from scipy.stats import binom\n",
    "binom.cdf(k=5, n=10, p=0.5)"
   ]
  },
  {
   "cell_type": "code",
   "execution_count": 41,
   "metadata": {},
   "outputs": [
    {
     "data": {
      "text/plain": [
       "np.float64(0.9999909653138043)"
      ]
     },
     "execution_count": 41,
     "metadata": {},
     "output_type": "execute_result"
    }
   ],
   "source": [
    "# Probability of 50 heads or less after 100 throws with p = 0.3\n",
    "binom.cdf(k=50, n=100, p=0.3)"
   ]
  },
  {
   "cell_type": "markdown",
   "metadata": {},
   "source": [
    "**Recall that:**\n",
    "\n",
    "- binom.pmf() calculates the probability of having exactly k heads out of n coin flips.\n",
    "\n",
    "- binom.cdf() calculates the probability of having k heads or less out of n coin flips.\n",
    "\n",
    "- binom.sf() calculates the probability of having more than k heads out of n coin flips."
   ]
  },
  {
   "cell_type": "markdown",
   "metadata": {},
   "source": [
    "**Predicting the probability of defects**"
   ]
  },
  {
   "cell_type": "code",
   "execution_count": 48,
   "metadata": {},
   "outputs": [
    {
     "name": "stdout",
     "output_type": "stream",
     "text": [
      "0.921572251649031\n"
     ]
    }
   ],
   "source": [
    "# Probability of getting 2 or less defective components\n",
    "prob_two_or_less_defects = binom.cdf(k=2, n=50, p=0.02)\n",
    "print(prob_two_or_less_defects)"
   ]
  },
  {
   "cell_type": "code",
   "execution_count": 49,
   "metadata": {},
   "outputs": [
    {
     "name": "stdout",
     "output_type": "stream",
     "text": [
      "0.8939090951171875\n"
     ]
    }
   ],
   "source": [
    "# Calculate the probability of getting more than 3 yes responses\n",
    "prob_more_than_three_yes = binom.sf(k=3, n=8, p=0.65)\n",
    "print(prob_more_than_three_yes)"
   ]
  },
  {
   "cell_type": "code",
   "execution_count": 50,
   "metadata": {},
   "outputs": [
    {
     "name": "stdout",
     "output_type": "stream",
     "text": [
      "0.4362265599999995\n"
     ]
    }
   ],
   "source": [
    "# What is the probability of solving 1 or fewer or more than 7 burglaries?\n",
    "tail_probabilities = binom.cdf(k=1, n=9, p=0.2) + binom.sf(k=7, n=9, p=0.2)\n",
    "print(tail_probabilities)"
   ]
  },
  {
   "cell_type": "markdown",
   "metadata": {},
   "source": [
    "# Expected value, mean, and variance"
   ]
  },
  {
   "cell_type": "code",
   "execution_count": 60,
   "metadata": {},
   "outputs": [
    {
     "name": "stdout",
     "output_type": "stream",
     "text": [
      "0.51\n"
     ]
    }
   ],
   "source": [
    "import numpy as pd\n",
    "import pandas as pd\n",
    "from scipy.stats import binom\n",
    "from scipy.stats import describe\n",
    "# Sample mean from a generated sample of 100 fair coin flips\n",
    "sample_of_100_flips = binom.rvs(n=1, p=0.5, size=100)\n",
    "sample_mean_100_flips = describe(sample_of_100_flips).mean\n",
    "print(sample_mean_100_flips)"
   ]
  },
  {
   "cell_type": "code",
   "execution_count": 61,
   "metadata": {},
   "outputs": [
    {
     "name": "stdout",
     "output_type": "stream",
     "text": [
      "0.499\n"
     ]
    }
   ],
   "source": [
    "# Sample mean from a generated sample of 1,000 fair coin flips\n",
    "sample_mean_1000_flips = describe(binom.rvs(n=1, p=0.5, size=1000)).mean\n",
    "print(sample_mean_1000_flips)"
   ]
  },
  {
   "cell_type": "code",
   "execution_count": 62,
   "metadata": {},
   "outputs": [
    {
     "name": "stdout",
     "output_type": "stream",
     "text": [
      "0.5045\n"
     ]
    }
   ],
   "source": [
    "# Sample mean from a generated sample of 2,000 fair coin flips\n",
    "sample_mean_2000_flips = describe(binom.rvs(n=1, p=0.5, size=2000)).mean\n",
    "print(sample_mean_2000_flips)"
   ]
  },
  {
   "cell_type": "code",
   "execution_count": 63,
   "metadata": {},
   "outputs": [
    {
     "name": "stdout",
     "output_type": "stream",
     "text": [
      "2.98 2.0726363181590797 3.0 2.0999999999999996 (np.float64(3.0), np.float64(2.1))\n"
     ]
    }
   ],
   "source": [
    "sample = binom.rvs(n=10, p=0.3, size=2000)\n",
    "\n",
    "# Calculate the sample mean and variance from the sample variable\n",
    "sample_describe = describe(sample)\n",
    "\n",
    "# Calculate the sample mean using the values of n and p\n",
    "mean = 10 * 0.3\n",
    "\n",
    "# Calculate the sample variance using the value of 1-p\n",
    "variance = mean * (1 - 0.3)\n",
    "\n",
    "# Calculate the sample mean and variance for 10 coin flips with p=0.3\n",
    "binom_stats = binom.stats(n=10, p=0.3)\n",
    "\n",
    "print(sample_describe.mean, sample_describe.variance, mean, variance, binom_stats)"
   ]
  },
  {
   "cell_type": "code",
   "execution_count": 70,
   "metadata": {},
   "outputs": [
    {
     "name": "stdout",
     "output_type": "stream",
     "text": [
      "[np.float64(2.2), np.float64(2.4), np.float64(2.7), np.float64(2.1), np.float64(2.1), np.float64(2.8), np.float64(2.2), np.float64(1.8), np.float64(3.2), np.float64(3.2), np.float64(2.0), np.float64(2.8), np.float64(1.8), np.float64(2.5), np.float64(2.8), np.float64(2.3), np.float64(2.9), np.float64(2.5), np.float64(2.5), np.float64(3.6), np.float64(2.7), np.float64(1.7), np.float64(2.2), np.float64(2.7), np.float64(1.9), np.float64(2.4), np.float64(3.8), np.float64(3.2), np.float64(2.3), np.float64(2.9), np.float64(2.0), np.float64(3.1), np.float64(2.7), np.float64(2.3), np.float64(3.1), np.float64(2.0), np.float64(3.1), np.float64(2.5), np.float64(2.1), np.float64(3.1), np.float64(2.5), np.float64(3.4), np.float64(2.7), np.float64(2.8), np.float64(2.5), np.float64(2.8), np.float64(2.4), np.float64(2.9), np.float64(2.9), np.float64(2.2), np.float64(2.1), np.float64(3.0), np.float64(3.6), np.float64(3.0), np.float64(2.6), np.float64(2.8), np.float64(1.9), np.float64(2.1), np.float64(2.4), np.float64(2.6), np.float64(1.8), np.float64(3.7), np.float64(2.8), np.float64(2.3), np.float64(1.6), np.float64(3.2), np.float64(2.1), np.float64(2.1), np.float64(1.8), np.float64(3.0), np.float64(2.2), np.float64(2.6), np.float64(2.9), np.float64(2.5), np.float64(2.2), np.float64(2.1), np.float64(2.3), np.float64(2.1), np.float64(3.3), np.float64(2.6), np.float64(2.3), np.float64(2.3), np.float64(1.9), np.float64(3.0), np.float64(2.0), np.float64(2.9), np.float64(2.1), np.float64(3.1), np.float64(2.7), np.float64(3.2), np.float64(1.7), np.float64(3.3), np.float64(2.5), np.float64(2.4), np.float64(2.5), np.float64(2.2), np.float64(2.6), np.float64(3.2), np.float64(2.5), np.float64(2.3), np.float64(2.4), np.float64(2.5), np.float64(2.4), np.float64(2.2), np.float64(2.2), np.float64(2.4), np.float64(3.2), np.float64(2.4), np.float64(1.9), np.float64(2.4), np.float64(2.3), np.float64(3.1), np.float64(2.3), np.float64(1.9), np.float64(2.4), np.float64(2.1), np.float64(3.7), np.float64(2.5), np.float64(2.0), np.float64(3.0), np.float64(2.1), np.float64(2.6), np.float64(2.2), np.float64(2.4), np.float64(2.5), np.float64(2.6), np.float64(2.5), np.float64(3.4), np.float64(2.2), np.float64(2.4), np.float64(2.5), np.float64(2.2), np.float64(2.5), np.float64(3.1), np.float64(2.4), np.float64(3.6), np.float64(2.7), np.float64(1.4), np.float64(2.5), np.float64(2.3), np.float64(3.2), np.float64(2.4), np.float64(2.2), np.float64(2.7), np.float64(2.5), np.float64(3.0), np.float64(2.3), np.float64(2.5), np.float64(2.5), np.float64(2.3), np.float64(2.2), np.float64(2.9), np.float64(3.2), np.float64(2.9), np.float64(3.1), np.float64(2.8), np.float64(2.4), np.float64(3.1), np.float64(2.7), np.float64(2.5), np.float64(3.1), np.float64(2.3), np.float64(2.4), np.float64(2.6), np.float64(2.5), np.float64(2.4), np.float64(2.6), np.float64(2.0), np.float64(4.0), np.float64(2.7), np.float64(2.0), np.float64(2.7), np.float64(3.1), np.float64(2.0), np.float64(2.2), np.float64(2.7), np.float64(1.7), np.float64(2.1), np.float64(2.9), np.float64(2.2), np.float64(2.8), np.float64(3.1), np.float64(2.1), np.float64(2.5), np.float64(3.6), np.float64(3.0), np.float64(2.2), np.float64(2.7), np.float64(2.4), np.float64(2.8), np.float64(3.1), np.float64(1.8), np.float64(3.0), np.float64(2.7), np.float64(3.1), np.float64(1.9), np.float64(2.2), np.float64(2.2), np.float64(2.8), np.float64(2.2), np.float64(2.6), np.float64(2.5), np.float64(3.2), np.float64(3.1), np.float64(2.6), np.float64(3.1), np.float64(3.2), np.float64(2.4), np.float64(3.0), np.float64(2.2), np.float64(3.0), np.float64(2.9), np.float64(2.5), np.float64(2.0), np.float64(2.8), np.float64(2.6), np.float64(2.8), np.float64(3.8), np.float64(2.1), np.float64(2.3), np.float64(2.8), np.float64(1.9), np.float64(2.4), np.float64(2.8), np.float64(2.8), np.float64(2.2), np.float64(3.5), np.float64(2.7), np.float64(2.2), np.float64(2.3), np.float64(1.8), np.float64(2.4), np.float64(3.6), np.float64(2.7), np.float64(2.8), np.float64(2.8), np.float64(2.3), np.float64(2.8), np.float64(1.9), np.float64(3.1), np.float64(2.1), np.float64(3.0), np.float64(2.0), np.float64(2.2), np.float64(3.1), np.float64(3.3), np.float64(1.9), np.float64(3.1), np.float64(3.3), np.float64(2.2), np.float64(2.7), np.float64(2.6), np.float64(2.0), np.float64(2.6), np.float64(3.1), np.float64(2.4), np.float64(2.1), np.float64(2.9), np.float64(2.5), np.float64(1.7), np.float64(2.6), np.float64(2.7), np.float64(2.1), np.float64(2.2), np.float64(2.6), np.float64(2.8), np.float64(1.9), np.float64(2.5), np.float64(3.0), np.float64(2.0), np.float64(2.5), np.float64(3.0), np.float64(2.6), np.float64(3.2), np.float64(2.8), np.float64(1.8), np.float64(1.9), np.float64(2.6), np.float64(2.1), np.float64(1.7), np.float64(2.5), np.float64(3.0), np.float64(2.3), np.float64(1.9), np.float64(2.2), np.float64(2.9), np.float64(2.3), np.float64(2.6), np.float64(2.5), np.float64(2.2), np.float64(2.9), np.float64(2.6), np.float64(2.6), np.float64(1.7), np.float64(2.6), np.float64(2.9), np.float64(2.4), np.float64(2.5), np.float64(3.2), np.float64(2.4), np.float64(2.3), np.float64(2.9), np.float64(3.1), np.float64(1.8), np.float64(2.4), np.float64(2.8), np.float64(3.4), np.float64(2.7), np.float64(2.1), np.float64(2.3), np.float64(2.6), np.float64(3.6), np.float64(2.2), np.float64(2.9), np.float64(2.9), np.float64(3.1), np.float64(1.8), np.float64(2.4), np.float64(2.6), np.float64(2.7), np.float64(2.4), np.float64(2.5), np.float64(2.4), np.float64(2.3), np.float64(3.0), np.float64(2.2), np.float64(3.0), np.float64(2.9), np.float64(3.0), np.float64(2.3), np.float64(3.2), np.float64(2.4), np.float64(1.5), np.float64(2.6), np.float64(2.4), np.float64(2.4), np.float64(2.4), np.float64(2.1), np.float64(2.6), np.float64(3.0), np.float64(2.3), np.float64(2.8), np.float64(2.7), np.float64(2.1), np.float64(3.0), np.float64(2.6), np.float64(2.8), np.float64(2.6), np.float64(2.3), np.float64(1.9), np.float64(2.1), np.float64(2.8), np.float64(2.4), np.float64(2.1), np.float64(3.0), np.float64(2.1), np.float64(2.4), np.float64(2.4), np.float64(2.1), np.float64(3.1), np.float64(1.8), np.float64(2.4), np.float64(2.2), np.float64(2.8), np.float64(1.9), np.float64(1.9), np.float64(2.5), np.float64(2.4), np.float64(2.6), np.float64(2.6), np.float64(2.7), np.float64(1.8), np.float64(2.8), np.float64(3.1), np.float64(2.9), np.float64(2.7), np.float64(2.8), np.float64(2.6), np.float64(3.2), np.float64(2.3), np.float64(2.6), np.float64(2.4), np.float64(3.1), np.float64(2.7), np.float64(1.6), np.float64(2.4), np.float64(2.8), np.float64(2.3), np.float64(2.1), np.float64(2.3), np.float64(2.6), np.float64(2.5), np.float64(2.7), np.float64(2.2), np.float64(2.1), np.float64(3.9), np.float64(2.1), np.float64(3.5), np.float64(3.2), np.float64(2.8), np.float64(1.8), np.float64(1.7), np.float64(1.9), np.float64(2.5), np.float64(3.0), np.float64(2.9), np.float64(1.8), np.float64(3.1), np.float64(2.9), np.float64(2.8), np.float64(2.2), np.float64(2.4), np.float64(2.2), np.float64(2.9), np.float64(2.2), np.float64(2.2), np.float64(2.6), np.float64(2.8), np.float64(2.0), np.float64(2.2), np.float64(2.3), np.float64(2.2), np.float64(2.2), np.float64(2.8), np.float64(2.4), np.float64(3.2), np.float64(2.5), np.float64(3.4), np.float64(1.9), np.float64(2.7), np.float64(2.2), np.float64(2.5), np.float64(1.9), np.float64(2.7), np.float64(2.0), np.float64(2.1), np.float64(3.0), np.float64(3.3), np.float64(2.6), np.float64(2.1), np.float64(2.9), np.float64(2.0), np.float64(2.3), np.float64(3.0), np.float64(2.3), np.float64(2.0), np.float64(2.1), np.float64(2.6), np.float64(2.6), np.float64(2.3), np.float64(2.3), np.float64(2.6), np.float64(2.7), np.float64(2.3), np.float64(2.1), np.float64(2.9), np.float64(2.5), np.float64(2.0), np.float64(2.5), np.float64(2.2), np.float64(3.3), np.float64(1.8), np.float64(2.4), np.float64(2.5), np.float64(3.1), np.float64(3.2), np.float64(2.4), np.float64(2.6), np.float64(1.8), np.float64(3.0), np.float64(2.7), np.float64(2.1), np.float64(3.5), np.float64(2.4), np.float64(3.0), np.float64(2.8), np.float64(2.4), np.float64(2.1), np.float64(2.2), np.float64(3.3), np.float64(2.4), np.float64(2.1), np.float64(3.0), np.float64(2.0), np.float64(2.6), np.float64(1.7), np.float64(2.4), np.float64(2.7), np.float64(1.9), np.float64(1.5), np.float64(3.0), np.float64(2.4), np.float64(2.4), np.float64(3.3), np.float64(2.7), np.float64(2.6), np.float64(2.9), np.float64(2.2), np.float64(3.0), np.float64(2.2), np.float64(1.9), np.float64(2.8), np.float64(2.6), np.float64(2.4), np.float64(2.2), np.float64(2.2), np.float64(2.6), np.float64(2.3), np.float64(2.6), np.float64(1.9), np.float64(2.5), np.float64(2.5), np.float64(2.8), np.float64(2.1), np.float64(2.1), np.float64(2.5), np.float64(2.4), np.float64(3.0), np.float64(1.9), np.float64(2.3), np.float64(2.5), np.float64(2.7), np.float64(2.8), np.float64(2.5), np.float64(2.4), np.float64(2.0), np.float64(2.7), np.float64(2.2), np.float64(1.8), np.float64(2.2), np.float64(2.4), np.float64(2.8), np.float64(2.8), np.float64(2.3), np.float64(2.6), np.float64(2.3), np.float64(2.5), np.float64(2.9), np.float64(2.6), np.float64(2.1), np.float64(2.6), np.float64(2.6), np.float64(2.7), np.float64(2.2), np.float64(2.9), np.float64(2.5), np.float64(2.1), np.float64(2.4), np.float64(3.3), np.float64(2.4), np.float64(2.2), np.float64(3.1), np.float64(2.5), np.float64(2.7), np.float64(3.5), np.float64(3.1), np.float64(2.6), np.float64(1.7), np.float64(2.4), np.float64(1.9), np.float64(2.2), np.float64(2.1), np.float64(2.1), np.float64(3.5), np.float64(2.8), np.float64(1.9), np.float64(2.8), np.float64(2.4), np.float64(2.1), np.float64(2.0), np.float64(2.2), np.float64(2.4), np.float64(2.2), np.float64(2.3), np.float64(2.4), np.float64(2.5), np.float64(2.9), np.float64(2.7), np.float64(2.2), np.float64(2.6), np.float64(3.2), np.float64(1.8), np.float64(2.8), np.float64(2.5), np.float64(2.5), np.float64(2.5), np.float64(2.5), np.float64(2.1), np.float64(3.5), np.float64(2.1), np.float64(2.4), np.float64(2.6), np.float64(2.1), np.float64(2.5), np.float64(2.2), np.float64(2.6), np.float64(2.5), np.float64(2.8), np.float64(2.4), np.float64(2.5), np.float64(2.6), np.float64(2.9), np.float64(2.2), np.float64(2.6), np.float64(3.1), np.float64(2.5), np.float64(2.7), np.float64(2.1), np.float64(2.6), np.float64(2.1), np.float64(2.5), np.float64(3.0), np.float64(1.9), np.float64(2.6), np.float64(3.0), np.float64(2.6), np.float64(2.3), np.float64(2.7), np.float64(2.2), np.float64(1.8), np.float64(2.6), np.float64(3.1), np.float64(2.8), np.float64(2.1), np.float64(2.4), np.float64(3.1), np.float64(1.1), np.float64(1.9), np.float64(2.5), np.float64(3.0), np.float64(3.1), np.float64(2.4), np.float64(2.6), np.float64(2.4), np.float64(2.9), np.float64(2.0), np.float64(2.4), np.float64(3.1), np.float64(2.0), np.float64(2.4), np.float64(2.8), np.float64(2.1), np.float64(2.5), np.float64(2.5), np.float64(2.4), np.float64(2.1), np.float64(2.1), np.float64(2.6), np.float64(3.2), np.float64(2.0), np.float64(2.1), np.float64(1.4), np.float64(2.5), np.float64(2.4), np.float64(2.7), np.float64(2.3), np.float64(2.4), np.float64(2.5), np.float64(2.9), np.float64(3.1), np.float64(2.1), np.float64(2.5), np.float64(1.6), np.float64(2.7), np.float64(2.3), np.float64(2.5), np.float64(2.5), np.float64(2.9), np.float64(3.9), np.float64(2.7), np.float64(2.8), np.float64(2.9), np.float64(2.6), np.float64(2.9), np.float64(3.2), np.float64(2.6), np.float64(2.4), np.float64(2.1), np.float64(2.4), np.float64(2.1), np.float64(1.8), np.float64(2.8), np.float64(1.8), np.float64(2.0), np.float64(2.5), np.float64(2.5), np.float64(3.0), np.float64(3.9), np.float64(1.8), np.float64(2.5), np.float64(2.6), np.float64(2.3), np.float64(2.2), np.float64(2.6), np.float64(2.0), np.float64(2.2), np.float64(3.0), np.float64(2.3), np.float64(2.3), np.float64(2.4), np.float64(2.7), np.float64(2.3), np.float64(2.6), np.float64(2.3), np.float64(2.3), np.float64(2.7), np.float64(3.2), np.float64(2.1), np.float64(2.2), np.float64(2.5), np.float64(2.9), np.float64(2.3), np.float64(1.9), np.float64(2.5), np.float64(2.1), np.float64(3.6), np.float64(2.5), np.float64(2.3), np.float64(2.0), np.float64(1.9), np.float64(2.5), np.float64(1.9), np.float64(2.1), np.float64(1.7), np.float64(2.3), np.float64(2.2), np.float64(2.5), np.float64(2.5), np.float64(1.9), np.float64(1.7), np.float64(2.6), np.float64(2.6), np.float64(2.2), np.float64(1.9), np.float64(2.4), np.float64(2.8), np.float64(2.8), np.float64(1.6), np.float64(2.8), np.float64(2.3), np.float64(2.4), np.float64(2.3), np.float64(2.9), np.float64(2.5), np.float64(3.1), np.float64(2.5), np.float64(2.2), np.float64(2.6), np.float64(2.6), np.float64(2.8), np.float64(2.4), np.float64(2.1), np.float64(2.2), np.float64(2.1), np.float64(3.2), np.float64(2.7), np.float64(2.1), np.float64(2.4), np.float64(3.0), np.float64(3.2), np.float64(2.3), np.float64(1.9), np.float64(2.5), np.float64(2.0), np.float64(2.7), np.float64(2.6), np.float64(1.9), np.float64(2.1), np.float64(3.0), np.float64(2.3), np.float64(1.9), np.float64(2.4), np.float64(1.8), np.float64(2.8), np.float64(2.4), np.float64(2.5), np.float64(2.8), np.float64(2.3), np.float64(1.5), np.float64(1.9), np.float64(2.7), np.float64(2.6), np.float64(2.1), np.float64(2.4), np.float64(2.0), np.float64(2.4), np.float64(2.2), np.float64(2.4), np.float64(2.6), np.float64(3.0), np.float64(2.0), np.float64(2.7), np.float64(2.4), np.float64(2.1), np.float64(3.4), np.float64(2.2), np.float64(2.1), np.float64(2.4), np.float64(2.5), np.float64(2.3), np.float64(2.8), np.float64(3.2), np.float64(1.9), np.float64(2.2), np.float64(2.2), np.float64(2.5), np.float64(1.9), np.float64(1.9), np.float64(2.2), np.float64(2.2), np.float64(2.5), np.float64(3.0), np.float64(1.8), np.float64(2.8), np.float64(2.4), np.float64(2.8), np.float64(2.7), np.float64(2.3), np.float64(2.6), np.float64(2.7), np.float64(2.3), np.float64(2.9), np.float64(3.0), np.float64(2.5), np.float64(2.5), np.float64(2.2), np.float64(2.8), np.float64(2.4), np.float64(2.0), np.float64(2.6), np.float64(1.9), np.float64(2.1), np.float64(2.7), np.float64(2.3), np.float64(2.5), np.float64(2.8), np.float64(2.3), np.float64(3.6), np.float64(2.3), np.float64(2.6), np.float64(1.8), np.float64(2.6), np.float64(2.2), np.float64(3.2), np.float64(2.4), np.float64(2.8), np.float64(2.3), np.float64(2.8), np.float64(2.0), np.float64(2.6), np.float64(1.9), np.float64(2.6), np.float64(2.2), np.float64(3.1), np.float64(2.4), np.float64(2.3), np.float64(2.6), np.float64(2.2), np.float64(2.2), np.float64(2.6), np.float64(2.5), np.float64(1.9), np.float64(2.5), np.float64(2.5), np.float64(2.3), np.float64(2.5), np.float64(2.8), np.float64(2.8), np.float64(2.0), np.float64(2.2), np.float64(3.5), np.float64(3.2), np.float64(2.4), np.float64(2.6), np.float64(1.9), np.float64(2.1), np.float64(2.4), np.float64(1.9), np.float64(2.5), np.float64(1.9), np.float64(2.3), np.float64(2.2), np.float64(2.5), np.float64(1.6), np.float64(2.2), np.float64(2.3), np.float64(2.4), np.float64(2.2), np.float64(2.1), np.float64(2.9), np.float64(2.3), np.float64(2.0), np.float64(2.5), np.float64(2.1), np.float64(2.1), np.float64(3.2), np.float64(1.9), np.float64(3.0), np.float64(2.3), np.float64(1.9), np.float64(2.8), np.float64(2.4), np.float64(2.6), np.float64(1.4), np.float64(2.6), np.float64(2.5), np.float64(2.2), np.float64(2.9), np.float64(2.9), np.float64(3.4), np.float64(2.5), np.float64(2.2), np.float64(2.9), np.float64(2.4), np.float64(3.4), np.float64(2.3), np.float64(2.6), np.float64(2.5), np.float64(2.4), np.float64(2.9), np.float64(2.5), np.float64(2.6), np.float64(2.1), np.float64(3.2), np.float64(2.5), np.float64(2.8), np.float64(2.9), np.float64(3.1), np.float64(2.5), np.float64(2.5), np.float64(2.2), np.float64(3.1), np.float64(2.6), np.float64(2.6), np.float64(2.5), np.float64(2.6), np.float64(2.9), np.float64(2.3), np.float64(2.3), np.float64(2.0), np.float64(2.5), np.float64(1.7), np.float64(1.7), np.float64(2.2), np.float64(2.6), np.float64(3.2), np.float64(2.6), np.float64(2.3), np.float64(2.4), np.float64(2.9), np.float64(3.0), np.float64(2.6), np.float64(2.3), np.float64(1.7), np.float64(2.6), np.float64(2.3), np.float64(2.3), np.float64(2.7), np.float64(2.9), np.float64(2.2), np.float64(2.5), np.float64(2.3), np.float64(3.1), np.float64(2.1), np.float64(2.4), np.float64(2.7), np.float64(2.9), np.float64(1.1), np.float64(1.6), np.float64(2.5), np.float64(3.2), np.float64(2.3), np.float64(2.1), np.float64(3.5), np.float64(2.3), np.float64(2.2), np.float64(3.1), np.float64(2.8), np.float64(1.8), np.float64(2.5), np.float64(2.3), np.float64(3.2), np.float64(2.7), np.float64(2.1), np.float64(2.4), np.float64(2.7), np.float64(3.1), np.float64(2.6), np.float64(2.5), np.float64(2.8), np.float64(2.2), np.float64(2.7), np.float64(2.9), np.float64(2.0), np.float64(2.3), np.float64(2.9), np.float64(3.7), np.float64(1.9), np.float64(2.8), np.float64(2.6), np.float64(2.3), np.float64(2.5), np.float64(3.1), np.float64(2.1), np.float64(2.5), np.float64(2.2), np.float64(2.7), np.float64(2.3), np.float64(1.7), np.float64(2.3), np.float64(2.4), np.float64(2.9), np.float64(2.6), np.float64(2.5), np.float64(2.4), np.float64(3.5), np.float64(2.4), np.float64(2.8), np.float64(2.5), np.float64(2.4), np.float64(2.8), np.float64(1.6), np.float64(2.2), np.float64(2.5), np.float64(2.6), np.float64(2.8), np.float64(2.4), np.float64(3.3), np.float64(2.7), np.float64(2.0), np.float64(2.4), np.float64(2.2), np.float64(3.0), np.float64(1.9), np.float64(2.3), np.float64(2.2), np.float64(2.6), np.float64(2.2), np.float64(2.5), np.float64(2.8), np.float64(3.0), np.float64(2.1), np.float64(1.9), np.float64(1.5), np.float64(2.6), np.float64(3.0), np.float64(2.7), np.float64(2.7), np.float64(3.0), np.float64(3.3), np.float64(2.3), np.float64(2.3), np.float64(2.6), np.float64(2.0), np.float64(2.4), np.float64(2.0), np.float64(3.6), np.float64(2.5), np.float64(1.5), np.float64(3.2), np.float64(2.8), np.float64(2.2), np.float64(2.7), np.float64(3.3), np.float64(2.7), np.float64(2.4), np.float64(2.6), np.float64(3.4), np.float64(2.9), np.float64(2.8), np.float64(3.3), np.float64(2.8), np.float64(1.3), np.float64(2.5), np.float64(2.4), np.float64(2.5), np.float64(3.1), np.float64(2.9), np.float64(1.7), np.float64(2.5), np.float64(2.1), np.float64(2.1), np.float64(1.8), np.float64(2.7), np.float64(3.5), np.float64(2.4), np.float64(2.0), np.float64(2.8), np.float64(2.4), np.float64(2.1), np.float64(2.8), np.float64(1.8), np.float64(3.0), np.float64(3.0), np.float64(2.1), np.float64(3.6), np.float64(2.8), np.float64(2.9), np.float64(1.8), np.float64(2.7), np.float64(1.2), np.float64(2.2), np.float64(2.5), np.float64(3.0), np.float64(2.7), np.float64(2.9), np.float64(1.8), np.float64(2.9), np.float64(2.3), np.float64(2.5), np.float64(2.6), np.float64(3.0), np.float64(1.9), np.float64(2.6), np.float64(3.2), np.float64(3.2), np.float64(2.9), np.float64(2.5), np.float64(1.5), np.float64(2.6), np.float64(3.3), np.float64(2.4), np.float64(1.6), np.float64(3.0), np.float64(2.8), np.float64(2.1), np.float64(2.2), np.float64(1.9), np.float64(1.9), np.float64(2.7), np.float64(3.1), np.float64(2.7), np.float64(2.4), np.float64(2.8), np.float64(2.3), np.float64(2.7), np.float64(2.4), np.float64(2.5), np.float64(2.3), np.float64(2.7), np.float64(2.7), np.float64(2.4), np.float64(3.0), np.float64(2.1), np.float64(2.1), np.float64(2.4), np.float64(3.0), np.float64(2.7), np.float64(1.8), np.float64(2.3), np.float64(3.1), np.float64(2.9), np.float64(2.5), np.float64(3.1), np.float64(2.2), np.float64(3.5), np.float64(2.3), np.float64(2.7), np.float64(2.4), np.float64(2.2), np.float64(2.5), np.float64(3.1), np.float64(1.8), np.float64(1.9), np.float64(2.7), np.float64(3.0), np.float64(2.5), np.float64(1.9), np.float64(2.6), np.float64(1.8), np.float64(2.1), np.float64(2.6), np.float64(2.9), np.float64(2.6), np.float64(2.3), np.float64(2.6), np.float64(2.4), np.float64(2.1), np.float64(2.8), np.float64(2.0), np.float64(1.9), np.float64(2.1), np.float64(2.4), np.float64(2.3), np.float64(2.1), np.float64(2.6), np.float64(2.2), np.float64(2.9), np.float64(2.4), np.float64(2.7), np.float64(3.5), np.float64(2.1), np.float64(2.6), np.float64(2.0), np.float64(2.8), np.float64(2.7), np.float64(2.3), np.float64(3.2), np.float64(3.0), np.float64(3.3), np.float64(2.7), np.float64(2.3), np.float64(2.5), np.float64(1.7), np.float64(2.1), np.float64(2.5), np.float64(2.0), np.float64(2.1), np.float64(2.5), np.float64(2.4), np.float64(3.1), np.float64(1.6), np.float64(2.5), np.float64(3.1), np.float64(2.0), np.float64(2.6), np.float64(2.7), np.float64(2.7), np.float64(2.4), np.float64(2.5), np.float64(2.3), np.float64(2.1), np.float64(2.3), np.float64(2.3), np.float64(2.6), np.float64(2.3), np.float64(3.2), np.float64(2.7), np.float64(2.0), np.float64(1.8), np.float64(2.7), np.float64(2.5), np.float64(3.3), np.float64(3.0), np.float64(3.2), np.float64(2.5), np.float64(2.7), np.float64(1.8), np.float64(2.6), np.float64(2.4), np.float64(2.1), np.float64(2.2), np.float64(3.4), np.float64(2.1), np.float64(2.4), np.float64(2.3), np.float64(2.9), np.float64(2.4), np.float64(2.0), np.float64(2.6), np.float64(3.2), np.float64(2.6), np.float64(2.9), np.float64(3.6), np.float64(2.7), np.float64(2.4), np.float64(2.0), np.float64(2.6), np.float64(2.7), np.float64(2.3), np.float64(2.7), np.float64(2.8), np.float64(2.0), np.float64(2.6), np.float64(1.8), np.float64(2.8), np.float64(1.9), np.float64(2.7), np.float64(2.5), np.float64(3.0), np.float64(2.5), np.float64(2.3), np.float64(2.4), np.float64(2.7), np.float64(1.8), np.float64(2.3), np.float64(2.8), np.float64(2.7), np.float64(2.5), np.float64(1.9), np.float64(2.7), np.float64(2.3), np.float64(2.8), np.float64(2.1), np.float64(2.8), np.float64(2.7), np.float64(2.7), np.float64(3.0), np.float64(2.5), np.float64(2.7), np.float64(2.3), np.float64(2.2), np.float64(2.4), np.float64(2.7), np.float64(2.8), np.float64(2.6), np.float64(2.5), np.float64(3.1), np.float64(2.2), np.float64(2.8), np.float64(3.5), np.float64(3.1), np.float64(2.1), np.float64(2.3), np.float64(2.7), np.float64(1.5), np.float64(2.2), np.float64(2.4), np.float64(2.4), np.float64(3.0), np.float64(2.3), np.float64(2.1), np.float64(2.5), np.float64(3.0), np.float64(2.1), np.float64(2.3), np.float64(2.6), np.float64(2.5), np.float64(2.2), np.float64(1.6), np.float64(2.6), np.float64(2.5), np.float64(2.6), np.float64(2.7), np.float64(2.4), np.float64(2.5), np.float64(3.0), np.float64(2.7), np.float64(2.0), np.float64(2.1), np.float64(2.1), np.float64(3.1), np.float64(3.1), np.float64(2.0), np.float64(2.3), np.float64(2.3), np.float64(1.6), np.float64(2.6), np.float64(2.9), np.float64(2.1), np.float64(1.9), np.float64(2.3), np.float64(2.6), np.float64(2.3), np.float64(2.5), np.float64(1.8), np.float64(2.7), np.float64(3.4), np.float64(2.6), np.float64(3.0), np.float64(2.6), np.float64(2.2), np.float64(2.3), np.float64(2.5), np.float64(2.3), np.float64(2.5), np.float64(3.1), np.float64(2.6), np.float64(3.2), np.float64(2.1), np.float64(1.7), np.float64(2.9), np.float64(3.5), np.float64(2.8), np.float64(2.5), np.float64(2.4), np.float64(3.1), np.float64(3.2), np.float64(2.7), np.float64(2.6), np.float64(1.8), np.float64(2.7), np.float64(2.4), np.float64(2.2), np.float64(1.7), np.float64(3.1), np.float64(2.4), np.float64(2.5), np.float64(2.7), np.float64(2.4), np.float64(2.0), np.float64(2.8), np.float64(2.2), np.float64(1.4), np.float64(2.4), np.float64(2.6), np.float64(2.8), np.float64(2.0), np.float64(2.0), np.float64(3.0), np.float64(2.2), np.float64(2.0), np.float64(2.3), np.float64(2.6), np.float64(1.6), np.float64(2.2), np.float64(2.2), np.float64(1.7), np.float64(2.3), np.float64(2.1), np.float64(2.6), np.float64(3.1), np.float64(2.0), np.float64(3.0), np.float64(1.9), np.float64(2.1), np.float64(2.6), np.float64(3.2), np.float64(2.7), np.float64(2.8), np.float64(2.2), np.float64(2.4), np.float64(3.0), np.float64(3.0), np.float64(2.8), np.float64(1.6), np.float64(3.5), np.float64(2.5), np.float64(2.8), np.float64(2.0), np.float64(3.4), np.float64(2.9), np.float64(2.8), np.float64(2.0), np.float64(1.8), np.float64(1.5), np.float64(2.6), np.float64(2.2), np.float64(2.3), np.float64(2.4), np.float64(2.1), np.float64(2.9), np.float64(2.8), np.float64(1.5), np.float64(2.4), np.float64(1.8), np.float64(1.9), np.float64(3.2), np.float64(2.8), np.float64(3.3), np.float64(2.9), np.float64(2.5), np.float64(2.7), np.float64(2.2), np.float64(2.4), np.float64(3.2), np.float64(2.6), np.float64(2.8), np.float64(3.0), np.float64(2.5), np.float64(3.1), np.float64(2.4), np.float64(2.2), np.float64(4.0), np.float64(2.7), np.float64(1.8), np.float64(2.8), np.float64(2.5), np.float64(2.3), np.float64(3.0), np.float64(2.1), np.float64(2.3), np.float64(2.0), np.float64(2.8), np.float64(2.1), np.float64(2.7), np.float64(2.2), np.float64(2.7), np.float64(1.7), np.float64(2.8), np.float64(2.4), np.float64(2.4), np.float64(2.9), np.float64(2.6), np.float64(2.4), np.float64(2.6), np.float64(2.2), np.float64(2.1), np.float64(2.8), np.float64(3.2), np.float64(2.0), np.float64(2.6), np.float64(1.6), np.float64(2.9), np.float64(2.0), np.float64(2.4), np.float64(2.5), np.float64(2.8), np.float64(1.4), np.float64(2.6), np.float64(1.9), np.float64(2.0), np.float64(2.6), np.float64(2.3), np.float64(3.0), np.float64(2.7), np.float64(2.4), np.float64(2.3), np.float64(2.4), np.float64(2.6)]\n",
      "[np.float64(1.7333333333333334), np.float64(1.8222222222222222), np.float64(1.1222222222222222), np.float64(1.877777777777778), np.float64(1.8777777777777778), np.float64(1.9555555555555555), np.float64(1.9555555555555555), np.float64(0.6222222222222222), np.float64(1.955555555555556), np.float64(3.066666666666667), np.float64(1.1111111111111112), np.float64(3.288888888888889), np.float64(1.0666666666666669), np.float64(1.1666666666666667), np.float64(2.1777777777777776), np.float64(1.1222222222222222), np.float64(2.322222222222223), np.float64(2.055555555555556), np.float64(1.3888888888888888), np.float64(2.7111111111111117), np.float64(1.788888888888889), np.float64(1.7888888888888888), np.float64(1.0666666666666669), np.float64(1.788888888888889), np.float64(1.2111111111111112), np.float64(0.488888888888889), np.float64(2.177777777777778), np.float64(1.511111111111111), np.float64(1.1222222222222222), np.float64(4.1000000000000005), np.float64(1.1111111111111112), np.float64(2.322222222222223), np.float64(0.9), np.float64(2.011111111111111), np.float64(2.766666666666667), np.float64(2.0), np.float64(0.9888888888888889), np.float64(1.8333333333333333), np.float64(1.8777777777777778), np.float64(2.9888888888888894), np.float64(2.5), np.float64(3.8222222222222224), np.float64(2.011111111111111), np.float64(1.955555555555556), np.float64(2.5), np.float64(2.4000000000000004), np.float64(1.6000000000000003), np.float64(1.6555555555555554), np.float64(2.9888888888888894), np.float64(2.6222222222222227), np.float64(1.6555555555555557), np.float64(2.6666666666666665), np.float64(2.0444444444444447), np.float64(2.2222222222222223), np.float64(1.1555555555555554), np.float64(1.2888888888888888), np.float64(1.655555555555556), np.float64(2.5444444444444447), np.float64(1.8222222222222224), np.float64(0.9333333333333335), np.float64(1.5111111111111113), np.float64(4.9), np.float64(1.2888888888888892), np.float64(0.45555555555555555), np.float64(1.6000000000000003), np.float64(2.4), np.float64(1.8777777777777778), np.float64(1.2111111111111112), np.float64(1.7333333333333334), np.float64(2.0), np.float64(2.844444444444444), np.float64(1.3777777777777778), np.float64(4.1000000000000005), np.float64(1.8333333333333333), np.float64(2.8444444444444446), np.float64(2.1), np.float64(1.788888888888889), np.float64(1.6555555555555557), np.float64(1.788888888888889), np.float64(1.6000000000000003), np.float64(1.788888888888889), np.float64(3.1222222222222222), np.float64(1.877777777777778), np.float64(1.777777777777778), np.float64(1.3333333333333333), np.float64(1.4333333333333333), np.float64(0.5444444444444445), np.float64(2.322222222222222), np.float64(2.4555555555555557), np.float64(1.5111111111111113), np.float64(1.5666666666666667), np.float64(2.4555555555555557), np.float64(1.8333333333333333), np.float64(0.2666666666666667), np.float64(2.055555555555556), np.float64(1.5111111111111113), np.float64(2.7111111111111117), np.float64(1.7333333333333334), np.float64(4.277777777777778), np.float64(1.3444444444444446), np.float64(0.9333333333333335), np.float64(1.3888888888888888), np.float64(1.6), np.float64(1.7333333333333334), np.float64(1.7333333333333334), np.float64(2.4888888888888894), np.float64(1.7333333333333334), np.float64(2.0444444444444447), np.float64(1.8777777777777778), np.float64(2.7111111111111117), np.float64(2.233333333333334), np.float64(0.9888888888888888), np.float64(0.6777777777777778), np.float64(1.2111111111111112), np.float64(3.155555555555556), np.float64(1.4333333333333333), np.float64(2.011111111111111), np.float64(1.8333333333333333), np.float64(2.4444444444444446), np.float64(1.5555555555555556), np.float64(2.5444444444444447), np.float64(3.8222222222222224), np.float64(2.177777777777778), np.float64(1.8222222222222222), np.float64(0.9444444444444444), np.float64(2.933333333333333), np.float64(2.2777777777777777), np.float64(1.6), np.float64(1.5111111111111113), np.float64(1.6), np.float64(3.388888888888889), np.float64(2.4000000000000004), np.float64(2.5), np.float64(2.766666666666667), np.float64(4.488888888888889), np.float64(2.0444444444444443), np.float64(2.233333333333334), np.float64(1.3777777777777778), np.float64(4.944444444444445), np.float64(0.6777777777777778), np.float64(3.9555555555555553), np.float64(1.6), np.float64(1.5111111111111113), np.float64(2.6777777777777776), np.float64(1.8333333333333333), np.float64(2.0), np.float64(3.344444444444445), np.float64(1.1666666666666667), np.float64(2.055555555555556), np.float64(1.5666666666666667), np.float64(1.955555555555556), np.float64(1.6555555555555554), np.float64(2.1777777777777776), np.float64(1.877777777777778), np.float64(3.433333333333333), np.float64(0.6222222222222222), np.float64(0.7111111111111112), np.float64(2.544444444444445), np.float64(1.788888888888889), np.float64(2.2777777777777777), np.float64(2.1), np.float64(1.5666666666666667), np.float64(1.1555555555555557), np.float64(1.3777777777777778), np.float64(2.055555555555556), np.float64(0.7111111111111111), np.float64(1.3777777777777778), np.float64(1.1111111111111112), np.float64(1.3333333333333333), np.float64(3.1222222222222222), np.float64(0.888888888888889), np.float64(1.3444444444444446), np.float64(2.9888888888888894), np.float64(1.5555555555555556), np.float64(3.066666666666667), np.float64(1.1222222222222222), np.float64(0.6777777777777779), np.float64(0.9888888888888888), np.float64(2.1), np.float64(1.2888888888888888), np.float64(1.955555555555556), np.float64(2.7666666666666666), np.float64(2.322222222222222), np.float64(2.2777777777777777), np.float64(2.488888888888889), np.float64(1.3333333333333333), np.float64(1.511111111111111), np.float64(2.011111111111111), np.float64(2.2666666666666666), np.float64(2.177777777777778), np.float64(2.322222222222223), np.float64(0.8444444444444447), np.float64(2.4444444444444446), np.float64(1.788888888888889), np.float64(1.4333333333333333), np.float64(3.433333333333334), np.float64(2.177777777777778), np.float64(1.511111111111111), np.float64(3.5111111111111115), np.float64(2.4000000000000004), np.float64(3.3777777777777778), np.float64(1.8333333333333333), np.float64(1.2888888888888888), np.float64(2.3222222222222233), np.float64(1.1555555555555557), np.float64(1.8777777777777778), np.float64(1.5111111111111113), np.float64(1.1555555555555557), np.float64(2.2222222222222223), np.float64(0.8444444444444444), np.float64(1.777777777777778), np.float64(1.6555555555555557), np.float64(1.3888888888888888), np.float64(2.0), np.float64(1.5111111111111115), np.float64(1.6), np.float64(2.8444444444444446), np.float64(4.177777777777778), np.float64(1.4333333333333331), np.float64(2.011111111111111), np.float64(2.8444444444444446), np.float64(2.5444444444444447), np.float64(2.488888888888889), np.float64(1.7333333333333332), np.float64(0.8444444444444444), np.float64(1.2888888888888892), np.float64(3.388888888888889), np.float64(2.9000000000000004), np.float64(1.7333333333333334), np.float64(0.9), np.float64(1.955555555555556), np.float64(0.7111111111111112), np.float64(2.933333333333333), np.float64(2.9000000000000004), np.float64(0.8444444444444444), np.float64(2.177777777777778), np.float64(2.233333333333334), np.float64(0.8444444444444444), np.float64(0.9888888888888889), np.float64(1.2111111111111115), np.float64(2.1), np.float64(1.1111111111111112), np.float64(1.1111111111111112), np.float64(1.0666666666666667), np.float64(1.4333333333333333), np.float64(2.4555555555555557), np.float64(1.2111111111111115), np.float64(2.322222222222223), np.float64(1.3444444444444446), np.float64(0.8444444444444444), np.float64(2.233333333333334), np.float64(0.9333333333333335), np.float64(0.4444444444444445), np.float64(2.4888888888888894), np.float64(1.2111111111111112), np.float64(2.0444444444444447), np.float64(1.877777777777778), np.float64(3.211111111111111), np.float64(1.1666666666666667), np.float64(1.1222222222222225), np.float64(2.0444444444444443), np.float64(1.3444444444444446), np.float64(1.2111111111111112), np.float64(1.2888888888888892), np.float64(0.2666666666666667), np.float64(1.511111111111111), np.float64(1.6555555555555557), np.float64(1.1666666666666667), np.float64(1.5555555555555556), np.float64(1.777777777777778), np.float64(2.055555555555556), np.float64(1.5555555555555556), np.float64(1.3777777777777778), np.float64(1.2888888888888892), np.float64(0.6222222222222222), np.float64(1.5111111111111113), np.float64(0.7666666666666666), np.float64(1.6000000000000003), np.float64(0.7666666666666666), np.float64(2.011111111111111), np.float64(0.9444444444444444), np.float64(2.0), np.float64(2.677777777777778), np.float64(1.2111111111111112), np.float64(1.2888888888888888), np.float64(2.322222222222222), np.float64(1.5666666666666667), np.float64(3.155555555555556), np.float64(1.6111111111111112), np.float64(1.0666666666666669), np.float64(2.322222222222222), np.float64(1.3777777777777778), np.float64(4.48888888888889), np.float64(3.5666666666666664), np.float64(2.7111111111111112), np.float64(2.766666666666667), np.float64(0.9333333333333335), np.float64(1.1666666666666667), np.float64(1.0666666666666669), np.float64(2.48888888888889), np.float64(1.5666666666666667), np.float64(2.5444444444444447), np.float64(2.322222222222222), np.float64(1.2888888888888888), np.float64(1.8222222222222222), np.float64(0.8444444444444444), np.float64(2.2666666666666666), np.float64(2.9000000000000004), np.float64(0.9888888888888889), np.float64(2.233333333333334), np.float64(4.266666666666667), np.float64(2.0444444444444447), np.float64(2.177777777777778), np.float64(1.2111111111111115), np.float64(1.877777777777778), np.float64(2.322222222222223), np.float64(1.0666666666666667), np.float64(2.0444444444444443), np.float64(1.3777777777777775), np.float64(1.1222222222222222), np.float64(2.4888888888888894), np.float64(2.7222222222222223), np.float64(1.1555555555555557), np.float64(2.677777777777778), np.float64(3.111111111111111), np.float64(2.6222222222222227), np.float64(1.777777777777778), np.float64(3.4333333333333327), np.float64(2.6666666666666665), np.float64(1.1222222222222222), np.float64(1.2888888888888892), np.float64(2.2666666666666666), np.float64(1.1666666666666667), np.float64(2.7111111111111112), np.float64(0.488888888888889), np.float64(2.0444444444444443), np.float64(0.7111111111111112), np.float64(0.5444444444444444), np.float64(1.3777777777777778), np.float64(1.777777777777778), np.float64(1.5666666666666667), np.float64(1.2888888888888888), np.float64(5.566666666666666), np.float64(0.9888888888888888), np.float64(0.4444444444444445), np.float64(1.3777777777777778), np.float64(1.7333333333333334), np.float64(2.2666666666666666), np.float64(1.1222222222222222), np.float64(1.6555555555555557), np.float64(1.8777777777777778), np.float64(2.8444444444444446), np.float64(0.7111111111111112), np.float64(3.211111111111111), np.float64(2.0), np.float64(0.5444444444444445), np.float64(1.8222222222222222), np.float64(2.7111111111111117), np.float64(1.877777777777778), np.float64(2.5444444444444447), np.float64(1.955555555555556), np.float64(2.933333333333333), np.float64(1.7333333333333334), np.float64(1.9555555555555555), np.float64(1.211111111111111), np.float64(2.1), np.float64(1.1666666666666667), np.float64(1.8222222222222224), np.float64(2.0444444444444447), np.float64(2.488888888888889), np.float64(1.3444444444444446), np.float64(1.5111111111111113), np.float64(3.733333333333333), np.float64(2.766666666666667), np.float64(1.2111111111111112), np.float64(2.677777777777778), np.float64(2.6222222222222227), np.float64(2.2666666666666666), np.float64(1.2888888888888888), np.float64(2.233333333333334), np.float64(2.0444444444444447), np.float64(0.488888888888889), np.float64(2.1), np.float64(2.2333333333333334), np.float64(0.7111111111111112), np.float64(0.7111111111111111), np.float64(1.2888888888888888), np.float64(1.5666666666666667), np.float64(0.5444444444444444), np.float64(1.3444444444444446), np.float64(0.9333333333333335), np.float64(1.3888888888888888), np.float64(2.011111111111111), np.float64(2.4), np.float64(2.5444444444444447), np.float64(1.4333333333333333), np.float64(1.8777777777777778), np.float64(3.388888888888889), np.float64(1.511111111111111), np.float64(1.2888888888888888), np.float64(0.8444444444444444), np.float64(1.7888888888888888), np.float64(1.4333333333333338), np.float64(0.5), np.float64(1.3333333333333333), np.float64(2.322222222222222), np.float64(2.6222222222222227), np.float64(1.8777777777777778), np.float64(2.322222222222222), np.float64(3.511111111111111), np.float64(1.2888888888888888), np.float64(2.933333333333333), np.float64(1.2888888888888892), np.float64(3.211111111111111), np.float64(1.511111111111111), np.float64(1.7333333333333334), np.float64(1.155555555555556), np.float64(1.2888888888888888), np.float64(1.1111111111111112), np.float64(2.6222222222222222), np.float64(2.4555555555555557), np.float64(1.0666666666666667), np.float64(2.6222222222222227), np.float64(2.4000000000000004), np.float64(0.2666666666666667), np.float64(3.066666666666667), np.float64(1.3888888888888888), np.float64(2.0444444444444443), np.float64(1.6555555555555557), np.float64(2.6777777777777776), np.float64(2.177777777777778), np.float64(2.055555555555556), np.float64(1.2111111111111112), np.float64(2.011111111111111), np.float64(1.5555555555555556), np.float64(0.5444444444444444), np.float64(2.0), np.float64(2.9000000000000004), np.float64(0.7111111111111111), np.float64(2.988888888888889), np.float64(0.7666666666666667), np.float64(2.8888888888888893), np.float64(1.3444444444444446), np.float64(3.111111111111111), np.float64(3.1222222222222222), np.float64(2.2222222222222223), np.float64(1.6555555555555554), np.float64(2.4888888888888894), np.float64(2.488888888888889), np.float64(2.677777777777778), np.float64(1.3444444444444446), np.float64(4.266666666666667), np.float64(2.011111111111111), np.float64(0.6777777777777778), np.float64(1.8777777777777778), np.float64(0.7666666666666666), np.float64(3.166666666666667), np.float64(2.6666666666666665), np.float64(2.055555555555556), np.float64(0.8444444444444444), np.float64(1.5666666666666667), np.float64(1.511111111111111), np.float64(2.2666666666666675), np.float64(0.9444444444444444), np.float64(3.2111111111111112), np.float64(0.6222222222222222), np.float64(1.6), np.float64(2.9333333333333336), np.float64(1.0666666666666664), np.float64(1.777777777777778), np.float64(2.4555555555555557), np.float64(2.988888888888889), np.float64(1.3888888888888888), np.float64(2.2666666666666666), np.float64(2.6666666666666665), np.float64(0.6222222222222222), np.float64(2.4888888888888894), np.float64(0.9888888888888889), np.float64(1.955555555555556), np.float64(1.3444444444444446), np.float64(1.3777777777777778), np.float64(2.1), np.float64(2.2222222222222223), np.float64(1.1111111111111112), np.float64(0.9333333333333335), np.float64(1.1222222222222222), np.float64(1.3777777777777775), np.float64(1.3444444444444446), np.float64(1.2111111111111112), np.float64(1.1666666666666667), np.float64(1.777777777777778), np.float64(1.1555555555555557), np.float64(1.3777777777777778), np.float64(1.3444444444444446), np.float64(3.788888888888889), np.float64(0.9333333333333335), np.float64(1.6555555555555557), np.float64(1.511111111111111), np.float64(1.5555555555555556), np.float64(3.9555555555555557), np.float64(0.7666666666666666), np.float64(3.288888888888889), np.float64(1.8222222222222224), np.float64(1.3777777777777778), np.float64(1.955555555555556), np.float64(1.511111111111111), np.float64(1.155555555555556), np.float64(2.4555555555555557), np.float64(1.6), np.float64(1.6555555555555557), np.float64(0.5), np.float64(0.9444444444444444), np.float64(1.5111111111111113), np.float64(0.32222222222222213), np.float64(3.8777777777777787), np.float64(1.6111111111111112), np.float64(2.0444444444444447), np.float64(0.4444444444444445), np.float64(1.211111111111111), np.float64(1.3444444444444446), np.float64(3.166666666666667), np.float64(1.5666666666666667), np.float64(2.8444444444444446), np.float64(1.6111111111111112), np.float64(2.9333333333333336), np.float64(1.1111111111111112), np.float64(1.1222222222222222), np.float64(1.2888888888888892), np.float64(1.7333333333333336), np.float64(2.844444444444444), np.float64(0.9333333333333335), np.float64(2.177777777777778), np.float64(2.177777777777778), np.float64(1.1222222222222222), np.float64(1.8222222222222224), np.float64(3.344444444444445), np.float64(0.9444444444444444), np.float64(1.8777777777777784), np.float64(0.9333333333333335), np.float64(0.9888888888888888), np.float64(1.6), np.float64(2.488888888888889), np.float64(0.6777777777777778), np.float64(2.8444444444444446), np.float64(1.211111111111111), np.float64(2.055555555555556), np.float64(2.1), np.float64(2.0444444444444447), np.float64(3.788888888888889), np.float64(2.7111111111111117), np.float64(0.6222222222222222), np.float64(2.544444444444445), np.float64(0.9444444444444444), np.float64(2.233333333333334), np.float64(2.7222222222222223), np.float64(3.211111111111111), np.float64(1.6), np.float64(1.5666666666666667), np.float64(1.3777777777777775), np.float64(1.4333333333333333), np.float64(1.2888888888888892), np.float64(0.9888888888888888), np.float64(1.4333333333333331), np.float64(1.3888888888888888), np.float64(3.0666666666666664), np.float64(2.988888888888889), np.float64(1.955555555555556), np.float64(1.6), np.float64(1.6555555555555557), np.float64(1.1111111111111112), np.float64(1.0666666666666667), np.float64(1.8222222222222224), np.float64(3.5111111111111115), np.float64(1.1222222222222222), np.float64(1.1555555555555554), np.float64(0.9444444444444444), np.float64(1.4333333333333333), np.float64(0.9), np.float64(1.0666666666666669), np.float64(1.1555555555555557), np.float64(2.844444444444445), np.float64(2.177777777777778), np.float64(1.955555555555556), np.float64(1.1666666666666667), np.float64(2.2777777777777777), np.float64(0.9444444444444444), np.float64(0.5), np.float64(3.433333333333334), np.float64(3.388888888888889), np.float64(0.7666666666666666), np.float64(1.8222222222222224), np.float64(3.3777777777777778), np.float64(1.8777777777777784), np.float64(1.3888888888888888), np.float64(1.955555555555556), np.float64(2.933333333333333), np.float64(0.7222222222222223), np.float64(0.4), np.float64(5.822222222222223), np.float64(1.3888888888888888), np.float64(1.8222222222222224), np.float64(3.433333333333333), np.float64(1.7333333333333334), np.float64(4.48888888888889), np.float64(1.6555555555555557), np.float64(1.1666666666666667), np.float64(1.788888888888889), np.float64(1.4333333333333333), np.float64(2.0444444444444443), np.float64(2.322222222222223), np.float64(1.6111111111111112), np.float64(1.5555555555555556), np.float64(1.8777777777777778), np.float64(1.6), np.float64(2.0), np.float64(1.8222222222222224), np.float64(2.233333333333334), np.float64(1.5666666666666667), np.float64(1.9555555555555555), np.float64(2.177777777777778), np.float64(2.488888888888889), np.float64(1.4333333333333331), np.float64(2.6222222222222227), np.float64(1.4333333333333333), np.float64(3.6), np.float64(1.4333333333333333), np.float64(1.655555555555556), np.float64(0.9888888888888889), np.float64(1.6111111111111112), np.float64(1.777777777777778), np.float64(0.7666666666666666), np.float64(2.7111111111111117), np.float64(0.7111111111111112), np.float64(1.1555555555555557), np.float64(1.211111111111111), np.float64(1.1111111111111112), np.float64(2.7111111111111112), np.float64(2.7666666666666675), np.float64(2.2222222222222223), np.float64(3.822222222222223), np.float64(2.4000000000000004), np.float64(2.5444444444444447), np.float64(0.7222222222222223), np.float64(2.055555555555556), np.float64(1.6), np.float64(1.211111111111111), np.float64(1.8777777777777778), np.float64(1.1555555555555554), np.float64(0.8444444444444444), np.float64(0.888888888888889), np.float64(2.322222222222222), np.float64(1.6), np.float64(1.8333333333333333), np.float64(1.8222222222222224), np.float64(2.011111111111111), np.float64(2.233333333333334), np.float64(1.8222222222222222), np.float64(2.5), np.float64(1.8777777777777778), np.float64(4.1000000000000005), np.float64(1.4333333333333333), np.float64(1.3888888888888888), np.float64(0.7111111111111112), np.float64(0.45555555555555555), np.float64(1.788888888888889), np.float64(2.055555555555556), np.float64(1.3888888888888888), np.float64(1.2111111111111112), np.float64(1.6555555555555557), np.float64(1.5666666666666667), np.float64(1.2888888888888888), np.float64(1.2111111111111112), np.float64(2.0444444444444443), np.float64(1.6555555555555557), np.float64(3.5111111111111115), np.float64(1.3777777777777778), np.float64(1.3777777777777775), np.float64(1.6555555555555557), np.float64(2.4888888888888894), np.float64(4.544444444444445), np.float64(1.955555555555556), np.float64(4.844444444444444), np.float64(1.511111111111111), np.float64(1.5555555555555556), np.float64(3.166666666666667), np.float64(2.5), np.float64(2.2222222222222223), np.float64(0.9888888888888889), np.float64(2.177777777777778), np.float64(2.055555555555556), np.float64(2.4888888888888894), np.float64(0.9), np.float64(1.2888888888888888), np.float64(2.7111111111111117), np.float64(1.777777777777778), np.float64(1.9555555555555555), np.float64(2.6666666666666665), np.float64(1.3444444444444446), np.float64(2.8999999999999995), np.float64(0.7111111111111111), np.float64(1.1222222222222222), np.float64(2.2333333333333325), np.float64(1.1555555555555557), np.float64(1.1222222222222222), np.float64(2.4555555555555557), np.float64(1.3444444444444446), np.float64(3.288888888888889), np.float64(1.6555555555555557), np.float64(1.9555555555555555), np.float64(1.8333333333333333), np.float64(1.8777777777777778), np.float64(0.9), np.float64(1.6555555555555557), np.float64(0.9444444444444444), np.float64(2.766666666666667), np.float64(2.0444444444444443), np.float64(1.8333333333333333), np.float64(1.5666666666666667), np.float64(1.3333333333333333), np.float64(0.9888888888888892), np.float64(2.5), np.float64(0.7666666666666666), np.float64(1.655555555555556), np.float64(1.1222222222222222), np.float64(1.3444444444444446), np.float64(1.7333333333333334), np.float64(2.055555555555556), np.float64(2.2777777777777777), np.float64(1.655555555555556), np.float64(1.5666666666666667), np.float64(1.3777777777777778), np.float64(2.0444444444444447), np.float64(3.066666666666667), np.float64(0.9888888888888889), np.float64(1.1555555555555557), np.float64(0.8444444444444444), np.float64(1.7333333333333334), np.float64(0.7111111111111111), np.float64(1.5111111111111113), np.float64(1.5666666666666667), np.float64(2.0444444444444443), np.float64(1.5666666666666667), np.float64(1.6555555555555557), np.float64(2.2777777777777777), np.float64(5.211111111111112), np.float64(1.6111111111111112), np.float64(0.8444444444444444), np.float64(2.9333333333333336), np.float64(0.9333333333333335), np.float64(1.955555555555556), np.float64(1.6), np.float64(1.6555555555555557), np.float64(0.8444444444444444), np.float64(2.322222222222222), np.float64(1.511111111111111), np.float64(1.1222222222222222), np.float64(1.8777777777777778), np.float64(1.1555555555555557), np.float64(1.1111111111111112), np.float64(3.066666666666667), np.float64(2.233333333333334), np.float64(1.2111111111111115), np.float64(0.7222222222222223), np.float64(1.5555555555555556), np.float64(3.1222222222222222), np.float64(1.6), np.float64(1.2111111111111112), np.float64(1.4333333333333331), np.float64(1.3333333333333333), np.float64(1.5666666666666667), np.float64(4.1000000000000005), np.float64(2.4888888888888894), np.float64(0.6222222222222223), np.float64(1.955555555555556), np.float64(4.044444444444444), np.float64(1.6111111111111112), np.float64(1.955555555555556), np.float64(3.5666666666666678), np.float64(0.7222222222222223), np.float64(0.7666666666666666), np.float64(1.788888888888889), np.float64(3.822222222222223), np.float64(2.1), np.float64(1.1555555555555557), np.float64(0.888888888888889), np.float64(1.8222222222222222), np.float64(0.6222222222222222), np.float64(2.7111111111111112), np.float64(0.2666666666666667), np.float64(3.555555555555556), np.float64(1.3333333333333333), np.float64(2.011111111111111), np.float64(2.0444444444444443), np.float64(1.877777777777778), np.float64(3.6), np.float64(1.511111111111111), np.float64(3.2111111111111112), np.float64(1.8222222222222224), np.float64(1.6111111111111112), np.float64(0.45555555555555555), np.float64(1.5111111111111113), np.float64(1.0666666666666669), np.float64(1.4333333333333331), np.float64(2.6222222222222222), np.float64(0.8444444444444444), np.float64(1.6111111111111112), np.float64(0.7666666666666666), np.float64(1.6555555555555557), np.float64(1.2888888888888892), np.float64(1.2888888888888892), np.float64(1.1666666666666667), np.float64(2.0), np.float64(1.511111111111111), np.float64(2.177777777777778), np.float64(1.6), np.float64(1.0666666666666669), np.float64(1.3444444444444446), np.float64(2.4555555555555557), np.float64(1.8222222222222224), np.float64(1.3444444444444446), np.float64(1.3444444444444446), np.float64(0.9888888888888889), np.float64(1.3333333333333333), np.float64(2.055555555555556), np.float64(3.388888888888889), np.float64(0.8444444444444444), np.float64(3.0666666666666664), np.float64(2.933333333333333), np.float64(2.2222222222222223), np.float64(0.7111111111111111), np.float64(1.4333333333333333), np.float64(1.2111111111111115), np.float64(2.9000000000000004), np.float64(2.011111111111111), np.float64(1.6111111111111112), np.float64(1.0666666666666669), np.float64(2.011111111111111), np.float64(1.6), np.float64(1.5666666666666667), np.float64(1.8222222222222224), np.float64(1.511111111111111), np.float64(1.1555555555555557), np.float64(0.17777777777777776), np.float64(2.4000000000000004), np.float64(0.488888888888889), np.float64(2.177777777777778), np.float64(1.1222222222222222), np.float64(1.0666666666666669), np.float64(1.1111111111111112), np.float64(2.0444444444444443), np.float64(0.9888888888888892), np.float64(0.7111111111111112), np.float64(1.5111111111111113), np.float64(1.6555555555555557), np.float64(1.8222222222222224), np.float64(4.9), np.float64(2.7111111111111117), np.float64(1.955555555555556), np.float64(1.2888888888888892), np.float64(0.488888888888889), np.float64(0.9444444444444444), np.float64(2.1), np.float64(1.8333333333333333), np.float64(1.6111111111111112), np.float64(1.7888888888888888), np.float64(1.3888888888888888), np.float64(3.066666666666667), np.float64(1.0666666666666669), np.float64(1.5555555555555556), np.float64(3.288888888888889), np.float64(1.6111111111111112), np.float64(1.7333333333333334), np.float64(2.4888888888888894), np.float64(0.9333333333333332), np.float64(1.2111111111111112), np.float64(1.6555555555555557), np.float64(1.1555555555555557), np.float64(1.4333333333333333), np.float64(4.055555555555555), np.float64(1.4333333333333331), np.float64(1.3444444444444446), np.float64(1.511111111111111), np.float64(4.277777777777778), np.float64(2.2666666666666666), np.float64(1.0666666666666667), np.float64(1.788888888888889), np.float64(3.3777777777777778), np.float64(0.8444444444444444), np.float64(1.4333333333333333), np.float64(1.877777777777778), np.float64(0.6777777777777778), np.float64(1.777777777777778), np.float64(1.6111111111111112), np.float64(2.5444444444444447), np.float64(1.4333333333333333), np.float64(1.9555555555555555), np.float64(0.7666666666666666), np.float64(4.222222222222222), np.float64(1.3444444444444446), np.float64(2.322222222222222), np.float64(2.8444444444444446), np.float64(2.9333333333333336), np.float64(0.7111111111111111), np.float64(1.1555555555555557), np.float64(1.6), np.float64(2.055555555555556), np.float64(0.8444444444444444), np.float64(2.1), np.float64(1.8777777777777784), np.float64(2.0444444444444447), np.float64(0.5), np.float64(1.2888888888888892), np.float64(1.6555555555555557), np.float64(2.0444444444444447), np.float64(2.9333333333333336), np.float64(1.788888888888889), np.float64(2.7111111111111112), np.float64(1.1666666666666667), np.float64(0.2666666666666667), np.float64(1.2111111111111115), np.float64(1.3888888888888888), np.float64(1.6), np.float64(1.4333333333333338), np.float64(1.2888888888888892), np.float64(1.3888888888888888), np.float64(0.8444444444444444), np.float64(0.5444444444444444), np.float64(2.7666666666666666), np.float64(2.2777777777777777), np.float64(4.5), np.float64(0.6222222222222222), np.float64(1.8777777777777778), np.float64(4.044444444444445), np.float64(0.9333333333333335), np.float64(1.3888888888888888), np.float64(2.2666666666666666), np.float64(0.9888888888888889), np.float64(2.4555555555555557), np.float64(1.3444444444444446), np.float64(0.888888888888889), np.float64(1.6111111111111112), np.float64(0.2333333333333333), np.float64(0.45555555555555555), np.float64(3.288888888888889), np.float64(2.0444444444444447), np.float64(5.288888888888889), np.float64(1.1555555555555557), np.float64(1.1222222222222222), np.float64(0.7111111111111111), np.float64(1.6555555555555557), np.float64(2.8888888888888893), np.float64(2.488888888888889), np.float64(1.788888888888889), np.float64(1.7888888888888888), np.float64(3.3777777777777787), np.float64(0.9), np.float64(2.233333333333334), np.float64(1.3444444444444446), np.float64(2.7666666666666666), np.float64(0.6222222222222222), np.float64(4.722222222222222), np.float64(0.9), np.float64(3.655555555555556), np.float64(2.5444444444444447), np.float64(0.9333333333333335), np.float64(1.5666666666666667), np.float64(1.877777777777778), np.float64(0.9888888888888889), np.float64(0.7111111111111111), np.float64(1.6111111111111112), np.float64(2.6222222222222227), np.float64(1.3444444444444446), np.float64(2.1), np.float64(1.6111111111111112), np.float64(1.3444444444444446), np.float64(1.0666666666666667), np.float64(0.9888888888888889), np.float64(1.9555555555555555), np.float64(0.8444444444444447), np.float64(1.6111111111111112), np.float64(2.677777777777778), np.float64(1.9555555555555555), np.float64(1.5666666666666667), np.float64(0.7666666666666666), np.float64(3.1555555555555554), np.float64(0.9), np.float64(2.322222222222223), np.float64(3.155555555555556), np.float64(2.055555555555556), np.float64(3.288888888888889), np.float64(0.4), np.float64(1.3444444444444446), np.float64(2.322222222222223), np.float64(2.0), np.float64(1.3444444444444446), np.float64(3.2111111111111117), np.float64(0.6777777777777778), np.float64(1.6555555555555557), np.float64(2.6222222222222222), np.float64(2.2666666666666666), np.float64(2.9000000000000004), np.float64(3.611111111111111), np.float64(2.1000000000000005), np.float64(1.2111111111111112), np.float64(1.6111111111111112), np.float64(1.955555555555556), np.float64(0.9), np.float64(2.011111111111111), np.float64(2.2333333333333334), np.float64(0.4555555555555556), np.float64(2.7111111111111117), np.float64(1.6555555555555557), np.float64(2.7111111111111112), np.float64(2.055555555555556), np.float64(1.8222222222222222), np.float64(1.8333333333333333), np.float64(1.8222222222222224), np.float64(1.5111111111111113), np.float64(2.9444444444444446), np.float64(1.1555555555555557), np.float64(2.6222222222222227), np.float64(1.1555555555555554), np.float64(1.511111111111111), np.float64(2.055555555555556), np.float64(2.488888888888889), np.float64(3.066666666666667), np.float64(1.8222222222222222), np.float64(2.8999999999999995), np.float64(1.5666666666666667), np.float64(1.5555555555555556), np.float64(0.9333333333333335), np.float64(2.8444444444444446), np.float64(2.4444444444444446), np.float64(2.7666666666666666), np.float64(0.9), np.float64(3.288888888888889), np.float64(1.155555555555556), np.float64(2.4000000000000004), np.float64(2.7222222222222223), np.float64(1.7333333333333334), np.float64(1.5555555555555556), np.float64(0.9888888888888888), np.float64(1.8777777777777778), np.float64(0.9444444444444444), np.float64(0.488888888888889), np.float64(1.3333333333333333), np.float64(2.011111111111111), np.float64(1.788888888888889), np.float64(1.777777777777778), np.float64(2.011111111111111), np.float64(2.6777777777777776), np.float64(2.011111111111111), np.float64(0.9333333333333335), np.float64(1.3333333333333333), np.float64(0.9333333333333335), np.float64(2.0), np.float64(1.6), np.float64(2.055555555555556), np.float64(1.6111111111111112), np.float64(1.2888888888888892), np.float64(0.6222222222222222), np.float64(1.955555555555556), np.float64(2.677777777777778), np.float64(2.677777777777778), np.float64(1.5666666666666667), np.float64(1.377777777777778), np.float64(2.0444444444444443), np.float64(2.2666666666666666), np.float64(1.4333333333333333), np.float64(2.400000000000001), np.float64(3.3444444444444446), np.float64(3.511111111111111), np.float64(1.5666666666666669), np.float64(1.3888888888888888), np.float64(2.2666666666666666), np.float64(2.055555555555556), np.float64(1.655555555555556), np.float64(2.5444444444444447), np.float64(0.4555555555555556), np.float64(1.6111111111111112), np.float64(1.8777777777777778), np.float64(2.988888888888889), np.float64(1.5111111111111115), np.float64(1.1222222222222222), np.float64(4.722222222222222), np.float64(1.1555555555555557), np.float64(2.4444444444444446), np.float64(0.8444444444444444), np.float64(2.0444444444444447), np.float64(1.2111111111111115), np.float64(1.955555555555556), np.float64(1.0666666666666667), np.float64(1.3333333333333333), np.float64(2.4444444444444446), np.float64(2.322222222222222), np.float64(2.933333333333334), np.float64(3.066666666666667), np.float64(4.988888888888889), np.float64(1.955555555555556), np.float64(1.788888888888889), np.float64(0.8444444444444444), np.float64(1.0666666666666669), np.float64(2.055555555555556), np.float64(1.5555555555555556), np.float64(1.3444444444444446), np.float64(3.433333333333333), np.float64(1.2888888888888892), np.float64(2.5444444444444447), np.float64(1.3444444444444446), np.float64(1.1666666666666667), np.float64(2.2666666666666666), np.float64(2.4444444444444446), np.float64(0.9888888888888889), np.float64(2.7111111111111112), np.float64(2.177777777777778), np.float64(1.955555555555556), np.float64(1.655555555555556), np.float64(0.9444444444444444), np.float64(0.9444444444444444), np.float64(2.7111111111111117), np.float64(3.1222222222222222), np.float64(1.6), np.float64(0.9333333333333335), np.float64(2.8888888888888893), np.float64(3.511111111111111), np.float64(1.6555555555555554), np.float64(1.2888888888888892), np.float64(2.5444444444444447), np.float64(1.2111111111111112), np.float64(2.6777777777777776), np.float64(1.8777777777777778), np.float64(2.677777777777778), np.float64(1.8222222222222224), np.float64(2.1777777777777776), np.float64(1.788888888888889), np.float64(3.3444444444444446), np.float64(1.6), np.float64(0.5), np.float64(2.011111111111111), np.float64(1.1222222222222222), np.float64(0.6777777777777778), np.float64(1.3777777777777778), np.float64(2.8888888888888893), np.float64(0.7666666666666667), np.float64(2.988888888888889), np.float64(1.8222222222222224), np.float64(2.0), np.float64(2.233333333333334), np.float64(2.6222222222222227), np.float64(1.788888888888889), np.float64(1.4333333333333333), np.float64(2.5444444444444447), np.float64(1.3888888888888888), np.float64(0.7666666666666666), np.float64(1.2888888888888892), np.float64(2.2777777777777777), np.float64(1.3444444444444446), np.float64(2.677777777777778), np.float64(4.266666666666667), np.float64(3.288888888888889), np.float64(1.6111111111111112), np.float64(0.7666666666666666), np.float64(1.7333333333333336), np.float64(1.4333333333333333), np.float64(1.788888888888889), np.float64(1.5555555555555556), np.float64(1.3888888888888888), np.float64(3.2111111111111112), np.float64(1.3777777777777775), np.float64(1.0666666666666669), np.float64(1.8777777777777778), np.float64(3.6), np.float64(1.8777777777777778), np.float64(1.3777777777777778), np.float64(0.9), np.float64(0.9333333333333332), np.float64(1.8222222222222224), np.float64(1.877777777777778), np.float64(1.7333333333333334), np.float64(1.1111111111111112), np.float64(0.9888888888888889), np.float64(2.766666666666667), np.float64(1.3777777777777778), np.float64(1.5666666666666667), np.float64(1.8777777777777778), np.float64(3.599999999999999), np.float64(1.0666666666666667), np.float64(2.322222222222223), np.float64(1.8222222222222222), np.float64(1.3444444444444446), np.float64(1.3888888888888888), np.float64(0.5444444444444444), np.float64(1.8222222222222222), np.float64(1.1111111111111112), np.float64(2.6222222222222222), np.float64(3.122222222222222), np.float64(2.4555555555555557), np.float64(2.4), np.float64(1.3333333333333333), np.float64(1.5666666666666667), np.float64(2.011111111111111), np.float64(2.011111111111111), np.float64(2.055555555555556), np.float64(1.3444444444444446), np.float64(1.2111111111111112), np.float64(3.166666666666667), np.float64(1.777777777777778), np.float64(0.9888888888888888), np.float64(1.1666666666666667), np.float64(1.6), np.float64(3.433333333333334), np.float64(1.1555555555555554), np.float64(2.7222222222222223), np.float64(3.8777777777777787), np.float64(1.777777777777778), np.float64(1.8222222222222222), np.float64(2.9000000000000004), np.float64(1.5666666666666667), np.float64(1.8222222222222224), np.float64(2.5), np.float64(1.3444444444444446), np.float64(0.9888888888888888), np.float64(2.677777777777778), np.float64(1.1222222222222222), np.float64(1.6), np.float64(1.3444444444444446), np.float64(3.066666666666667), np.float64(2.233333333333334), np.float64(0.6666666666666666), np.float64(1.0666666666666669), np.float64(0.9), np.float64(1.6111111111111112), np.float64(1.788888888888889), np.float64(1.777777777777778), np.float64(1.7333333333333334), np.float64(1.1666666666666667), np.float64(2.4555555555555557), np.float64(0.8444444444444444), np.float64(2.4888888888888894), np.float64(0.9333333333333335), np.float64(1.4333333333333333), np.float64(1.5111111111111113), np.float64(3.8222222222222224), np.float64(2.1), np.float64(2.0444444444444447), np.float64(1.1222222222222222), np.float64(2.322222222222222), np.float64(0.488888888888889), np.float64(1.1111111111111112), np.float64(1.6000000000000003), np.float64(1.0666666666666667), np.float64(2.2666666666666666), np.float64(2.1000000000000005), np.float64(1.3777777777777778), np.float64(0.9), np.float64(0.9333333333333336), np.float64(1.1111111111111112), np.float64(2.0444444444444447), np.float64(0.6777777777777778), np.float64(0.9), np.float64(1.788888888888889), np.float64(0.8444444444444444), np.float64(0.6666666666666666), np.float64(0.9333333333333335), np.float64(0.6222222222222222), np.float64(3.511111111111111), np.float64(1.877777777777778), np.float64(2.6777777777777776), np.float64(2.5), np.float64(1.777777777777778), np.float64(1.8333333333333333), np.float64(1.788888888888889), np.float64(1.1555555555555557), np.float64(2.677777777777778), np.float64(2.622222222222223), np.float64(2.233333333333334), np.float64(3.0666666666666664), np.float64(3.566666666666667), np.float64(1.6111111111111112), np.float64(1.4333333333333338), np.float64(0.9), np.float64(1.788888888888889), np.float64(1.955555555555556), np.float64(1.6555555555555557), np.float64(2.177777777777778), np.float64(3.788888888888889), np.float64(3.1222222222222222), np.float64(2.4444444444444446), np.float64(2.2777777777777777), np.float64(2.677777777777778), np.float64(2.677777777777777), np.float64(1.0666666666666669), np.float64(1.8222222222222224), np.float64(2.6777777777777776), np.float64(1.9555555555555555), np.float64(1.6), np.float64(1.8333333333333333), np.float64(2.322222222222222), np.float64(2.6222222222222227), np.float64(1.955555555555556), np.float64(1.6111111111111112), np.float64(2.322222222222222), np.float64(1.877777777777778), np.float64(0.9), np.float64(3.3444444444444446), np.float64(1.6111111111111112), np.float64(2.844444444444444), np.float64(0.7111111111111112), np.float64(1.3777777777777778), np.float64(1.777777777777778), np.float64(2.011111111111111), np.float64(0.7666666666666666), np.float64(1.8333333333333333), np.float64(1.5555555555555556), np.float64(1.4333333333333331), np.float64(1.5666666666666667), np.float64(2.7111111111111112), np.float64(1.6111111111111112), np.float64(2.1777777777777776), np.float64(2.7111111111111112), np.float64(1.8222222222222222), np.float64(0.9444444444444444), np.float64(1.1555555555555557), np.float64(1.3444444444444446), np.float64(2.0444444444444447), np.float64(1.8333333333333333), np.float64(2.0), np.float64(2.9000000000000004), np.float64(1.1111111111111112), np.float64(2.5444444444444447), np.float64(2.322222222222222), np.float64(4.544444444444445), np.float64(3.655555555555556), np.float64(0.888888888888889), np.float64(2.4555555555555557), np.float64(2.677777777777778), np.float64(0.7111111111111112), np.float64(0.7111111111111111), np.float64(0.7666666666666666), np.float64(0.9888888888888889), np.float64(1.6555555555555557), np.float64(2.4555555555555557), np.float64(2.2666666666666666), np.float64(1.788888888888889), np.float64(1.1666666666666667), np.float64(1.5111111111111113), np.float64(1.788888888888889), np.float64(0.9333333333333335), np.float64(2.0444444444444443), np.float64(1.5555555555555556), np.float64(2.7111111111111112), np.float64(0.6222222222222222), np.float64(2.2333333333333325), np.float64(2.2777777777777777), np.float64(3.788888888888889), np.float64(1.3888888888888888), np.float64(0.7666666666666666), np.float64(1.6000000000000003), np.float64(1.7333333333333334), np.float64(1.6555555555555557), np.float64(1.1222222222222222), np.float64(1.8777777777777784), np.float64(2.9444444444444446), np.float64(2.6222222222222222), np.float64(1.6111111111111112), np.float64(0.7111111111111111), np.float64(2.1), np.float64(1.7333333333333334), np.float64(2.233333333333334), np.float64(1.1555555555555557), np.float64(1.5111111111111113), np.float64(2.233333333333334), np.float64(1.8222222222222224), np.float64(1.0666666666666669), np.float64(1.1222222222222225), np.float64(2.9888888888888894), np.float64(2.0444444444444447), np.float64(1.3888888888888888), np.float64(2.4555555555555557), np.float64(1.6), np.float64(0.4444444444444445), np.float64(3.2888888888888896), np.float64(0.6222222222222222), np.float64(1.3777777777777778), np.float64(2.4888888888888894), np.float64(1.1555555555555557), np.float64(0.8444444444444444), np.float64(1.777777777777778), np.float64(1.1111111111111112), np.float64(2.6666666666666665), np.float64(1.7333333333333332), np.float64(0.6666666666666666), np.float64(1.3444444444444446), np.float64(1.6), np.float64(1.3777777777777778), np.float64(1.2888888888888892), np.float64(3.0666666666666664), np.float64(0.9), np.float64(0.6777777777777778), np.float64(1.4333333333333333), np.float64(2.2666666666666666), np.float64(0.9888888888888889), np.float64(1.777777777777778), np.float64(0.888888888888889), np.float64(1.2111111111111115), np.float64(0.9888888888888889), np.float64(2.48888888888889), np.float64(1.511111111111111), np.float64(2.233333333333334), np.float64(1.0666666666666669), np.float64(1.5111111111111113), np.float64(5.155555555555555), np.float64(2.4444444444444446), np.float64(0.888888888888889), np.float64(2.6222222222222222), np.float64(0.7111111111111111), np.float64(0.9444444444444444), np.float64(1.3888888888888888), np.float64(1.2888888888888892), np.float64(1.3333333333333333), np.float64(2.0444444444444447), np.float64(2.322222222222222), np.float64(1.2888888888888892), np.float64(1.3333333333333333), np.float64(1.5111111111111113), np.float64(1.1666666666666667), np.float64(2.7111111111111117), np.float64(1.0666666666666669), np.float64(1.1222222222222222), np.float64(1.3777777777777778), np.float64(1.8777777777777784), np.float64(0.9888888888888889), np.float64(1.0666666666666669), np.float64(1.6111111111111112), np.float64(2.4888888888888894), np.float64(1.955555555555556), np.float64(1.8777777777777778), np.float64(3.733333333333334), np.float64(2.177777777777778), np.float64(2.2333333333333334), np.float64(1.4333333333333333), np.float64(1.1666666666666667), np.float64(1.1222222222222222), np.float64(1.511111111111111), np.float64(2.0444444444444443), np.float64(2.4), np.float64(1.8222222222222222), np.float64(2.6222222222222222), np.float64(1.5555555555555556), np.float64(0.9444444444444444), np.float64(0.9888888888888888), np.float64(0.9333333333333335), np.float64(0.8444444444444444), np.float64(2.2222222222222223), np.float64(2.011111111111111), np.float64(0.6222222222222222), np.float64(1.0666666666666667), np.float64(2.055555555555556), np.float64(1.788888888888889), np.float64(3.7777777777777777), np.float64(1.877777777777778), np.float64(1.788888888888889), np.float64(1.1111111111111112), np.float64(1.0666666666666667), np.float64(0.5444444444444444), np.float64(1.788888888888889), np.float64(1.7333333333333332), np.float64(2.4555555555555557), np.float64(1.1222222222222222), np.float64(0.8444444444444444), np.float64(2.7111111111111112), np.float64(1.6), np.float64(0.9888888888888889), np.float64(1.8222222222222224), np.float64(1.3777777777777778), np.float64(1.155555555555556), np.float64(1.2888888888888885), np.float64(1.2111111111111112), np.float64(2.4000000000000004), np.float64(1.2888888888888892), np.float64(1.5555555555555556), np.float64(1.3777777777777778), np.float64(2.488888888888889), np.float64(2.5444444444444447), np.float64(2.0), np.float64(3.1555555555555554), np.float64(1.6111111111111112), np.float64(2.844444444444444), np.float64(2.0444444444444447), np.float64(3.1555555555555554), np.float64(1.6555555555555557), np.float64(3.7777777777777777), np.float64(2.0444444444444443), np.float64(2.677777777777778), np.float64(2.4444444444444446), np.float64(3.1222222222222222), np.float64(3.3777777777777778), np.float64(1.788888888888889), np.float64(0.9333333333333335), np.float64(2.488888888888889)]\n"
     ]
    }
   ],
   "source": [
    "from scipy.stats import binom, describe\n",
    "import numpy as np\n",
    "\n",
    "# Initialize lists to store the computed averages and variances\n",
    "averages = []\n",
    "variances = []\n",
    "\n",
    "for i in range(1500):\n",
    "    # 10 trials of 10 coin flips with 25% probability of heads\n",
    "    sample = binom.rvs(n=10, p=0.25, size=10)\n",
    "    # Compute descriptive statistics for the sample\n",
    "    stats = describe(sample)\n",
    "    averages.append(stats.mean)\n",
    "    variances.append(stats.variance)\n",
    "\n",
    "print(averages)\n",
    "print(variances)"
   ]
  },
  {
   "cell_type": "code",
   "execution_count": 71,
   "metadata": {},
   "outputs": [
    {
     "name": "stdout",
     "output_type": "stream",
     "text": [
      "Mean 2.492566666666667\n",
      "Variance 1.8587740740740741\n"
     ]
    }
   ],
   "source": [
    "for i in range(0, 1500):\n",
    "\t# 10 draws of 10 coin flips with 25% probability of heads\n",
    "    sample = binom.rvs(n=10, p=0.25, size=10)\n",
    "\t# Mean and variance of the values in the sample variable\n",
    "    averages.append(describe(sample).mean)\n",
    "    variances.append(describe(sample).variance)\n",
    "  \n",
    "# Calculate the mean of the averages variable\n",
    "print(\"Mean {}\".format(describe(averages).mean))\n",
    "\n",
    "# Calculate the mean of the variances variable\n",
    "print(\"Variance {}\".format(describe(variances).mean))"
   ]
  },
  {
   "cell_type": "code",
   "execution_count": 72,
   "metadata": {},
   "outputs": [
    {
     "name": "stdout",
     "output_type": "stream",
     "text": [
      "Mean 2.5056666666666665\n",
      "Variance 1.860125925925926\n",
      "(np.float64(2.5), np.float64(1.875))\n"
     ]
    }
   ],
   "source": [
    "from scipy.stats import binom, describe\n",
    "import numpy as np\n",
    "\n",
    "averages = []\n",
    "variances = []\n",
    "\n",
    "for i in range(1500):\n",
    "    # 10 draws of 10 coin flips with 25% probability of heads\n",
    "    sample = binom.rvs(n=10, p=0.25, size=10)\n",
    "    # Mean and variance of the values in the sample variable\n",
    "    averages.append(describe(sample).mean)\n",
    "    variances.append(describe(sample).variance)\n",
    "  \n",
    "# Calculate the mean of the averages variable\n",
    "print(\"Mean {}\".format(describe(averages).mean))\n",
    "\n",
    "# Calculate the mean of the variances variable\n",
    "print(\"Variance {}\".format(describe(variances).mean))\n",
    "\n",
    "# Calculate the theoretical mean and variance\n",
    "print(binom.stats(n=10, p=0.25))\n"
   ]
  },
  {
   "cell_type": "markdown",
   "metadata": {},
   "source": [
    "# Calculating probabilities of two events"
   ]
  },
  {
   "cell_type": "markdown",
   "metadata": {},
   "source": [
    "## Independence"
   ]
  },
  {
   "cell_type": "markdown",
   "metadata": {},
   "source": [
    "Given that A and B are events in an random experiment, the conditions for \n",
    "independence of A and B are:\n",
    "\n",
    "- The order in which A and B occur does not effect their probabilities."
   ]
  },
  {
   "cell_type": "markdown",
   "metadata": {},
   "source": [
    "For independent events we use the multiplication rule.\n",
    "\n",
    "The probability from A and B is the probability of A times the probability of B.\n",
    "\n",
    "- P( A and B) = P(A)P(B) -> P(0.5)*P(0.5)= 0,25 "
   ]
  },
  {
   "cell_type": "markdown",
   "metadata": {},
   "source": [
    "**Meassuring a sample**"
   ]
  },
  {
   "cell_type": "code",
   "execution_count": 52,
   "metadata": {},
   "outputs": [
    {
     "name": "stdout",
     "output_type": "stream",
     "text": [
      "[1 1 0 1 0 0 0 1 1 1 1 1 0 2 0 1 1 1 0 0 2 2 1 1 2 2 0 0 0 2 0 1 2 1 1 1 1\n",
      " 2 0 2 2 1 1 2 0 1 2 1 1 0 0 1 0 1 1 0 1 0 1 1 0 1 1 1 0 1 1 1 2 1 2 0 0 2\n",
      " 1 0 2 1 2 1 2 1 2 1 1 2 1 2 1 1 0 2 1 1 1 0 2 1 0 1 1 1 2 1 2 1 0 2 1 2 0\n",
      " 0 2 1 0 2 2 2 1 0 0 0 0 0 2 1 1 2 0 1 1 2 1 0 2 0 2 1 2 1 1 0 0 0 0 0 0 1\n",
      " 1 0 0 2 1 0 1 1 0 1 2 2 0 1 1 2 0 0 0 1 1 1 1 2 1 1 1 1 1 1 0 1 1 0 2 0 1\n",
      " 2 0 1 1 2 1 0 1 2 2 2 0 0 1 2 2 1 2 1 1 1 1 1 2 2 1 2 0 0 0 1 0 2 2 0 0 1\n",
      " 0 2 1 2 1 2 2 2 1 1 2 1 1 1 0 1 1 2 1 2 1 0 2 1 0 1 1 2 0 2 1 2 1 2 1 1 1\n",
      " 1 2 2 2 1 2 1 1 1 1 1 1 1 1 1 2 1 0 1 1 2 2 2 1 1 1 2 1 2 1 1 1 2 1 1 1 0\n",
      " 1 0 2 0 2 2 1 1 0 1 1 0 1 1 2 2 1 0 0 1 1 0 0 2 1 1 0 0 1 1 0 1 1 1 0 2 0\n",
      " 1 2 0 1 2 2 1 2 2 2 2 0 1 1 1 2 0 2 1 1 1 1 1 2 1 2 2 1 0 2 1 2 1 2 1 1 0\n",
      " 1 0 0 1 0 1 2 1 1 0 1 1 2 0 0 1 2 1 0 1 0 2 1 0 1 2 1 1 1 1 2 2 0 1 1 2 0\n",
      " 1 0 1 0 1 2 1 2 1 2 1 2 1 0 0 0 0 1 0 0 2 1 1 1 1 1 1 2 1 2 0 2 0 1 0 1 0\n",
      " 2 2 2 2 0 0 0 1 2 2 1 1 2 1 0 0 0 2 0 1 2 1 2 1 1 1 2 1 1 1 2 0 1 2 0 1 1\n",
      " 2 1 1 1 1 1 0 1 1 1 2 1 0 1 2 2 2 2 0 0 0 1 0 1 1 2 0 1 0 1 1 0 0 1 1 1 0\n",
      " 1 2 2 1 2 2 1 0 0 0 1 1 2 0 2 2 2 1 1 1 0 1 1 1 1 1 0 0 2 1 2 0 1 1 2 1 0\n",
      " 1 1 1 2 0 0 1 2 0 1 1 1 2 1 0 1 2 2 1 1 1 1 1 1 1 2 0 1 1 2 1 2 1 0 2 1 1\n",
      " 1 0 0 0 0 1 0 0 1 2 0 0 0 2 1 1 1 2 1 2 1 1 0 2 0 0 1 1 0 1 0 1 2 0 1 1 1\n",
      " 1 1 1 2 1 2 0 2 0 1 1 0 2 1 1 1 0 0 0 1 1 1 0 2 0 2 0 1 0 2 0 1 1 0 1 0 2\n",
      " 1 0 2 0 2 1 1 2 1 2 1 0 2 2 1 1 1 2 1 2 2 1 1 1 0 2 2 0 0 0 1 2 1 1 0 1 1\n",
      " 1 1 1 2 1 1 1 0 1 1 1 2 1 2 1 1 0 1 2 1 2 1 1 2 0 1 2 1 0 2 1 1 1 2 1 2 0\n",
      " 2 0 1 2 0 2 2 1 1 2 1 0 2 2 1 2 1 1 1 1 0 2 1 0 0 0 1 1 2 1 2 1 2 1 1 0 1\n",
      " 0 1 0 1 2 1 2 1 1 2 1 1 2 1 1 1 1 1 2 1 1 1 2 2 0 1 2 1 2 1 1 1 0 0 1 2 1\n",
      " 2 0 1 0 1 1 1 1 1 0 1 1 1 0 1 1 1 1 0 0 1 2 0 1 1 1 0 1 1 2 2 1 1 0 1 1 2\n",
      " 1 1 0 1 2 2 1 0 1 1 1 1 1 2 2 1 2 0 2 0 0 1 0 1 0 1 0 1 1 1 0 1 1 2 1 1 0\n",
      " 1 1 0 1 1 1 2 1 2 1 2 1 0 2 0 2 1 1 2 0 1 0 1 0 1 2 2 1 1 2 1 1 0 1 0 1 1\n",
      " 1 2 1 1 1 0 1 0 1 1 2 0 1 1 2 0 0 1 2 0 2 1 0 0 1 1 1 0 0 0 0 1 1 1 1 2 2\n",
      " 1 2 0 0 1 1 2 1 1 2 1 2 1 1 1 1 0 1 0 0 2 0 1 1 1 0 2 2 2 1 1 1 1 2 1 1 1\n",
      " 2]\n"
     ]
    }
   ],
   "source": [
    "import numpy as np\n",
    "from scipy.stats import binom\n",
    "# Will be removed_ from scipy.stats import binom\n",
    "repeat_values = binom.rvs(n = 2, p=0.5, size = 1000, random_state = 1)\n",
    "print(sample)"
   ]
  },
  {
   "cell_type": "code",
   "execution_count": 53,
   "metadata": {},
   "outputs": [
    {
     "data": {
      "text/plain": [
       "UniqueCountsResult(values=array([0, 1, 2]), counts=array([249, 497, 254]))"
      ]
     },
     "execution_count": 53,
     "metadata": {},
     "output_type": "execute_result"
    }
   ],
   "source": [
    "# Will be removed: from scipy.stats import find_repeats\n",
    "import numpy as np\n",
    "np.unique_counts(repeat_values)"
   ]
  },
  {
   "cell_type": "markdown",
   "metadata": {},
   "source": [
    "For a binomial distribution with 𝑛 = 2 and 𝑝 = 0.5, the theoretical probabilities are:\n",
    "- P(0) = 0.25 -> 249\n",
    "- P(1) = 0.50 -> 497\n",
    "- P(2) = 0.25 -> 254"
   ]
  },
  {
   "cell_type": "code",
   "execution_count": 57,
   "metadata": {},
   "outputs": [
    {
     "data": {
      "text/plain": [
       "UniqueCountsResult(values=array([0, 1, 2]), counts=array([644, 317,  39]))"
      ]
     },
     "execution_count": 57,
     "metadata": {},
     "output_type": "execute_result"
    }
   ],
   "source": [
    "repeat_values_nonfair = binom.rvs(n=2, p=0.2, size=1000, random_state=1)\n",
    "np.unique_counts(repeat_values_nonfair)\n",
    "\n"
   ]
  },
  {
   "cell_type": "markdown",
   "metadata": {},
   "source": [
    "## Measuring a biased sample"
   ]
  },
  {
   "cell_type": "markdown",
   "metadata": {},
   "source": [
    "The relative frequency is the number of favorable trials divided by the total trials."
   ]
  },
  {
   "cell_type": "code",
   "execution_count": 60,
   "metadata": {},
   "outputs": [
    {
     "data": {
      "text/plain": [
       "array([0.249, 0.497, 0.254])"
      ]
     },
     "execution_count": 60,
     "metadata": {},
     "output_type": "execute_result"
    }
   ],
   "source": [
    "# Using biased_sample data generated, calculate the relativ frequency of each outcome.\n",
    "from scipy.stats import relfreq\n",
    "relfreq(repeat_values, numbins=3).frequency"
   ]
  },
  {
   "cell_type": "markdown",
   "metadata": {},
   "source": [
    "numbins = 3 -> stands for the three outcomes of two tails, one heads and one tails, or two heads."
   ]
  },
  {
   "cell_type": "markdown",
   "metadata": {},
   "source": [
    "**New Example**"
   ]
  },
  {
   "cell_type": "markdown",
   "metadata": {},
   "source": [
    "Probability of failure for an engine and a gear box."
   ]
  },
  {
   "cell_type": "code",
   "execution_count": 64,
   "metadata": {},
   "outputs": [],
   "source": [
    "p_engine_fails = 0.01\n",
    "p_gearbox_fails = 0.005\n",
    "p_engine_works = 0.99\n",
    "p_gearbox_works = 0.995 "
   ]
  },
  {
   "cell_type": "code",
   "execution_count": 67,
   "metadata": {},
   "outputs": [
    {
     "name": "stdout",
     "output_type": "stream",
     "text": [
      "5e-05\n"
     ]
    }
   ],
   "source": [
    "p_both_fail = p_engine_fails * p_gearbox_fails\n",
    "print(p_both_fail)"
   ]
  },
  {
   "cell_type": "code",
   "execution_count": 76,
   "metadata": {},
   "outputs": [
    {
     "name": "stdout",
     "output_type": "stream",
     "text": [
      "0.0149\n"
     ]
    }
   ],
   "source": [
    "# Individual probabilities\n",
    "P_Eng_fails = 0.01\n",
    "P_Eng_works = 0.99\n",
    "P_GearB_fails = 0.005\n",
    "P_GearB_works = 0.995\n",
    "\n",
    "# Joint probability calculation\n",
    "P_only_GearB_fails = P_GearB_fails*P_Eng_works\n",
    "P_only_Eng_fails = P_Eng_fails*P_GearB_works\n",
    "\n",
    "# Calculate result\n",
    "P_one_fails = P_only_Eng_fails+P_only_GearB_fails\n",
    "\n",
    "print(P_one_fails)"
   ]
  },
  {
   "cell_type": "code",
   "execution_count": null,
   "metadata": {},
   "outputs": [],
   "source": [
    "# Individual probabilities\n",
    "P_Eng_fails = 0.01\n",
    "P_Eng_works = 0.99\n",
    "P_GearB_fails = 0.005\n",
    "P_GearB_works = 0.995\n",
    "\n",
    "# Joint probability calculation\n",
    "P_EngW_GearBW = P_Eng_works * P_GearB_works\n",
    "P_EngF_GearBF = P_Eng_fails * P_GearB_fails\n",
    "\n",
    "# Calculate result\n",
    "P_fails_or_works = P_EngW_GearBW + P_EngF_GearBF\n",
    "\n",
    "print(P_fails_or_works)"
   ]
  },
  {
   "cell_type": "markdown",
   "metadata": {},
   "source": [
    "**P(A or B) with cards** (Continiues)\n",
    "\n",
    "- without overlap"
   ]
  },
  {
   "cell_type": "markdown",
   "metadata": {},
   "source": [
    "P(Jack or King) = ?"
   ]
  },
  {
   "cell_type": "code",
   "execution_count": 70,
   "metadata": {},
   "outputs": [
    {
     "name": "stdout",
     "output_type": "stream",
     "text": [
      "0.15384615384615385\n"
     ]
    }
   ],
   "source": [
    "set_cards = 52\n",
    "p_kings = 4 / set_cards\n",
    "p_jacks = 4 / set_cards\n",
    "\n",
    "p_eather = p_kings + p_jacks\n",
    "print(p_eather)"
   ]
  },
  {
   "cell_type": "markdown",
   "metadata": {},
   "source": [
    "P(Jack or Heart) = ?"
   ]
  },
  {
   "cell_type": "code",
   "execution_count": 73,
   "metadata": {},
   "outputs": [
    {
     "name": "stdout",
     "output_type": "stream",
     "text": [
      "0.3076923076923077\n"
     ]
    }
   ],
   "source": [
    "set_card = 52\n",
    "p_jack = 4 / set_card\n",
    "p_jack_and_heart = 1 / set_card\n",
    "p_heart = 13 / set_card\n",
    "\n",
    "p_jack_or_heart = (p_jack + p_heart) - p_jack_and_heart\n",
    "\n",
    "print(p_jack_or_heart)"
   ]
  },
  {
   "cell_type": "code",
   "execution_count": 77,
   "metadata": {},
   "outputs": [
    {
     "name": "stdout",
     "output_type": "stream",
     "text": [
      "0.9230769230769231\n"
     ]
    }
   ],
   "source": [
    "# Ace probability\n",
    "P_Ace = 4/52\n",
    "\n",
    "# Not Ace probability\n",
    "P_not_Ace = 1 - P_Ace\n",
    "\n",
    "print(P_not_Ace)"
   ]
  },
  {
   "cell_type": "code",
   "execution_count": 79,
   "metadata": {},
   "outputs": [
    {
     "name": "stdout",
     "output_type": "stream",
     "text": [
      "0.5\n"
     ]
    }
   ],
   "source": [
    "# Figure probabilities\n",
    "P_Hearts = 13/52\n",
    "P_Diamonds = 13/52\n",
    "\n",
    "# Probability of red calculation\n",
    "P_Red = P_Hearts + P_Diamonds\n",
    "\n",
    "print(P_Red)"
   ]
  },
  {
   "cell_type": "code",
   "execution_count": 81,
   "metadata": {},
   "outputs": [
    {
     "name": "stdout",
     "output_type": "stream",
     "text": [
      "0.3076923076923077\n"
     ]
    }
   ],
   "source": [
    "# Figure probabilities\n",
    "P_Jack = 4/52\n",
    "P_Spade = 13/52\n",
    "\n",
    "# Joint probability\n",
    "P_Jack_n_Spade = 1/52\n",
    "\n",
    "# Probability of Jack or spade\n",
    "P_Jack_or_Spade = P_Jack + P_Spade - P_Jack_n_Spade\n",
    "\n",
    "print(P_Jack_or_Spade)"
   ]
  },
  {
   "cell_type": "code",
   "execution_count": 80,
   "metadata": {},
   "outputs": [
    {
     "name": "stdout",
     "output_type": "stream",
     "text": [
      "0.15384615384615385\n"
     ]
    }
   ],
   "source": [
    "# Figure probabilities\n",
    "P_King = 4/52\n",
    "P_Queen = 4/52\n",
    "\n",
    "# Joint probability\n",
    "P_King_n_Queen = 0\n",
    "\n",
    "# Probability of King or Queen\n",
    "P_King_or_Queen = P_King + P_Queen - P_King_n_Queen\n",
    "\n",
    "print(P_King_or_Queen)"
   ]
  },
  {
   "cell_type": "markdown",
   "metadata": {},
   "source": [
    "**What the Code doese:**"
   ]
  },
  {
   "cell_type": "code",
   "execution_count": 74,
   "metadata": {},
   "outputs": [
    {
     "name": "stdout",
     "output_type": "stream",
     "text": [
      "[0.25 0.5  0.25]\n"
     ]
    }
   ],
   "source": [
    "# Probability of getting 0, 1, or 2 from the distribution\n",
    "probabilities = binom.pmf([0,1,2], n=2, p=0.5)\n",
    "print(probabilities)"
   ]
  },
  {
   "cell_type": "markdown",
   "metadata": {},
   "source": [
    "The function uses the formula:\n",
    "\n",
    "$$\n",
    "P(X = k) = \\binom{n}{k} \\, p^k \\, (1-p)^{n-k}\n",
    "$$\n",
    "\n",
    "With \\( n = 2 \\) and \\( p = 0.5 \\), it computes:\n",
    "\n",
    "- The chance for 0 successes,\n",
    "- The chance for 1 success,\n",
    "- And the chance for 2 successes.\n",
    "\n",
    "**The Outcome**\n",
    "\n",
    "The printed result, `[0.25 0.5 0.25]`, tells you:\n",
    "\n",
    "- There’s a 25% probability of 0 successes,\n",
    "- A 50% probability of 1 success,\n",
    "- And a 25% probability of 2 successes.\n",
    "\n",
    "This themed explanation shows how the \"Probability Parade\" performs its act—revealing the inherent chances in our simple binomial experiment.\n",
    "\n"
   ]
  },
  {
   "cell_type": "markdown",
   "metadata": {},
   "source": [
    "# Conditional probabilities"
   ]
  },
  {
   "cell_type": "markdown",
   "metadata": {},
   "source": [
    "Work with dependent events and defibe conditional probability."
   ]
  },
  {
   "cell_type": "markdown",
   "metadata": {},
   "source": [
    "**Dependent events (cont.)**"
   ]
  },
  {
   "cell_type": "markdown",
   "metadata": {},
   "source": [
    "The probability of P(A) depends on P(B) and the order effects the outcome, \n",
    "so the events are dependent."
   ]
  },
  {
   "cell_type": "markdown",
   "metadata": {},
   "source": [
    "Recap independent probabilities\n",
    "$$\n",
    "\n",
    "P(A \\text{ and } B) = P(A) \\cdot P(B)\n",
    "$$\n",
    "\n",
    "When we work with dependent events the calculation changes, and we have to introduce conditional probability. With dependent events, P(A) and P(B) is the  P(A) times P(B), **given** that **A** occured.\n",
    "\n",
    "$$\n",
    "P(A \\text{ and } B) = P(A) \\cdot P(B \\mid A)\n",
    "$$\n",
    "\n",
    "Rearranging the formula, we get that P(B) give P(A) occured is the joint probability of A and B divided by the probability of A. \n",
    "- This is to calculate probabilities in a restricted sample space.\n",
    "$$\n",
    "P(B \\mid A) = \\frac{P(A \\text{ and } B)}{P(A)}\n",
    "$$\n"
   ]
  },
  {
   "cell_type": "markdown",
   "metadata": {},
   "source": [
    "P(Red|Jack) = ?"
   ]
  },
  {
   "cell_type": "code",
   "execution_count": 84,
   "metadata": {},
   "outputs": [
    {
     "name": "stdout",
     "output_type": "stream",
     "text": [
      "0.5\n"
     ]
    }
   ],
   "source": [
    "card_set = 52\n",
    "p_jack = 4 / card_set\n",
    "P_jack_n_red = 2 / card_set\n",
    "\n",
    "p_red_given_jack = P_jack_n_red / P_Jack \n",
    "print(p_red_given_jack)"
   ]
  },
  {
   "cell_type": "markdown",
   "metadata": {},
   "source": [
    "P(Jack|Red) = ?"
   ]
  },
  {
   "cell_type": "code",
   "execution_count": 90,
   "metadata": {},
   "outputs": [
    {
     "name": "stdout",
     "output_type": "stream",
     "text": [
      "0.07692307692307693\n"
     ]
    }
   ],
   "source": [
    "card_set = 52\n",
    "p_red = 26 / card_set\n",
    "p_jack_and_red = 2 / card_set\n",
    "\n",
    "p_jack_given_red = p_jack_and_red / p_red\n",
    "print(p_jack_given_red)"
   ]
  },
  {
   "cell_type": "markdown",
   "metadata": {},
   "source": [
    "#### Contingency table - Test"
   ]
  },
  {
   "cell_type": "code",
   "execution_count": 92,
   "metadata": {},
   "outputs": [
    {
     "name": "stdout",
     "output_type": "stream",
     "text": [
      "0.07692307692307693\n"
     ]
    }
   ],
   "source": [
    "# Individual probabilities\n",
    "P_Red = 26 / 52\n",
    "P_Red_n_Ace = 2 / 52\n",
    "\n",
    "# Conditional probability calculation\n",
    "P_Ace_given_Red = P_Red_n_Ace / P_Red\n",
    "\n",
    "print(P_Ace_given_Red)"
   ]
  },
  {
   "cell_type": "code",
   "execution_count": null,
   "metadata": {},
   "outputs": [
    {
     "name": "stdout",
     "output_type": "stream",
     "text": [
      "0.5\n"
     ]
    }
   ],
   "source": [
    "# Individual probabilities\n",
    "P_Ace = 4 / 52\n",
    "P_Black = 26 / 52\n",
    "P_Ace_n_Black = P_Ace * P_Black\n",
    "\n",
    "\n",
    "# Conditional probability calculation\n",
    "\n",
    "P_Black_given_Ace = (P_Ace_n_Black) / P_Ace \n",
    "\n",
    "print(P_Black_given_Ace)"
   ]
  },
  {
   "cell_type": "code",
   "execution_count": 94,
   "metadata": {},
   "outputs": [
    {
     "name": "stdout",
     "output_type": "stream",
     "text": [
      "0.9230769230769231\n"
     ]
    }
   ],
   "source": [
    "# Individual probabilities\n",
    "P_Black = 26 / 52\n",
    "P_Non_Ace = 48 / 52\n",
    "P_Black_n_Non_ace = P_Black * P_Non_Ace\n",
    "\n",
    "# Conditional probability calculation\n",
    "P_Non_ace_given_Black = P_Black_n_Non_ace / P_Black\n",
    "\n",
    "print(P_Non_ace_given_Black)"
   ]
  },
  {
   "cell_type": "code",
   "execution_count": 95,
   "metadata": {},
   "outputs": [
    {
     "name": "stdout",
     "output_type": "stream",
     "text": [
      "0.5\n"
     ]
    }
   ],
   "source": [
    "# Individual probabilities\n",
    "P_Non_ace = 48 / 52\n",
    "P_Red = 26 / 52\n",
    "P_Non_ace_n_Red = P_Non_ace * P_Red\n",
    "\n",
    "# Conditional probability calculation\n",
    "P_Red_given_Non_ace = P_Non_ace_n_Red / P_Non_ace\n",
    "\n",
    "print(P_Red_given_Non_ace)"
   ]
  },
  {
   "cell_type": "markdown",
   "metadata": {},
   "source": [
    "#### More Cards - Test"
   ]
  },
  {
   "cell_type": "code",
   "execution_count": 96,
   "metadata": {},
   "outputs": [
    {
     "name": "stdout",
     "output_type": "stream",
     "text": [
      "0.004524886877828055\n"
     ]
    }
   ],
   "source": [
    "# Needed probabilities\n",
    "P_first_Jack = 4/52\n",
    "P_Jack_given_Jack = 3/51\n",
    "\n",
    "# Joint probability calculation\n",
    "P_two_Jacks = P_first_Jack * P_Jack_given_Jack\n",
    "\n",
    "print(P_two_Jacks)"
   ]
  },
  {
   "cell_type": "code",
   "execution_count": null,
   "metadata": {},
   "outputs": [],
   "source": [
    "# Needed probabilities\n",
    "P_Spade = 13/52\n",
    "P_Spade_n_Ace = 1/52\n",
    "\n",
    "# Conditional probability calculation\n",
    "P_Ace_given_Spade = P_Spade_n_Ace / P_Spade\n",
    "\n",
    "print(P_Ace_given_Spade)"
   ]
  },
  {
   "cell_type": "code",
   "execution_count": 99,
   "metadata": {},
   "outputs": [
    {
     "name": "stdout",
     "output_type": "stream",
     "text": [
      "0.07692307692307693\n",
      "0.3333333333333333\n"
     ]
    }
   ],
   "source": [
    "# Needed probabilities\n",
    "P_Face_card = 12/52\n",
    "P_Face_card_n_Queen = 4 / 52 \n",
    "print(P_Face_card_n_Queen)\n",
    "\n",
    "# Conditional probability calculation\n",
    "P_Queen_given_Face_card = P_Face_card_n_Queen / P_Face_card\n",
    "\n",
    "print(P_Queen_given_Face_card)"
   ]
  }
 ],
 "metadata": {
  "kernelspec": {
   "display_name": "venv",
   "language": "python",
   "name": "python3"
  },
  "language_info": {
   "codemirror_mode": {
    "name": "ipython",
    "version": 3
   },
   "file_extension": ".py",
   "mimetype": "text/x-python",
   "name": "python",
   "nbconvert_exporter": "python",
   "pygments_lexer": "ipython3",
   "version": "3.12.6"
  }
 },
 "nbformat": 4,
 "nbformat_minor": 2
}
