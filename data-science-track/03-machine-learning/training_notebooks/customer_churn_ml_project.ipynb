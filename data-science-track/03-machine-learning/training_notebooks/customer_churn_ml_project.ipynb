{
 "cells": [
  {
   "cell_type": "code",
   "execution_count": 32,
   "metadata": {},
   "outputs": [],
   "source": [
    "import pandas as pd\n",
    "import numpy as np\n",
    "\n",
    "import matplotlib.pyplot as plt\n",
    "import seaborn as sns\n",
    "\n",
    "import pprint\n",
    "import time\n",
    "\n",
    "from sklearn.model_selection import train_test_split, GridSearchCV, RandomizedSearchCV\n",
    "# GridSearchCV: Wird verwendet, um die besten Hyperparameter für ein Modell zu finden. Nutzt Cross-Validation, um die beste Kombination zu evaluieren.\n",
    "# RandomizedSearchCV: Ähnlich wie GridSearchCV, aber anstatt alle Kombinationen zu testen, wählt es zufällig eine begrenzte Anzahl von Kombinationen aus.\n",
    "from sklearn.preprocessing import OneHotEncoder, MinMaxScaler, StandardScaler\n",
    "# One-Hot-Encoding: Wandelt kategoriale (nominale) Variablen in numerische Form um, indem für jede Kategorie eine eigene Spalte erstellt wird.\n",
    "# MinMaxScaler transformiert jeden Wert so, dass der kleinste Wert auf 0 und der größte Wert auf 1 skaliert wird, während alle anderen Wertedazwischen liegen.\n",
    "# StandardScaler: Skaliert die Daten so, dass sie eine Normalverteilung haben (Z-Transformation\n",
    "from sklearn.linear_model import LogisticRegression\n",
    "from sklearn.neighbors import KNeighborsClassifier\n",
    "from sklearn.svm import SVC\n",
    "from sklearn.tree import DecisionTreeClassifier\n",
    "from sklearn.ensemble import RandomForestClassifier, AdaBoostClassifier\n",
    "from sklearn.metrics import accuracy_score, confusion_matrix, precision_score, recall_score, f1_score, roc_auc_score\n",
    "\n"
   ]
  },
  {
   "cell_type": "markdown",
   "metadata": {},
   "source": [
    "### Einlesen des Datensatzes und konvertierung in ein pandas DataFrame"
   ]
  },
  {
   "cell_type": "markdown",
   "metadata": {},
   "source": [
    "#### 🚀 Vorteile: Warum dieser Ansatz gut ist"
   ]
  },
  {
   "cell_type": "markdown",
   "metadata": {},
   "source": [
    "-   Bessere Datenvorbereitung  \n",
    "    Pandas bietet leistungsstarke Funktionen zur Datenbereinigung, Feature Engineering und Transformation, die in NumPy umständlicher wären.  \n",
    "    Du kannst leicht fehlende Werte behandeln, Spalten umbenennen, Filter setzen usw.  \n",
    "\n",
    "-   Mehr Flexibilität & Lesbarkeit  \n",
    "    Pandas-Operationen wie `.groupby()`, `.merge()`, `.apply()` sind intuitiver und einfacher zu schreiben als NumPy-Operationen.  \n",
    "    Der Code bleibt verständlicher.  \n",
    "\n",
    "-   Skalierung & Transformation mit Sklearn funktioniert direkt  \n",
    "    Viele `sklearn.preprocessing`-Methoden (z. B. `MinMaxScaler`, `StandardScaler`) akzeptieren direkt DataFrames und NumPy-Arrays.  \n",
    "    Die Konvertierung geschieht meist erst ganz am Ende, wenn das Modell trainiert wird.  \n"
   ]
  },
  {
   "cell_type": "code",
   "execution_count": 33,
   "metadata": {},
   "outputs": [],
   "source": [
    "data = pd.read_csv(r\"D:\\Git-GitHub\\Repositories\\data-science-track\\data-science-track\\03-machine-learning\\resources\\Telco-Customer-Churn.csv\")\n",
    "df_raw = pd.DataFrame(data)"
   ]
  },
  {
   "cell_type": "markdown",
   "metadata": {},
   "source": [
    "### Erstellen eine Kopie des Dataframes"
   ]
  },
  {
   "cell_type": "markdown",
   "metadata": {},
   "source": [
    "#### 🚀 Vorteile: Warum eine Kopie des Original-DataFrames sinnvoll ist  \n"
   ]
  },
  {
   "cell_type": "markdown",
   "metadata": {},
   "source": [
    "-   Schutz vor unbeabsichtigten Änderungen  \n",
    "Wenn du direkt mit dem Original-DataFrame arbeitest, können Änderungen unbemerkt übernommen werden.  \n",
    "Eine Kopie stellt sicher, dass die ursprünglichen Daten erhalten bleiben.  \n",
    "\n",
    "-   Vergleich von Original- und transformierten Daten  \n",
    "Mit einer Kopie kannst du jederzeit prüfen, wie sich Transformationen oder Bereinigungen auf die Daten ausgewirkt haben.  \n",
    "Das erleichtert Debugging und Nachvollziehbarkeit.  \n",
    "\n",
    "-   Vermeidung von Problemen durch \"Views\" in Pandas  \n",
    "Manche Pandas-Operationen geben nur eine Ansicht (`View`) auf die Daten zurück, nicht eine echte Kopie.  \n",
    "Dadurch können ungewollte Änderungen im Original-DataFrame passieren, was zu schwer auffindbaren Fehlern führen kann.  \n",
    "\n",
    "-   Mehr Sicherheit in Machine Learning Pipelines  \n",
    "Beim Feature Engineering oder Skalieren kann eine Kopie helfen, um Daten vor Manipulationen zu schützen,  \n",
    "falls mehrere Schritte nacheinander ausgeführt werden.  "
   ]
  },
  {
   "cell_type": "code",
   "execution_count": 34,
   "metadata": {},
   "outputs": [],
   "source": [
    "df = df_raw.copy(True)"
   ]
  },
  {
   "cell_type": "markdown",
   "metadata": {},
   "source": [
    "### Erste Sichtung"
   ]
  },
  {
   "cell_type": "markdown",
   "metadata": {},
   "source": [
    "In diesem Schritt verschaffen wir uns einen ersten Überblick über den Datensatz.\n"
   ]
  },
  {
   "cell_type": "code",
   "execution_count": 35,
   "metadata": {},
   "outputs": [
    {
     "name": "stdout",
     "output_type": "stream",
     "text": [
      "<class 'pandas.core.frame.DataFrame'>\n",
      "RangeIndex: 7043 entries, 0 to 7042\n",
      "Data columns (total 21 columns):\n",
      " #   Column            Non-Null Count  Dtype  \n",
      "---  ------            --------------  -----  \n",
      " 0   customerID        7043 non-null   object \n",
      " 1   gender            7043 non-null   object \n",
      " 2   SeniorCitizen     7043 non-null   int64  \n",
      " 3   Partner           7043 non-null   object \n",
      " 4   Dependents        7043 non-null   object \n",
      " 5   tenure            7043 non-null   int64  \n",
      " 6   PhoneService      7043 non-null   object \n",
      " 7   MultipleLines     7043 non-null   object \n",
      " 8   InternetService   7043 non-null   object \n",
      " 9   OnlineSecurity    7043 non-null   object \n",
      " 10  OnlineBackup      7043 non-null   object \n",
      " 11  DeviceProtection  7043 non-null   object \n",
      " 12  TechSupport       7043 non-null   object \n",
      " 13  StreamingTV       7043 non-null   object \n",
      " 14  StreamingMovies   7043 non-null   object \n",
      " 15  Contract          7043 non-null   object \n",
      " 16  PaperlessBilling  7043 non-null   object \n",
      " 17  PaymentMethod     7043 non-null   object \n",
      " 18  MonthlyCharges    7043 non-null   float64\n",
      " 19  TotalCharges      7043 non-null   object \n",
      " 20  Churn             7043 non-null   object \n",
      "dtypes: float64(1), int64(2), object(18)\n",
      "memory usage: 1.1+ MB\n",
      "Fehlende Werte pro Spalte:\n",
      "customerID          0\n",
      "gender              0\n",
      "SeniorCitizen       0\n",
      "Partner             0\n",
      "Dependents          0\n",
      "tenure              0\n",
      "PhoneService        0\n",
      "MultipleLines       0\n",
      "InternetService     0\n",
      "OnlineSecurity      0\n",
      "OnlineBackup        0\n",
      "DeviceProtection    0\n",
      "TechSupport         0\n",
      "StreamingTV         0\n",
      "StreamingMovies     0\n",
      "Contract            0\n",
      "PaperlessBilling    0\n",
      "PaymentMethod       0\n",
      "MonthlyCharges      0\n",
      "TotalCharges        0\n",
      "Churn               0\n",
      "dtype: int64\n",
      "Duplikate im Datensatz: 0\n"
     ]
    }
   ],
   "source": [
    "# Zeige die ersten fünf Zeilen des Datensatzes\n",
    "df.head()\n",
    "\n",
    "# Überblick über die Spalten und deren Datentypen\n",
    "df.info()\n",
    "\n",
    "# Statistische Zusammenfassung der numerischen Spalten\n",
    "df.describe()\n",
    "\n",
    "# Prüfen auf fehlende Werte in jeder Spalte\n",
    "print(\"Fehlende Werte pro Spalte:\")\n",
    "print(df.isna().sum())\n",
    "\n",
    "# Prüfen auf doppelte Zeilen\n",
    "print(\"Duplikate im Datensatz:\", df.duplicated().sum())\n"
   ]
  },
  {
   "cell_type": "markdown",
   "metadata": {},
   "source": [
    "### Datenbereinigung (Pandas only!)"
   ]
  },
  {
   "cell_type": "code",
   "execution_count": 29,
   "metadata": {},
   "outputs": [],
   "source": [
    "# Leerzeichen als NaN behandeln\n",
    "df.replace(\" \", np.nan, inplace=True)\n",
    "\n",
    "# Optional: bestimmte Spalten entfernen oder Datentypen anpassen\n",
    "# df.drop(columns=[\"customerID\"], inplace=True)  # Beispiel\n",
    "\n",
    "# String-Target in numerisch umwandeln\n",
    "df[\"Churn\"] = df[\"Churn\"].map({\"Yes\": 1, \"No\": 0})\n",
    "\n",
    "# Fehlende Werte behandeln\n",
    "df.dropna(inplace=True)  # oder df.fillna(method='ffill') etc.\n"
   ]
  },
  {
   "cell_type": "markdown",
   "metadata": {},
   "source": [
    "### Kodierung kategorialer Variablen"
   ]
  },
  {
   "cell_type": "markdown",
   "metadata": {},
   "source": [
    "Methoden:\n",
    "\n",
    "- One-Hot Encoding: Für nominale Daten (keine natürliche Reihenfolge, z. B. Farben, Städte).\n",
    "- Label Encoding: Für ordinale Daten (natürliche Reihenfolge, z. B. Schulabschluss: \"Bachelor\", \"Master\", \"PhD\")."
   ]
  },
  {
   "cell_type": "code",
   "execution_count": null,
   "metadata": {},
   "outputs": [],
   "source": [
    "# One-Hot-Encoding aller kategorialen Features\n",
    "df_encoded = pd.get_dummies(df, drop_first=True)"
   ]
  },
  {
   "cell_type": "code",
   "execution_count": 31,
   "metadata": {},
   "outputs": [],
   "source": [
    "scaler = StandardScaler()\n",
    "X_scaled = scaler.fit_transform(df_encoded.drop(\"Churn\", axis=1))"
   ]
  },
  {
   "cell_type": "markdown",
   "metadata": {},
   "source": [
    "### Features und Zielvariable definieren"
   ]
  },
  {
   "cell_type": "code",
   "execution_count": null,
   "metadata": {},
   "outputs": [],
   "source": [
    "X = X_scaled  # oder: df_encoded.drop(\"Churn\", axis=1).values\n",
    "y = df_encoded[\"Churn\"].values\n"
   ]
  },
  {
   "cell_type": "code",
   "execution_count": 38,
   "metadata": {},
   "outputs": [
    {
     "data": {
      "image/png": "[encoded data removed]",
      "text/plain": [
       "<Figure size 400x300 with 2 Axes>"
      ]
     },
     "metadata": {},
     "output_type": "display_data"
    }
   ],
   "source": [
    "# Neue Daten basierend auf dem Bild (5 Werte)\n",
    "y_true_img = ['P', 'N', 'P', 'P', 'N']  # Tatsächliche Werte\n",
    "y_pred_img = ['P', 'P', 'N', 'P', 'N']  # Modell-Vorhersagen\n",
    "\n",
    "# Konfusionsmatrix für die 5 Werte berechnen\n",
    "cm_img = confusion_matrix(y_true_img, y_pred_img, labels=['P', 'N'])\n",
    "\n",
    "# Visualisierung der Konfusionsmatrix passend zum Bild\n",
    "plt.figure(figsize=(4,3))\n",
    "ax = sns.heatmap(cm_img, annot=True, fmt=\"d\", cmap=\"Blues\", xticklabels=['P', 'N'], yticklabels=['P', 'N'])\n",
    "\n",
    "# Beschriftungen für die Matrix-Kategorien (basierend auf 5 Werten)\n",
    "plt.text(0.3, 0.7, \"TP\", fontsize=12, color=\"white\", weight=\"bold\", ha='center', va='center')  # True Positive\n",
    "plt.text(1.3, 0.7, \"FN\", fontsize=12, color=\"black\", weight=\"bold\", ha='center', va='center')  # False Negative\n",
    "plt.text(0.3, 1.7, \"FP\", fontsize=12, color=\"black\", weight=\"bold\", ha='center', va='center')  # False Positive\n",
    "plt.text(1.3, 1.7, \"TN\", fontsize=12, color=\"white\", weight=\"bold\", ha='center', va='center')  # True Negative\n",
    "\n",
    "plt.xlabel(\"Vorhergesagte Werte (Modell)\")\n",
    "plt.ylabel(\"Tatsächliche Werte (Realität)\")\n",
    "plt.title(\"Konfusionsmatrix (passend zum Bild)\")\n",
    "\n",
    "# Plot anzeigen\n",
    "plt.show()\n",
    "\n",
    "\n"
   ]
  },
  {
   "cell_type": "code",
   "execution_count": 40,
   "metadata": {},
   "outputs": [
    {
     "data": {
      "text/plain": [
       "0.6666666666666666"
      ]
     },
     "execution_count": 40,
     "metadata": {},
     "output_type": "execute_result"
    }
   ],
   "source": [
    "from sklearn.metrics import precision_score\n",
    "\n",
    "# Precision berechnen\n",
    "precision = precision_score(y_true_img, y_pred_img, pos_label='P')\n",
    "\n",
    "# Ergebnis ausgeben\n",
    "precision\n"
   ]
  },
  {
   "cell_type": "code",
   "execution_count": 42,
   "metadata": {},
   "outputs": [
    {
     "ename": "NameError",
     "evalue": "name 'recall' is not defined",
     "output_type": "error",
     "traceback": [
      "\u001b[1;31m---------------------------------------------------------------------------\u001b[0m",
      "\u001b[1;31mNameError\u001b[0m                                 Traceback (most recent call last)",
      "Cell \u001b[1;32mIn[42], line 14\u001b[0m\n\u001b[0;32m     12\u001b[0m \u001b[38;5;66;03m# Zusätzliche Metriken ins Bild schreiben\u001b[39;00m\n\u001b[0;32m     13\u001b[0m plt\u001b[38;5;241m.\u001b[39mtext(\u001b[38;5;241m2.2\u001b[39m, \u001b[38;5;241m0.5\u001b[39m, \u001b[38;5;124mf\u001b[39m\u001b[38;5;124m\"\u001b[39m\u001b[38;5;124mPrecision: \u001b[39m\u001b[38;5;132;01m{\u001b[39;00mprecision\u001b[38;5;132;01m:\u001b[39;00m\u001b[38;5;124m.2f\u001b[39m\u001b[38;5;132;01m}\u001b[39;00m\u001b[38;5;124m\"\u001b[39m, fontsize\u001b[38;5;241m=\u001b[39m\u001b[38;5;241m12\u001b[39m, color\u001b[38;5;241m=\u001b[39m\u001b[38;5;124m\"\u001b[39m\u001b[38;5;124mblack\u001b[39m\u001b[38;5;124m\"\u001b[39m, weight\u001b[38;5;241m=\u001b[39m\u001b[38;5;124m\"\u001b[39m\u001b[38;5;124mbold\u001b[39m\u001b[38;5;124m\"\u001b[39m, ha\u001b[38;5;241m=\u001b[39m\u001b[38;5;124m'\u001b[39m\u001b[38;5;124mleft\u001b[39m\u001b[38;5;124m'\u001b[39m, va\u001b[38;5;241m=\u001b[39m\u001b[38;5;124m'\u001b[39m\u001b[38;5;124mcenter\u001b[39m\u001b[38;5;124m'\u001b[39m)\n\u001b[1;32m---> 14\u001b[0m plt\u001b[38;5;241m.\u001b[39mtext(\u001b[38;5;241m2.2\u001b[39m, \u001b[38;5;241m1.0\u001b[39m, \u001b[38;5;124mf\u001b[39m\u001b[38;5;124m\"\u001b[39m\u001b[38;5;124mRecall: \u001b[39m\u001b[38;5;132;01m{\u001b[39;00m\u001b[43mrecall\u001b[49m\u001b[38;5;132;01m:\u001b[39;00m\u001b[38;5;124m.2f\u001b[39m\u001b[38;5;132;01m}\u001b[39;00m\u001b[38;5;124m\"\u001b[39m, fontsize\u001b[38;5;241m=\u001b[39m\u001b[38;5;241m12\u001b[39m, color\u001b[38;5;241m=\u001b[39m\u001b[38;5;124m\"\u001b[39m\u001b[38;5;124mblack\u001b[39m\u001b[38;5;124m\"\u001b[39m, weight\u001b[38;5;241m=\u001b[39m\u001b[38;5;124m\"\u001b[39m\u001b[38;5;124mbold\u001b[39m\u001b[38;5;124m\"\u001b[39m, ha\u001b[38;5;241m=\u001b[39m\u001b[38;5;124m'\u001b[39m\u001b[38;5;124mleft\u001b[39m\u001b[38;5;124m'\u001b[39m, va\u001b[38;5;241m=\u001b[39m\u001b[38;5;124m'\u001b[39m\u001b[38;5;124mcenter\u001b[39m\u001b[38;5;124m'\u001b[39m)\n\u001b[0;32m     15\u001b[0m plt\u001b[38;5;241m.\u001b[39mtext(\u001b[38;5;241m2.2\u001b[39m, \u001b[38;5;241m1.5\u001b[39m, \u001b[38;5;124mf\u001b[39m\u001b[38;5;124m\"\u001b[39m\u001b[38;5;124mF1-Score: \u001b[39m\u001b[38;5;132;01m{\u001b[39;00mf1\u001b[38;5;132;01m:\u001b[39;00m\u001b[38;5;124m.2f\u001b[39m\u001b[38;5;132;01m}\u001b[39;00m\u001b[38;5;124m\"\u001b[39m, fontsize\u001b[38;5;241m=\u001b[39m\u001b[38;5;241m12\u001b[39m, color\u001b[38;5;241m=\u001b[39m\u001b[38;5;124m\"\u001b[39m\u001b[38;5;124mblack\u001b[39m\u001b[38;5;124m\"\u001b[39m, weight\u001b[38;5;241m=\u001b[39m\u001b[38;5;124m\"\u001b[39m\u001b[38;5;124mbold\u001b[39m\u001b[38;5;124m\"\u001b[39m, ha\u001b[38;5;241m=\u001b[39m\u001b[38;5;124m'\u001b[39m\u001b[38;5;124mleft\u001b[39m\u001b[38;5;124m'\u001b[39m, va\u001b[38;5;241m=\u001b[39m\u001b[38;5;124m'\u001b[39m\u001b[38;5;124mcenter\u001b[39m\u001b[38;5;124m'\u001b[39m)\n\u001b[0;32m     17\u001b[0m plt\u001b[38;5;241m.\u001b[39mxlabel(\u001b[38;5;124m\"\u001b[39m\u001b[38;5;124mVorhergesagte Werte (Modell)\u001b[39m\u001b[38;5;124m\"\u001b[39m)\n",
      "\u001b[1;31mNameError\u001b[0m: name 'recall' is not defined"
     ]
    },
    {
     "data": {
      "image/png": "[encoded data removed]",
      "text/plain": [
       "<Figure size 500x400 with 2 Axes>"
      ]
     },
     "metadata": {},
     "output_type": "display_data"
    }
   ],
   "source": [
    "# Neue Visualisierung mit F1-Score, Precision und Recall im Bild\n",
    "\n",
    "plt.figure(figsize=(5,4))\n",
    "ax = sns.heatmap(cm_img, annot=True, fmt=\"d\", cmap=\"Blues\", xticklabels=['P', 'N'], yticklabels=['P', 'N'])\n",
    "\n",
    "# Beschriftungen für die Matrix-Kategorien\n",
    "plt.text(0.3, 0.7, \"TP\", fontsize=12, color=\"white\", weight=\"bold\", ha='center', va='center')  # True Positive\n",
    "plt.text(1.3, 0.7, \"FN\", fontsize=12, color=\"black\", weight=\"bold\", ha='center', va='center')  # False Negative\n",
    "plt.text(0.3, 1.7, \"FP\", fontsize=12, color=\"black\", weight=\"bold\", ha='center', va='center')  # False Positive\n",
    "plt.text(1.3, 1.7, \"TN\", fontsize=12, color=\"white\", weight=\"bold\", ha='center', va='center')  # True Negative\n",
    "\n",
    "# Zusätzliche Metriken ins Bild schreiben\n",
    "plt.text(2.2, 0.5, f\"Precision: {precision:.2f}\", fontsize=12, color=\"black\", weight=\"bold\", ha='left', va='center')\n",
    "plt.text(2.2, 1.0, f\"Recall: {recall:.2f}\", fontsize=12, color=\"black\", weight=\"bold\", ha='left', va='center')\n",
    "plt.text(2.2, 1.5, f\"F1-Score: {f1:.2f}\", fontsize=12, color=\"black\", weight=\"bold\", ha='left', va='center')\n",
    "\n",
    "plt.xlabel(\"Vorhergesagte Werte (Modell)\")\n",
    "plt.ylabel(\"Tatsächliche Werte (Realität)\")\n",
    "plt.title(\"Konfusionsmatrix mit Precision, Recall & F1\")\n",
    "\n",
    "# Plot anzeigen\n",
    "plt.show()\n"
   ]
  }
 ],
 "metadata": {
  "kernelspec": {
   "display_name": "venv",
   "language": "python",
   "name": "python3"
  },
  "language_info": {
   "codemirror_mode": {
    "name": "ipython",
    "version": 3
   },
   "file_extension": ".py",
   "mimetype": "text/x-python",
   "name": "python",
   "nbconvert_exporter": "python",
   "pygments_lexer": "ipython3",
   "version": "3.12.6"
  }
 },
 "nbformat": 4,
 "nbformat_minor": 2
}
