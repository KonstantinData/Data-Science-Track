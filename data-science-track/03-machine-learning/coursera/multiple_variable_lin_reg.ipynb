{
 "cells": [
  {
   "cell_type": "markdown",
   "metadata": {},
   "source": [
    "# 1.1 Ziele  \n",
    "\n",
    "- Erweiterung unserer Regressionsmodell-Routinen zur Unterstützung mehrerer Merkmale  \n",
    "- Erweiterung der Datenstrukturen zur Unterstützung mehrerer Merkmale  \n",
    "- Neuschreiben der Vorhersage-, Kosten- und Gradienten-Routinen zur Unterstützung mehrerer Merkmale  \n",
    "- Nutzung von `np.dot` in NumPy zur Vektorisierung der Implementierungen für höhere Geschwindigkeit und Einfachheit  \n"
   ]
  },
  {
   "cell_type": "markdown",
   "metadata": {},
   "source": [
    "# 1.2 Werkzeuge  \n",
    "\n",
    "In diesem Lab werden wir folgende Werkzeuge verwenden:  \n",
    "\n",
    "- **NumPy** – eine beliebte Bibliothek für wissenschaftliches Rechnen  \n",
    "- **Matplotlib** – eine weit verbreitete Bibliothek zur Visualisierung von Daten  \n"
   ]
  },
  {
   "cell_type": "code",
   "execution_count": 20,
   "metadata": {},
   "outputs": [],
   "source": [
    "import copy, math\n",
    "import numpy as np\n",
    "import matplotlib.pyplot as plt\n",
    "plt.style.use('fivethirtyeight')\n",
    "np.set_printoptions(precision=2)"
   ]
  },
  {
   "cell_type": "markdown",
   "metadata": {},
   "source": [
    "### - Informationen zu den importierten Bibliotheken"
   ]
  },
  {
   "cell_type": "markdown",
   "metadata": {},
   "source": [
    "**`copy`-Modul**\n",
    "Das `copy`-Modul in Python wird verwendet, um Kopien von Objekten zu erstellen. Es bietet zwei Hauptfunktionen:\n",
    "- `copy.copy()` für eine flache Kopie (shallow copy), bei der nur die oberste Ebene dupliziert wird.\n",
    "- `copy.deepcopy()` für eine tiefe Kopie (deep copy), bei der auch geschachtelte Strukturen vollständig dupliziert werden.\n",
    "\n",
    "---\n",
    "**`math`-Modul**\n",
    "Das `math`-Modul stellt mathematische Funktionen und Konstanten bereit. Dazu gehören unter anderem:\n",
    "- Grundlegende mathematische Operationen wie Wurzeln, Potenzen und Logarithmen.\n",
    "- Trigonometrische Funktionen wie Sinus, Kosinus und Tangens.\n",
    "- Mathematische Konstanten wie `math.pi` für π oder `math.e` für die Euler-Zahl.\n",
    "\n",
    "---\n",
    "**`plt.style.use('fivethirtyeight')`**  \n",
    "Die Funktion `plt.style.use('fivethirtyeight')` wendet den **\"FiveThirtyEight\"-Stil** auf Matplotlib-Diagramme an.  \n",
    "Dieser Stil ist inspiriert vom gleichnamigen Datenjournalismus-Portal und zeichnet sich durch klare, minimalistische Designs mit gut sichtbaren Gitternetzlinien aus.  \n",
    "\n",
    "**Merkmale:**  \n",
    "- Helle Hintergrundfarbe mit grauen Gitternetzlinien  \n",
    "- Dickere Linien für bessere Sichtbarkeit  \n",
    "- Weniger Achsenrahmen für eine modernere Optik  \n",
    "\n",
    "---\n",
    "**`np.set_printoptions(precision=2)`**  \n",
    "Die Funktion `np.set_printoptions(precision=2)` legt die Anzeigepräzision für `numpy`-Arrays fest.  \n",
    "\n",
    "**Effekte:**  \n",
    "- Fließkommazahlen werden mit **zwei Dezimalstellen** dargestellt.  \n",
    "- Die tatsächlichen Werte im Speicher bleiben jedoch unverändert.  \n",
    "- Spart die explizite Formatierung mit `:.2f` beim Drucken von Arrays."
   ]
  },
  {
   "cell_type": "markdown",
   "metadata": {},
   "source": [
    "# 1.3 Notation  \n",
    "\n",
    "Hier ist eine Übersicht über einige der Notationen, die Ihnen begegnen werden, aktualisiert für mehrere Merkmale.\n",
    "\n",
    "\n",
    "### Allgemeine Notation  \n",
    "\n",
    "| Notation | Beschreibung | Python (falls zutreffend) |\n",
    "|----------|-------------|---------------------------|\n",
    "| 𝑎        | Skalar, nicht fett | |\n",
    "| **𝐚**    | Vektor, fett | |\n",
    "| **𝐀**    | Matrix, fett und groß geschrieben | |\n",
    "\n",
    "### Regression  \n",
    "\n",
    "| Notation | Beschreibung | Python (falls zutreffend) |\n",
    "|----------|-------------|---------------------------|\n",
    "| **𝐗**    | Trainingsbeispiel-Matrix | `X_train` |\n",
    "| **𝐲**    | Zielwerte der Trainingsbeispiele | `y_train` |\n",
    "| **𝐱(𝑖)**, 𝑦(𝑖) | 𝑖-tes Trainingsbeispiel | `X[i]`, `y[i]` |\n",
    "| 𝑚        | Anzahl der Trainingsbeispiele | `m` |\n",
    "| 𝑛        | Anzahl der Merkmale pro Beispiel | `n` |\n",
    "| **𝐰**    | Parameter: Gewichte | `w` |\n",
    "| 𝑏        | Parameter: Bias | `b` |\n",
    "| 𝑓(𝐱(𝑖)) | Ergebnis der Modellbewertung bei **𝐱(𝑖)**, parametrisiert durch **𝐰,𝑏** : $ f_{\\mathbf{w}, b}(\\mathbf{x}^{(i)}) = \\mathbf{w} \\cdot \\mathbf{x}^{(i)} + b $ |`f_wb` |\n",
    "\n"
   ]
  },
  {
   "cell_type": "markdown",
   "metadata": {},
   "source": [
    "# 2 Problemstellung  \n",
    "\n",
    "Wir werden das Beispiel der Vorhersage von Immobilienpreisen verwenden.  \n",
    "\n",
    "Der Trainingsdatensatz enthält drei Beispiele mit vier Merkmalen (Größe, Anzahl der Schlafzimmer, Anzahl der Stockwerke und Alter des Hauses), die in der folgenden Tabelle dargestellt sind.  \n",
    "\n",
    "Beachte, dass – im Gegensatz zu den vorherigen Übungen – die Größe in **Quadratfuß (sqft)** angegeben ist und nicht in **1000 sqft**. Dies führt zu einem Problem, das im nächsten Lab gelöst wird!  \n",
    "\n",
    "| Größe (sqft) | Anzahl der Schlafzimmer | Anzahl der Stockwerke | Alter des Hauses | Preis (in 1000 Dollar) |\n",
    "|-------------|----------------------|------------------|----------------|----------------------|\n",
    "| 2104       | 5                    | 1                | 45             | 460                  |\n",
    "| 1416       | 3                    | 2                | 40             | 232                  |\n",
    "| 852        | 2                    | 1                | 35             | 178                  |\n",
    "\n",
    "Wir werden ein lineares Regressionsmodell aufbauen, um auf Basis dieser Werte die Preise weiterer Häuser vorherzusagen.  \n",
    "\n",
    "Zum Beispiel für ein Haus mit **1200 sqft**, **3 Schlafzimmern**, **1 Stockwerk** und **40 Jahren Alter**.  \n",
    "\n",
    "Führe bitte die folgende Codezelle aus, um die Variablen `X_train` und `y_train` zu erstellen.\n"
   ]
  },
  {
   "cell_type": "code",
   "execution_count": 21,
   "metadata": {},
   "outputs": [],
   "source": [
    "X_train = np.array([[2104, 5, 1, 45], [1416, 3, 2, 40], [852, 2, 1, 35]])\n",
    "y_train = np.array([460, 232, 178])"
   ]
  },
  {
   "cell_type": "markdown",
   "metadata": {},
   "source": [
    "# 2.1 Matrix **𝐗**, die unsere Beispiele enthält  \n",
    "\n",
    "Ähnlich zur obigen Tabelle werden die Beispiele in einer NumPy-Matrix `X_train` gespeichert.  \n",
    "\n",
    "- Jede Zeile der Matrix stellt ein Beispiel dar.  \n",
    "- Wenn es **𝑚** Trainingsbeispiele gibt (**𝑚 = 3** in unserem Beispiel) und **𝑛** Merkmale (**𝑛 = 4** in unserem Beispiel), dann ist **𝐗** eine Matrix mit den Dimensionen **(𝑚, 𝑛)** (**𝑚** Zeilen, **𝑛** Spalten).  \n",
    "\n",
    "Die Matrix **𝐗** hat die folgende Struktur:\n",
    "\n",
    "$$\n",
    "𝐗=\n",
    "\\begin{bmatrix}\n",
    "𝑥^{(0)}_0 & 𝑥^{(1)}_0 & \\dots & 𝑥^{(𝑚-1)}_0 \\\\\n",
    "𝑥^{(0)}_1 & 𝑥^{(1)}_1 & \\dots & 𝑥^{(𝑚-1)}_1 \\\\\n",
    "\\vdots & \\vdots & \\ddots & \\vdots \\\\\n",
    "𝑥^{(0)}_{𝑛-1} & 𝑥^{(1)}_{𝑛-1} & \\dots & 𝑥^{(𝑚-1)}_{𝑛-1}\n",
    "\\end{bmatrix}\n",
    "$$\n",
    "\n",
    "**Notation:**  \n",
    "- **𝐱(𝑖)** ist ein Vektor, der das **𝑖-te** Beispiel enthält:  \n",
    "  $$\n",
    "  𝐱^{(𝑖)} = (𝑥^{(𝑖)}_0, 𝑥^{(𝑖)}_1, \\dots, 𝑥^{(𝑖)}_{𝑛-1})\n",
    "  $$\n",
    "- **𝑥(𝑖)𝑗** ist das **𝑗-te** Element im **𝑖-ten** Beispiel.  \n",
    "  - Der **hochgestellte Index (𝑖)** gibt die Beispielnummer an.  \n",
    "  - Der **tiefgestellte Index (𝑗)** gibt das Element innerhalb des Beispiels an.  \n",
    "\n",
    "Führe den folgenden Code aus, um die Eingabedaten anzuzeigen.\n"
   ]
  },
  {
   "cell_type": "code",
   "execution_count": 22,
   "metadata": {},
   "outputs": [
    {
     "name": "stdout",
     "output_type": "stream",
     "text": [
      "X Shape: (3, 4), X Type:<class 'numpy.ndarray'>)\n",
      "[[2104    5    1   45]\n",
      " [1416    3    2   40]\n",
      " [ 852    2    1   35]]\n",
      "y Shape: (3,), y Type:<class 'numpy.ndarray'>)\n",
      "[460 232 178]\n"
     ]
    }
   ],
   "source": [
    "# data is stored in numpy array/matrix\n",
    "print(f\"X Shape: {X_train.shape}, X Type:{type(X_train)})\")\n",
    "print(X_train)\n",
    "print(f\"y Shape: {y_train.shape}, y Type:{type(y_train)})\")\n",
    "print(y_train)"
   ]
  },
  {
   "cell_type": "markdown",
   "metadata": {},
   "source": [
    "# 2.2 Parametervektor **𝐰**, **b**  \n",
    "\n",
    "**𝐰** ist ein Vektor mit **𝑛** Elementen.  \n",
    "Jedes Element enthält den Parameter, der einem bestimmten Merkmal zugeordnet ist.  \n",
    "\n",
    "In unserem Datensatz ist **𝑛 = 4**.  \n",
    "Notationsgemäß stellen wir **𝐰** als Spaltenvektor dar:\n",
    "\n",
    "$$\n",
    "𝐰=\n",
    "\\begin{bmatrix}\n",
    "𝑤_0 \\\\\n",
    "𝑤_1 \\\\\n",
    "\\vdots \\\\\n",
    "𝑤_{𝑛-1}\n",
    "\\end{bmatrix}\n",
    "$$\n",
    "\n",
    "**𝑏** ist ein skalarer Parameter.  \n",
    "\n",
    "Zur Demonstration werden **𝐰** und **𝑏** mit vorab gewählten Werten initialisiert, die sich nahe am optimalen Wert befinden.  \n",
    "\n",
    "**𝐰** ist ein 1-D NumPy-Vektor.\n"
   ]
  },
  {
   "cell_type": "code",
   "execution_count": 23,
   "metadata": {},
   "outputs": [
    {
     "name": "stdout",
     "output_type": "stream",
     "text": [
      "w_init shape: (4,), b_init type: <class 'float'>\n"
     ]
    }
   ],
   "source": [
    "b_init = 785.1811367994083\n",
    "w_init = np.array([ 0.39133535, 18.75376741, -53.36032453, -26.42131618])\n",
    "print(f\"w_init shape: {w_init.shape}, b_init type: {type(b_init)}\")"
   ]
  },
  {
   "cell_type": "markdown",
   "metadata": {},
   "source": [
    "# 3 Modellvorhersage mit mehreren Variablen  \n",
    "\n",
    "Die Modellvorhersage mit mehreren Variablen wird durch das lineare Modell beschrieben:  \n",
    "\n",
    "$$\n",
    "𝑓_{\\mathbf{w}, b}(\\mathbf{x}) = 𝑤_0 𝑥_0 + 𝑤_1 𝑥_1 + ... + 𝑤_{𝑛-1} 𝑥_{𝑛-1} + 𝑏 \\quad (1)\n",
    "$$\n",
    "\n",
    "oder in Vektornotation:\n",
    "\n",
    "$$\n",
    "𝑓_{\\mathbf{w}, b}(\\mathbf{x}) = \\mathbf{w} \\cdot \\mathbf{x} + 𝑏 \\quad (2)\n",
    "$$\n",
    "\n",
    "wobei **⋅** das Skalarprodukt (dot product) zwischen den Vektoren darstellt.  \n",
    "\n",
    "Um das Skalarprodukt zu veranschaulichen, werden wir die Vorhersage sowohl mit Gleichung **(1)** als auch mit **(2)** implementieren.\n"
   ]
  },
  {
   "cell_type": "markdown",
   "metadata": {},
   "source": [
    "# 3.1 Einzelne Vorhersage Element für Element  \n",
    "\n",
    "Unsere vorherige Vorhersage multiplizierte einen Merkmalswert mit einem Parameter und addierte einen Bias-Parameter.  \n",
    "\n",
    "Eine direkte Erweiterung unserer bisherigen Implementierung der Vorhersage auf mehrere Merkmale besteht darin, **Gleichung (1)** oben mit einer Schleife über jedes Element zu implementieren. Dabei wird jeder Merkmalswert mit seinem entsprechenden Parameter multipliziert und am Ende der Bias-Parameter hinzugefügt.\n"
   ]
  },
  {
   "cell_type": "code",
   "execution_count": null,
   "metadata": {},
   "outputs": [],
   "source": [
    "def predict_single_loop(x, w, b):\n",
    "    \"\"\"\n",
    "    single predict using linear regression\n",
    "\n",
    "    Args:\n",
    "      x (ndarray): Shape (n,) example with multiple features\n",
    "      w (ndarray): Shape (n,) model parameters\n",
    "      b (scalar):  model parameter\n",
    "\n",
    "    Returns:\n",
    "      p (scalar):  prediction\n",
    "    \"\"\"\n",
    "    n = x.shape[0]\n",
    "    p = 0\n",
    "    for i in range(n):\n",
    "        p_i = x[i] * w[i]\n",
    "        p = p + p_i\n",
    "    p = p + b\n",
    "    return p"
   ]
  },
  {
   "cell_type": "code",
   "execution_count": 25,
   "metadata": {},
   "outputs": [
    {
     "name": "stdout",
     "output_type": "stream",
     "text": [
      "x_vec shape (4,), x_vec value: [2104    5    1   45]\n",
      "f_wb shape (), prediction: 459.9999976194083\n"
     ]
    }
   ],
   "source": [
    "# get a row from our training data\n",
    "x_vec = X_train[0,:]\n",
    "print(f\"x_vec shape {x_vec.shape}, x_vec value: {x_vec}\")\n",
    "\n",
    "# make a prediction\n",
    "f_wb = predict_single_loop(x_vec, w_init, b_init)\n",
    "print(f\"f_wb shape {f_wb.shape}, prediction: {f_wb}\")"
   ]
  },
  {
   "cell_type": "markdown",
   "metadata": {},
   "source": [
    "Note the shape of x_vec. It is a 1-D NumPy vector with 4 elements, (4,). The result, f_wb is a scalar."
   ]
  },
  {
   "cell_type": "markdown",
   "metadata": {},
   "source": [
    "# 3.2 Einzelne Vorhersage mit Vektoren  \n",
    "\n",
    "Beachte, dass **Gleichung (1)** oben durch das Skalarprodukt (dot product) gemäß **Gleichung (2)** implementiert werden kann.  \n",
    "\n",
    "Durch die Nutzung von Vektoroperationen können wir die Berechnung der Vorhersagen beschleunigen.  \n",
    "\n",
    "Erinnere dich aus dem **Python/NumPy-Lab**, dass die Funktion `np.dot()` von NumPy verwendet werden kann, um ein Skalarprodukt zwischen zwei Vektoren zu berechnen.\n"
   ]
  },
  {
   "cell_type": "code",
   "execution_count": null,
   "metadata": {},
   "outputs": [],
   "source": [
    "def predict(x, w, b):\n",
    "    \"\"\"\n",
    "    single predict using linear regression\n",
    "    Args:\n",
    "      x (ndarray): Shape (n,) example with multiple features\n",
    "      w (ndarray): Shape (n,) model parameters\n",
    "      b (scalar):             model parameter\n",
    "\n",
    "    Returns:\n",
    "      p (scalar):  prediction\n",
    "    \"\"\"\n",
    "    p = np.dot(x, w) + b\n",
    "    return p"
   ]
  },
  {
   "cell_type": "code",
   "execution_count": 27,
   "metadata": {},
   "outputs": [
    {
     "name": "stdout",
     "output_type": "stream",
     "text": [
      "x_vec shape (4,), x_vec value: [2104    5    1   45]\n",
      "f_wb shape (), prediction: 459.9999976194083\n"
     ]
    }
   ],
   "source": [
    "# get a row from our training data\n",
    "x_vec = X_train[0,:]\n",
    "print(f\"x_vec shape {x_vec.shape}, x_vec value: {x_vec}\")\n",
    "\n",
    "# make a prediction\n",
    "f_wb = predict(x_vec,w_init, b_init)\n",
    "print(f\"f_wb shape {f_wb.shape}, prediction: {f_wb}\")"
   ]
  },
  {
   "cell_type": "markdown",
   "metadata": {},
   "source": [
    "The results and shapes are the same as the previous version which used looping. Going forward, np.dot will be used for these operations. The prediction is now a single statement. Most routines will implement it directly rather than calling a separate predict routine."
   ]
  },
  {
   "cell_type": "markdown",
   "metadata": {},
   "source": [
    "# 4 Berechnung der Kostenfunktion mit mehreren Variablen  \n",
    "\n",
    "Die Kostenfunktion für mehrere Variablen **𝐽(𝐰,𝑏)** ist gegeben durch:  \n",
    "\n",
    "$$\n",
    "𝐽(𝐰,𝑏) = \\frac{1}{2m} \\sum_{i=0}^{m-1} (𝑓_{\\mathbf{w}, b}(\\mathbf{x}^{(i)}) - 𝑦^{(i)})^2 \\quad (3)\n",
    "$$\n",
    "\n",
    "wobei:\n",
    "\n",
    "$$\n",
    "𝑓_{\\mathbf{w}, b}(\\mathbf{x}^{(i)}) = \\mathbf{w} \\cdot \\mathbf{x}^{(i)} + 𝑏 \\quad (4)\n",
    "$$\n",
    "\n",
    "Im Gegensatz zu den vorherigen Übungen sind **𝐰** und **𝐱(𝑖)** Vektoren anstelle von Skalaren, um mehrere Merkmale zu unterstützen.  \n",
    "\n",
    "Nachfolgend befindet sich eine Implementierung der Gleichungen **(3)** und **(4)**. Beachte, dass eine **for-Schleife** über alle **𝑚** Beispiele verwendet wird, was ein häufiges Muster in diesem Kurs ist.\n"
   ]
  },
  {
   "cell_type": "code",
   "execution_count": null,
   "metadata": {},
   "outputs": [],
   "source": [
    "def compute_cost(X, y, w, b):\n",
    "    \"\"\"\n",
    "    compute cost\n",
    "    Args:\n",
    "      X (ndarray (m,n)): Data, m examples with n features\n",
    "      y (ndarray (m,)) : target values\n",
    "      w (ndarray (n,)) : model parameters\n",
    "      b (scalar)       : model parameter\n",
    "\n",
    "    Returns:\n",
    "      cost (scalar): cost\n",
    "    \"\"\"\n",
    "    m = X.shape[0]\n",
    "    cost = 0.0\n",
    "    for i in range(m):\n",
    "        f_wb_i = np.dot(X[i], w) + b           #(n,)(n,) = scalar (see np.dot)\n",
    "        cost = cost + (f_wb_i - y[i])**2       #scalar\n",
    "    cost = cost / (2 * m)                      #scalar\n",
    "    return cost"
   ]
  },
  {
   "cell_type": "code",
   "execution_count": null,
   "metadata": {},
   "outputs": [
    {
     "name": "stdout",
     "output_type": "stream",
     "text": [
      "Cost at optimal w : 1.5578904428966628e-12\n"
     ]
    }
   ],
   "source": [
    "# Compute and display cost using our pre-chosen optimal parameters.\n",
    "cost = compute_cost(X_train, y_train, w_init, b_init)\n",
    "print(f'Cost at optimal w : {cost}')"
   ]
  },
  {
   "cell_type": "markdown",
   "metadata": {},
   "source": [
    "Expected Result: Cost at optimal w : 1.5578904045996674e-12"
   ]
  },
  {
   "cell_type": "markdown",
   "metadata": {},
   "source": [
    "# 5 Gradientenabstieg mit mehreren Variablen  \n",
    "\n",
    "Der Gradientenabstieg für mehrere Variablen erfolgt nach der folgenden Regel:  \n",
    "\n",
    "**Wiederhole bis zur Konvergenz:**  \n",
    "\n",
    "$$\n",
    "𝑤_𝑗 = 𝑤_𝑗 - \\alpha \\frac{\\partial 𝐽(𝐰,𝑏)}{\\partial 𝑤_𝑗}, \\quad\n",
    "𝑏 = 𝑏 - \\alpha \\frac{\\partial 𝐽(𝐰,𝑏)}{\\partial 𝑏} \\quad \\text{für } j = 0, ..., n-1\n",
    "$$\n",
    "\n",
    "wobei **n** die Anzahl der Merkmale ist und die Parameter **𝑤_𝑗** und **𝑏** gleichzeitig aktualisiert werden.  \n",
    "\n",
    "Die partiellen Ableitungen sind gegeben durch:  \n",
    "\n",
    "$$\n",
    "\\frac{\\partial 𝐽(𝐰,𝑏)}{\\partial 𝑤_𝑗} = \\frac{1}{𝑚} \\sum_{i=0}^{m-1} (𝑓_{\\mathbf{w}, b}(\\mathbf{x}^{(i)}) - 𝑦^{(i)}) \\cdot 𝑥^{(i)}_𝑗 \\quad (6)\n",
    "$$\n",
    "\n",
    "$$\n",
    "\\frac{\\partial 𝐽(𝐰,𝑏)}{\\partial 𝑏} = \\frac{1}{𝑚} \\sum_{i=0}^{m-1} (𝑓_{\\mathbf{w}, b}(\\mathbf{x}^{(i)}) - 𝑦^{(i)}) \\quad (7)\n",
    "$$\n",
    "\n",
    "**Definitionen:**  \n",
    "- **𝑚** ist die Anzahl der Trainingsbeispiele im Datensatz.  \n",
    "- **𝑓_{\\mathbf{w}, b}(\\mathbf{x}^{(i)})** ist die Modellvorhersage für das **𝑖-te** Beispiel.  \n",
    "- **𝑦^{(i)}** ist der Zielwert für das **𝑖-te** Beispiel.  \n"
   ]
  },
  {
   "cell_type": "markdown",
   "metadata": {},
   "source": [
    "## - 5.1 Berechnung des Gradienten mit mehreren Variablen  \n",
    "\n",
    "Eine Implementierung zur Berechnung der Gleichungen **(6)** und **(7)** ist unten dargestellt.  \n",
    "\n",
    "Es gibt verschiedene Möglichkeiten, dies zu implementieren. In dieser Version wird:  \n",
    "\n",
    "- eine **äußere Schleife** über alle **𝑚** Trainingsbeispiele verwendet.  \n",
    "- **$\\frac{\\partial 𝐽(𝐰,𝑏)}{\\partial 𝑏}$** für jedes Beispiel direkt berechnet und akkumuliert.  \n",
    "- eine **zweite Schleife** über alle **𝑛** Merkmale genutzt, um **$\\frac{\\partial 𝐽(𝐰,𝑏)}{\\partial 𝑤_𝑗}$** für jedes **𝑤_𝑗** zu berechnen."
   ]
  },
  {
   "cell_type": "code",
   "execution_count": null,
   "metadata": {},
   "outputs": [],
   "source": [
    "def compute_gradient(X, y, w, b):\n",
    "    \"\"\"\n",
    "    Computes the gradient for linear regression\n",
    "    Args:\n",
    "      X (ndarray (m,n)): Data, m examples with n features\n",
    "      y (ndarray (m,)) : target values\n",
    "      w (ndarray (n,)) : model parameters\n",
    "      b (scalar)       : model parameter\n",
    "\n",
    "    Returns:\n",
    "      dj_dw (ndarray (n,)): The gradient of the cost w.r.t. the parameters w.\n",
    "      dj_db (scalar):       The gradient of the cost w.r.t. the parameter b.\n",
    "    \"\"\"\n",
    "    m,n = X.shape           #(number of examples, number of features)\n",
    "    dj_dw = np.zeros((n,))\n",
    "    dj_db = 0.\n",
    "\n",
    "    for i in range(m):\n",
    "        err = (np.dot(X[i], w) + b) - y[i]\n",
    "        for j in range(n):\n",
    "            dj_dw[j] = dj_dw[j] + err * X[i, j]\n",
    "        dj_db = dj_db + err\n",
    "    dj_dw = dj_dw / m\n",
    "    dj_db = dj_db / m\n",
    "\n",
    "    return dj_db, dj_dw"
   ]
  },
  {
   "cell_type": "code",
   "execution_count": null,
   "metadata": {},
   "outputs": [
    {
     "name": "stdout",
     "output_type": "stream",
     "text": [
      "dj_db at initial w,b: -1.6739251501955248e-06\n",
      "dj_dw at initial w,b: \n",
      " [-2.73e-03 -6.27e-06 -2.22e-06 -6.92e-05]\n"
     ]
    }
   ],
   "source": [
    "#Compute and display gradient\n",
    "tmp_dj_db, tmp_dj_dw = compute_gradient(X_train, y_train, w_init, b_init)\n",
    "print(f'dj_db at initial w,b: {tmp_dj_db}')\n",
    "print(f'dj_dw at initial w,b: \\n {tmp_dj_dw}')"
   ]
  },
  {
   "cell_type": "markdown",
   "metadata": {},
   "source": [
    "### Erwartetes Ergebnis:  \n",
    "\n",
    "**Ableitungen bei den initialen Werten für 𝐰 und 𝑏:**  \n",
    "\n",
    "$\n",
    "dj\\_db \\text{ bei initialem } w,b: -1.6739251122999121e-06\n",
    "$\n",
    "\n",
    "$\n",
    "dj\\_dw \\text{ bei initialem } w,b:\n",
    "\\begin{bmatrix}\n",
    "-2.73e-03 & -6.27e-06 & -2.22e-06 & -6.92e-05\n",
    "\\end{bmatrix}\n",
    "$\n"
   ]
  },
  {
   "cell_type": "markdown",
   "metadata": {},
   "source": [
    "## - 5.2 Gradientenabstieg mit mehreren Variablen  \n",
    "\n",
    "Die folgende Routine implementiert **Gleichung (5)** oben.\n"
   ]
  },
  {
   "cell_type": "code",
   "execution_count": null,
   "metadata": {},
   "outputs": [],
   "source": [
    "def gradient_descent(X, y, w_in, b_in, cost_function, gradient_function, alpha, num_iters):\n",
    "    \"\"\"\n",
    "    Performs batch gradient descent to learn w and b. Updates w and b by taking\n",
    "    num_iters gradient steps with learning rate alpha\n",
    "\n",
    "    Args:\n",
    "      X (ndarray (m,n))   : Data, m examples with n features\n",
    "      y (ndarray (m,))    : target values\n",
    "      w_in (ndarray (n,)) : initial model parameters\n",
    "      b_in (scalar)       : initial model parameter\n",
    "      cost_function       : function to compute cost\n",
    "      gradient_function   : function to compute the gradient\n",
    "      alpha (float)       : Learning rate\n",
    "      num_iters (int)     : number of iterations to run gradient descent\n",
    "\n",
    "    Returns:\n",
    "      w (ndarray (n,)) : Updated values of parameters\n",
    "      b (scalar)       : Updated value of parameter\n",
    "      \"\"\"\n",
    "\n",
    "    # An array to store cost J and w's at each iteration primarily for graphing later\n",
    "    J_history = []\n",
    "    w = copy.deepcopy(w_in)  #avoid modifying global w within function\n",
    "    b = b_in\n",
    "\n",
    "    for i in range(num_iters):\n",
    "\n",
    "        # Calculate the gradient and update the parameters\n",
    "        dj_db,dj_dw = gradient_function(X, y, w, b)   ##None\n",
    "\n",
    "        # Update Parameters using w, b, alpha and gradient\n",
    "        w = w - alpha * dj_dw               ##None\n",
    "        b = b - alpha * dj_db               ##None\n",
    "\n",
    "        # Save cost J at each iteration\n",
    "        if i<100000:      # prevent resource exhaustion\n",
    "            J_history.append( cost_function(X, y, w, b))\n",
    "\n",
    "        # Print cost every at intervals 10 times or as many iterations if < 10\n",
    "        if i% math.ceil(num_iters / 10) == 0:\n",
    "            print(f\"Iteration {i:4d}: Cost {J_history[-1]:8.2f}   \")\n",
    "\n",
    "    return w, b, J_history #return final w,b and J history for graphing"
   ]
  },
  {
   "cell_type": "markdown",
   "metadata": {},
   "source": [
    "In the next cell you will test the implementation."
   ]
  },
  {
   "cell_type": "code",
   "execution_count": null,
   "metadata": {},
   "outputs": [
    {
     "name": "stdout",
     "output_type": "stream",
     "text": [
      "Iteration    0: Cost  2529.46   \n",
      "Iteration  100: Cost   695.99   \n",
      "Iteration  200: Cost   694.92   \n",
      "Iteration  300: Cost   693.86   \n",
      "Iteration  400: Cost   692.81   \n",
      "Iteration  500: Cost   691.77   \n",
      "Iteration  600: Cost   690.73   \n",
      "Iteration  700: Cost   689.71   \n",
      "Iteration  800: Cost   688.70   \n",
      "Iteration  900: Cost   687.69   \n",
      "b,w found by gradient descent: -0.00,[ 0.2   0.   -0.01 -0.07] \n",
      "prediction: 426.19, target value: 460\n",
      "prediction: 286.17, target value: 232\n",
      "prediction: 171.47, target value: 178\n"
     ]
    }
   ],
   "source": [
    "# initialize parameters\n",
    "initial_w = np.zeros_like(w_init)\n",
    "initial_b = 0.\n",
    "# some gradient descent settings\n",
    "iterations = 1000\n",
    "alpha = 5.0e-7\n",
    "# run gradient descent\n",
    "w_final, b_final, J_hist = gradient_descent(X_train, y_train, initial_w, initial_b,\n",
    "                                                    compute_cost, compute_gradient,\n",
    "                                                    alpha, iterations)\n",
    "print(f\"b,w found by gradient descent: {b_final:0.2f},{w_final} \")\n",
    "m,_ = X_train.shape\n",
    "for i in range(m):\n",
    "    print(f\"prediction: {np.dot(X_train[i], w_final) + b_final:0.2f}, target value: {y_train[i]}\")"
   ]
  },
  {
   "cell_type": "markdown",
   "metadata": {},
   "source": [
    "### Erwartetes Ergebnis:  \n",
    "\n",
    "**𝑏 und 𝐰 nach Gradientenabstieg gefunden:**  \n",
    "$\n",
    "b, w \\text{ gefunden durch Gradientenabstieg}: -0.00, [ 0.2 \\quad 0. \\quad -0.01 \\quad -0.07]\n",
    "$\n",
    "\n",
    "**Vorhersagen und Zielwerte:**  \n",
    "$\n",
    "\\text{Vorhersage}: 426.19, \\quad \\text{Zielwert}: 460\n",
    "$\n",
    "$\n",
    "\\text{Vorhersage}: 286.17, \\quad \\text{Zielwert}: 232\n",
    "$\n",
    "$\n",
    "\\text{Vorhersage}: 171.47, \\quad \\text{Zielwert}: 178\n",
    "$\n"
   ]
  },
  {
   "cell_type": "code",
   "execution_count": null,
   "metadata": {},
   "outputs": [
    {
     "data": {
      "image/png": "[encoded data removed]",
      "text/plain": [
       "<Figure size 1200x400 with 2 Axes>"
      ]
     },
     "metadata": {},
     "output_type": "display_data"
    }
   ],
   "source": [
    "# plot cost versus iteration\n",
    "fig, (ax1, ax2) = plt.subplots(1, 2, constrained_layout=True, figsize=(12, 4))\n",
    "ax1.plot(J_hist)\n",
    "ax2.plot(100 + np.arange(len(J_hist[100:])), J_hist[100:])\n",
    "ax1.set_title(\"Cost vs. iteration\");  ax2.set_title(\"Cost vs. iteration (tail)\")\n",
    "ax1.set_ylabel('Cost')             ;  ax2.set_ylabel('Cost')\n",
    "ax1.set_xlabel('iteration step')   ;  ax2.set_xlabel('iteration step')\n",
    "plt.show()"
   ]
  },
  {
   "cell_type": "markdown",
   "metadata": {},
   "source": [
    "Diese Ergebnisse sind nicht besonders überzeugend!  \n",
    "\n",
    "Die Kostenfunktion nimmt zwar weiterhin ab, aber unsere Vorhersagen sind noch nicht sehr genau.  \n",
    "\n",
    "Im nächsten Lab werden wir untersuchen, wie wir dies verbessern können.\n"
   ]
  },
  {
   "cell_type": "markdown",
   "metadata": {},
   "source": [
    "# 6 Glückwunsch!  \n",
    "\n",
    "In diesem Lab hast du:  \n",
    "\n",
    "- Die Routinen für lineare Regression weiterentwickelt, nun mit mehreren Variablen.  \n",
    "- `np.dot` von NumPy genutzt, um die Implementierungen zu vektorisieren.  \n"
   ]
  }
 ],
 "metadata": {
  "kernelspec": {
   "display_name": "venv",
   "language": "python",
   "name": "python3"
  },
  "language_info": {
   "codemirror_mode": {
    "name": "ipython",
    "version": 3
   },
   "file_extension": ".py",
   "mimetype": "text/x-python",
   "name": "python",
   "nbconvert_exporter": "python",
   "pygments_lexer": "ipython3",
   "version": "3.12.6"
  }
 },
 "nbformat": 4,
 "nbformat_minor": 2
}
